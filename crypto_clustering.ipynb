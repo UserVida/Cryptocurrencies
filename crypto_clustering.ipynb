{
 "cells": [
  {
   "cell_type": "markdown",
   "metadata": {},
   "source": [
    "# Clustering Crypto"
   ]
  },
  {
   "cell_type": "code",
   "execution_count": 61,
   "metadata": {},
   "outputs": [
    {
     "name": "stdout",
     "output_type": "stream",
     "text": [
      "Requirement already satisfied: hvplot in c:\\users\\zainab\\anaconda3\\envs\\pythondata\\lib\\site-packages (0.8.0)\n",
      "Requirement already satisfied: bokeh>=1.0.0 in c:\\users\\zainab\\anaconda3\\envs\\pythondata\\lib\\site-packages (from hvplot) (2.4.1)\n",
      "Requirement already satisfied: holoviews>=1.11.0 in c:\\users\\zainab\\anaconda3\\envs\\pythondata\\lib\\site-packages (from hvplot) (1.15.0)\n",
      "Requirement already satisfied: colorcet>=2 in c:\\users\\zainab\\anaconda3\\envs\\pythondata\\lib\\site-packages (from hvplot) (3.0.0)\n",
      "Requirement already satisfied: packaging in c:\\users\\zainab\\anaconda3\\envs\\pythondata\\lib\\site-packages (from hvplot) (21.0)\n",
      "Requirement already satisfied: numpy>=1.15 in c:\\users\\zainab\\anaconda3\\envs\\pythondata\\lib\\site-packages (from hvplot) (1.20.3)\n",
      "Requirement already satisfied: pandas in c:\\users\\zainab\\anaconda3\\envs\\pythondata\\lib\\site-packages (from hvplot) (1.3.4)\n",
      "Requirement already satisfied: tornado>=5.1 in c:\\users\\zainab\\anaconda3\\envs\\pythondata\\lib\\site-packages (from bokeh>=1.0.0->hvplot) (6.1)\n",
      "Requirement already satisfied: pillow>=7.1.0 in c:\\users\\zainab\\anaconda3\\envs\\pythondata\\lib\\site-packages (from bokeh>=1.0.0->hvplot) (8.4.0)\n",
      "Requirement already satisfied: typing-extensions>=3.10.0 in c:\\users\\zainab\\anaconda3\\envs\\pythondata\\lib\\site-packages (from bokeh>=1.0.0->hvplot) (3.10.0.2)\n",
      "Requirement already satisfied: PyYAML>=3.10 in c:\\users\\zainab\\anaconda3\\envs\\pythondata\\lib\\site-packages (from bokeh>=1.0.0->hvplot) (6.0)\n",
      "Requirement already satisfied: Jinja2>=2.9 in c:\\users\\zainab\\anaconda3\\envs\\pythondata\\lib\\site-packages (from bokeh>=1.0.0->hvplot) (2.11.3)\n",
      "Requirement already satisfied: param>=1.7.0 in c:\\users\\zainab\\anaconda3\\envs\\pythondata\\lib\\site-packages (from colorcet>=2->hvplot) (1.12.2)\n",
      "Requirement already satisfied: pyct>=0.4.4 in c:\\users\\zainab\\anaconda3\\envs\\pythondata\\lib\\site-packages (from colorcet>=2->hvplot) (0.4.8)\n",
      "Requirement already satisfied: panel>=0.13.1 in c:\\users\\zainab\\anaconda3\\envs\\pythondata\\lib\\site-packages (from holoviews>=1.11.0->hvplot) (0.13.1)\n",
      "Requirement already satisfied: pyviz-comms>=0.7.4 in c:\\users\\zainab\\anaconda3\\envs\\pythondata\\lib\\site-packages (from holoviews>=1.11.0->hvplot) (2.2.0)\n",
      "Requirement already satisfied: MarkupSafe>=0.23 in c:\\users\\zainab\\anaconda3\\envs\\pythondata\\lib\\site-packages (from Jinja2>=2.9->bokeh>=1.0.0->hvplot) (1.1.1)\n",
      "Requirement already satisfied: pyparsing>=2.0.2 in c:\\users\\zainab\\anaconda3\\envs\\pythondata\\lib\\site-packages (from packaging->hvplot) (3.0.4)\n",
      "Requirement already satisfied: python-dateutil>=2.7.3 in c:\\users\\zainab\\anaconda3\\envs\\pythondata\\lib\\site-packages (from pandas->hvplot) (2.8.2)\n",
      "Requirement already satisfied: pytz>=2017.3 in c:\\users\\zainab\\anaconda3\\envs\\pythondata\\lib\\site-packages (from pandas->hvplot) (2021.3)\n",
      "Requirement already satisfied: markdown in c:\\users\\zainab\\anaconda3\\envs\\pythondata\\lib\\site-packages (from panel>=0.13.1->holoviews>=1.11.0->hvplot) (3.3.7)\n",
      "Requirement already satisfied: bleach in c:\\users\\zainab\\anaconda3\\envs\\pythondata\\lib\\site-packages (from panel>=0.13.1->holoviews>=1.11.0->hvplot) (4.0.0)\n",
      "Requirement already satisfied: requests in c:\\users\\zainab\\anaconda3\\envs\\pythondata\\lib\\site-packages (from panel>=0.13.1->holoviews>=1.11.0->hvplot) (2.26.0)\n",
      "Requirement already satisfied: tqdm>=4.48.0 in c:\\users\\zainab\\anaconda3\\envs\\pythondata\\lib\\site-packages (from panel>=0.13.1->holoviews>=1.11.0->hvplot) (4.62.3)\n",
      "Requirement already satisfied: setuptools in c:\\users\\zainab\\anaconda3\\envs\\pythondata\\lib\\site-packages (from panel>=0.13.1->holoviews>=1.11.0->hvplot) (58.0.4)\n",
      "Requirement already satisfied: six>=1.5 in c:\\users\\zainab\\anaconda3\\envs\\pythondata\\lib\\site-packages (from python-dateutil>=2.7.3->pandas->hvplot) (1.16.0)\n",
      "Requirement already satisfied: colorama in c:\\users\\zainab\\anaconda3\\envs\\pythondata\\lib\\site-packages (from tqdm>=4.48.0->panel>=0.13.1->holoviews>=1.11.0->hvplot) (0.4.4)\n",
      "Requirement already satisfied: webencodings in c:\\users\\zainab\\anaconda3\\envs\\pythondata\\lib\\site-packages (from bleach->panel>=0.13.1->holoviews>=1.11.0->hvplot) (0.5.1)\n",
      "Requirement already satisfied: importlib-metadata>=4.4 in c:\\users\\zainab\\anaconda3\\envs\\pythondata\\lib\\site-packages (from markdown->panel>=0.13.1->holoviews>=1.11.0->hvplot) (4.8.1)\n",
      "Requirement already satisfied: zipp>=0.5 in c:\\users\\zainab\\anaconda3\\envs\\pythondata\\lib\\site-packages (from importlib-metadata>=4.4->markdown->panel>=0.13.1->holoviews>=1.11.0->hvplot) (3.6.0)\n",
      "Requirement already satisfied: urllib3<1.27,>=1.21.1 in c:\\users\\zainab\\anaconda3\\envs\\pythondata\\lib\\site-packages (from requests->panel>=0.13.1->holoviews>=1.11.0->hvplot) (1.26.7)\n",
      "Requirement already satisfied: certifi>=2017.4.17 in c:\\users\\zainab\\anaconda3\\envs\\pythondata\\lib\\site-packages (from requests->panel>=0.13.1->holoviews>=1.11.0->hvplot) (2021.10.8)\n",
      "Requirement already satisfied: idna<4,>=2.5 in c:\\users\\zainab\\anaconda3\\envs\\pythondata\\lib\\site-packages (from requests->panel>=0.13.1->holoviews>=1.11.0->hvplot) (3.2)\n",
      "Requirement already satisfied: charset-normalizer~=2.0.0 in c:\\users\\zainab\\anaconda3\\envs\\pythondata\\lib\\site-packages (from requests->panel>=0.13.1->holoviews>=1.11.0->hvplot) (2.0.4)\n",
      "Requirement already satisfied: plotly in c:\\users\\zainab\\anaconda3\\envs\\pythondata\\lib\\site-packages (5.9.0)\n",
      "Requirement already satisfied: tenacity>=6.2.0 in c:\\users\\zainab\\anaconda3\\envs\\pythondata\\lib\\site-packages (from plotly) (8.0.1)\n"
     ]
    }
   ],
   "source": [
    "# Initial imports\n",
    "import pandas as pd\n",
    "!pip install hvplot\n",
    "!pip install plotly\n",
    "import hvplot.pandas\n",
    "from path import Path\n",
    "import plotly.express as px\n",
    "from sklearn.preprocessing import StandardScaler, MinMaxScaler\n",
    "from sklearn.decomposition import PCA\n",
    "from sklearn.cluster import KMeans\n"
   ]
  },
  {
   "cell_type": "markdown",
   "metadata": {},
   "source": [
    "### Deliverable 1: Preprocessing the Data for PCA"
   ]
  },
  {
   "cell_type": "code",
   "execution_count": 62,
   "metadata": {},
   "outputs": [
    {
     "data": {
      "text/html": [
       "<div>\n",
       "<style scoped>\n",
       "    .dataframe tbody tr th:only-of-type {\n",
       "        vertical-align: middle;\n",
       "    }\n",
       "\n",
       "    .dataframe tbody tr th {\n",
       "        vertical-align: top;\n",
       "    }\n",
       "\n",
       "    .dataframe thead th {\n",
       "        text-align: right;\n",
       "    }\n",
       "</style>\n",
       "<table border=\"1\" class=\"dataframe\">\n",
       "  <thead>\n",
       "    <tr style=\"text-align: right;\">\n",
       "      <th></th>\n",
       "      <th>CoinName</th>\n",
       "      <th>Algorithm</th>\n",
       "      <th>IsTrading</th>\n",
       "      <th>ProofType</th>\n",
       "      <th>TotalCoinsMined</th>\n",
       "      <th>TotalCoinSupply</th>\n",
       "    </tr>\n",
       "  </thead>\n",
       "  <tbody>\n",
       "    <tr>\n",
       "      <th>42</th>\n",
       "      <td>42 Coin</td>\n",
       "      <td>Scrypt</td>\n",
       "      <td>True</td>\n",
       "      <td>PoW/PoS</td>\n",
       "      <td>4.199995e+01</td>\n",
       "      <td>42</td>\n",
       "    </tr>\n",
       "    <tr>\n",
       "      <th>365</th>\n",
       "      <td>365Coin</td>\n",
       "      <td>X11</td>\n",
       "      <td>True</td>\n",
       "      <td>PoW/PoS</td>\n",
       "      <td>NaN</td>\n",
       "      <td>2300000000</td>\n",
       "    </tr>\n",
       "    <tr>\n",
       "      <th>404</th>\n",
       "      <td>404Coin</td>\n",
       "      <td>Scrypt</td>\n",
       "      <td>True</td>\n",
       "      <td>PoW/PoS</td>\n",
       "      <td>1.055185e+09</td>\n",
       "      <td>532000000</td>\n",
       "    </tr>\n",
       "    <tr>\n",
       "      <th>611</th>\n",
       "      <td>SixEleven</td>\n",
       "      <td>SHA-256</td>\n",
       "      <td>True</td>\n",
       "      <td>PoW</td>\n",
       "      <td>NaN</td>\n",
       "      <td>611000</td>\n",
       "    </tr>\n",
       "    <tr>\n",
       "      <th>808</th>\n",
       "      <td>808</td>\n",
       "      <td>SHA-256</td>\n",
       "      <td>True</td>\n",
       "      <td>PoW/PoS</td>\n",
       "      <td>0.000000e+00</td>\n",
       "      <td>0</td>\n",
       "    </tr>\n",
       "    <tr>\n",
       "      <th>1337</th>\n",
       "      <td>EliteCoin</td>\n",
       "      <td>X13</td>\n",
       "      <td>True</td>\n",
       "      <td>PoW/PoS</td>\n",
       "      <td>2.927942e+10</td>\n",
       "      <td>314159265359</td>\n",
       "    </tr>\n",
       "    <tr>\n",
       "      <th>2015</th>\n",
       "      <td>2015 coin</td>\n",
       "      <td>X11</td>\n",
       "      <td>True</td>\n",
       "      <td>PoW/PoS</td>\n",
       "      <td>NaN</td>\n",
       "      <td>0</td>\n",
       "    </tr>\n",
       "    <tr>\n",
       "      <th>BTC</th>\n",
       "      <td>Bitcoin</td>\n",
       "      <td>SHA-256</td>\n",
       "      <td>True</td>\n",
       "      <td>PoW</td>\n",
       "      <td>1.792718e+07</td>\n",
       "      <td>21000000</td>\n",
       "    </tr>\n",
       "    <tr>\n",
       "      <th>ETH</th>\n",
       "      <td>Ethereum</td>\n",
       "      <td>Ethash</td>\n",
       "      <td>True</td>\n",
       "      <td>PoW</td>\n",
       "      <td>1.076842e+08</td>\n",
       "      <td>0</td>\n",
       "    </tr>\n",
       "    <tr>\n",
       "      <th>LTC</th>\n",
       "      <td>Litecoin</td>\n",
       "      <td>Scrypt</td>\n",
       "      <td>True</td>\n",
       "      <td>PoW</td>\n",
       "      <td>6.303924e+07</td>\n",
       "      <td>84000000</td>\n",
       "    </tr>\n",
       "  </tbody>\n",
       "</table>\n",
       "</div>"
      ],
      "text/plain": [
       "       CoinName Algorithm  IsTrading ProofType  TotalCoinsMined  \\\n",
       "42      42 Coin    Scrypt       True   PoW/PoS     4.199995e+01   \n",
       "365     365Coin       X11       True   PoW/PoS              NaN   \n",
       "404     404Coin    Scrypt       True   PoW/PoS     1.055185e+09   \n",
       "611   SixEleven   SHA-256       True       PoW              NaN   \n",
       "808         808   SHA-256       True   PoW/PoS     0.000000e+00   \n",
       "1337  EliteCoin       X13       True   PoW/PoS     2.927942e+10   \n",
       "2015  2015 coin       X11       True   PoW/PoS              NaN   \n",
       "BTC     Bitcoin   SHA-256       True       PoW     1.792718e+07   \n",
       "ETH    Ethereum    Ethash       True       PoW     1.076842e+08   \n",
       "LTC    Litecoin    Scrypt       True       PoW     6.303924e+07   \n",
       "\n",
       "     TotalCoinSupply  \n",
       "42                42  \n",
       "365       2300000000  \n",
       "404        532000000  \n",
       "611           611000  \n",
       "808                0  \n",
       "1337    314159265359  \n",
       "2015               0  \n",
       "BTC         21000000  \n",
       "ETH                0  \n",
       "LTC         84000000  "
      ]
     },
     "execution_count": 62,
     "metadata": {},
     "output_type": "execute_result"
    }
   ],
   "source": [
    "# Load the crypto_data.csv dataset.\n",
    "file_path = \"crypto_data.csv\" \n",
    "df = pd.read_csv(file_path, index_col=0)\n",
    "df.head(10)"
   ]
  },
  {
   "cell_type": "code",
   "execution_count": 63,
   "metadata": {},
   "outputs": [
    {
     "data": {
      "text/html": [
       "<div>\n",
       "<style scoped>\n",
       "    .dataframe tbody tr th:only-of-type {\n",
       "        vertical-align: middle;\n",
       "    }\n",
       "\n",
       "    .dataframe tbody tr th {\n",
       "        vertical-align: top;\n",
       "    }\n",
       "\n",
       "    .dataframe thead th {\n",
       "        text-align: right;\n",
       "    }\n",
       "</style>\n",
       "<table border=\"1\" class=\"dataframe\">\n",
       "  <thead>\n",
       "    <tr style=\"text-align: right;\">\n",
       "      <th></th>\n",
       "      <th>CoinName</th>\n",
       "      <th>Algorithm</th>\n",
       "      <th>IsTrading</th>\n",
       "      <th>ProofType</th>\n",
       "      <th>TotalCoinsMined</th>\n",
       "      <th>TotalCoinSupply</th>\n",
       "    </tr>\n",
       "  </thead>\n",
       "  <tbody>\n",
       "    <tr>\n",
       "      <th>42</th>\n",
       "      <td>42 Coin</td>\n",
       "      <td>Scrypt</td>\n",
       "      <td>True</td>\n",
       "      <td>PoW/PoS</td>\n",
       "      <td>4.199995e+01</td>\n",
       "      <td>42</td>\n",
       "    </tr>\n",
       "    <tr>\n",
       "      <th>365</th>\n",
       "      <td>365Coin</td>\n",
       "      <td>X11</td>\n",
       "      <td>True</td>\n",
       "      <td>PoW/PoS</td>\n",
       "      <td>NaN</td>\n",
       "      <td>2300000000</td>\n",
       "    </tr>\n",
       "    <tr>\n",
       "      <th>404</th>\n",
       "      <td>404Coin</td>\n",
       "      <td>Scrypt</td>\n",
       "      <td>True</td>\n",
       "      <td>PoW/PoS</td>\n",
       "      <td>1.055185e+09</td>\n",
       "      <td>532000000</td>\n",
       "    </tr>\n",
       "    <tr>\n",
       "      <th>611</th>\n",
       "      <td>SixEleven</td>\n",
       "      <td>SHA-256</td>\n",
       "      <td>True</td>\n",
       "      <td>PoW</td>\n",
       "      <td>NaN</td>\n",
       "      <td>611000</td>\n",
       "    </tr>\n",
       "    <tr>\n",
       "      <th>808</th>\n",
       "      <td>808</td>\n",
       "      <td>SHA-256</td>\n",
       "      <td>True</td>\n",
       "      <td>PoW/PoS</td>\n",
       "      <td>0.000000e+00</td>\n",
       "      <td>0</td>\n",
       "    </tr>\n",
       "    <tr>\n",
       "      <th>1337</th>\n",
       "      <td>EliteCoin</td>\n",
       "      <td>X13</td>\n",
       "      <td>True</td>\n",
       "      <td>PoW/PoS</td>\n",
       "      <td>2.927942e+10</td>\n",
       "      <td>314159265359</td>\n",
       "    </tr>\n",
       "    <tr>\n",
       "      <th>2015</th>\n",
       "      <td>2015 coin</td>\n",
       "      <td>X11</td>\n",
       "      <td>True</td>\n",
       "      <td>PoW/PoS</td>\n",
       "      <td>NaN</td>\n",
       "      <td>0</td>\n",
       "    </tr>\n",
       "    <tr>\n",
       "      <th>BTC</th>\n",
       "      <td>Bitcoin</td>\n",
       "      <td>SHA-256</td>\n",
       "      <td>True</td>\n",
       "      <td>PoW</td>\n",
       "      <td>1.792718e+07</td>\n",
       "      <td>21000000</td>\n",
       "    </tr>\n",
       "    <tr>\n",
       "      <th>ETH</th>\n",
       "      <td>Ethereum</td>\n",
       "      <td>Ethash</td>\n",
       "      <td>True</td>\n",
       "      <td>PoW</td>\n",
       "      <td>1.076842e+08</td>\n",
       "      <td>0</td>\n",
       "    </tr>\n",
       "    <tr>\n",
       "      <th>LTC</th>\n",
       "      <td>Litecoin</td>\n",
       "      <td>Scrypt</td>\n",
       "      <td>True</td>\n",
       "      <td>PoW</td>\n",
       "      <td>6.303924e+07</td>\n",
       "      <td>84000000</td>\n",
       "    </tr>\n",
       "  </tbody>\n",
       "</table>\n",
       "</div>"
      ],
      "text/plain": [
       "       CoinName Algorithm  IsTrading ProofType  TotalCoinsMined  \\\n",
       "42      42 Coin    Scrypt       True   PoW/PoS     4.199995e+01   \n",
       "365     365Coin       X11       True   PoW/PoS              NaN   \n",
       "404     404Coin    Scrypt       True   PoW/PoS     1.055185e+09   \n",
       "611   SixEleven   SHA-256       True       PoW              NaN   \n",
       "808         808   SHA-256       True   PoW/PoS     0.000000e+00   \n",
       "1337  EliteCoin       X13       True   PoW/PoS     2.927942e+10   \n",
       "2015  2015 coin       X11       True   PoW/PoS              NaN   \n",
       "BTC     Bitcoin   SHA-256       True       PoW     1.792718e+07   \n",
       "ETH    Ethereum    Ethash       True       PoW     1.076842e+08   \n",
       "LTC    Litecoin    Scrypt       True       PoW     6.303924e+07   \n",
       "\n",
       "     TotalCoinSupply  \n",
       "42                42  \n",
       "365       2300000000  \n",
       "404        532000000  \n",
       "611           611000  \n",
       "808                0  \n",
       "1337    314159265359  \n",
       "2015               0  \n",
       "BTC         21000000  \n",
       "ETH                0  \n",
       "LTC         84000000  "
      ]
     },
     "execution_count": 63,
     "metadata": {},
     "output_type": "execute_result"
    }
   ],
   "source": [
    "# Keep all the cryptocurrencies that are being traded.\n",
    "trading_df = df.loc[df['IsTrading'] == True]\n",
    "trading_df.head(10)"
   ]
  },
  {
   "cell_type": "code",
   "execution_count": 64,
   "metadata": {},
   "outputs": [
    {
     "name": "stdout",
     "output_type": "stream",
     "text": [
      "(1144, 6)\n"
     ]
    },
    {
     "data": {
      "text/html": [
       "<div>\n",
       "<style scoped>\n",
       "    .dataframe tbody tr th:only-of-type {\n",
       "        vertical-align: middle;\n",
       "    }\n",
       "\n",
       "    .dataframe tbody tr th {\n",
       "        vertical-align: top;\n",
       "    }\n",
       "\n",
       "    .dataframe thead th {\n",
       "        text-align: right;\n",
       "    }\n",
       "</style>\n",
       "<table border=\"1\" class=\"dataframe\">\n",
       "  <thead>\n",
       "    <tr style=\"text-align: right;\">\n",
       "      <th></th>\n",
       "      <th>CoinName</th>\n",
       "      <th>Algorithm</th>\n",
       "      <th>IsTrading</th>\n",
       "      <th>ProofType</th>\n",
       "      <th>TotalCoinsMined</th>\n",
       "      <th>TotalCoinSupply</th>\n",
       "    </tr>\n",
       "  </thead>\n",
       "  <tbody>\n",
       "    <tr>\n",
       "      <th>42</th>\n",
       "      <td>42 Coin</td>\n",
       "      <td>Scrypt</td>\n",
       "      <td>True</td>\n",
       "      <td>PoW/PoS</td>\n",
       "      <td>4.199995e+01</td>\n",
       "      <td>42</td>\n",
       "    </tr>\n",
       "    <tr>\n",
       "      <th>365</th>\n",
       "      <td>365Coin</td>\n",
       "      <td>X11</td>\n",
       "      <td>True</td>\n",
       "      <td>PoW/PoS</td>\n",
       "      <td>NaN</td>\n",
       "      <td>2300000000</td>\n",
       "    </tr>\n",
       "    <tr>\n",
       "      <th>404</th>\n",
       "      <td>404Coin</td>\n",
       "      <td>Scrypt</td>\n",
       "      <td>True</td>\n",
       "      <td>PoW/PoS</td>\n",
       "      <td>1.055185e+09</td>\n",
       "      <td>532000000</td>\n",
       "    </tr>\n",
       "    <tr>\n",
       "      <th>611</th>\n",
       "      <td>SixEleven</td>\n",
       "      <td>SHA-256</td>\n",
       "      <td>True</td>\n",
       "      <td>PoW</td>\n",
       "      <td>NaN</td>\n",
       "      <td>611000</td>\n",
       "    </tr>\n",
       "    <tr>\n",
       "      <th>808</th>\n",
       "      <td>808</td>\n",
       "      <td>SHA-256</td>\n",
       "      <td>True</td>\n",
       "      <td>PoW/PoS</td>\n",
       "      <td>0.000000e+00</td>\n",
       "      <td>0</td>\n",
       "    </tr>\n",
       "    <tr>\n",
       "      <th>1337</th>\n",
       "      <td>EliteCoin</td>\n",
       "      <td>X13</td>\n",
       "      <td>True</td>\n",
       "      <td>PoW/PoS</td>\n",
       "      <td>2.927942e+10</td>\n",
       "      <td>314159265359</td>\n",
       "    </tr>\n",
       "    <tr>\n",
       "      <th>2015</th>\n",
       "      <td>2015 coin</td>\n",
       "      <td>X11</td>\n",
       "      <td>True</td>\n",
       "      <td>PoW/PoS</td>\n",
       "      <td>NaN</td>\n",
       "      <td>0</td>\n",
       "    </tr>\n",
       "    <tr>\n",
       "      <th>BTC</th>\n",
       "      <td>Bitcoin</td>\n",
       "      <td>SHA-256</td>\n",
       "      <td>True</td>\n",
       "      <td>PoW</td>\n",
       "      <td>1.792718e+07</td>\n",
       "      <td>21000000</td>\n",
       "    </tr>\n",
       "    <tr>\n",
       "      <th>ETH</th>\n",
       "      <td>Ethereum</td>\n",
       "      <td>Ethash</td>\n",
       "      <td>True</td>\n",
       "      <td>PoW</td>\n",
       "      <td>1.076842e+08</td>\n",
       "      <td>0</td>\n",
       "    </tr>\n",
       "    <tr>\n",
       "      <th>LTC</th>\n",
       "      <td>Litecoin</td>\n",
       "      <td>Scrypt</td>\n",
       "      <td>True</td>\n",
       "      <td>PoW</td>\n",
       "      <td>6.303924e+07</td>\n",
       "      <td>84000000</td>\n",
       "    </tr>\n",
       "  </tbody>\n",
       "</table>\n",
       "</div>"
      ],
      "text/plain": [
       "       CoinName Algorithm  IsTrading ProofType  TotalCoinsMined  \\\n",
       "42      42 Coin    Scrypt       True   PoW/PoS     4.199995e+01   \n",
       "365     365Coin       X11       True   PoW/PoS              NaN   \n",
       "404     404Coin    Scrypt       True   PoW/PoS     1.055185e+09   \n",
       "611   SixEleven   SHA-256       True       PoW              NaN   \n",
       "808         808   SHA-256       True   PoW/PoS     0.000000e+00   \n",
       "1337  EliteCoin       X13       True   PoW/PoS     2.927942e+10   \n",
       "2015  2015 coin       X11       True   PoW/PoS              NaN   \n",
       "BTC     Bitcoin   SHA-256       True       PoW     1.792718e+07   \n",
       "ETH    Ethereum    Ethash       True       PoW     1.076842e+08   \n",
       "LTC    Litecoin    Scrypt       True       PoW     6.303924e+07   \n",
       "\n",
       "     TotalCoinSupply  \n",
       "42                42  \n",
       "365       2300000000  \n",
       "404        532000000  \n",
       "611           611000  \n",
       "808                0  \n",
       "1337    314159265359  \n",
       "2015               0  \n",
       "BTC         21000000  \n",
       "ETH                0  \n",
       "LTC         84000000  "
      ]
     },
     "execution_count": 64,
     "metadata": {},
     "output_type": "execute_result"
    }
   ],
   "source": [
    "# Keep all the cryptocurrencies that have a working algorithm.\n",
    "algorithm_df = trading_df[trading_df[\"Algorithm\"].notnull()]\n",
    "print(algorithm_df.shape)\n",
    "algorithm_df.head(10)"
   ]
  },
  {
   "cell_type": "code",
   "execution_count": 65,
   "metadata": {},
   "outputs": [
    {
     "name": "stdout",
     "output_type": "stream",
     "text": [
      "(1144, 5)\n"
     ]
    },
    {
     "data": {
      "text/html": [
       "<div>\n",
       "<style scoped>\n",
       "    .dataframe tbody tr th:only-of-type {\n",
       "        vertical-align: middle;\n",
       "    }\n",
       "\n",
       "    .dataframe tbody tr th {\n",
       "        vertical-align: top;\n",
       "    }\n",
       "\n",
       "    .dataframe thead th {\n",
       "        text-align: right;\n",
       "    }\n",
       "</style>\n",
       "<table border=\"1\" class=\"dataframe\">\n",
       "  <thead>\n",
       "    <tr style=\"text-align: right;\">\n",
       "      <th></th>\n",
       "      <th>CoinName</th>\n",
       "      <th>Algorithm</th>\n",
       "      <th>ProofType</th>\n",
       "      <th>TotalCoinsMined</th>\n",
       "      <th>TotalCoinSupply</th>\n",
       "    </tr>\n",
       "  </thead>\n",
       "  <tbody>\n",
       "    <tr>\n",
       "      <th>42</th>\n",
       "      <td>42 Coin</td>\n",
       "      <td>Scrypt</td>\n",
       "      <td>PoW/PoS</td>\n",
       "      <td>4.199995e+01</td>\n",
       "      <td>42</td>\n",
       "    </tr>\n",
       "    <tr>\n",
       "      <th>365</th>\n",
       "      <td>365Coin</td>\n",
       "      <td>X11</td>\n",
       "      <td>PoW/PoS</td>\n",
       "      <td>NaN</td>\n",
       "      <td>2300000000</td>\n",
       "    </tr>\n",
       "    <tr>\n",
       "      <th>404</th>\n",
       "      <td>404Coin</td>\n",
       "      <td>Scrypt</td>\n",
       "      <td>PoW/PoS</td>\n",
       "      <td>1.055185e+09</td>\n",
       "      <td>532000000</td>\n",
       "    </tr>\n",
       "    <tr>\n",
       "      <th>611</th>\n",
       "      <td>SixEleven</td>\n",
       "      <td>SHA-256</td>\n",
       "      <td>PoW</td>\n",
       "      <td>NaN</td>\n",
       "      <td>611000</td>\n",
       "    </tr>\n",
       "    <tr>\n",
       "      <th>808</th>\n",
       "      <td>808</td>\n",
       "      <td>SHA-256</td>\n",
       "      <td>PoW/PoS</td>\n",
       "      <td>0.000000e+00</td>\n",
       "      <td>0</td>\n",
       "    </tr>\n",
       "    <tr>\n",
       "      <th>1337</th>\n",
       "      <td>EliteCoin</td>\n",
       "      <td>X13</td>\n",
       "      <td>PoW/PoS</td>\n",
       "      <td>2.927942e+10</td>\n",
       "      <td>314159265359</td>\n",
       "    </tr>\n",
       "    <tr>\n",
       "      <th>2015</th>\n",
       "      <td>2015 coin</td>\n",
       "      <td>X11</td>\n",
       "      <td>PoW/PoS</td>\n",
       "      <td>NaN</td>\n",
       "      <td>0</td>\n",
       "    </tr>\n",
       "    <tr>\n",
       "      <th>BTC</th>\n",
       "      <td>Bitcoin</td>\n",
       "      <td>SHA-256</td>\n",
       "      <td>PoW</td>\n",
       "      <td>1.792718e+07</td>\n",
       "      <td>21000000</td>\n",
       "    </tr>\n",
       "    <tr>\n",
       "      <th>ETH</th>\n",
       "      <td>Ethereum</td>\n",
       "      <td>Ethash</td>\n",
       "      <td>PoW</td>\n",
       "      <td>1.076842e+08</td>\n",
       "      <td>0</td>\n",
       "    </tr>\n",
       "    <tr>\n",
       "      <th>LTC</th>\n",
       "      <td>Litecoin</td>\n",
       "      <td>Scrypt</td>\n",
       "      <td>PoW</td>\n",
       "      <td>6.303924e+07</td>\n",
       "      <td>84000000</td>\n",
       "    </tr>\n",
       "  </tbody>\n",
       "</table>\n",
       "</div>"
      ],
      "text/plain": [
       "       CoinName Algorithm ProofType  TotalCoinsMined TotalCoinSupply\n",
       "42      42 Coin    Scrypt   PoW/PoS     4.199995e+01              42\n",
       "365     365Coin       X11   PoW/PoS              NaN      2300000000\n",
       "404     404Coin    Scrypt   PoW/PoS     1.055185e+09       532000000\n",
       "611   SixEleven   SHA-256       PoW              NaN          611000\n",
       "808         808   SHA-256   PoW/PoS     0.000000e+00               0\n",
       "1337  EliteCoin       X13   PoW/PoS     2.927942e+10    314159265359\n",
       "2015  2015 coin       X11   PoW/PoS              NaN               0\n",
       "BTC     Bitcoin   SHA-256       PoW     1.792718e+07        21000000\n",
       "ETH    Ethereum    Ethash       PoW     1.076842e+08               0\n",
       "LTC    Litecoin    Scrypt       PoW     6.303924e+07        84000000"
      ]
     },
     "execution_count": 65,
     "metadata": {},
     "output_type": "execute_result"
    }
   ],
   "source": [
    "# Remove the \"IsTrading\" column. \n",
    "dropcol_df = algorithm_df.drop(['IsTrading'], axis=1)\n",
    "print(dropcol_df.shape)\n",
    "dropcol_df.head(10)"
   ]
  },
  {
   "cell_type": "code",
   "execution_count": 66,
   "metadata": {},
   "outputs": [
    {
     "name": "stdout",
     "output_type": "stream",
     "text": [
      "(685, 5)\n"
     ]
    },
    {
     "data": {
      "text/html": [
       "<div>\n",
       "<style scoped>\n",
       "    .dataframe tbody tr th:only-of-type {\n",
       "        vertical-align: middle;\n",
       "    }\n",
       "\n",
       "    .dataframe tbody tr th {\n",
       "        vertical-align: top;\n",
       "    }\n",
       "\n",
       "    .dataframe thead th {\n",
       "        text-align: right;\n",
       "    }\n",
       "</style>\n",
       "<table border=\"1\" class=\"dataframe\">\n",
       "  <thead>\n",
       "    <tr style=\"text-align: right;\">\n",
       "      <th></th>\n",
       "      <th>CoinName</th>\n",
       "      <th>Algorithm</th>\n",
       "      <th>ProofType</th>\n",
       "      <th>TotalCoinsMined</th>\n",
       "      <th>TotalCoinSupply</th>\n",
       "    </tr>\n",
       "  </thead>\n",
       "  <tbody>\n",
       "    <tr>\n",
       "      <th>42</th>\n",
       "      <td>42 Coin</td>\n",
       "      <td>Scrypt</td>\n",
       "      <td>PoW/PoS</td>\n",
       "      <td>4.199995e+01</td>\n",
       "      <td>42</td>\n",
       "    </tr>\n",
       "    <tr>\n",
       "      <th>404</th>\n",
       "      <td>404Coin</td>\n",
       "      <td>Scrypt</td>\n",
       "      <td>PoW/PoS</td>\n",
       "      <td>1.055185e+09</td>\n",
       "      <td>532000000</td>\n",
       "    </tr>\n",
       "    <tr>\n",
       "      <th>808</th>\n",
       "      <td>808</td>\n",
       "      <td>SHA-256</td>\n",
       "      <td>PoW/PoS</td>\n",
       "      <td>0.000000e+00</td>\n",
       "      <td>0</td>\n",
       "    </tr>\n",
       "    <tr>\n",
       "      <th>1337</th>\n",
       "      <td>EliteCoin</td>\n",
       "      <td>X13</td>\n",
       "      <td>PoW/PoS</td>\n",
       "      <td>2.927942e+10</td>\n",
       "      <td>314159265359</td>\n",
       "    </tr>\n",
       "    <tr>\n",
       "      <th>BTC</th>\n",
       "      <td>Bitcoin</td>\n",
       "      <td>SHA-256</td>\n",
       "      <td>PoW</td>\n",
       "      <td>1.792718e+07</td>\n",
       "      <td>21000000</td>\n",
       "    </tr>\n",
       "    <tr>\n",
       "      <th>ETH</th>\n",
       "      <td>Ethereum</td>\n",
       "      <td>Ethash</td>\n",
       "      <td>PoW</td>\n",
       "      <td>1.076842e+08</td>\n",
       "      <td>0</td>\n",
       "    </tr>\n",
       "    <tr>\n",
       "      <th>LTC</th>\n",
       "      <td>Litecoin</td>\n",
       "      <td>Scrypt</td>\n",
       "      <td>PoW</td>\n",
       "      <td>6.303924e+07</td>\n",
       "      <td>84000000</td>\n",
       "    </tr>\n",
       "    <tr>\n",
       "      <th>DASH</th>\n",
       "      <td>Dash</td>\n",
       "      <td>X11</td>\n",
       "      <td>PoW/PoS</td>\n",
       "      <td>9.031294e+06</td>\n",
       "      <td>22000000</td>\n",
       "    </tr>\n",
       "    <tr>\n",
       "      <th>XMR</th>\n",
       "      <td>Monero</td>\n",
       "      <td>CryptoNight-V7</td>\n",
       "      <td>PoW</td>\n",
       "      <td>1.720114e+07</td>\n",
       "      <td>0</td>\n",
       "    </tr>\n",
       "    <tr>\n",
       "      <th>ETC</th>\n",
       "      <td>Ethereum Classic</td>\n",
       "      <td>Ethash</td>\n",
       "      <td>PoW</td>\n",
       "      <td>1.133597e+08</td>\n",
       "      <td>210000000</td>\n",
       "    </tr>\n",
       "  </tbody>\n",
       "</table>\n",
       "</div>"
      ],
      "text/plain": [
       "              CoinName       Algorithm ProofType  TotalCoinsMined  \\\n",
       "42             42 Coin          Scrypt   PoW/PoS     4.199995e+01   \n",
       "404            404Coin          Scrypt   PoW/PoS     1.055185e+09   \n",
       "808                808         SHA-256   PoW/PoS     0.000000e+00   \n",
       "1337         EliteCoin             X13   PoW/PoS     2.927942e+10   \n",
       "BTC            Bitcoin         SHA-256       PoW     1.792718e+07   \n",
       "ETH           Ethereum          Ethash       PoW     1.076842e+08   \n",
       "LTC           Litecoin          Scrypt       PoW     6.303924e+07   \n",
       "DASH              Dash             X11   PoW/PoS     9.031294e+06   \n",
       "XMR             Monero  CryptoNight-V7       PoW     1.720114e+07   \n",
       "ETC   Ethereum Classic          Ethash       PoW     1.133597e+08   \n",
       "\n",
       "     TotalCoinSupply  \n",
       "42                42  \n",
       "404        532000000  \n",
       "808                0  \n",
       "1337    314159265359  \n",
       "BTC         21000000  \n",
       "ETH                0  \n",
       "LTC         84000000  \n",
       "DASH        22000000  \n",
       "XMR                0  \n",
       "ETC        210000000  "
      ]
     },
     "execution_count": 66,
     "metadata": {},
     "output_type": "execute_result"
    }
   ],
   "source": [
    "# Remove rows that have at least 1 null value.\n",
    "notnull_df = dropcol_df.dropna()\n",
    "print(notnull_df.shape)\n",
    "notnull_df.head(10)"
   ]
  },
  {
   "cell_type": "code",
   "execution_count": 67,
   "metadata": {},
   "outputs": [
    {
     "name": "stdout",
     "output_type": "stream",
     "text": [
      "(532, 5)\n"
     ]
    },
    {
     "data": {
      "text/html": [
       "<div>\n",
       "<style scoped>\n",
       "    .dataframe tbody tr th:only-of-type {\n",
       "        vertical-align: middle;\n",
       "    }\n",
       "\n",
       "    .dataframe tbody tr th {\n",
       "        vertical-align: top;\n",
       "    }\n",
       "\n",
       "    .dataframe thead th {\n",
       "        text-align: right;\n",
       "    }\n",
       "</style>\n",
       "<table border=\"1\" class=\"dataframe\">\n",
       "  <thead>\n",
       "    <tr style=\"text-align: right;\">\n",
       "      <th></th>\n",
       "      <th>CoinName</th>\n",
       "      <th>Algorithm</th>\n",
       "      <th>ProofType</th>\n",
       "      <th>TotalCoinsMined</th>\n",
       "      <th>TotalCoinSupply</th>\n",
       "    </tr>\n",
       "  </thead>\n",
       "  <tbody>\n",
       "    <tr>\n",
       "      <th>42</th>\n",
       "      <td>42 Coin</td>\n",
       "      <td>Scrypt</td>\n",
       "      <td>PoW/PoS</td>\n",
       "      <td>4.199995e+01</td>\n",
       "      <td>42</td>\n",
       "    </tr>\n",
       "    <tr>\n",
       "      <th>404</th>\n",
       "      <td>404Coin</td>\n",
       "      <td>Scrypt</td>\n",
       "      <td>PoW/PoS</td>\n",
       "      <td>1.055185e+09</td>\n",
       "      <td>532000000</td>\n",
       "    </tr>\n",
       "    <tr>\n",
       "      <th>1337</th>\n",
       "      <td>EliteCoin</td>\n",
       "      <td>X13</td>\n",
       "      <td>PoW/PoS</td>\n",
       "      <td>2.927942e+10</td>\n",
       "      <td>314159265359</td>\n",
       "    </tr>\n",
       "    <tr>\n",
       "      <th>BTC</th>\n",
       "      <td>Bitcoin</td>\n",
       "      <td>SHA-256</td>\n",
       "      <td>PoW</td>\n",
       "      <td>1.792718e+07</td>\n",
       "      <td>21000000</td>\n",
       "    </tr>\n",
       "    <tr>\n",
       "      <th>ETH</th>\n",
       "      <td>Ethereum</td>\n",
       "      <td>Ethash</td>\n",
       "      <td>PoW</td>\n",
       "      <td>1.076842e+08</td>\n",
       "      <td>0</td>\n",
       "    </tr>\n",
       "    <tr>\n",
       "      <th>LTC</th>\n",
       "      <td>Litecoin</td>\n",
       "      <td>Scrypt</td>\n",
       "      <td>PoW</td>\n",
       "      <td>6.303924e+07</td>\n",
       "      <td>84000000</td>\n",
       "    </tr>\n",
       "    <tr>\n",
       "      <th>DASH</th>\n",
       "      <td>Dash</td>\n",
       "      <td>X11</td>\n",
       "      <td>PoW/PoS</td>\n",
       "      <td>9.031294e+06</td>\n",
       "      <td>22000000</td>\n",
       "    </tr>\n",
       "    <tr>\n",
       "      <th>XMR</th>\n",
       "      <td>Monero</td>\n",
       "      <td>CryptoNight-V7</td>\n",
       "      <td>PoW</td>\n",
       "      <td>1.720114e+07</td>\n",
       "      <td>0</td>\n",
       "    </tr>\n",
       "    <tr>\n",
       "      <th>ETC</th>\n",
       "      <td>Ethereum Classic</td>\n",
       "      <td>Ethash</td>\n",
       "      <td>PoW</td>\n",
       "      <td>1.133597e+08</td>\n",
       "      <td>210000000</td>\n",
       "    </tr>\n",
       "    <tr>\n",
       "      <th>ZEC</th>\n",
       "      <td>ZCash</td>\n",
       "      <td>Equihash</td>\n",
       "      <td>PoW</td>\n",
       "      <td>7.383056e+06</td>\n",
       "      <td>21000000</td>\n",
       "    </tr>\n",
       "  </tbody>\n",
       "</table>\n",
       "</div>"
      ],
      "text/plain": [
       "              CoinName       Algorithm ProofType  TotalCoinsMined  \\\n",
       "42             42 Coin          Scrypt   PoW/PoS     4.199995e+01   \n",
       "404            404Coin          Scrypt   PoW/PoS     1.055185e+09   \n",
       "1337         EliteCoin             X13   PoW/PoS     2.927942e+10   \n",
       "BTC            Bitcoin         SHA-256       PoW     1.792718e+07   \n",
       "ETH           Ethereum          Ethash       PoW     1.076842e+08   \n",
       "LTC           Litecoin          Scrypt       PoW     6.303924e+07   \n",
       "DASH              Dash             X11   PoW/PoS     9.031294e+06   \n",
       "XMR             Monero  CryptoNight-V7       PoW     1.720114e+07   \n",
       "ETC   Ethereum Classic          Ethash       PoW     1.133597e+08   \n",
       "ZEC              ZCash        Equihash       PoW     7.383056e+06   \n",
       "\n",
       "     TotalCoinSupply  \n",
       "42                42  \n",
       "404        532000000  \n",
       "1337    314159265359  \n",
       "BTC         21000000  \n",
       "ETH                0  \n",
       "LTC         84000000  \n",
       "DASH        22000000  \n",
       "XMR                0  \n",
       "ETC        210000000  \n",
       "ZEC         21000000  "
      ]
     },
     "execution_count": 67,
     "metadata": {},
     "output_type": "execute_result"
    }
   ],
   "source": [
    "# Keep the rows where coins are mined.\n",
    "coins_df = notnull_df[notnull_df['TotalCoinsMined'] > 0]\n",
    "print(coins_df.shape)\n",
    "coins_df.head(10)"
   ]
  },
  {
   "cell_type": "code",
   "execution_count": 68,
   "metadata": {},
   "outputs": [
    {
     "name": "stdout",
     "output_type": "stream",
     "text": [
      "(532, 1)\n"
     ]
    },
    {
     "data": {
      "text/html": [
       "<div>\n",
       "<style scoped>\n",
       "    .dataframe tbody tr th:only-of-type {\n",
       "        vertical-align: middle;\n",
       "    }\n",
       "\n",
       "    .dataframe tbody tr th {\n",
       "        vertical-align: top;\n",
       "    }\n",
       "\n",
       "    .dataframe thead th {\n",
       "        text-align: right;\n",
       "    }\n",
       "</style>\n",
       "<table border=\"1\" class=\"dataframe\">\n",
       "  <thead>\n",
       "    <tr style=\"text-align: right;\">\n",
       "      <th></th>\n",
       "      <th>CoinName</th>\n",
       "    </tr>\n",
       "  </thead>\n",
       "  <tbody>\n",
       "    <tr>\n",
       "      <th>42</th>\n",
       "      <td>42 Coin</td>\n",
       "    </tr>\n",
       "    <tr>\n",
       "      <th>404</th>\n",
       "      <td>404Coin</td>\n",
       "    </tr>\n",
       "    <tr>\n",
       "      <th>1337</th>\n",
       "      <td>EliteCoin</td>\n",
       "    </tr>\n",
       "    <tr>\n",
       "      <th>BTC</th>\n",
       "      <td>Bitcoin</td>\n",
       "    </tr>\n",
       "    <tr>\n",
       "      <th>ETH</th>\n",
       "      <td>Ethereum</td>\n",
       "    </tr>\n",
       "  </tbody>\n",
       "</table>\n",
       "</div>"
      ],
      "text/plain": [
       "       CoinName\n",
       "42      42 Coin\n",
       "404     404Coin\n",
       "1337  EliteCoin\n",
       "BTC     Bitcoin\n",
       "ETH    Ethereum"
      ]
     },
     "execution_count": 68,
     "metadata": {},
     "output_type": "execute_result"
    }
   ],
   "source": [
    "# Create a new DataFrame that holds only the cryptocurrencies names.\n",
    "coinname_df = coins_df[[\"CoinName\"]]\n",
    "print(coinname_df.shape)\n",
    "coinname_df.head()"
   ]
  },
  {
   "cell_type": "code",
   "execution_count": 69,
   "metadata": {},
   "outputs": [
    {
     "name": "stdout",
     "output_type": "stream",
     "text": [
      "(532, 4)\n"
     ]
    },
    {
     "data": {
      "text/html": [
       "<div>\n",
       "<style scoped>\n",
       "    .dataframe tbody tr th:only-of-type {\n",
       "        vertical-align: middle;\n",
       "    }\n",
       "\n",
       "    .dataframe tbody tr th {\n",
       "        vertical-align: top;\n",
       "    }\n",
       "\n",
       "    .dataframe thead th {\n",
       "        text-align: right;\n",
       "    }\n",
       "</style>\n",
       "<table border=\"1\" class=\"dataframe\">\n",
       "  <thead>\n",
       "    <tr style=\"text-align: right;\">\n",
       "      <th></th>\n",
       "      <th>Algorithm</th>\n",
       "      <th>ProofType</th>\n",
       "      <th>TotalCoinsMined</th>\n",
       "      <th>TotalCoinSupply</th>\n",
       "    </tr>\n",
       "  </thead>\n",
       "  <tbody>\n",
       "    <tr>\n",
       "      <th>42</th>\n",
       "      <td>Scrypt</td>\n",
       "      <td>PoW/PoS</td>\n",
       "      <td>4.199995e+01</td>\n",
       "      <td>42</td>\n",
       "    </tr>\n",
       "    <tr>\n",
       "      <th>404</th>\n",
       "      <td>Scrypt</td>\n",
       "      <td>PoW/PoS</td>\n",
       "      <td>1.055185e+09</td>\n",
       "      <td>532000000</td>\n",
       "    </tr>\n",
       "    <tr>\n",
       "      <th>1337</th>\n",
       "      <td>X13</td>\n",
       "      <td>PoW/PoS</td>\n",
       "      <td>2.927942e+10</td>\n",
       "      <td>314159265359</td>\n",
       "    </tr>\n",
       "    <tr>\n",
       "      <th>BTC</th>\n",
       "      <td>SHA-256</td>\n",
       "      <td>PoW</td>\n",
       "      <td>1.792718e+07</td>\n",
       "      <td>21000000</td>\n",
       "    </tr>\n",
       "    <tr>\n",
       "      <th>ETH</th>\n",
       "      <td>Ethash</td>\n",
       "      <td>PoW</td>\n",
       "      <td>1.076842e+08</td>\n",
       "      <td>0</td>\n",
       "    </tr>\n",
       "    <tr>\n",
       "      <th>LTC</th>\n",
       "      <td>Scrypt</td>\n",
       "      <td>PoW</td>\n",
       "      <td>6.303924e+07</td>\n",
       "      <td>84000000</td>\n",
       "    </tr>\n",
       "    <tr>\n",
       "      <th>DASH</th>\n",
       "      <td>X11</td>\n",
       "      <td>PoW/PoS</td>\n",
       "      <td>9.031294e+06</td>\n",
       "      <td>22000000</td>\n",
       "    </tr>\n",
       "    <tr>\n",
       "      <th>XMR</th>\n",
       "      <td>CryptoNight-V7</td>\n",
       "      <td>PoW</td>\n",
       "      <td>1.720114e+07</td>\n",
       "      <td>0</td>\n",
       "    </tr>\n",
       "    <tr>\n",
       "      <th>ETC</th>\n",
       "      <td>Ethash</td>\n",
       "      <td>PoW</td>\n",
       "      <td>1.133597e+08</td>\n",
       "      <td>210000000</td>\n",
       "    </tr>\n",
       "    <tr>\n",
       "      <th>ZEC</th>\n",
       "      <td>Equihash</td>\n",
       "      <td>PoW</td>\n",
       "      <td>7.383056e+06</td>\n",
       "      <td>21000000</td>\n",
       "    </tr>\n",
       "  </tbody>\n",
       "</table>\n",
       "</div>"
      ],
      "text/plain": [
       "           Algorithm ProofType  TotalCoinsMined TotalCoinSupply\n",
       "42            Scrypt   PoW/PoS     4.199995e+01              42\n",
       "404           Scrypt   PoW/PoS     1.055185e+09       532000000\n",
       "1337             X13   PoW/PoS     2.927942e+10    314159265359\n",
       "BTC          SHA-256       PoW     1.792718e+07        21000000\n",
       "ETH           Ethash       PoW     1.076842e+08               0\n",
       "LTC           Scrypt       PoW     6.303924e+07        84000000\n",
       "DASH             X11   PoW/PoS     9.031294e+06        22000000\n",
       "XMR   CryptoNight-V7       PoW     1.720114e+07               0\n",
       "ETC           Ethash       PoW     1.133597e+08       210000000\n",
       "ZEC         Equihash       PoW     7.383056e+06        21000000"
      ]
     },
     "execution_count": 69,
     "metadata": {},
     "output_type": "execute_result"
    }
   ],
   "source": [
    "# Drop the 'CoinName' column since it's not going to be used on the clustering algorithm.\n",
    "crypto_df = coins_df.drop(columns=\"CoinName\")\n",
    "print(crypto_df.shape)\n",
    "crypto_df.head(10)"
   ]
  },
  {
   "cell_type": "code",
   "execution_count": 70,
   "metadata": {},
   "outputs": [
    {
     "name": "stdout",
     "output_type": "stream",
     "text": [
      "(532, 98)\n"
     ]
    },
    {
     "data": {
      "text/html": [
       "<div>\n",
       "<style scoped>\n",
       "    .dataframe tbody tr th:only-of-type {\n",
       "        vertical-align: middle;\n",
       "    }\n",
       "\n",
       "    .dataframe tbody tr th {\n",
       "        vertical-align: top;\n",
       "    }\n",
       "\n",
       "    .dataframe thead th {\n",
       "        text-align: right;\n",
       "    }\n",
       "</style>\n",
       "<table border=\"1\" class=\"dataframe\">\n",
       "  <thead>\n",
       "    <tr style=\"text-align: right;\">\n",
       "      <th></th>\n",
       "      <th>TotalCoinsMined</th>\n",
       "      <th>TotalCoinSupply</th>\n",
       "      <th>Algorithm_1GB AES Pattern Search</th>\n",
       "      <th>Algorithm_536</th>\n",
       "      <th>Algorithm_Argon2d</th>\n",
       "      <th>Algorithm_BLAKE256</th>\n",
       "      <th>Algorithm_Blake</th>\n",
       "      <th>Algorithm_Blake2S</th>\n",
       "      <th>Algorithm_Blake2b</th>\n",
       "      <th>Algorithm_C11</th>\n",
       "      <th>...</th>\n",
       "      <th>ProofType_PoW/PoS</th>\n",
       "      <th>ProofType_PoW/PoS</th>\n",
       "      <th>ProofType_PoW/PoW</th>\n",
       "      <th>ProofType_PoW/nPoS</th>\n",
       "      <th>ProofType_Pos</th>\n",
       "      <th>ProofType_Proof of Authority</th>\n",
       "      <th>ProofType_Proof of Trust</th>\n",
       "      <th>ProofType_TPoS</th>\n",
       "      <th>ProofType_Zero-Knowledge Proof</th>\n",
       "      <th>ProofType_dPoW/PoW</th>\n",
       "    </tr>\n",
       "  </thead>\n",
       "  <tbody>\n",
       "    <tr>\n",
       "      <th>42</th>\n",
       "      <td>4.199995e+01</td>\n",
       "      <td>42</td>\n",
       "      <td>0</td>\n",
       "      <td>0</td>\n",
       "      <td>0</td>\n",
       "      <td>0</td>\n",
       "      <td>0</td>\n",
       "      <td>0</td>\n",
       "      <td>0</td>\n",
       "      <td>0</td>\n",
       "      <td>...</td>\n",
       "      <td>1</td>\n",
       "      <td>0</td>\n",
       "      <td>0</td>\n",
       "      <td>0</td>\n",
       "      <td>0</td>\n",
       "      <td>0</td>\n",
       "      <td>0</td>\n",
       "      <td>0</td>\n",
       "      <td>0</td>\n",
       "      <td>0</td>\n",
       "    </tr>\n",
       "    <tr>\n",
       "      <th>404</th>\n",
       "      <td>1.055185e+09</td>\n",
       "      <td>532000000</td>\n",
       "      <td>0</td>\n",
       "      <td>0</td>\n",
       "      <td>0</td>\n",
       "      <td>0</td>\n",
       "      <td>0</td>\n",
       "      <td>0</td>\n",
       "      <td>0</td>\n",
       "      <td>0</td>\n",
       "      <td>...</td>\n",
       "      <td>1</td>\n",
       "      <td>0</td>\n",
       "      <td>0</td>\n",
       "      <td>0</td>\n",
       "      <td>0</td>\n",
       "      <td>0</td>\n",
       "      <td>0</td>\n",
       "      <td>0</td>\n",
       "      <td>0</td>\n",
       "      <td>0</td>\n",
       "    </tr>\n",
       "    <tr>\n",
       "      <th>1337</th>\n",
       "      <td>2.927942e+10</td>\n",
       "      <td>314159265359</td>\n",
       "      <td>0</td>\n",
       "      <td>0</td>\n",
       "      <td>0</td>\n",
       "      <td>0</td>\n",
       "      <td>0</td>\n",
       "      <td>0</td>\n",
       "      <td>0</td>\n",
       "      <td>0</td>\n",
       "      <td>...</td>\n",
       "      <td>1</td>\n",
       "      <td>0</td>\n",
       "      <td>0</td>\n",
       "      <td>0</td>\n",
       "      <td>0</td>\n",
       "      <td>0</td>\n",
       "      <td>0</td>\n",
       "      <td>0</td>\n",
       "      <td>0</td>\n",
       "      <td>0</td>\n",
       "    </tr>\n",
       "    <tr>\n",
       "      <th>BTC</th>\n",
       "      <td>1.792718e+07</td>\n",
       "      <td>21000000</td>\n",
       "      <td>0</td>\n",
       "      <td>0</td>\n",
       "      <td>0</td>\n",
       "      <td>0</td>\n",
       "      <td>0</td>\n",
       "      <td>0</td>\n",
       "      <td>0</td>\n",
       "      <td>0</td>\n",
       "      <td>...</td>\n",
       "      <td>0</td>\n",
       "      <td>0</td>\n",
       "      <td>0</td>\n",
       "      <td>0</td>\n",
       "      <td>0</td>\n",
       "      <td>0</td>\n",
       "      <td>0</td>\n",
       "      <td>0</td>\n",
       "      <td>0</td>\n",
       "      <td>0</td>\n",
       "    </tr>\n",
       "    <tr>\n",
       "      <th>ETH</th>\n",
       "      <td>1.076842e+08</td>\n",
       "      <td>0</td>\n",
       "      <td>0</td>\n",
       "      <td>0</td>\n",
       "      <td>0</td>\n",
       "      <td>0</td>\n",
       "      <td>0</td>\n",
       "      <td>0</td>\n",
       "      <td>0</td>\n",
       "      <td>0</td>\n",
       "      <td>...</td>\n",
       "      <td>0</td>\n",
       "      <td>0</td>\n",
       "      <td>0</td>\n",
       "      <td>0</td>\n",
       "      <td>0</td>\n",
       "      <td>0</td>\n",
       "      <td>0</td>\n",
       "      <td>0</td>\n",
       "      <td>0</td>\n",
       "      <td>0</td>\n",
       "    </tr>\n",
       "    <tr>\n",
       "      <th>LTC</th>\n",
       "      <td>6.303924e+07</td>\n",
       "      <td>84000000</td>\n",
       "      <td>0</td>\n",
       "      <td>0</td>\n",
       "      <td>0</td>\n",
       "      <td>0</td>\n",
       "      <td>0</td>\n",
       "      <td>0</td>\n",
       "      <td>0</td>\n",
       "      <td>0</td>\n",
       "      <td>...</td>\n",
       "      <td>0</td>\n",
       "      <td>0</td>\n",
       "      <td>0</td>\n",
       "      <td>0</td>\n",
       "      <td>0</td>\n",
       "      <td>0</td>\n",
       "      <td>0</td>\n",
       "      <td>0</td>\n",
       "      <td>0</td>\n",
       "      <td>0</td>\n",
       "    </tr>\n",
       "    <tr>\n",
       "      <th>DASH</th>\n",
       "      <td>9.031294e+06</td>\n",
       "      <td>22000000</td>\n",
       "      <td>0</td>\n",
       "      <td>0</td>\n",
       "      <td>0</td>\n",
       "      <td>0</td>\n",
       "      <td>0</td>\n",
       "      <td>0</td>\n",
       "      <td>0</td>\n",
       "      <td>0</td>\n",
       "      <td>...</td>\n",
       "      <td>1</td>\n",
       "      <td>0</td>\n",
       "      <td>0</td>\n",
       "      <td>0</td>\n",
       "      <td>0</td>\n",
       "      <td>0</td>\n",
       "      <td>0</td>\n",
       "      <td>0</td>\n",
       "      <td>0</td>\n",
       "      <td>0</td>\n",
       "    </tr>\n",
       "    <tr>\n",
       "      <th>XMR</th>\n",
       "      <td>1.720114e+07</td>\n",
       "      <td>0</td>\n",
       "      <td>0</td>\n",
       "      <td>0</td>\n",
       "      <td>0</td>\n",
       "      <td>0</td>\n",
       "      <td>0</td>\n",
       "      <td>0</td>\n",
       "      <td>0</td>\n",
       "      <td>0</td>\n",
       "      <td>...</td>\n",
       "      <td>0</td>\n",
       "      <td>0</td>\n",
       "      <td>0</td>\n",
       "      <td>0</td>\n",
       "      <td>0</td>\n",
       "      <td>0</td>\n",
       "      <td>0</td>\n",
       "      <td>0</td>\n",
       "      <td>0</td>\n",
       "      <td>0</td>\n",
       "    </tr>\n",
       "    <tr>\n",
       "      <th>ETC</th>\n",
       "      <td>1.133597e+08</td>\n",
       "      <td>210000000</td>\n",
       "      <td>0</td>\n",
       "      <td>0</td>\n",
       "      <td>0</td>\n",
       "      <td>0</td>\n",
       "      <td>0</td>\n",
       "      <td>0</td>\n",
       "      <td>0</td>\n",
       "      <td>0</td>\n",
       "      <td>...</td>\n",
       "      <td>0</td>\n",
       "      <td>0</td>\n",
       "      <td>0</td>\n",
       "      <td>0</td>\n",
       "      <td>0</td>\n",
       "      <td>0</td>\n",
       "      <td>0</td>\n",
       "      <td>0</td>\n",
       "      <td>0</td>\n",
       "      <td>0</td>\n",
       "    </tr>\n",
       "    <tr>\n",
       "      <th>ZEC</th>\n",
       "      <td>7.383056e+06</td>\n",
       "      <td>21000000</td>\n",
       "      <td>0</td>\n",
       "      <td>0</td>\n",
       "      <td>0</td>\n",
       "      <td>0</td>\n",
       "      <td>0</td>\n",
       "      <td>0</td>\n",
       "      <td>0</td>\n",
       "      <td>0</td>\n",
       "      <td>...</td>\n",
       "      <td>0</td>\n",
       "      <td>0</td>\n",
       "      <td>0</td>\n",
       "      <td>0</td>\n",
       "      <td>0</td>\n",
       "      <td>0</td>\n",
       "      <td>0</td>\n",
       "      <td>0</td>\n",
       "      <td>0</td>\n",
       "      <td>0</td>\n",
       "    </tr>\n",
       "  </tbody>\n",
       "</table>\n",
       "<p>10 rows × 98 columns</p>\n",
       "</div>"
      ],
      "text/plain": [
       "      TotalCoinsMined TotalCoinSupply  Algorithm_1GB AES Pattern Search  \\\n",
       "42       4.199995e+01              42                                 0   \n",
       "404      1.055185e+09       532000000                                 0   \n",
       "1337     2.927942e+10    314159265359                                 0   \n",
       "BTC      1.792718e+07        21000000                                 0   \n",
       "ETH      1.076842e+08               0                                 0   \n",
       "LTC      6.303924e+07        84000000                                 0   \n",
       "DASH     9.031294e+06        22000000                                 0   \n",
       "XMR      1.720114e+07               0                                 0   \n",
       "ETC      1.133597e+08       210000000                                 0   \n",
       "ZEC      7.383056e+06        21000000                                 0   \n",
       "\n",
       "      Algorithm_536  Algorithm_Argon2d  Algorithm_BLAKE256  Algorithm_Blake  \\\n",
       "42                0                  0                   0                0   \n",
       "404               0                  0                   0                0   \n",
       "1337              0                  0                   0                0   \n",
       "BTC               0                  0                   0                0   \n",
       "ETH               0                  0                   0                0   \n",
       "LTC               0                  0                   0                0   \n",
       "DASH              0                  0                   0                0   \n",
       "XMR               0                  0                   0                0   \n",
       "ETC               0                  0                   0                0   \n",
       "ZEC               0                  0                   0                0   \n",
       "\n",
       "      Algorithm_Blake2S  Algorithm_Blake2b  Algorithm_C11  ...  \\\n",
       "42                    0                  0              0  ...   \n",
       "404                   0                  0              0  ...   \n",
       "1337                  0                  0              0  ...   \n",
       "BTC                   0                  0              0  ...   \n",
       "ETH                   0                  0              0  ...   \n",
       "LTC                   0                  0              0  ...   \n",
       "DASH                  0                  0              0  ...   \n",
       "XMR                   0                  0              0  ...   \n",
       "ETC                   0                  0              0  ...   \n",
       "ZEC                   0                  0              0  ...   \n",
       "\n",
       "      ProofType_PoW/PoS  ProofType_PoW/PoS   ProofType_PoW/PoW  \\\n",
       "42                    1                   0                  0   \n",
       "404                   1                   0                  0   \n",
       "1337                  1                   0                  0   \n",
       "BTC                   0                   0                  0   \n",
       "ETH                   0                   0                  0   \n",
       "LTC                   0                   0                  0   \n",
       "DASH                  1                   0                  0   \n",
       "XMR                   0                   0                  0   \n",
       "ETC                   0                   0                  0   \n",
       "ZEC                   0                   0                  0   \n",
       "\n",
       "      ProofType_PoW/nPoS  ProofType_Pos  ProofType_Proof of Authority  \\\n",
       "42                     0              0                             0   \n",
       "404                    0              0                             0   \n",
       "1337                   0              0                             0   \n",
       "BTC                    0              0                             0   \n",
       "ETH                    0              0                             0   \n",
       "LTC                    0              0                             0   \n",
       "DASH                   0              0                             0   \n",
       "XMR                    0              0                             0   \n",
       "ETC                    0              0                             0   \n",
       "ZEC                    0              0                             0   \n",
       "\n",
       "      ProofType_Proof of Trust  ProofType_TPoS  \\\n",
       "42                           0               0   \n",
       "404                          0               0   \n",
       "1337                         0               0   \n",
       "BTC                          0               0   \n",
       "ETH                          0               0   \n",
       "LTC                          0               0   \n",
       "DASH                         0               0   \n",
       "XMR                          0               0   \n",
       "ETC                          0               0   \n",
       "ZEC                          0               0   \n",
       "\n",
       "      ProofType_Zero-Knowledge Proof  ProofType_dPoW/PoW  \n",
       "42                                 0                   0  \n",
       "404                                0                   0  \n",
       "1337                               0                   0  \n",
       "BTC                                0                   0  \n",
       "ETH                                0                   0  \n",
       "LTC                                0                   0  \n",
       "DASH                               0                   0  \n",
       "XMR                                0                   0  \n",
       "ETC                                0                   0  \n",
       "ZEC                                0                   0  \n",
       "\n",
       "[10 rows x 98 columns]"
      ]
     },
     "execution_count": 70,
     "metadata": {},
     "output_type": "execute_result"
    }
   ],
   "source": [
    "# Use get_dummies() to create variables for text features.\n",
    "X = pd.get_dummies(crypto_df, columns=[\"Algorithm\", \"ProofType\"])\n",
    "print(X.shape)\n",
    "X.head(10)"
   ]
  },
  {
   "cell_type": "code",
   "execution_count": 71,
   "metadata": {},
   "outputs": [
    {
     "data": {
      "text/plain": [
       "array([[-0.11710817, -0.1528703 , -0.0433963 , -0.0433963 , -0.0433963 ,\n",
       "        -0.06142951, -0.07530656, -0.0433963 , -0.06142951, -0.06142951,\n",
       "        -0.0433963 , -0.0433963 , -0.19245009, -0.06142951, -0.09740465,\n",
       "        -0.0433963 , -0.11547005, -0.07530656, -0.0433963 , -0.0433963 ,\n",
       "        -0.15191091, -0.0433963 , -0.13118084, -0.0433963 , -0.0433963 ,\n",
       "        -0.08703883, -0.0433963 , -0.0433963 , -0.0433963 , -0.0433963 ,\n",
       "        -0.06142951, -0.0433963 , -0.08703883, -0.08703883, -0.08703883,\n",
       "        -0.0433963 , -0.13118084, -0.13840913, -0.13840913, -0.0433963 ,\n",
       "        -0.06142951, -0.0433963 , -0.07530656, -0.18168574, -0.0433963 ,\n",
       "        -0.0433963 , -0.0433963 , -0.07530656, -0.15826614, -0.31491833,\n",
       "        -0.0433963 , -0.08703883, -0.07530656, -0.06142951,  1.38675049,\n",
       "        -0.0433963 , -0.0433963 , -0.06142951, -0.0433963 , -0.0433963 ,\n",
       "        -0.0433963 , -0.0433963 , -0.0433963 , -0.0433963 , -0.0433963 ,\n",
       "        -0.0433963 , -0.39879994, -0.0433963 , -0.18168574, -0.0433963 ,\n",
       "        -0.08703883, -0.08703883, -0.10680283, -0.0433963 , -0.13118084,\n",
       "        -0.0433963 , -0.0433963 , -0.0433963 , -0.0433963 , -0.07530656,\n",
       "        -0.43911856, -0.0433963 , -0.06142951, -0.0433963 , -0.0433963 ,\n",
       "        -0.89632016, -0.0433963 , -0.0433963 ,  1.42222617, -0.0433963 ,\n",
       "        -0.0433963 , -0.0433963 , -0.0433963 , -0.0433963 , -0.0433963 ,\n",
       "        -0.0433963 , -0.0433963 , -0.0433963 ],\n",
       "       [-0.09396955, -0.145009  , -0.0433963 , -0.0433963 , -0.0433963 ,\n",
       "        -0.06142951, -0.07530656, -0.0433963 , -0.06142951, -0.06142951,\n",
       "        -0.0433963 , -0.0433963 , -0.19245009, -0.06142951, -0.09740465,\n",
       "        -0.0433963 , -0.11547005, -0.07530656, -0.0433963 , -0.0433963 ,\n",
       "        -0.15191091, -0.0433963 , -0.13118084, -0.0433963 , -0.0433963 ,\n",
       "        -0.08703883, -0.0433963 , -0.0433963 , -0.0433963 , -0.0433963 ,\n",
       "        -0.06142951, -0.0433963 , -0.08703883, -0.08703883, -0.08703883,\n",
       "        -0.0433963 , -0.13118084, -0.13840913, -0.13840913, -0.0433963 ,\n",
       "        -0.06142951, -0.0433963 , -0.07530656, -0.18168574, -0.0433963 ,\n",
       "        -0.0433963 , -0.0433963 , -0.07530656, -0.15826614, -0.31491833,\n",
       "        -0.0433963 , -0.08703883, -0.07530656, -0.06142951,  1.38675049,\n",
       "        -0.0433963 , -0.0433963 , -0.06142951, -0.0433963 , -0.0433963 ,\n",
       "        -0.0433963 , -0.0433963 , -0.0433963 , -0.0433963 , -0.0433963 ,\n",
       "        -0.0433963 , -0.39879994, -0.0433963 , -0.18168574, -0.0433963 ,\n",
       "        -0.08703883, -0.08703883, -0.10680283, -0.0433963 , -0.13118084,\n",
       "        -0.0433963 , -0.0433963 , -0.0433963 , -0.0433963 , -0.07530656,\n",
       "        -0.43911856, -0.0433963 , -0.06142951, -0.0433963 , -0.0433963 ,\n",
       "        -0.89632016, -0.0433963 , -0.0433963 ,  1.42222617, -0.0433963 ,\n",
       "        -0.0433963 , -0.0433963 , -0.0433963 , -0.0433963 , -0.0433963 ,\n",
       "        -0.0433963 , -0.0433963 , -0.0433963 ],\n",
       "       [ 0.52494561,  4.48942416, -0.0433963 , -0.0433963 , -0.0433963 ,\n",
       "        -0.06142951, -0.07530656, -0.0433963 , -0.06142951, -0.06142951,\n",
       "        -0.0433963 , -0.0433963 , -0.19245009, -0.06142951, -0.09740465,\n",
       "        -0.0433963 , -0.11547005, -0.07530656, -0.0433963 , -0.0433963 ,\n",
       "        -0.15191091, -0.0433963 , -0.13118084, -0.0433963 , -0.0433963 ,\n",
       "        -0.08703883, -0.0433963 , -0.0433963 , -0.0433963 , -0.0433963 ,\n",
       "        -0.06142951, -0.0433963 , -0.08703883, -0.08703883, -0.08703883,\n",
       "        -0.0433963 , -0.13118084, -0.13840913, -0.13840913, -0.0433963 ,\n",
       "        -0.06142951, -0.0433963 , -0.07530656, -0.18168574, -0.0433963 ,\n",
       "        -0.0433963 , -0.0433963 , -0.07530656, -0.15826614, -0.31491833,\n",
       "        -0.0433963 , -0.08703883, -0.07530656, -0.06142951, -0.72111026,\n",
       "        -0.0433963 , -0.0433963 , -0.06142951, -0.0433963 , -0.0433963 ,\n",
       "        -0.0433963 , -0.0433963 , -0.0433963 , -0.0433963 , -0.0433963 ,\n",
       "        -0.0433963 , -0.39879994, -0.0433963 ,  5.50400923, -0.0433963 ,\n",
       "        -0.08703883, -0.08703883, -0.10680283, -0.0433963 , -0.13118084,\n",
       "        -0.0433963 , -0.0433963 , -0.0433963 , -0.0433963 , -0.07530656,\n",
       "        -0.43911856, -0.0433963 , -0.06142951, -0.0433963 , -0.0433963 ,\n",
       "        -0.89632016, -0.0433963 , -0.0433963 ,  1.42222617, -0.0433963 ,\n",
       "        -0.0433963 , -0.0433963 , -0.0433963 , -0.0433963 , -0.0433963 ,\n",
       "        -0.0433963 , -0.0433963 , -0.0433963 ],\n",
       "       [-0.11671506, -0.15255998, -0.0433963 , -0.0433963 , -0.0433963 ,\n",
       "        -0.06142951, -0.07530656, -0.0433963 , -0.06142951, -0.06142951,\n",
       "        -0.0433963 , -0.0433963 , -0.19245009, -0.06142951, -0.09740465,\n",
       "        -0.0433963 , -0.11547005, -0.07530656, -0.0433963 , -0.0433963 ,\n",
       "        -0.15191091, -0.0433963 , -0.13118084, -0.0433963 , -0.0433963 ,\n",
       "        -0.08703883, -0.0433963 , -0.0433963 , -0.0433963 , -0.0433963 ,\n",
       "        -0.06142951, -0.0433963 , -0.08703883, -0.08703883, -0.08703883,\n",
       "        -0.0433963 , -0.13118084, -0.13840913, -0.13840913, -0.0433963 ,\n",
       "        -0.06142951, -0.0433963 , -0.07530656, -0.18168574, -0.0433963 ,\n",
       "        -0.0433963 , -0.0433963 , -0.07530656, -0.15826614,  3.17542648,\n",
       "        -0.0433963 , -0.08703883, -0.07530656, -0.06142951, -0.72111026,\n",
       "        -0.0433963 , -0.0433963 , -0.06142951, -0.0433963 , -0.0433963 ,\n",
       "        -0.0433963 , -0.0433963 , -0.0433963 , -0.0433963 , -0.0433963 ,\n",
       "        -0.0433963 , -0.39879994, -0.0433963 , -0.18168574, -0.0433963 ,\n",
       "        -0.08703883, -0.08703883, -0.10680283, -0.0433963 , -0.13118084,\n",
       "        -0.0433963 , -0.0433963 , -0.0433963 , -0.0433963 , -0.07530656,\n",
       "        -0.43911856, -0.0433963 , -0.06142951, -0.0433963 , -0.0433963 ,\n",
       "         1.11567277, -0.0433963 , -0.0433963 , -0.70312305, -0.0433963 ,\n",
       "        -0.0433963 , -0.0433963 , -0.0433963 , -0.0433963 , -0.0433963 ,\n",
       "        -0.0433963 , -0.0433963 , -0.0433963 ],\n",
       "       [-0.11474682, -0.1528703 , -0.0433963 , -0.0433963 , -0.0433963 ,\n",
       "        -0.06142951, -0.07530656, -0.0433963 , -0.06142951, -0.06142951,\n",
       "        -0.0433963 , -0.0433963 , -0.19245009, -0.06142951, -0.09740465,\n",
       "        -0.0433963 , -0.11547005, -0.07530656, -0.0433963 , -0.0433963 ,\n",
       "        -0.15191091, -0.0433963 ,  7.62306442, -0.0433963 , -0.0433963 ,\n",
       "        -0.08703883, -0.0433963 , -0.0433963 , -0.0433963 , -0.0433963 ,\n",
       "        -0.06142951, -0.0433963 , -0.08703883, -0.08703883, -0.08703883,\n",
       "        -0.0433963 , -0.13118084, -0.13840913, -0.13840913, -0.0433963 ,\n",
       "        -0.06142951, -0.0433963 , -0.07530656, -0.18168574, -0.0433963 ,\n",
       "        -0.0433963 , -0.0433963 , -0.07530656, -0.15826614, -0.31491833,\n",
       "        -0.0433963 , -0.08703883, -0.07530656, -0.06142951, -0.72111026,\n",
       "        -0.0433963 , -0.0433963 , -0.06142951, -0.0433963 , -0.0433963 ,\n",
       "        -0.0433963 , -0.0433963 , -0.0433963 , -0.0433963 , -0.0433963 ,\n",
       "        -0.0433963 , -0.39879994, -0.0433963 , -0.18168574, -0.0433963 ,\n",
       "        -0.08703883, -0.08703883, -0.10680283, -0.0433963 , -0.13118084,\n",
       "        -0.0433963 , -0.0433963 , -0.0433963 , -0.0433963 , -0.07530656,\n",
       "        -0.43911856, -0.0433963 , -0.06142951, -0.0433963 , -0.0433963 ,\n",
       "         1.11567277, -0.0433963 , -0.0433963 , -0.70312305, -0.0433963 ,\n",
       "        -0.0433963 , -0.0433963 , -0.0433963 , -0.0433963 , -0.0433963 ,\n",
       "        -0.0433963 , -0.0433963 , -0.0433963 ]])"
      ]
     },
     "execution_count": 71,
     "metadata": {},
     "output_type": "execute_result"
    }
   ],
   "source": [
    "# Standardize the data with StandardScaler().\n",
    "X_scaled = StandardScaler().fit_transform(X)\n",
    "X_scaled[0:5]"
   ]
  },
  {
   "cell_type": "markdown",
   "metadata": {},
   "source": [
    "### Deliverable 2: Reducing Data Dimensions Using PCA"
   ]
  },
  {
   "cell_type": "code",
   "execution_count": 72,
   "metadata": {},
   "outputs": [
    {
     "data": {
      "text/plain": [
       "array([[-0.33592179,  1.10581656, -0.53567906],\n",
       "       [-0.31928055,  1.10605354, -0.5359021 ],\n",
       "       [ 2.30409272,  1.72901671, -0.59341126],\n",
       "       ...,\n",
       "       [ 0.32262133, -2.28456136,  0.36817561],\n",
       "       [-0.13974173, -2.272914  ,  0.31510374],\n",
       "       [-0.27876338,  0.79599411, -0.22338014]])"
      ]
     },
     "execution_count": 72,
     "metadata": {},
     "output_type": "execute_result"
    }
   ],
   "source": [
    "# Using PCA to reduce dimension to three principal components.\n",
    "pca = PCA(n_components=3)\n",
    "pca2 = pca.fit_transform(X_scaled)\n",
    "pca2"
   ]
  },
  {
   "cell_type": "code",
   "execution_count": 73,
   "metadata": {},
   "outputs": [
    {
     "name": "stdout",
     "output_type": "stream",
     "text": [
      "(532, 3)\n"
     ]
    },
    {
     "data": {
      "text/html": [
       "<div>\n",
       "<style scoped>\n",
       "    .dataframe tbody tr th:only-of-type {\n",
       "        vertical-align: middle;\n",
       "    }\n",
       "\n",
       "    .dataframe tbody tr th {\n",
       "        vertical-align: top;\n",
       "    }\n",
       "\n",
       "    .dataframe thead th {\n",
       "        text-align: right;\n",
       "    }\n",
       "</style>\n",
       "<table border=\"1\" class=\"dataframe\">\n",
       "  <thead>\n",
       "    <tr style=\"text-align: right;\">\n",
       "      <th></th>\n",
       "      <th>PC 1</th>\n",
       "      <th>PC 2</th>\n",
       "      <th>PC 3</th>\n",
       "    </tr>\n",
       "  </thead>\n",
       "  <tbody>\n",
       "    <tr>\n",
       "      <th>42</th>\n",
       "      <td>-0.335922</td>\n",
       "      <td>1.105817</td>\n",
       "      <td>-0.535679</td>\n",
       "    </tr>\n",
       "    <tr>\n",
       "      <th>404</th>\n",
       "      <td>-0.319281</td>\n",
       "      <td>1.106054</td>\n",
       "      <td>-0.535902</td>\n",
       "    </tr>\n",
       "    <tr>\n",
       "      <th>1337</th>\n",
       "      <td>2.304093</td>\n",
       "      <td>1.729017</td>\n",
       "      <td>-0.593411</td>\n",
       "    </tr>\n",
       "    <tr>\n",
       "      <th>BTC</th>\n",
       "      <td>-0.144102</td>\n",
       "      <td>-1.330875</td>\n",
       "      <td>0.165763</td>\n",
       "    </tr>\n",
       "    <tr>\n",
       "      <th>ETH</th>\n",
       "      <td>-0.154486</td>\n",
       "      <td>-1.988868</td>\n",
       "      <td>0.378846</td>\n",
       "    </tr>\n",
       "    <tr>\n",
       "      <th>LTC</th>\n",
       "      <td>-0.167131</td>\n",
       "      <td>-1.068899</td>\n",
       "      <td>-0.021107</td>\n",
       "    </tr>\n",
       "    <tr>\n",
       "      <th>DASH</th>\n",
       "      <td>-0.402128</td>\n",
       "      <td>1.206317</td>\n",
       "      <td>-0.419965</td>\n",
       "    </tr>\n",
       "    <tr>\n",
       "      <th>XMR</th>\n",
       "      <td>-0.152171</td>\n",
       "      <td>-2.286058</td>\n",
       "      <td>0.392137</td>\n",
       "    </tr>\n",
       "    <tr>\n",
       "      <th>ETC</th>\n",
       "      <td>-0.152931</td>\n",
       "      <td>-1.988956</td>\n",
       "      <td>0.378840</td>\n",
       "    </tr>\n",
       "    <tr>\n",
       "      <th>ZEC</th>\n",
       "      <td>-0.139741</td>\n",
       "      <td>-2.272914</td>\n",
       "      <td>0.315104</td>\n",
       "    </tr>\n",
       "  </tbody>\n",
       "</table>\n",
       "</div>"
      ],
      "text/plain": [
       "          PC 1      PC 2      PC 3\n",
       "42   -0.335922  1.105817 -0.535679\n",
       "404  -0.319281  1.106054 -0.535902\n",
       "1337  2.304093  1.729017 -0.593411\n",
       "BTC  -0.144102 -1.330875  0.165763\n",
       "ETH  -0.154486 -1.988868  0.378846\n",
       "LTC  -0.167131 -1.068899 -0.021107\n",
       "DASH -0.402128  1.206317 -0.419965\n",
       "XMR  -0.152171 -2.286058  0.392137\n",
       "ETC  -0.152931 -1.988956  0.378840\n",
       "ZEC  -0.139741 -2.272914  0.315104"
      ]
     },
     "execution_count": 73,
     "metadata": {},
     "output_type": "execute_result"
    }
   ],
   "source": [
    "# Create a DataFrame with the three principal components.\n",
    "pcs_df=pd.DataFrame(pca2, columns=[\"PC 1\", \"PC 2\", \"PC 3\"], index=X.index)\n",
    "print(pcs_df.shape)\n",
    "pcs_df.head(10)"
   ]
  },
  {
   "cell_type": "markdown",
   "metadata": {},
   "source": [
    "### Deliverable 3: Clustering Crytocurrencies Using K-Means\n",
    "\n",
    "#### Finding the Best Value for `k` Using the Elbow Curve"
   ]
  },
  {
   "cell_type": "code",
   "execution_count": 74,
   "metadata": {},
   "outputs": [
    {
     "name": "stderr",
     "output_type": "stream",
     "text": [
      "C:\\Users\\Zainab\\anaconda3\\envs\\PythonData\\lib\\site-packages\\sklearn\\cluster\\_kmeans.py:882: UserWarning:\n",
      "\n",
      "KMeans is known to have a memory leak on Windows with MKL, when there are less chunks than available threads. You can avoid it by setting the environment variable OMP_NUM_THREADS=3.\n",
      "\n"
     ]
    },
    {
     "data": {},
     "metadata": {},
     "output_type": "display_data"
    },
    {
     "data": {
      "application/vnd.holoviews_exec.v0+json": "",
      "text/html": [
       "<div id='1162'>\n",
       "\n",
       "\n",
       "\n",
       "\n",
       "\n",
       "  <div class=\"bk-root\" id=\"92c07c62-ae6c-421a-a884-8004df98fe20\" data-root-id=\"1162\"></div>\n",
       "</div>\n",
       "<script type=\"application/javascript\">(function(root) {\n",
       "  function embed_document(root) {\n",
       "    var docs_json = {\"e47313b3-bbaf-4fe4-9c62-ae3e6ca82c77\":{\"defs\":[{\"extends\":null,\"module\":null,\"name\":\"ReactiveHTML1\",\"overrides\":[],\"properties\":[]},{\"extends\":null,\"module\":null,\"name\":\"FlexBox1\",\"overrides\":[],\"properties\":[{\"default\":\"flex-start\",\"kind\":null,\"name\":\"align_content\"},{\"default\":\"flex-start\",\"kind\":null,\"name\":\"align_items\"},{\"default\":\"row\",\"kind\":null,\"name\":\"flex_direction\"},{\"default\":\"wrap\",\"kind\":null,\"name\":\"flex_wrap\"},{\"default\":\"flex-start\",\"kind\":null,\"name\":\"justify_content\"}]},{\"extends\":null,\"module\":null,\"name\":\"GridStack1\",\"overrides\":[],\"properties\":[{\"default\":\"warn\",\"kind\":null,\"name\":\"mode\"},{\"default\":null,\"kind\":null,\"name\":\"ncols\"},{\"default\":null,\"kind\":null,\"name\":\"nrows\"},{\"default\":true,\"kind\":null,\"name\":\"allow_resize\"},{\"default\":true,\"kind\":null,\"name\":\"allow_drag\"},{\"default\":[],\"kind\":null,\"name\":\"state\"}]},{\"extends\":null,\"module\":null,\"name\":\"click1\",\"overrides\":[],\"properties\":[{\"default\":\"\",\"kind\":null,\"name\":\"terminal_output\"},{\"default\":\"\",\"kind\":null,\"name\":\"debug_name\"},{\"default\":0,\"kind\":null,\"name\":\"clears\"}]},{\"extends\":null,\"module\":null,\"name\":\"NotificationAreaBase1\",\"overrides\":[],\"properties\":[{\"default\":\"bottom-right\",\"kind\":null,\"name\":\"position\"},{\"default\":0,\"kind\":null,\"name\":\"_clear\"}]},{\"extends\":null,\"module\":null,\"name\":\"NotificationArea1\",\"overrides\":[],\"properties\":[{\"default\":[],\"kind\":null,\"name\":\"notifications\"},{\"default\":\"bottom-right\",\"kind\":null,\"name\":\"position\"},{\"default\":0,\"kind\":null,\"name\":\"_clear\"},{\"default\":[{\"background\":\"#ffc107\",\"icon\":{\"className\":\"fas fa-exclamation-triangle\",\"color\":\"white\",\"tagName\":\"i\"},\"type\":\"warning\"},{\"background\":\"#007bff\",\"icon\":{\"className\":\"fas fa-info-circle\",\"color\":\"white\",\"tagName\":\"i\"},\"type\":\"info\"}],\"kind\":null,\"name\":\"types\"}]},{\"extends\":null,\"module\":null,\"name\":\"Notification\",\"overrides\":[],\"properties\":[{\"default\":null,\"kind\":null,\"name\":\"background\"},{\"default\":3000,\"kind\":null,\"name\":\"duration\"},{\"default\":null,\"kind\":null,\"name\":\"icon\"},{\"default\":\"\",\"kind\":null,\"name\":\"message\"},{\"default\":null,\"kind\":null,\"name\":\"notification_type\"},{\"default\":false,\"kind\":null,\"name\":\"_destroyed\"}]},{\"extends\":null,\"module\":null,\"name\":\"TemplateActions1\",\"overrides\":[],\"properties\":[{\"default\":0,\"kind\":null,\"name\":\"open_modal\"},{\"default\":0,\"kind\":null,\"name\":\"close_modal\"}]},{\"extends\":null,\"module\":null,\"name\":\"MaterialTemplateActions1\",\"overrides\":[],\"properties\":[{\"default\":0,\"kind\":null,\"name\":\"open_modal\"},{\"default\":0,\"kind\":null,\"name\":\"close_modal\"}]}],\"roots\":{\"references\":[{\"attributes\":{\"axis\":{\"id\":\"1180\"},\"coordinates\":null,\"dimension\":1,\"grid_line_color\":null,\"group\":null,\"ticker\":null},\"id\":\"1183\",\"type\":\"Grid\"},{\"attributes\":{},\"id\":\"1181\",\"type\":\"BasicTicker\"},{\"attributes\":{\"end\":3989.9877222403684,\"reset_end\":3989.9877222403684,\"reset_start\":-227.46819700082446,\"start\":-227.46819700082446,\"tags\":[[[\"inertia\",\"inertia\",null]]]},\"id\":\"1165\",\"type\":\"Range1d\"},{\"attributes\":{\"line_alpha\":0.2,\"line_color\":\"#30a2da\",\"line_width\":2,\"x\":{\"field\":\"k\"},\"y\":{\"field\":\"inertia\"}},\"id\":\"1202\",\"type\":\"Line\"},{\"attributes\":{},\"id\":\"1209\",\"type\":\"AllLabels\"},{\"attributes\":{\"source\":{\"id\":\"1197\"}},\"id\":\"1204\",\"type\":\"CDSView\"},{\"attributes\":{\"line_color\":\"#30a2da\",\"line_width\":2,\"x\":{\"field\":\"k\"},\"y\":{\"field\":\"inertia\"}},\"id\":\"1205\",\"type\":\"Line\"},{\"attributes\":{},\"id\":\"1213\",\"type\":\"BasicTickFormatter\"},{\"attributes\":{\"tools\":[{\"id\":\"1166\"},{\"id\":\"1184\"},{\"id\":\"1185\"},{\"id\":\"1186\"},{\"id\":\"1187\"},{\"id\":\"1188\"}]},\"id\":\"1190\",\"type\":\"Toolbar\"},{\"attributes\":{\"margin\":[5,5,5,5],\"name\":\"HSpacer01044\",\"sizing_mode\":\"stretch_width\"},\"id\":\"1224\",\"type\":\"Spacer\"},{\"attributes\":{\"bottom_units\":\"screen\",\"coordinates\":null,\"fill_alpha\":0.5,\"fill_color\":\"lightgrey\",\"group\":null,\"left_units\":\"screen\",\"level\":\"overlay\",\"line_alpha\":1.0,\"line_color\":\"black\",\"line_dash\":[4,4],\"line_width\":2,\"right_units\":\"screen\",\"syncable\":false,\"top_units\":\"screen\"},\"id\":\"1189\",\"type\":\"BoxAnnotation\"},{\"attributes\":{\"line_alpha\":0.1,\"line_color\":\"#30a2da\",\"line_width\":2,\"x\":{\"field\":\"k\"},\"y\":{\"field\":\"inertia\"}},\"id\":\"1201\",\"type\":\"Line\"},{\"attributes\":{},\"id\":\"1184\",\"type\":\"SaveTool\"},{\"attributes\":{\"coordinates\":null,\"group\":null,\"text\":\"Elbow Curve\",\"text_color\":\"black\",\"text_font_size\":\"12pt\"},\"id\":\"1168\",\"type\":\"Title\"},{\"attributes\":{},\"id\":\"1185\",\"type\":\"PanTool\"},{\"attributes\":{},\"id\":\"1221\",\"type\":\"UnionRenderers\"},{\"attributes\":{},\"id\":\"1188\",\"type\":\"ResetTool\"},{\"attributes\":{\"coordinates\":null,\"data_source\":{\"id\":\"1197\"},\"glyph\":{\"id\":\"1200\"},\"group\":null,\"hover_glyph\":null,\"muted_glyph\":{\"id\":\"1202\"},\"nonselection_glyph\":{\"id\":\"1201\"},\"selection_glyph\":{\"id\":\"1205\"},\"view\":{\"id\":\"1204\"}},\"id\":\"1203\",\"type\":\"GlyphRenderer\"},{\"attributes\":{},\"id\":\"1186\",\"type\":\"WheelZoomTool\"},{\"attributes\":{\"ticks\":[1,2,3,4,5,6,7,8,9,10]},\"id\":\"1206\",\"type\":\"FixedTicker\"},{\"attributes\":{},\"id\":\"1198\",\"type\":\"Selection\"},{\"attributes\":{\"overlay\":{\"id\":\"1189\"}},\"id\":\"1187\",\"type\":\"BoxZoomTool\"},{\"attributes\":{\"data\":{\"inertia\":{\"__ndarray__\":\"aNGK7RBtrEDzoWpx81SjQAfI9qNDXpdA6ZLq53mKgEDCuNf6wtl0QK5ybq6Ul3BAwRBIWX9ta0BRCtrjqfRlQLVydXIl9GJAeiVwNSL/XkA=\",\"dtype\":\"float64\",\"order\":\"little\",\"shape\":[10]},\"k\":[1,2,3,4,5,6,7,8,9,10]},\"selected\":{\"id\":\"1198\"},\"selection_policy\":{\"id\":\"1221\"}},\"id\":\"1197\",\"type\":\"ColumnDataSource\"},{\"attributes\":{},\"id\":\"1172\",\"type\":\"LinearScale\"},{\"attributes\":{\"axis\":{\"id\":\"1176\"},\"coordinates\":null,\"grid_line_color\":null,\"group\":null,\"ticker\":null},\"id\":\"1179\",\"type\":\"Grid\"},{\"attributes\":{\"children\":[{\"id\":\"1163\"},{\"id\":\"1167\"},{\"id\":\"1224\"}],\"margin\":[0,0,0,0],\"name\":\"Row01039\",\"tags\":[\"embedded\"]},\"id\":\"1162\",\"type\":\"Row\"},{\"attributes\":{\"margin\":[5,5,5,5],\"name\":\"HSpacer01043\",\"sizing_mode\":\"stretch_width\"},\"id\":\"1163\",\"type\":\"Spacer\"},{\"attributes\":{\"callback\":null,\"renderers\":[{\"id\":\"1203\"}],\"tags\":[\"hv_created\"],\"tooltips\":[[\"k\",\"@{k}\"],[\"inertia\",\"@{inertia}\"]]},\"id\":\"1166\",\"type\":\"HoverTool\"},{\"attributes\":{},\"id\":\"1174\",\"type\":\"LinearScale\"},{\"attributes\":{\"axis_label\":\"inertia\",\"coordinates\":null,\"formatter\":{\"id\":\"1213\"},\"group\":null,\"major_label_policy\":{\"id\":\"1214\"},\"ticker\":{\"id\":\"1181\"}},\"id\":\"1180\",\"type\":\"LinearAxis\"},{\"attributes\":{\"axis_label\":\"k\",\"coordinates\":null,\"formatter\":{\"id\":\"1208\"},\"group\":null,\"major_label_policy\":{\"id\":\"1209\"},\"ticker\":{\"id\":\"1206\"}},\"id\":\"1176\",\"type\":\"LinearAxis\"},{\"attributes\":{\"below\":[{\"id\":\"1176\"}],\"center\":[{\"id\":\"1179\"},{\"id\":\"1183\"}],\"height\":300,\"left\":[{\"id\":\"1180\"}],\"margin\":[5,5,5,5],\"min_border_bottom\":10,\"min_border_left\":10,\"min_border_right\":10,\"min_border_top\":10,\"renderers\":[{\"id\":\"1203\"}],\"sizing_mode\":\"fixed\",\"title\":{\"id\":\"1168\"},\"toolbar\":{\"id\":\"1190\"},\"width\":700,\"x_range\":{\"id\":\"1164\"},\"x_scale\":{\"id\":\"1172\"},\"y_range\":{\"id\":\"1165\"},\"y_scale\":{\"id\":\"1174\"}},\"id\":\"1167\",\"subtype\":\"Figure\",\"type\":\"Plot\"},{\"attributes\":{},\"id\":\"1214\",\"type\":\"AllLabels\"},{\"attributes\":{},\"id\":\"1208\",\"type\":\"BasicTickFormatter\"},{\"attributes\":{\"line_color\":\"#30a2da\",\"line_width\":2,\"x\":{\"field\":\"k\"},\"y\":{\"field\":\"inertia\"}},\"id\":\"1200\",\"type\":\"Line\"},{\"attributes\":{\"end\":10.0,\"reset_end\":10.0,\"reset_start\":1.0,\"start\":1.0,\"tags\":[[[\"k\",\"k\",null]]]},\"id\":\"1164\",\"type\":\"Range1d\"}],\"root_ids\":[\"1162\"]},\"title\":\"Bokeh Application\",\"version\":\"2.4.1\"}};\n",
       "    var render_items = [{\"docid\":\"e47313b3-bbaf-4fe4-9c62-ae3e6ca82c77\",\"root_ids\":[\"1162\"],\"roots\":{\"1162\":\"92c07c62-ae6c-421a-a884-8004df98fe20\"}}];\n",
       "    root.Bokeh.embed.embed_items_notebook(docs_json, render_items);\n",
       "  }\n",
       "  if (root.Bokeh !== undefined && root.Bokeh.Panel !== undefined) {\n",
       "    embed_document(root);\n",
       "  } else {\n",
       "    var attempts = 0;\n",
       "    var timer = setInterval(function(root) {\n",
       "      if (root.Bokeh !== undefined && root.Bokeh.Panel !== undefined) {\n",
       "        clearInterval(timer);\n",
       "        embed_document(root);\n",
       "      } else if (document.readyState == \"complete\") {\n",
       "        attempts++;\n",
       "        if (attempts > 200) {\n",
       "          clearInterval(timer);\n",
       "          console.log(\"Bokeh: ERROR: Unable to run BokehJS code because BokehJS library is missing\");\n",
       "        }\n",
       "      }\n",
       "    }, 25, root)\n",
       "  }\n",
       "})(window);</script>"
      ],
      "text/plain": [
       ":Curve   [k]   (inertia)"
      ]
     },
     "execution_count": 74,
     "metadata": {
      "application/vnd.holoviews_exec.v0+json": {
       "id": "1162"
      }
     },
     "output_type": "execute_result"
    }
   ],
   "source": [
    "# Create an elbow curve to find the best value for K.\n",
    "inertia = []\n",
    "k = list(range(1, 11))\n",
    "\n",
    "for i in k:\n",
    "    km = KMeans(n_clusters=i, random_state=0)\n",
    "    km.fit(pcs_df)\n",
    "    inertia.append(km.inertia_)\n",
    "\n",
    "elbow_data = {\"k\": k, \"inertia\": inertia}\n",
    "df_elbow = pd.DataFrame(elbow_data)\n",
    "df_elbow.hvplot.line(x=\"k\", y=\"inertia\", title=\"Elbow Curve\", xticks=k)"
   ]
  },
  {
   "cell_type": "markdown",
   "metadata": {},
   "source": [
    "Running K-Means with `k=4`"
   ]
  },
  {
   "cell_type": "code",
   "execution_count": 75,
   "metadata": {},
   "outputs": [
    {
     "data": {
      "text/plain": [
       "array([0, 0, 0, 3, 3, 3, 0, 3, 3, 3, 0, 3, 0, 0, 3, 0, 3, 3, 0, 0, 3, 3,\n",
       "       3, 3, 3, 0, 3, 3, 3, 0, 3, 0, 3, 3, 0, 0, 3, 3, 3, 3, 3, 3, 0, 0,\n",
       "       3, 3, 3, 3, 3, 0, 0, 3, 0, 3, 3, 3, 3, 0, 3, 3, 0, 3, 0, 0, 0, 3,\n",
       "       3, 3, 0, 0, 0, 0, 0, 3, 3, 3, 0, 0, 3, 0, 3, 0, 0, 3, 3, 3, 3, 0,\n",
       "       0, 3, 0, 3, 3, 0, 0, 3, 0, 0, 3, 3, 0, 0, 3, 0, 0, 3, 0, 3, 0, 3,\n",
       "       0, 3, 0, 0, 3, 3, 0, 3, 3, 3, 0, 3, 3, 3, 3, 3, 0, 0, 3, 3, 3, 0,\n",
       "       3, 0, 3, 3, 0, 3, 0, 3, 0, 0, 3, 3, 0, 3, 3, 0, 0, 3, 0, 3, 0, 0,\n",
       "       0, 3, 3, 3, 3, 0, 0, 0, 0, 0, 3, 3, 0, 0, 0, 0, 0, 3, 0, 0, 0, 0,\n",
       "       0, 3, 0, 3, 0, 0, 3, 0, 3, 0, 0, 3, 0, 3, 0, 3, 0, 3, 0, 0, 0, 0,\n",
       "       3, 0, 0, 0, 0, 0, 3, 3, 0, 0, 3, 3, 0, 0, 0, 0, 0, 3, 0, 0, 0, 0,\n",
       "       0, 0, 0, 0, 3, 0, 0, 0, 0, 0, 0, 3, 3, 3, 0, 0, 0, 0, 3, 0, 3, 0,\n",
       "       0, 3, 0, 3, 3, 0, 3, 3, 0, 3, 0, 0, 0, 3, 0, 0, 3, 0, 0, 0, 0, 0,\n",
       "       0, 0, 3, 0, 3, 0, 0, 0, 0, 3, 0, 3, 0, 3, 3, 3, 3, 0, 3, 0, 0, 3,\n",
       "       0, 3, 3, 3, 0, 3, 0, 3, 3, 3, 0, 3, 0, 3, 0, 0, 0, 3, 0, 3, 3, 3,\n",
       "       3, 3, 0, 0, 3, 0, 0, 0, 3, 0, 3, 0, 3, 0, 3, 0, 0, 0, 0, 3, 0, 0,\n",
       "       3, 0, 0, 0, 3, 3, 3, 3, 0, 0, 0, 0, 3, 0, 3, 3, 3, 0, 0, 3, 3, 0,\n",
       "       0, 3, 0, 3, 3, 3, 0, 3, 3, 0, 0, 0, 3, 3, 3, 0, 3, 0, 3, 3, 0, 3,\n",
       "       3, 3, 3, 0, 1, 1, 3, 3, 3, 0, 0, 0, 0, 0, 0, 3, 3, 3, 3, 0, 0, 0,\n",
       "       3, 0, 3, 0, 0, 0, 0, 3, 0, 0, 3, 0, 0, 3, 3, 0, 3, 0, 3, 3, 3, 3,\n",
       "       0, 0, 3, 0, 3, 0, 0, 0, 0, 0, 0, 3, 3, 3, 0, 0, 0, 0, 0, 0, 3, 0,\n",
       "       3, 3, 3, 3, 0, 0, 0, 0, 3, 0, 0, 3, 0, 0, 3, 0, 3, 0, 3, 3, 0, 0,\n",
       "       3, 0, 3, 3, 3, 3, 3, 0, 3, 0, 3, 0, 0, 3, 0, 0, 0, 0, 0, 3, 3, 3,\n",
       "       0, 0, 0, 3, 0, 3, 0, 3, 0, 0, 0, 0, 3, 0, 0, 0, 3, 0, 3, 0, 3, 0,\n",
       "       0, 0, 3, 3, 0, 0, 0, 0, 0, 0, 3, 0, 3, 0, 3, 0, 0, 1, 0, 2, 0, 0,\n",
       "       0, 3, 3, 0])"
      ]
     },
     "execution_count": 75,
     "metadata": {},
     "output_type": "execute_result"
    }
   ],
   "source": [
    "# Initialize the K-Means model.\n",
    "model=KMeans(n_clusters=4, random_state=0)\n",
    "\n",
    "# Fit the model\n",
    "model.fit(pcs_df)\n",
    "\n",
    "# Predict clusters\n",
    "predictions= model.predict(pcs_df)\n",
    "predictions"
   ]
  },
  {
   "cell_type": "code",
   "execution_count": 76,
   "metadata": {},
   "outputs": [
    {
     "name": "stdout",
     "output_type": "stream",
     "text": [
      "(532, 9)\n"
     ]
    },
    {
     "data": {
      "text/html": [
       "<div>\n",
       "<style scoped>\n",
       "    .dataframe tbody tr th:only-of-type {\n",
       "        vertical-align: middle;\n",
       "    }\n",
       "\n",
       "    .dataframe tbody tr th {\n",
       "        vertical-align: top;\n",
       "    }\n",
       "\n",
       "    .dataframe thead th {\n",
       "        text-align: right;\n",
       "    }\n",
       "</style>\n",
       "<table border=\"1\" class=\"dataframe\">\n",
       "  <thead>\n",
       "    <tr style=\"text-align: right;\">\n",
       "      <th></th>\n",
       "      <th>Algorithm</th>\n",
       "      <th>ProofType</th>\n",
       "      <th>TotalCoinsMined</th>\n",
       "      <th>TotalCoinSupply</th>\n",
       "      <th>PC 1</th>\n",
       "      <th>PC 2</th>\n",
       "      <th>PC 3</th>\n",
       "      <th>CoinName</th>\n",
       "      <th>Class</th>\n",
       "    </tr>\n",
       "  </thead>\n",
       "  <tbody>\n",
       "    <tr>\n",
       "      <th>42</th>\n",
       "      <td>Scrypt</td>\n",
       "      <td>PoW/PoS</td>\n",
       "      <td>4.199995e+01</td>\n",
       "      <td>42</td>\n",
       "      <td>-0.335922</td>\n",
       "      <td>1.105817</td>\n",
       "      <td>-0.535679</td>\n",
       "      <td>42 Coin</td>\n",
       "      <td>0</td>\n",
       "    </tr>\n",
       "    <tr>\n",
       "      <th>404</th>\n",
       "      <td>Scrypt</td>\n",
       "      <td>PoW/PoS</td>\n",
       "      <td>1.055185e+09</td>\n",
       "      <td>532000000</td>\n",
       "      <td>-0.319281</td>\n",
       "      <td>1.106054</td>\n",
       "      <td>-0.535902</td>\n",
       "      <td>404Coin</td>\n",
       "      <td>0</td>\n",
       "    </tr>\n",
       "    <tr>\n",
       "      <th>1337</th>\n",
       "      <td>X13</td>\n",
       "      <td>PoW/PoS</td>\n",
       "      <td>2.927942e+10</td>\n",
       "      <td>314159265359</td>\n",
       "      <td>2.304093</td>\n",
       "      <td>1.729017</td>\n",
       "      <td>-0.593411</td>\n",
       "      <td>EliteCoin</td>\n",
       "      <td>0</td>\n",
       "    </tr>\n",
       "    <tr>\n",
       "      <th>BTC</th>\n",
       "      <td>SHA-256</td>\n",
       "      <td>PoW</td>\n",
       "      <td>1.792718e+07</td>\n",
       "      <td>21000000</td>\n",
       "      <td>-0.144102</td>\n",
       "      <td>-1.330875</td>\n",
       "      <td>0.165763</td>\n",
       "      <td>Bitcoin</td>\n",
       "      <td>3</td>\n",
       "    </tr>\n",
       "    <tr>\n",
       "      <th>ETH</th>\n",
       "      <td>Ethash</td>\n",
       "      <td>PoW</td>\n",
       "      <td>1.076842e+08</td>\n",
       "      <td>0</td>\n",
       "      <td>-0.154486</td>\n",
       "      <td>-1.988868</td>\n",
       "      <td>0.378846</td>\n",
       "      <td>Ethereum</td>\n",
       "      <td>3</td>\n",
       "    </tr>\n",
       "    <tr>\n",
       "      <th>LTC</th>\n",
       "      <td>Scrypt</td>\n",
       "      <td>PoW</td>\n",
       "      <td>6.303924e+07</td>\n",
       "      <td>84000000</td>\n",
       "      <td>-0.167131</td>\n",
       "      <td>-1.068899</td>\n",
       "      <td>-0.021107</td>\n",
       "      <td>Litecoin</td>\n",
       "      <td>3</td>\n",
       "    </tr>\n",
       "    <tr>\n",
       "      <th>DASH</th>\n",
       "      <td>X11</td>\n",
       "      <td>PoW/PoS</td>\n",
       "      <td>9.031294e+06</td>\n",
       "      <td>22000000</td>\n",
       "      <td>-0.402128</td>\n",
       "      <td>1.206317</td>\n",
       "      <td>-0.419965</td>\n",
       "      <td>Dash</td>\n",
       "      <td>0</td>\n",
       "    </tr>\n",
       "    <tr>\n",
       "      <th>XMR</th>\n",
       "      <td>CryptoNight-V7</td>\n",
       "      <td>PoW</td>\n",
       "      <td>1.720114e+07</td>\n",
       "      <td>0</td>\n",
       "      <td>-0.152171</td>\n",
       "      <td>-2.286058</td>\n",
       "      <td>0.392137</td>\n",
       "      <td>Monero</td>\n",
       "      <td>3</td>\n",
       "    </tr>\n",
       "    <tr>\n",
       "      <th>ETC</th>\n",
       "      <td>Ethash</td>\n",
       "      <td>PoW</td>\n",
       "      <td>1.133597e+08</td>\n",
       "      <td>210000000</td>\n",
       "      <td>-0.152931</td>\n",
       "      <td>-1.988956</td>\n",
       "      <td>0.378840</td>\n",
       "      <td>Ethereum Classic</td>\n",
       "      <td>3</td>\n",
       "    </tr>\n",
       "    <tr>\n",
       "      <th>ZEC</th>\n",
       "      <td>Equihash</td>\n",
       "      <td>PoW</td>\n",
       "      <td>7.383056e+06</td>\n",
       "      <td>21000000</td>\n",
       "      <td>-0.139741</td>\n",
       "      <td>-2.272914</td>\n",
       "      <td>0.315104</td>\n",
       "      <td>ZCash</td>\n",
       "      <td>3</td>\n",
       "    </tr>\n",
       "  </tbody>\n",
       "</table>\n",
       "</div>"
      ],
      "text/plain": [
       "           Algorithm ProofType  TotalCoinsMined TotalCoinSupply      PC 1  \\\n",
       "42            Scrypt   PoW/PoS     4.199995e+01              42 -0.335922   \n",
       "404           Scrypt   PoW/PoS     1.055185e+09       532000000 -0.319281   \n",
       "1337             X13   PoW/PoS     2.927942e+10    314159265359  2.304093   \n",
       "BTC          SHA-256       PoW     1.792718e+07        21000000 -0.144102   \n",
       "ETH           Ethash       PoW     1.076842e+08               0 -0.154486   \n",
       "LTC           Scrypt       PoW     6.303924e+07        84000000 -0.167131   \n",
       "DASH             X11   PoW/PoS     9.031294e+06        22000000 -0.402128   \n",
       "XMR   CryptoNight-V7       PoW     1.720114e+07               0 -0.152171   \n",
       "ETC           Ethash       PoW     1.133597e+08       210000000 -0.152931   \n",
       "ZEC         Equihash       PoW     7.383056e+06        21000000 -0.139741   \n",
       "\n",
       "          PC 2      PC 3          CoinName  Class  \n",
       "42    1.105817 -0.535679           42 Coin      0  \n",
       "404   1.106054 -0.535902           404Coin      0  \n",
       "1337  1.729017 -0.593411         EliteCoin      0  \n",
       "BTC  -1.330875  0.165763           Bitcoin      3  \n",
       "ETH  -1.988868  0.378846          Ethereum      3  \n",
       "LTC  -1.068899 -0.021107          Litecoin      3  \n",
       "DASH  1.206317 -0.419965              Dash      0  \n",
       "XMR  -2.286058  0.392137            Monero      3  \n",
       "ETC  -1.988956  0.378840  Ethereum Classic      3  \n",
       "ZEC  -2.272914  0.315104             ZCash      3  "
      ]
     },
     "execution_count": 76,
     "metadata": {},
     "output_type": "execute_result"
    }
   ],
   "source": [
    "# Create a new DataFrame including predicted clusters and cryptocurrencies features.\n",
    "# Concatentate the crypto_df and pcs_df DataFrames on the same columns.\n",
    "clustered_df=pd.concat([crypto_df, pcs_df], join=\"inner\", axis=1)\n",
    "\n",
    "#  Add a new column, \"CoinName\" to the clustered_df DataFrame that holds the names of the cryptocurrencies. \n",
    "clustered_df[\"CoinName\"]=coins_df[\"CoinName\"]\n",
    "\n",
    "#  Add a new column, \"Class\" to the clustered_df DataFrame that holds the predictions.\n",
    "clustered_df[\"Class\"]= model.labels_\n",
    "\n",
    "# Print the shape of the clustered_df\n",
    "print(clustered_df.shape)\n",
    "clustered_df.head(10)"
   ]
  },
  {
   "cell_type": "markdown",
   "metadata": {},
   "source": [
    "### Deliverable 4: Visualizing Cryptocurrencies Results\n",
    "\n",
    "#### 3D-Scatter with Clusters"
   ]
  },
  {
   "cell_type": "code",
   "execution_count": 77,
   "metadata": {},
   "outputs": [
    {
     "data": {
      "application/vnd.plotly.v1+json": {
       "config": {
        "plotlyServerURL": "https://plot.ly"
       },
       "data": [
        {
         "customdata": [
          [
           "Scrypt",
           41.99995383,
           "42"
          ],
          [
           "Scrypt",
           1055184902.04,
           "532000000"
          ],
          [
           "X13",
           29279424622.5027,
           "314159265359"
          ],
          [
           "X11",
           9031294.37563393,
           "22000000"
          ],
          [
           "SHA-512",
           2741570000,
           "3600570502"
          ],
          [
           "SHA-256",
           1288862,
           "22000000"
          ],
          [
           "SHA-256",
           11995334.8847328,
           "12500000"
          ],
          [
           "X15",
           25542535.5881841,
           "350000000"
          ],
          [
           "Scrypt",
           18135099.992959,
           "16768584"
          ],
          [
           "Scrypt",
           635423900,
           "0"
          ],
          [
           "Scrypt",
           123062801.128773,
           "0"
          ],
          [
           "Scrypt",
           42579.476901,
           "500000"
          ],
          [
           "Scrypt",
           1039116.65144562,
           "1000000"
          ],
          [
           "Scrypt",
           39999997299.8568,
           "40000000000"
          ],
          [
           "Groestl",
           3304487.74735637,
           "4380000"
          ],
          [
           "PoS",
           5679705,
           "0"
          ],
          [
           "Scrypt",
           461829905.32893,
           "0"
          ],
          [
           "Scrypt",
           89266933.684704,
           "120000000"
          ],
          [
           "X11",
           1678520090.7713,
           "0"
          ],
          [
           "X11",
           17650913.9743456,
           "22000000"
          ],
          [
           "SHA3",
           61445805,
           "100000000"
          ],
          [
           "Scrypt",
           21293925445.4969,
           "0"
          ],
          [
           "SHA-256",
           1613836099.99999,
           "2419200000"
          ],
          [
           "Scrypt",
           16180000,
           "16180000"
          ],
          [
           "X13",
           66087096.2077108,
           "0"
          ],
          [
           "X13",
           15156364.3306548,
           "0"
          ],
          [
           "NeoScrypt",
           3220616.279225,
           "3770000"
          ],
          [
           "Scrypt",
           222677226.014206,
           "420000000"
          ],
          [
           "Scrypt",
           73959274.625,
           "98000000"
          ],
          [
           "Scrypt",
           29315567169.0888,
           "0"
          ],
          [
           "X11",
           50707661.7493518,
           "0"
          ],
          [
           "X11",
           1177,
           "1000"
          ],
          [
           "Multiple",
           80260463.7331396,
           "100000000"
          ],
          [
           "PHI1612",
           1622326490.46336,
           "2300000000"
          ],
          [
           "X11",
           1431851.00002479,
           "10000000"
          ],
          [
           "Scrypt",
           1098952592.6,
           "1600000000"
          ],
          [
           "Scrypt",
           50235211.141939,
           "100000000"
          ],
          [
           "Scrypt",
           32021108.4136696,
           "0"
          ],
          [
           "X11",
           6950831.0970606,
           "5500000"
          ],
          [
           "Multiple",
           100000000,
           "0"
          ],
          [
           "X13",
           33093725.4123502,
           "0"
          ],
          [
           "Scrypt",
           147990237.978331,
           "1000000000"
          ],
          [
           "Shabal256",
           1813033920,
           "2158812800"
          ],
          [
           "Counterparty",
           51173144,
           "500000000"
          ],
          [
           "SHA-256",
           39121694,
           "68000000"
          ],
          [
           "Groestl",
           53193831,
           "0"
          ],
          [
           "Scrypt",
           27184490.3918338,
           "0"
          ],
          [
           "X13",
           2022464.886973,
           "12000000"
          ],
          [
           "Scrypt",
           174646113.934655,
           "500000000"
          ],
          [
           "Scrypt",
           1467841,
           "0"
          ],
          [
           "X13",
           7096834,
           "10000000"
          ],
          [
           "X11",
           2689812,
           "20000000"
          ],
          [
           "Scrypt",
           11604722,
           "20000000"
          ],
          [
           "X11",
           1513704,
           "0"
          ],
          [
           "SHA3",
           63657220,
           "78000000"
          ],
          [
           "QUAIT",
           8568038.35935056,
           "5060000"
          ],
          [
           "X11",
           329200.01639,
           "0"
          ],
          [
           "Scrypt",
           100000000,
           "100000000"
          ],
          [
           "X13",
           23042604,
           "50000000"
          ],
          [
           "SHA-256",
           43059794.804778,
           "1000000000"
          ],
          [
           "X15",
           13530556.4180753,
           "26298000"
          ],
          [
           "BLAKE256",
           10365046.9281661,
           "21000000"
          ],
          [
           "SHA-256",
           3669691.84494672,
           "22000000"
          ],
          [
           "X11",
           10996318099,
           "26550000000"
          ],
          [
           "SHA-256",
           5129014,
           "10500000"
          ],
          [
           "NIST5",
           10069449031.9252,
           "0"
          ],
          [
           "Scrypt",
           8998743.2411911,
           "42000000"
          ],
          [
           "Scrypt",
           40477042,
           "221052632"
          ],
          [
           "X11",
           10407269.7881868,
           "384000000"
          ],
          [
           "Scrypt",
           36971236046.8073,
           " 99000000000"
          ],
          [
           "SHA-256",
           4377081.60953993,
           "40000000"
          ],
          [
           "Scrypt",
           2147483647,
           "2147483647"
          ],
          [
           "PoS",
           20000000,
           "20000000"
          ],
          [
           "X11",
           134554941.15119,
           "75000000"
          ],
          [
           "SHA-256",
           1195525,
           "222725000"
          ],
          [
           "SHA-256",
           16662820,
           "525000000"
          ],
          [
           "NIST5",
           83450403,
           "90000000"
          ],
          [
           "X11",
           24387724.5010828,
           "139000000"
          ],
          [
           "POS 3.0",
           38589808.6658096,
           "33500000"
          ],
          [
           "Scrypt",
           813092338.575672,
           "2000000000"
          ],
          [
           "Scrypt",
           4526324,
           "44333333"
          ],
          [
           "Scrypt",
           100000000,
           "100000000"
          ],
          [
           "X13",
           5000000,
           "200000000"
          ],
          [
           "X11",
           657000000,
           "657000000"
          ],
          [
           "X11",
           15563873,
           "50000000"
          ],
          [
           "Scrypt",
           43165500,
           "90000000"
          ],
          [
           "SHA-256",
           595429,
           "21000000"
          ],
          [
           "X11",
           657636.34549789,
           "3000000"
          ],
          [
           "Scrypt",
           2581970,
           "21000000"
          ],
          [
           "Scrypt",
           1939889,
           "0"
          ],
          [
           "Scrypt",
           169598616,
           "0"
          ],
          [
           "Scrypt",
           665200057,
           "3100000000"
          ],
          [
           "SHA-256D",
           19577787259,
           "20000000000"
          ],
          [
           "PoS",
           74033806.7949683,
           "74000000"
          ],
          [
           "Scrypt",
           33522957,
           "0"
          ],
          [
           "X11",
           264678458.288619,
           "1500000000"
          ],
          [
           "PoS",
           148716816,
           "39999898"
          ],
          [
           "X13",
           2500124,
           "2500124"
          ],
          [
           "X14",
           100000000,
           "100000000"
          ],
          [
           "PoS",
           17818682.1654,
           "301000000"
          ],
          [
           "SHA-256D",
           1082162635.53683,
           "7506000000"
          ],
          [
           "DPoS",
           108202084,
           "125000000"
          ],
          [
           "X11",
           18342813,
           "30000000"
          ],
          [
           "X13",
           92192822723,
           "850000000"
          ],
          [
           "X11",
           3853326.77707314,
           "3853326.77707314"
          ],
          [
           "PoS",
           50000000,
           "50000000"
          ],
          [
           "Scrypt",
           17089600,
           "38540000 "
          ],
          [
           "Scrypt",
           2449577.41533168,
           "42000000"
          ],
          [
           "PoS",
           20000000,
           "20000000"
          ],
          [
           "X11",
           6069482.07721352,
           "60000000"
          ],
          [
           "SHA-256",
           12416554,
           "20000000"
          ],
          [
           "Scrypt",
           20244023.640728,
           "33000000"
          ],
          [
           "X11",
           75590369,
           "76500000"
          ],
          [
           "Scrypt",
           11080722.3769581,
           "28000000"
          ],
          [
           "Scrypt",
           10914418,
           "650659833"
          ],
          [
           "X11",
           814671,
           "5000000"
          ],
          [
           "Scrypt",
           8377873,
           "144000000"
          ],
          [
           "Scrypt",
           33813143821.8337,
           "32514916898"
          ],
          [
           "Scrypt",
           3472983,
           "13000000"
          ],
          [
           "Scrypt",
           3315789,
           "3315789"
          ],
          [
           "Quark",
           10517772.7391666,
           "15000000"
          ],
          [
           "QuBit",
           30227750,
           "78835200"
          ],
          [
           "Scrypt",
           23965372,
           "500000000"
          ],
          [
           "SHA-256",
           2526078.47525448,
           "21000000"
          ],
          [
           "X11",
           5659096.95728771,
           "9354000"
          ],
          [
           "Scrypt",
           11821728,
           "20000000"
          ],
          [
           "Scrypt",
           308179,
           "21933333"
          ],
          [
           "Scrypt",
           2922613.96424908,
           "55000000"
          ],
          [
           "Scrypt",
           110000000,
           "110000000"
          ],
          [
           "X13",
           14524851.4827,
           "14524851.4827"
          ],
          [
           "Scrypt",
           1000000000,
           "1000000000"
          ],
          [
           "Scrypt",
           36050365,
           "34426423"
          ],
          [
           "X11",
           13162749.0858027,
           "100000000"
          ],
          [
           "Blake2S",
           12184195.9258495,
           "36900000"
          ],
          [
           "X11",
           110630387.850471,
           "110000000"
          ],
          [
           "PoS",
           111135836.889,
           "110290030"
          ],
          [
           "X11",
           21521322.0099142,
           "100000000"
          ],
          [
           "PoS",
           401421401,
           "400000000"
          ],
          [
           "X11",
           121665451.643876,
           "500000000"
          ],
          [
           "Scrypt",
           5368934,
           "21212121"
          ],
          [
           "Scrypt",
           1148324,
           "28600000"
          ],
          [
           "Scrypt",
           500000,
           "1000000000"
          ],
          [
           "SHA-256",
           100545745,
           "75000000000"
          ],
          [
           "X11",
           17171382,
           "40000000"
          ],
          [
           "Scrypt",
           295135466.361878,
           "2000000000"
          ],
          [
           "PoS",
           11390225.9742772,
           "30000000"
          ],
          [
           "Scrypt",
           21358764,
           "105000000"
          ],
          [
           "X15",
           40659020000,
           "90000000000"
          ],
          [
           "SHA-256",
           10343113,
           "200084200"
          ],
          [
           "POS 3.0",
           100000000,
           "100000000"
          ],
          [
           "536",
           22801882871,
           "50000000000"
          ],
          [
           "NIST5",
           4171382,
           "10000000"
          ],
          [
           "NIST5",
           62942075,
           "120000000"
          ],
          [
           "Skein",
           6804362,
           "100000000"
          ],
          [
           "X13",
           21268092,
           "30000000"
          ],
          [
           "Scrypt",
           9044930943.24243,
           "50000000000"
          ],
          [
           "X13",
           21917018.0492836,
           "18898187.6216583"
          ],
          [
           "SkunkHash v2 Raptor",
           107972766,
           "137500000"
          ],
          [
           "Skein",
           47331802.4774238,
           "100000000"
          ],
          [
           "X11",
           12569262.5359307,
           "9507271"
          ],
          [
           "Scrypt",
           18663297.3489799,
           "17405891.19707116"
          ],
          [
           "VeChainThor Authority",
           55454734800,
           "86712634466"
          ],
          [
           "PoS",
           4000000,
           "61599965"
          ],
          [
           "Scrypt",
           19539588,
           "48252000"
          ],
          [
           "Scrypt",
           4200000,
           "4200000"
          ],
          [
           "SHA-512",
           25000000,
           "91388946"
          ],
          [
           "Ouroboros",
           25927070538,
           "45000000000"
          ],
          [
           "X11",
           7262402.04264803,
           "27000000"
          ],
          [
           "NeoScrypt",
           182638400,
           "400000000"
          ],
          [
           "Scrypt",
           1140734.91680375,
           "15733333"
          ],
          [
           "Lyra2REv2",
           24000000,
           "24000000"
          ],
          [
           "Scrypt",
           48459472454,
           "25000000000"
          ],
          [
           "SHA-256",
           92050800,
           "100000000"
          ],
          [
           "NIST5",
           560563220,
           "1200000000"
          ],
          [
           "PHI1612",
           8305775.31777569,
           "60000000"
          ],
          [
           "Scrypt",
           2149688,
           "21000000"
          ],
          [
           "Quark",
           30711550.5294042,
           "200000000"
          ],
          [
           "POS 2.0",
           12330806.30517,
           "21000000"
          ],
          [
           "Scrypt",
           16362544.992,
           "14788275.991"
          ],
          [
           "SHA-256",
           8999999990,
           "9000000000"
          ],
          [
           "X11",
           38198594.8342105,
           "144000000"
          ],
          [
           "DPoS",
           288090567.493887,
           "500000000"
          ],
          [
           "NIST5",
           28399150208,
           "30000000000"
          ],
          [
           "X13",
           183534024.889807,
           "210000000"
          ],
          [
           "Scrypt",
           110976977.29338,
           "210000000"
          ],
          [
           "NIST5",
           13247178.8807286,
           "27716121"
          ],
          [
           "Quark",
           16955764.902064,
           "20000000"
          ],
          [
           "Scrypt",
           4911500269.41,
           "50000000000"
          ],
          [
           "Scrypt",
           8419402.321,
           "150000000"
          ],
          [
           "X11",
           45174214.1078625,
           "50000000"
          ],
          [
           "Quark",
           27299680,
           "120000000"
          ],
          [
           "Scrypt",
           591022748,
           "900000000"
          ],
          [
           "Scrypt",
           2504486.227718,
           "4000000"
          ],
          [
           "X11",
           4407252,
           "21000000"
          ],
          [
           "POS 3.0",
           20445861.5344251,
           "25000000"
          ],
          [
           "Scrypt",
           9399342.52839847,
           "30000000"
          ],
          [
           "Scrypt",
           234846265.782157,
           "232000000"
          ],
          [
           "X13",
           230298925,
           "800000000"
          ],
          [
           "C11",
           11251342.1879021,
           "19340594"
          ],
          [
           "Proof-of-Authority",
           204479039,
           "252460800"
          ],
          [
           "X11",
           2167827.1,
           "25000000"
          ],
          [
           "XEVAN",
           419275.38,
           "60000000"
          ],
          [
           "Scrypt",
           25570013.1348022,
           "124000000"
          ],
          [
           "VBFT",
           650848625,
           "1000000000"
          ],
          [
           "NIST5",
           13787854.6277781,
           "50000000"
          ],
          [
           "Scrypt",
           845637.81347436,
           "3000000"
          ],
          [
           "Scrypt",
           1182153.5,
           "5000000"
          ],
          [
           "Scrypt",
           267297676.3125,
           "500000000"
          ],
          [
           "Green Protocol",
           9803691.3618195,
           "21000000"
          ],
          [
           "PoS",
           21876586.8530324,
           "88000000"
          ],
          [
           "Scrypt",
           9880502.37178894,
           "30000000"
          ],
          [
           "Semux BFT consensus",
           1231147,
           "100000000"
          ],
          [
           "Quark",
           139739596.506702,
           "200000000"
          ],
          [
           "PoS",
           11075254.0929996,
           "80000000"
          ],
          [
           "X16R",
           4403800,
           "45000000"
          ],
          [
           "Scrypt",
           1404157529.46026,
           "5121951220"
          ],
          [
           "XEVAN",
           10904963.0923455,
           "21000000"
          ],
          [
           "Scrypt",
           38706809.466535,
           "26000000"
          ],
          [
           "Scrypt",
           10200000000,
           "10200000000"
          ],
          [
           "Scrypt",
           7630000.0154,
           "44000000"
          ],
          [
           "SHA-256D",
           33238183.7225834,
           "100000000"
          ],
          [
           "Scrypt",
           21599339.6728,
           "84000000"
          ],
          [
           "X15",
           30284196.369129,
           "90000000"
          ],
          [
           "Scrypt",
           77872059787.8998,
           "92000000000"
          ],
          [
           "Quark",
           2716264.95302831,
           "650000000 "
          ],
          [
           "SHA-256",
           57811001.000889,
           "100262205"
          ],
          [
           "DPoS",
           18194936,
           "18081806 "
          ],
          [
           "X16R",
           36923120.6205934,
           "82546564"
          ],
          [
           "Quark",
           7082392.24744494,
           "21000000"
          ],
          [
           "Quark",
           5919489.76813523,
           "5151000"
          ],
          [
           "Scrypt",
           1042012.45227735,
           "16880000000"
          ],
          [
           "Lyra2REv2",
           13332617.9413708,
           "52500000"
          ],
          [
           "Quark",
           66053877.6256106,
           "100000000"
          ],
          [
           "Scrypt",
           5403802.49590733,
           "1000000000"
          ],
          [
           "X11",
           19269509.94,
           "55000000"
          ],
          [
           "X11",
           30771125.9760867,
           "50000000"
          ],
          [
           "Scrypt",
           107763867.917675,
           "260000000"
          ],
          [
           "PoS",
           9327131.59708692,
           "210000000"
          ],
          [
           "Keccak",
           4672513.84432375,
           "366000000"
          ],
          [
           "X11",
           4504639,
           "100000000"
          ],
          [
           "Scrypt",
           1059954080.43439,
           "18000000000"
          ],
          [
           "SHA-512",
           1000000000,
           "1000000000"
          ],
          [
           "ECC 256K1",
           1000000000,
           "1000000000"
          ],
          [
           "XEVAN",
           6787405.18013774,
           "50000000"
          ],
          [
           "XEVAN",
           208515864.367343,
           "70000000000"
          ],
          [
           "X11",
           17209923728.3266,
           "0"
          ],
          [
           "Quark",
           35312185.7437239,
           "54000000"
          ],
          [
           "Scrypt",
           14777549.3940764,
           "21000000"
          ],
          [
           "Quark",
           18265011.2486006,
           "19035999"
          ],
          [
           "Quark",
           1934701.67524713,
           "13370000"
          ],
          [
           "Scrypt",
           30825710000.0296,
           "74800000000"
          ],
          [
           "X11",
           715659.44237941,
           "19700000"
          ],
          [
           "Scrypt",
           20546528.2059957,
           "84000000"
          ],
          [
           "XEVAN",
           198938144.363399,
           "500000000"
          ],
          [
           "SHA-256D",
           896361168,
           "5000000000"
          ],
          [
           "X11",
           15420234.5389336,
           "420000000"
          ],
          [
           "X11",
           23775960.3207514,
           "30000000"
          ],
          [
           "DPoS",
           1000000000,
           "1000000000"
          ],
          [
           "Scrypt",
           15318887081.0146,
           "35000000000"
          ],
          [
           "X11",
           242574105.22384,
           "0"
          ],
          [
           "Scrypt",
           3537150,
           "200000000"
          ],
          [
           "Scrypt",
           20576532,
           "54256119"
          ],
          [
           "SHA-256",
           4392258.24647793,
           "21000000"
          ],
          [
           "Scrypt",
           9631199.99309942,
           "0"
          ],
          [
           "X11",
           436353624.490312,
           "500000000"
          ],
          [
           "Scrypt",
           980732528.97974,
           "10500000000"
          ],
          [
           "SHA-256",
           17939725045.334,
           "190000000"
          ],
          [
           "X11",
           494240666.028571,
           "1000000000"
          ],
          [
           "Scrypt",
           60000000,
           "15000000"
          ],
          [
           "Scrypt",
           404316475.545465,
           "400000000"
          ],
          [
           "X11",
           201364327.427503,
           "208000000"
          ],
          [
           "Scrypt",
           103621876.167052,
           "160000000"
          ],
          [
           "PoS",
           3821245.74150193,
           "9000000"
          ],
          [
           "X11",
           16901016.6609755,
           "16504333"
          ],
          [
           "SHA-256",
           74676064.9488608,
           "105000000"
          ],
          [
           "DPoS",
           120012140,
           "159918400"
          ],
          [
           "Scrypt",
           10000244677.7002,
           "10008835635"
          ],
          [
           "Scrypt",
           252005564.19257,
           "300000000"
          ],
          [
           "NeoScrypt",
           1120385.00502,
           "60168145"
          ],
          [
           "X13",
           140777.753365,
           "120000"
          ],
          [
           "DPoS",
           1020544523.0722,
           "0"
          ],
          [
           "DPoS",
           1122382283.37,
           "0"
          ],
          [
           "SHA-256",
           1000000000,
           "1000000000"
          ],
          [
           "PoS",
           9283137.5558676,
           "8634140"
          ],
          [
           "PoS",
           1000000000,
           "1000000000"
          ],
          [
           "SHA-256",
           1999999995.3056,
           "2000000000"
          ],
          [
           "Scrypt",
           14931046.1546605,
           "250000000"
          ],
          [
           "Scrypt",
           128326.99633965,
           "1000000"
          ]
         ],
         "hovertemplate": "<b>%{hovertext}</b><br><br>Class=%{marker.color}<br>PC 1=%{x}<br>PC 2=%{y}<br>PC 3=%{z}<br>Algorithm=%{customdata[0]}<br>TotalCoinsMined=%{customdata[1]}<br>TotalCoinSupply=%{customdata[2]}<extra></extra>",
         "hovertext": [
          "42 Coin",
          "404Coin",
          "EliteCoin",
          "Dash",
          "Bitshares",
          "BitcoinDark",
          "PayCoin",
          "KoboCoin",
          "Aurora Coin",
          "BlueCoin",
          "EnergyCoin",
          "BitBar",
          "CryptoBullion",
          "CasinoCoin",
          "Diamond",
          "Exclusive Coin",
          "FlutterCoin",
          "HoboNickels",
          "HyperStake",
          "IOCoin",
          "MaxCoin",
          "MintCoin",
          "MazaCoin",
          "Nautilus Coin",
          "NavCoin",
          "OpalCoin",
          "Orbitcoin",
          "PotCoin",
          "PhoenixCoin",
          "Reddcoin",
          "SuperCoin",
          "SyncCoin",
          "TeslaCoin",
          "TittieCoin",
          "TorCoin",
          "UnitaryStatus Dollar",
          "UltraCoin",
          "VeriCoin",
          "X11 Coin",
          "Crypti",
          "StealthCoin",
          "ZCC Coin",
          "BurstCoin",
          "StorjCoin",
          "Neutron",
          "FairCoin",
          "RubyCoin",
          "Kore",
          "Dnotes",
          "8BIT Coin",
          "Sativa Coin",
          "Ucoin",
          "Vtorrent",
          "IslaCoin",
          "Nexus",
          "Droidz",
          "Squall Coin",
          "Diggits",
          "Paycon",
          "Emercoin",
          "EverGreenCoin",
          "Decred",
          "EDRCoin",
          "Hitcoin",
          "DubaiCoin",
          "PWR Coin",
          "BillaryCoin",
          "GPU Coin",
          "EuropeCoin",
          "ZeitCoin",
          "SwingCoin",
          "SafeExchangeCoin",
          "Nebuchadnezzar",
          "Ratecoin",
          "Revenu",
          "Clockcoin",
          "VIP Tokens",
          "BitSend",
          "Let it Ride",
          "PutinCoin",
          "iBankCoin",
          "Frankywillcoin",
          "MudraCoin",
          "Lutetium Coin",
          "GoldBlocks",
          "CarterCoin",
          "BitTokens",
          "MustangCoin",
          "ZoneCoin",
          "RootCoin",
          "BitCurrency",
          "Swiscoin",
          "BuzzCoin",
          "Opair",
          "PesoBit",
          "Halloween Coin",
          "CoffeeCoin",
          "RoyalCoin",
          "GanjaCoin V2",
          "TeamUP",
          "LanaCoin",
          "ARK",
          "InsaneCoin",
          "EmberCoin",
          "XenixCoin",
          "FreeCoin",
          "PLNCoin",
          "AquariusCoin",
          "Creatio",
          "Eternity",
          "Eurocoin",
          "BitcoinFast",
          "Stakenet",
          "BitConnect Coin",
          "MoneyCoin",
          "Enigma",
          "Russiacoin",
          "PandaCoin",
          "GameUnits",
          "GAKHcoin",
          "Allsafe",
          "LiteCreed",
          "Klingon Empire Darsek",
          "Internet of People",
          "KushCoin",
          "Printerium",
          "Impeach",
          "Zilbercoin",
          "FirstCoin",
          "FindCoin",
          "OpenChat",
          "RenosCoin",
          "VirtacoinPlus",
          "TajCoin",
          "Impact",
          "Atmos",
          "HappyCoin",
          "MacronCoin",
          "Condensate",
          "Independent Money System",
          "ArgusCoin",
          "LomoCoin",
          "ProCurrency",
          "GoldReserve",
          "GrowthCoin",
          "Phreak",
          "Degas Coin",
          "HTML5 Coin",
          "Ultimate Secure Cash",
          "QTUM",
          "Espers",
          "Denarius",
          "Virta Unique Coin",
          "Bitcoin Planet",
          "BritCoin",
          "Linda",
          "DeepOnion",
          "Signatum",
          "Cream",
          "Monoeci",
          "Draftcoin",
          "Vechain",
          "Stakecoin",
          "CoinonatX",
          "Ethereum Dark",
          "Obsidian",
          "Cardano",
          "Regalcoin",
          "TrezarCoin",
          "TerraNovaCoin",
          "Rupee",
          "WomenCoin",
          "Theresa May Coin",
          "NamoCoin",
          "LUXCoin",
          "Xios",
          "Bitcloud 2.0",
          "KekCoin",
          "BlackholeCoin",
          "Infinity Economics",
          "Magnet",
          "Lamden Tau",
          "Electra",
          "Bitcoin Diamond",
          "Cash & Back Coin",
          "Bulwark",
          "Kalkulus",
          "GermanCoin",
          "LiteCoin Ultra",
          "PhantomX",
          "Digiwage",
          "Trollcoin",
          "Litecoin Plus",
          "Monkey Project",
          "TokenPay",
          "My Big Coin",
          "Unified Society USDEX",
          "Tokyo Coin",
          "Stipend",
          "Poa Network",
          "Pushi",
          "Ellerium",
          "Velox",
          "Ontology",
          "Bitspace",
          "Briacoin",
          "Ignition",
          "MedicCoin",
          "Bitcoin Green",
          "Deviant Coin",
          "Abjcoin",
          "Semux",
          "Carebit",
          "Zealium",
          "Proton",
          "iDealCash",
          "Bitcoin Incognito",
          "HollyWoodCoin",
          "Swisscoin",
          "Xt3ch",
          "TheVig",
          "EmaratCoin",
          "Dekado",
          "Lynx",
          "Poseidon Quark",
          "BitcoinWSpectrum",
          "Muse",
          "Trivechain",
          "Dystem",
          "Giant",
          "Peony Coin",
          "Absolute Coin",
          "Vitae",
          "TPCash",
          "ARENON",
          "EUNO",
          "MMOCoin",
          "Ketan",
          "XDNA",
          "PAXEX",
          "ThunderStake",
          "Kcash",
          "Acute Angle Cloud",
          "Bettex coin",
          "BitMoney",
          "Junson Ming Chan Coin",
          "HerbCoin",
          "Oduwa",
          "Galilel",
          "Crypto Sports",
          "Credit",
          "Dash Platinum",
          "Nasdacoin",
          "Beetle Coin",
          "Titan Coin",
          "Award",
          "Insane Coin",
          "ALAX",
          "LiteDoge",
          "TruckCoin",
          "OrangeCoin",
          "BitstarCoin",
          "NeosCoin",
          "HyperCoin",
          "PinkCoin",
          "AudioCoin",
          "IncaKoin",
          "Piggy Coin",
          "Genstake",
          "XiaoMiCoin",
          "CapriCoin",
          " ClubCoin",
          "Radium",
          "Creditbit ",
          "OKCash",
          "Lisk",
          "HiCoin",
          "WhiteCoin",
          "FriendshipCoin",
          "Triangles Coin",
          "EOS",
          "Oxycoin",
          "TigerCash",
          "Particl",
          "Nxt",
          "ZEPHYR",
          "Gapcoin",
          "BitcoinPlus"
         ],
         "legendgroup": "0",
         "marker": {
          "color": [
           0,
           0,
           0,
           0,
           0,
           0,
           0,
           0,
           0,
           0,
           0,
           0,
           0,
           0,
           0,
           0,
           0,
           0,
           0,
           0,
           0,
           0,
           0,
           0,
           0,
           0,
           0,
           0,
           0,
           0,
           0,
           0,
           0,
           0,
           0,
           0,
           0,
           0,
           0,
           0,
           0,
           0,
           0,
           0,
           0,
           0,
           0,
           0,
           0,
           0,
           0,
           0,
           0,
           0,
           0,
           0,
           0,
           0,
           0,
           0,
           0,
           0,
           0,
           0,
           0,
           0,
           0,
           0,
           0,
           0,
           0,
           0,
           0,
           0,
           0,
           0,
           0,
           0,
           0,
           0,
           0,
           0,
           0,
           0,
           0,
           0,
           0,
           0,
           0,
           0,
           0,
           0,
           0,
           0,
           0,
           0,
           0,
           0,
           0,
           0,
           0,
           0,
           0,
           0,
           0,
           0,
           0,
           0,
           0,
           0,
           0,
           0,
           0,
           0,
           0,
           0,
           0,
           0,
           0,
           0,
           0,
           0,
           0,
           0,
           0,
           0,
           0,
           0,
           0,
           0,
           0,
           0,
           0,
           0,
           0,
           0,
           0,
           0,
           0,
           0,
           0,
           0,
           0,
           0,
           0,
           0,
           0,
           0,
           0,
           0,
           0,
           0,
           0,
           0,
           0,
           0,
           0,
           0,
           0,
           0,
           0,
           0,
           0,
           0,
           0,
           0,
           0,
           0,
           0,
           0,
           0,
           0,
           0,
           0,
           0,
           0,
           0,
           0,
           0,
           0,
           0,
           0,
           0,
           0,
           0,
           0,
           0,
           0,
           0,
           0,
           0,
           0,
           0,
           0,
           0,
           0,
           0,
           0,
           0,
           0,
           0,
           0,
           0,
           0,
           0,
           0,
           0,
           0,
           0,
           0,
           0,
           0,
           0,
           0,
           0,
           0,
           0,
           0,
           0,
           0,
           0,
           0,
           0,
           0,
           0,
           0,
           0,
           0,
           0,
           0,
           0,
           0,
           0,
           0,
           0,
           0,
           0,
           0,
           0,
           0,
           0,
           0,
           0,
           0,
           0,
           0,
           0,
           0,
           0,
           0,
           0,
           0,
           0,
           0,
           0,
           0,
           0,
           0,
           0,
           0,
           0,
           0,
           0,
           0,
           0,
           0,
           0,
           0,
           0,
           0,
           0,
           0,
           0,
           0,
           0,
           0,
           0,
           0,
           0,
           0,
           0,
           0,
           0,
           0,
           0,
           0,
           0,
           0
          ],
          "coloraxis": "coloraxis",
          "symbol": "circle"
         },
         "mode": "markers",
         "name": "0",
         "scene": "scene",
         "showlegend": true,
         "type": "scatter3d",
         "x": [
          -0.33592178892561475,
          -0.319280554749966,
          2.3040927163480083,
          -0.40212836645107647,
          -0.39048308544595606,
          -0.3117249891218194,
          -0.2545118254492653,
          -0.250746887887905,
          -0.3355818081121288,
          -0.328168235746978,
          -0.3344201558300436,
          -0.33591773099688443,
          -0.33590203189904805,
          0.6240892786164957,
          -0.3800817505156896,
          -0.32277009729643824,
          -0.26310107691236323,
          -0.3339831366328723,
          -0.3247629290433638,
          -0.4020231883393974,
          -0.45481655014518113,
          -0.0189398071400057,
          -0.27508017789333716,
          -0.27846006503069526,
          -0.2761035921297582,
          -0.2767250578619712,
          -0.35743039836164614,
          -0.3302317350601167,
          -0.3343256471322246,
          0.021791907761665858,
          -0.3446257820954146,
          -0.40239427020630747,
          -0.23353177330955346,
          -0.291441253827171,
          -0.4023060364238947,
          -0.3111868131890188,
          -0.33460097561496377,
          -0.28409279510550545,
          -0.4022705454462356,
          -0.23399874327673165,
          -0.2765061830328108,
          -0.3270376343255848,
          -0.10643019747950114,
          -0.30725460640914154,
          -0.3109377420464865,
          -0.37950399517444794,
          -0.2784403140510429,
          -0.2768003797783639,
          -0.27310178515913874,
          -0.3359038788818199,
          -0.27675261814063273,
          -0.34507013727762326,
          -0.3356386198292668,
          -0.4023758211646534,
          -0.5060325431065413,
          -0.4293245107796751,
          -0.38575762481352643,
          -0.27684397116431636,
          -0.27627491095377116,
          -0.3042926640784799,
          -0.2531847370417165,
          -0.0808925437622226,
          -0.31169593781805194,
          -0.08028502756093503,
          -0.3117595319671551,
          -0.23801589142457466,
          -0.3355146946836525,
          -0.2767134275425892,
          -0.39954921293675383,
          0.8731143910746939,
          -0.3115598957781649,
          -0.10572719410386007,
          -0.32245379149177905,
          -0.4002215521902747,
          -0.3103053257219785,
          -0.3079769820577152,
          -0.3592297481959054,
          -0.4011128173469822,
          -0.3344682342267356,
          -0.3118435891793583,
          -0.3355527517748756,
          -0.333993736924172,
          -0.21828355133411148,
          -0.3325772189169379,
          -0.4018504609085667,
          -0.33475802499697405,
          -0.31174052886557413,
          -0.4023650319948419,
          -0.33574163868074125,
          -0.33589811886924675,
          -0.27670255188689064,
          -0.2425286573963043,
          0.0435900224632968,
          -0.3214122304572634,
          -0.33551273672850856,
          -0.38854710981398627,
          -0.320741599975407,
          -0.21971202900959713,
          -0.422354227648172,
          -0.3204913912502339,
          -0.2705337731263748,
          3.7498836969248623,
          -0.4019581188456623,
          0.8540596102336335,
          -0.4023199974713693,
          -0.32187537564840824,
          -0.33544045972877995,
          -0.3355946087548891,
          -0.32245379149177905,
          -0.40189552960809016,
          -0.31160336377544656,
          -0.33544118297078857,
          -0.43755455613343763,
          -0.3355883869443167,
          -0.3311830104068469,
          -0.40234895912533014,
          -0.33480027869190004,
          0.36397393820052476,
          -0.33578739320402956,
          -0.3358578595723799,
          -0.3371578315574464,
          -0.35360875906502154,
          -0.3320901837869229,
          -0.3117169707417151,
          -0.4022590274422944,
          -0.3356359718839552,
          -0.3357627774177154,
          -0.2783470523369471,
          -0.27954150329605243,
          -0.21948018591332333,
          -0.31664126162303885,
          -0.2780884487336958,
          -0.4015258422169532,
          -0.41679548092335417,
          -0.40026574145103194,
          -0.3207026313459405,
          -0.4014238494426284,
          -0.3151098466245224,
          -0.39737053217323137,
          -0.3357061301894893,
          -0.335705336801606,
          -0.32883733610408517,
          0.27735664356032624,
          -0.40190162932695556,
          -0.2610140241113379,
          -0.32248806594061413,
          -0.334917939330076,
          0.8796442436333016,
          -0.2532041990515835,
          -0.3332481858462154,
          0.5863474850684727,
          -0.3607633929325557,
          -0.3592676438384785,
          -0.40730537630560637,
          -0.2764381309116147,
          0.12836367281896396,
          -0.2765087951439163,
          -0.28793801043503275,
          -0.40681085336154554,
          -0.40217362348252156,
          -0.27842108611038036,
          4.507555242104106,
          -0.3223545670828115,
          -0.33534181958515946,
          -0.335840811517337,
          -0.4484703737236295,
          0.6941647817399258,
          -0.40211455902316917,
          -0.3524364554361881,
          -0.3357965042100178,
          -0.2846593683218018,
          0.4323480147097102,
          -0.31006538452097987,
          -0.34555096251340317,
          -0.38414109342249103,
          -0.3357469134616004,
          -0.3927516940747518,
          -0.30222389255236276,
          -0.3356174544576884,
          -0.08122192114901783,
          -0.4009089029197012,
          3.754733109987091,
          0.19799691675628217,
          -0.27318403005181613,
          -0.3330811751402338,
          -0.30337748175559254,
          -0.33704388228404636,
          0.07792682603526993,
          -0.3347573018285726,
          -0.4014891503277157,
          -0.33620982876159794,
          -0.3223395091099545,
          -0.33586291614457464,
          -0.34504210242067074,
          -0.33474979585176423,
          -0.2908532361840616,
          -0.3314139765785497,
          -0.21128740276966898,
          -0.3807768175436596,
          -0.34636429785267603,
          -0.40219088062615527,
          -0.3282049119260113,
          -0.2775822984705865,
          -0.2921018427254209,
          -0.3603629169434572,
          -0.33589023605671076,
          -0.3358719731281351,
          -0.271971234528278,
          -0.2881141236022055,
          -0.32194956507656725,
          -0.335588875534454,
          3.940238037642773,
          -0.39142131471581026,
          -0.32213799165563156,
          -0.3049079871699238,
          -0.2825330365886665,
          -0.311720369596087,
          -0.2781156795246015,
          -0.13926040298923084,
          -0.2783674738638596,
          -0.3357552123833061,
          -0.3350636491868933,
          -0.1953796352120331,
          2.2123429677831834,
          -0.33275827306000655,
          -0.2533315628205243,
          1.045339439977962,
          -0.3613951786533971,
          -0.3371572805580908,
          -0.39443342106763,
          -0.1592767182217179,
          -0.34173756630290564,
          -0.3358785102890119,
          -0.3287774990450752,
          -0.3446200865534572,
          -0.40166489933783295,
          -0.2756166986779254,
          -0.3212391367225821,
          -0.34582355644184914,
          -0.34448172423645884,
          -0.19557769816733778,
          -0.6803840882336453,
          -0.23588374336377213,
          -0.27104822465372486,
          0.4876903080704926,
          -0.135246015027536,
          -0.39372899578749515,
          -0.33559282607981117,
          -0.3941844959290479,
          -0.3372741014121339,
          0.5696797059755768,
          -0.3450963497394938,
          -0.3350764957772523,
          -0.3226680747137929,
          -0.2905393067283159,
          -0.3992332231691774,
          -0.40189182262816314,
          3.766959130143408,
          0.0987442989701106,
          -0.3994343598262274,
          -0.33446295830138795,
          -0.33528666734142104,
          -0.2545444335286482,
          -0.3358042681421547,
          -0.3935306518387245,
          -0.24963201752356942,
          -0.09164787815519537,
          -0.3892851277229446,
          -0.33508348391312626,
          -0.3281569080980167,
          -0.39846491144099455,
          -0.3335248410026807,
          -0.32272906936970497,
          -0.38050641362843207,
          -0.3102420023258181,
          3.7502749700471063,
          -0.08590121551211781,
          -0.3307232678337472,
          -0.35705681979927767,
          -0.276907431283351,
          3.760131465477372,
          3.761374107708064,
          -0.23546614592595927,
          -0.3226650120929095,
          -0.3080358944121509,
          2.486503551383231,
          -0.3339700103529186,
          -0.27876337975447024
         ],
         "y": [
          1.105816561184278,
          1.1060535360657269,
          1.729016706796817,
          1.2063165287999595,
          1.8349294580932585,
          0.8438251466481372,
          0.5340118465170658,
          1.8675495677807856,
          1.1058173733217929,
          1.1060962581868299,
          1.1058707302143211,
          1.1058163661197762,
          1.1058165909630668,
          0.2882637549674572,
          0.9964366767868599,
          1.4430312112972499,
          0.41078341079726627,
          1.1058045406337433,
          0.8972387264777881,
          1.206320322931357,
          2.4046038874024327,
          0.8053675157919756,
          0.8435098746870203,
          0.7959946892625245,
          1.8504962464524297,
          1.8504738280746031,
          0.6550005811296631,
          1.105734980553411,
          1.1058072100811964,
          1.1187205081093614,
          0.8965222059660816,
          1.206321961029676,
          -0.02277093744375956,
          1.525322088984536,
          1.2063183150757384,
          1.1056161111096352,
          1.1057959121427643,
          0.4293932597008769,
          1.2063226686437116,
          -0.02271948734675494,
          1.850481723632415,
          1.1054540899334022,
          0.21023049402509913,
          1.365579492630233,
          0.8438221294889396,
          0.9964605097161878,
          0.7960064519250337,
          1.8504629155228842,
          0.7958575543361718,
          1.105817207289014,
          1.8504660043529966,
          0.8964925175091306,
          1.1058131170254981,
          1.206322627232166,
          3.076186046781502,
          2.041701850763948,
          0.6858782037223988,
          0.7959957421416237,
          1.8504559187569365,
          0.8434253279132992,
          1.8676826995034845,
          0.9679787042034498,
          0.8438261946272457,
          1.1998091360821117,
          0.8438317545286463,
          1.6220378874733654,
          1.1058025624625933,
          0.7959177780489931,
          1.2061623386755205,
          0.7699346023544661,
          0.8438188089733676,
          0.28778828343673285,
          1.4430289624633021,
          1.2063491175580712,
          0.8437392730069296,
          0.8436168246810587,
          1.6176038265760007,
          1.2062732576149438,
          1.3925674609815553,
          1.1053192378176748,
          1.1057995960576712,
          1.1058178173029303,
          1.5405617598095094,
          0.8965081384809317,
          1.2063074311151851,
          1.1057970763674598,
          0.8438252690297309,
          1.206320967575483,
          1.1058087178330605,
          1.105817415072213,
          0.7960691389031744,
          0.4447448093973576,
          1.9450646806167107,
          1.4430296556485303,
          1.1058313171137761,
          1.2057970464517167,
          1.4430770680334033,
          1.5406451128821492,
          1.914557945264453,
          1.442907843138983,
          1.9422659826931545,
          1.7537872418505405,
          1.206317206585735,
          1.8906845582790286,
          1.206322009341581,
          1.4430293392990576,
          1.105807603386299,
          1.1057996796908658,
          1.4430289624633021,
          1.2062989758054254,
          0.8438308999928675,
          1.1058113608554792,
          0.7085186037295395,
          1.105809465473051,
          1.1055431350256222,
          1.2063201814726612,
          1.1057586726776063,
          0.7969743577123334,
          1.1058125309352096,
          1.1058166028340086,
          1.34852699669449,
          0.5293287437279741,
          1.1056133037707603,
          0.8438261188512002,
          1.2063204520367863,
          1.1058132125458708,
          1.105807317864623,
          0.7959722537829547,
          0.3777837326475753,
          1.5406452639270583,
          1.1058291223755796,
          0.795995633276194,
          1.206284993568782,
          1.9602199327586132,
          1.2063236201505716,
          1.4430304689157898,
          1.2062886727942517,
          1.4430343613797916,
          1.2061617085492853,
          1.1058098538761856,
          1.1058048369231146,
          1.1053891685831878,
          0.501985217690795,
          1.2063124148255326,
          0.7952691715705998,
          1.4430208965387956,
          1.105781063421567,
          1.8470998857527587,
          0.5339309058682548,
          1.3925660558999868,
          2.0696377121687664,
          1.6176031390367767,
          1.6175819709650807,
          1.7866280006243562,
          1.8504636899168556,
          1.0884172691503833,
          1.850468722832979,
          1.0779374343904276,
          1.7866458397450509,
          1.2063234281705517,
          0.7959952581385229,
          1.649014713820301,
          1.4430041310084003,
          1.1058045288325997,
          1.1058166139407526,
          1.8352342654939653,
          1.079043941309834,
          1.2063136121163216,
          0.6549101231763769,
          1.1058103355326532,
          0.48136915637325245,
          1.1164568379767041,
          0.8438317438928572,
          1.6173391890924143,
          1.835391566806333,
          1.1058085275538159,
          1.6582788522821168,
          1.2518638022664506,
          1.1058174398942116,
          0.5341249623646609,
          1.2062771987358774,
          1.7537060693043576,
          1.6172777625220611,
          1.8504581448582689,
          1.1057756116859836,
          1.307777483166079,
          1.348527692467038,
          1.0865978409357355,
          1.1057561252816033,
          1.206320464813899,
          1.3484894843195243,
          1.1056918625407581,
          1.1058159531424159,
          0.8964928458686704,
          1.3925631091978037,
          0.5568373146024884,
          1.1058207282321029,
          1.5404043628988369,
          1.092087605365107,
          2.953783796776457,
          1.2063122248428813,
          1.542427304209847,
          0.795952717301067,
          1.4494893766843533,
          1.6175902674493394,
          1.1058156505733614,
          1.105814943473402,
          0.7958983371338101,
          1.0382709668691625,
          1.4430007108250682,
          1.1058080819421805,
          1.916845199651282,
          1.6583268435800707,
          1.4429993772620249,
          0.6007110865292016,
          1.1042444233242603,
          1.022004694508444,
          0.7960004058190451,
          1.105944685340439,
          0.7959790295908967,
          1.9449711731116897,
          1.1057901491831317,
          1.5578407590734493,
          0.6104992076215309,
          1.3482520286179809,
          0.5339944851442133,
          1.532894853983101,
          0.9105314204588801,
          1.3485229188536065,
          1.6583512593691017,
          0.7887768425241262,
          0.7911743490700217,
          1.3485150951587832,
          1.105391327108956,
          0.8964848490150285,
          1.2063141249507214,
          0.795930741563484,
          1.4429430181347895,
          0.9179566938040211,
          0.8964591073335714,
          1.0985860969082681,
          2.7342874266082884,
          1.6752750607835132,
          1.2326123082598142,
          1.383349032026135,
          0.9040752446683908,
          1.6583433088139419,
          1.1058140860085532,
          1.6583507561434458,
          1.3485239156594833,
          1.087399804512699,
          0.896491776822547,
          1.105789685763024,
          1.542326537448028,
          1.9432557951352754,
          1.2061491511949114,
          1.2063195981152681,
          1.7538056268972446,
          1.0975930910747806,
          1.2064287357241257,
          1.1057325956072845,
          1.1058024178308015,
          0.5340048651334831,
          1.1058208005864105,
          1.2063002260631068,
          1.1017583208068784,
          0.8516493387605919,
          1.2061119000829947,
          1.1058365574261946,
          1.105823485660266,
          1.2063216528173673,
          1.1057937547969632,
          1.443026544737841,
          0.23939972048245742,
          0.8438219579248898,
          1.7537775087778404,
          0.7961164274118708,
          1.105799203644301,
          0.6549755401003623,
          1.8504671672920858,
          1.7542422827471653,
          1.7542871090691783,
          0.5340244728344019,
          1.4430291053663271,
          1.7357713072605052,
          0.754935522672388,
          1.1057162302683805,
          0.795994114895945
         ],
         "z": [
          -0.5356790562075573,
          -0.5359021045453082,
          -0.593411263671889,
          -0.4199645513166308,
          -0.07925828349079085,
          -0.3488202990923092,
          -0.03652325239111496,
          -0.5392599147914223,
          -0.5356830673486375,
          -0.5358059084988692,
          -0.5357036237340637,
          -0.5356790763502328,
          -0.5356792869447822,
          -0.17715138281405166,
          -0.35023190086391165,
          -0.034080793504578814,
          -0.3696840885576001,
          -0.5356996733362497,
          -0.10799836289701634,
          -0.41996627208693454,
          -0.5309863052780655,
          -0.2276310878901788,
          -0.3491980815348278,
          -0.22338370063180354,
          -0.580258297552207,
          -0.5802481300396019,
          -0.30335053807580625,
          -0.5357332976119432,
          -0.5356961047296324,
          -0.5415314440934491,
          -0.1076733959707278,
          -0.4199622359449222,
          0.08413805292603188,
          -0.21081419895726952,
          -0.4199627545672314,
          -0.5359357301278366,
          -0.5356914152035884,
          -0.32613679993494904,
          -0.4199637514786387,
          0.08413644258324278,
          -0.5802517109491665,
          -0.5357319035259519,
          0.16306999325423824,
          0.06466105224276884,
          -0.3488289237745332,
          -0.3502417584108003,
          -0.22338552045431398,
          -0.5802457877060416,
          -0.22342661054028018,
          -0.5356793492293721,
          -0.5802467541164812,
          -0.10766427603731832,
          -0.5356818389653346,
          -0.41996253787363863,
          -0.29364956852194074,
          -0.6771233975496342,
          -0.15341419430302622,
          -0.2234023872580525,
          -0.5802508695734666,
          -0.34885142874560254,
          -0.5392499734252024,
          -0.4946599427885715,
          -0.3488207743872161,
          -0.42277618206202366,
          -0.3488207977283494,
          -0.5699202889461747,
          -0.5356818313983603,
          -0.2233933253846984,
          -0.419973261847996,
          -0.23306785326674143,
          -0.34882133506800245,
          -0.16871263573104847,
          -0.0340841183927756,
          -0.4199908452027872,
          -0.34882495803895974,
          -0.34883508988168743,
          -0.5679288400555115,
          -0.41997034348495477,
          0.0033584408119236584,
          -0.5358879840331171,
          -0.5356809929254631,
          -0.5357013499541678,
          -0.2679518004713969,
          -0.10780974296721892,
          -0.4199665079382037,
          -0.5356897708136734,
          -0.3488201373559875,
          -0.4199624368835863,
          -0.5356800610194679,
          -0.5356794434662661,
          -0.2234139511750985,
          -0.45387601408484113,
          -0.6924808266727466,
          -0.03409616376998736,
          -0.5356857485247284,
          -0.42005002967862676,
          -0.03411028072911804,
          -0.26794669898734613,
          -0.6190437497661402,
          -0.034090231189587386,
          -0.6884973156619919,
          -0.21742324833489476,
          -0.4199665966409949,
          -0.5986697466447715,
          -0.4199630947379177,
          -0.03409080651956503,
          -0.5356833659797019,
          -0.5356805239613053,
          -0.0340841183927756,
          -0.41996484556792973,
          -0.34882247395262733,
          -0.5356838666093647,
          0.05743737156037111,
          -0.5356819207845196,
          -0.5356963976909555,
          -0.419962514839913,
          -0.5356840844007753,
          -0.2308880601363249,
          -0.5356800524686807,
          -0.5356797954121116,
          -0.1439900348888413,
          -0.3971787664719719,
          -0.5356954922168109,
          -0.3488205227795256,
          -0.41996358341580936,
          -0.5356818822871396,
          -0.5356796288430234,
          -0.22338195864395186,
          -0.2426624753062846,
          -0.26794937975074684,
          -0.5359019937578458,
          -0.22338809263907566,
          -0.4199671937631375,
          -0.7348368695294621,
          -0.4199868846651435,
          -0.034104416283650706,
          -0.41996886241961345,
          -0.034169118425598895,
          -0.41999817597615063,
          -0.5356806223357611,
          -0.5356799519208157,
          -0.535702459439865,
          -0.03828839562737657,
          -0.4199665958176265,
          -0.22348561946482515,
          -0.034082632622232,
          -0.5356857669961629,
          -0.5494608959338635,
          -0.03652729390548707,
          0.0033446315637578458,
          -0.6726504521030039,
          -0.5679111489827587,
          -0.5679254449959275,
          -0.7742615265742339,
          -0.5802500492518061,
          -0.5386499043933195,
          -0.5802499200893494,
          -0.09191407506953102,
          -0.7742696172347592,
          -0.41996496649247705,
          -0.22338422495018473,
          4.3063507753353205,
          -0.034081893668262156,
          -0.5356840814037966,
          -0.5356799925359541,
          -0.07863418744076789,
          -0.0009402806137982597,
          -0.41996431470246365,
          -0.3033955895057985,
          -0.5356796505683713,
          -0.04911056625624148,
          -0.5459358066812912,
          -0.34884023594041524,
          -0.5680499548613527,
          -0.5227387483528763,
          -0.5356799747212247,
          -0.45629734008586786,
          -0.06797834552844564,
          -0.5356826673381948,
          -0.03852700445478375,
          -0.41997321712323094,
          -0.21746789900092592,
          -0.5742786257239656,
          -0.5802866376873935,
          -0.5357061047102406,
          -0.25561441097179344,
          -0.14399143664896139,
          -0.5378247305359676,
          -0.5356842325119929,
          -0.4199724191730391,
          -0.14399583198996385,
          -0.535818017595429,
          -0.5356796493928442,
          -0.1076646422003918,
          0.0033622610422250577,
          -0.32665726250677857,
          -0.5357313459238482,
          -0.2680107598821733,
          -0.2913742206380567,
          2.2787735191702416,
          -0.41996325104455257,
          -0.49714300109361936,
          -0.22338808777419347,
          0.049215273070028896,
          -0.5679140008959379,
          -0.5356792949266508,
          -0.5356794087135185,
          -0.22344510695479652,
          -0.13087548858646725,
          -0.034086077656441005,
          -0.5356817277864863,
          -0.30581650350284634,
          -0.45631910580552293,
          -0.034083734914322324,
          -0.06973942912438844,
          -0.5360787329760973,
          -0.2305960784580733,
          -0.22338842659155622,
          -0.537953019306551,
          -0.22338264206122438,
          -0.6881153293737811,
          -0.5356853256513628,
          -0.22695583980226144,
          -0.28976731554835566,
          -0.14400327511619912,
          -0.03653444392191751,
          -0.13301793110868232,
          -0.3820457587504708,
          -0.14398948889017554,
          -0.45628785009528317,
          -0.2237736633304867,
          -0.36140806352636684,
          -0.14400310258219443,
          -0.5357034384062347,
          -0.10766840153083658,
          -0.41996954382499807,
          -0.22340766573904383,
          -0.03408641537459689,
          -0.46236676915942165,
          -0.10766650261270397,
          -0.5363101208569311,
          -0.10558260420918145,
          5.789126450403247,
          -0.18484507665934297,
          -0.3340989503392487,
          -0.11109896122828257,
          -0.4562948562297089,
          -0.5356824956734115,
          -0.45629063825081295,
          -0.14398828343029155,
          -0.543576016310922,
          -0.10766387493805253,
          -0.5356851154742561,
          -0.49719288574314036,
          -0.6884018249646973,
          -0.41997510153016315,
          -0.4199676812826608,
          -0.21762167213701294,
          -0.5395528488313058,
          -0.42001066175833107,
          -0.5356844230190035,
          -0.5356844283297495,
          -0.03652193263659495,
          -0.5356809789144837,
          -0.42006099847734685,
          -0.5361195298465755,
          -0.35240533825921644,
          -0.42008420641911165,
          -0.5356913837976758,
          -0.5357690929379227,
          -0.4200072819923007,
          -0.5357034712097596,
          -0.034080632223492335,
          0.027643382059530108,
          -0.34883688386733447,
          -0.21742641974351173,
          -0.2256097238450826,
          -0.5357363561384167,
          -0.30335143306787193,
          -0.5802451352123739,
          -0.2176024701005139,
          -0.21762280039370585,
          -0.03674350397964456,
          -0.03408171407774937,
          -0.04600882499565571,
          -0.12135129870535392,
          -0.5356878628008364,
          -0.22338014242396173
         ]
        },
        {
         "customdata": [
          [
           "SHA-256",
           17927175,
           "21000000"
          ],
          [
           "Ethash",
           107684222.6865,
           "0"
          ],
          [
           "Scrypt",
           63039243.3000049,
           "84000000"
          ],
          [
           "CryptoNight-V7",
           17201143.1449131,
           "0"
          ],
          [
           "Ethash",
           113359703,
           "210000000"
          ],
          [
           "Equihash",
           7383056.25,
           "21000000"
          ],
          [
           "Multiple",
           11406219141,
           "21000000000"
          ],
          [
           "Scrypt",
           5768310,
           "21000000"
          ],
          [
           "X11",
           11149733.9976203,
           "20000000"
          ],
          [
           "Scrypt",
           12205795.4449549,
           "64000000"
          ],
          [
           "Multiple",
           1688254250,
           "2000000000"
          ],
          [
           "Scrypt",
           88,
           "384000000000"
          ],
          [
           "SHA-256",
           170204389.754849,
           "169795588"
          ],
          [
           "Scrypt",
           128940951.183046,
           "250000000"
          ],
          [
           "Scrypt",
           7357794.7925,
           "100000000"
          ],
          [
           "Quark",
           259557164.91477,
           "247000000"
          ],
          [
           "Groestl",
           49548585.1412917,
           "84000000"
          ],
          [
           "Scrypt",
           33442988.3440364,
           "48166000"
          ],
          [
           "Scrypt",
           7219956.64626131,
           "21000000 "
          ],
          [
           "Scrypt",
           4703879.51824446,
           "13140000"
          ],
          [
           "X11",
           4996986.20575291,
           "18000000"
          ],
          [
           "Multiple",
           15929530669.1206,
           "16555000000"
          ],
          [
           "SHA-256",
           18773857500,
           "21000000000"
          ],
          [
           "Scrypt",
           12539015186.822,
           "13500000000"
          ],
          [
           "Scrypt",
           20910478.8062499,
           "21000000 "
          ],
          [
           "Scrypt",
           218871896.499999,
           "299792458"
          ],
          [
           "Scrypt",
           19496786.31025,
           "32000000"
          ],
          [
           "Scrypt",
           1142732.14912776,
           "11235813"
          ],
          [
           "NeoScrypt",
           208669093.00773,
           "336000000"
          ],
          [
           "Scrypt",
           884125802,
           "1420609614"
          ],
          [
           "Scrypt",
           65672720.4708748,
           "70000000"
          ],
          [
           "Scrypt",
           41658647.9999715,
           "72245700"
          ],
          [
           "Scrypt",
           90595753018.6314,
           "90600000000"
          ],
          [
           "SHA-256",
           21089348.999,
           "21000000"
          ],
          [
           "Scrypt",
           151447649.8,
           "265420800"
          ],
          [
           "Scrypt",
           19326319.14375,
           "20000000"
          ],
          [
           "Scrypt",
           1104344.22938102,
           "1350000"
          ],
          [
           "Scrypt",
           38151999.9930997,
           "42000000"
          ],
          [
           "HybridScryptHash256",
           40431856.9,
           "200000000"
          ],
          [
           "Scrypt",
           5804204.88794916,
           "10000000"
          ],
          [
           "Scrypt",
           2366066305.76482,
           "15000000000"
          ],
          [
           "SHA-256",
           14736400,
           "21000000"
          ],
          [
           "Scrypt",
           334709223.483138,
           "337000000"
          ],
          [
           "Scrypt",
           1104157.42169891,
           "21000000"
          ],
          [
           "Scrypt",
           24215181.725,
           "250000000"
          ],
          [
           "Scrypt",
           25593737.1355044,
           "51200000"
          ],
          [
           "SHA-256",
           563336541.299966,
           "888000000"
          ],
          [
           "SHA-256",
           43536800,
           "47011968"
          ],
          [
           "SHA-256",
           22935396,
           "42000000"
          ],
          [
           "SHA-256",
           2278150,
           "80000000"
          ],
          [
           "SHA-256",
           200911.79151896,
           "250000"
          ],
          [
           "X11",
           1207310,
           "0"
          ],
          [
           "Scrypt",
           23150892.1679687,
           "23000000"
          ],
          [
           "Lyra2REv2",
           51173723.8166347,
           "84000000"
          ],
          [
           "Scrypt",
           119606941,
           "265420800"
          ],
          [
           "SHA-256",
           39195739.362088,
           "45000000"
          ],
          [
           "CryptoNight",
           184066828814,
           "184467440735"
          ],
          [
           "CryptoNight",
           6906587610.38292,
           "10000000000"
          ],
          [
           "Scrypt",
           68194674.8711679,
           "105120000"
          ],
          [
           "Scrypt",
           415032420,
           "1680000000"
          ],
          [
           "Scrypt",
           137517654.41397,
           "166386000"
          ],
          [
           "Scrypt",
           181919.2435974,
           "2628000"
          ],
          [
           "Scrypt",
           152270664.860648,
           "160000000"
          ],
          [
           "Scrypt",
           792537250,
           "1000000000"
          ],
          [
           "Stanford Folding",
           719416990,
           "1000000000"
          ],
          [
           "Multiple",
           65113302,
           "0"
          ],
          [
           "QuBit",
           6365285,
           "0"
          ],
          [
           "Scrypt",
           10140044.4430293,
           "3371337"
          ],
          [
           "Scrypt",
           4610340640.89,
           "10000000000"
          ],
          [
           "M7 POW",
           708506520,
           "1840000000"
          ],
          [
           "Scrypt",
           619478,
           "619478"
          ],
          [
           "SHA-256",
           12462620,
           "21000000"
          ],
          [
           "Scrypt",
           88213,
           "92000000000"
          ],
          [
           "X11",
           32221574.820996,
           "33000000"
          ],
          [
           "Lyra2RE",
           13742738,
           "65789100"
          ],
          [
           "SHA-256",
           14747200.0002,
           "53760000"
          ],
          [
           "X11",
           15863837.5,
           "21000000"
          ],
          [
           "Scrypt",
           32565300,
           "210240000"
          ],
          [
           "Scrypt",
           75614500,
           "250000000"
          ],
          [
           "Ethash",
           10495278,
           "16906397"
          ],
          [
           "Blake2b",
           33098296530,
           "0"
          ],
          [
           "X11",
           15867695,
           "16000000"
          ],
          [
           "SHA-256",
           20997476.8650231,
           "21000000"
          ],
          [
           "Scrypt",
           210000000,
           "210000000"
          ],
          [
           "1GB AES Pattern Search",
           11448949,
           "81962100"
          ],
          [
           "Scrypt",
           69836100,
           "84000000"
          ],
          [
           "SHA-256",
           21739971929,
           "21626280000 "
          ],
          [
           "X11",
           45110324,
           "84000000"
          ],
          [
           "Dagger",
           5702048,
           "30000000"
          ],
          [
           "Scrypt",
           636462.55983338,
           "168351300"
          ],
          [
           "X11GOST",
           17263355,
           "24000000"
          ],
          [
           "Scrypt",
           6570807.65677618,
           "20000000"
          ],
          [
           "X11",
           13654082.4987998,
           "25000000"
          ],
          [
           "Scrypt",
           616448,
           "616448"
          ],
          [
           "X11",
           1377917,
           "25000000"
          ],
          [
           "Equihash",
           115898131,
           "200000000"
          ],
          [
           "CryptoNight",
           7822432.72439746,
           "10000000"
          ],
          [
           "SHA-256",
           6243840,
           "9736000"
          ],
          [
           "Multiple",
           1000000000,
           "1200000000"
          ],
          [
           "Scrypt",
           116845228,
           "200000000"
          ],
          [
           "SHA-256",
           9106714,
           "10638298"
          ],
          [
           "Scrypt",
           11119200,
           "30000000"
          ],
          [
           "Lyra2Z",
           7568281.24956067,
           "21400000"
          ],
          [
           "Ethash",
           26205539,
           "26205539"
          ],
          [
           "Equihash",
           5613550,
           "21000000"
          ],
          [
           "Scrypt",
           196297971,
           "10000000000"
          ],
          [
           "X11",
           824000000,
           "500000000"
          ],
          [
           "X11",
           61364813,
           "228000000"
          ],
          [
           "CryptoNight",
           978145,
           "21000000"
          ],
          [
           "Scrypt",
           894026,
           "2714286"
          ],
          [
           "CryptoNight",
           9357088,
           "25000000"
          ],
          [
           "Lyra2RE",
           1876146.443596,
           "9999999"
          ],
          [
           "X11",
           536982074,
           "100000000000"
          ],
          [
           "CryptoNight-V7",
           10969318.522954,
           "185000000"
          ],
          [
           "Scrypt",
           3115258,
           "3360000"
          ],
          [
           "X11",
           30385540,
           "1000000000"
          ],
          [
           "Equihash",
           6921653.89980891,
           "17000000"
          ],
          [
           "Scrypt",
           99843408.3158479,
           "100000000 "
          ],
          [
           "Lyra2RE",
           18545757.5,
           "21000000"
          ],
          [
           "Dagger-Hashimoto",
           2232901,
           "2232901"
          ],
          [
           "Scrypt",
           64096052,
           "4000000000"
          ],
          [
           "NIST5",
           10123200,
           "48252000"
          ],
          [
           "Scrypt",
           20276099.146524,
           "35520400"
          ],
          [
           "SHA-256",
           1317747500,
           "2500000000"
          ],
          [
           "Scrypt",
           13673406.4325268,
           "72000000"
          ],
          [
           "CryptoNight-V7",
           69036016.8340164,
           "105000000"
          ],
          [
           "Argon2d",
           19784224.6512734,
           "0"
          ],
          [
           "Blake2b",
           133248297,
           "340282367"
          ],
          [
           "Cloverhash",
           18407259.0885883,
           "30000000"
          ],
          [
           "CryptoNight",
           1809467143,
           "2000000000"
          ],
          [
           "X11",
           35138975,
           "100000000"
          ],
          [
           "Scrypt",
           18133195,
           "19276800"
          ],
          [
           "Scrypt",
           5167775,
           " 75000000"
          ],
          [
           "X11",
           26042364.3735553,
           "60000000"
          ],
          [
           "X11",
           2622886,
           "18900000"
          ],
          [
           "CryptoNight",
           14161803,
           "54000000"
          ],
          [
           "Time Travel",
           17801865.1605478,
           "21000000"
          ],
          [
           "Scrypt",
           163055097500,
           "200000000000"
          ],
          [
           "Keccak",
           2241009149.22257,
           "5000000000"
          ],
          [
           "X11",
           122475638.389743,
           "1100000000"
          ],
          [
           "SHA-256",
           17995589.6469082,
           "21000000"
          ],
          [
           "Scrypt",
           485214,
           "10500000000"
          ],
          [
           "Scrypt",
           143006669741.687,
           "0"
          ],
          [
           "Scrypt",
           9704042,
           "20000000"
          ],
          [
           "Scrypt",
           17453749.4042601,
           "84000000"
          ],
          [
           "Scrypt",
           32646731.063036,
           "100000000"
          ],
          [
           "Scrypt",
           33716526,
           "100000000"
          ],
          [
           "CryptoNight",
           8946653,
           "88888888"
          ],
          [
           "Equihash",
           5211553258.01514,
           "21000000000"
          ],
          [
           "X11",
           2702855668.85288,
           "1800000000"
          ],
          [
           "NeoScrypt",
           4165967.57499639,
           "27000000"
          ],
          [
           "Equihash",
           17202361.088994,
           "21000000"
          ],
          [
           "Dagger",
           33986980,
           "156306732.71"
          ],
          [
           "Scrypt",
           99990001.493466,
           "100000000"
          ],
          [
           "X11",
           175215859,
           "350000000"
          ],
          [
           "NeoScrypt",
           6375259.04,
           "45000000"
          ],
          [
           "Ethash",
           12756367,
           "280000000"
          ],
          [
           "NeoScrypt",
           5832306.875,
           "31800000"
          ],
          [
           "Multiple",
           481730566.566176,
           "660000000"
          ],
          [
           "CryptoNight",
           19281821413.4924,
           "85000000000"
          ],
          [
           "CryptoNight",
           4500000,
           "12500000"
          ],
          [
           "Ethash",
           520891780,
           "10000000000"
          ],
          [
           "X11",
           80316207,
           "550000000"
          ],
          [
           "CryptoNight-V7",
           441250233.377,
           "999481516"
          ],
          [
           "Scrypt",
           3964201248.87125,
           "4999999999"
          ],
          [
           "BLAKE256",
           30089671530.5228,
           " 90000000000"
          ],
          [
           "X11",
           4229040.50393462,
           "19800000"
          ],
          [
           "NeoScrypt",
           7847417.33355824,
           "21000000"
          ],
          [
           "NeoScrypt",
           299797953,
           "500000000"
          ],
          [
           "Scrypt",
           45483049.3398182,
           "64000000"
          ],
          [
           "X11",
           8478104.33969947,
           "23000000"
          ],
          [
           "SHA-256",
           20166000,
           "20166000"
          ],
          [
           "C11",
           11916588.09471,
           "23000000"
          ],
          [
           "Ethash",
           1618033,
           "1618033"
          ],
          [
           "CryptoNight",
           53139835213.77,
           "1000000000000"
          ],
          [
           "SkunkHash",
           4818338.98949984,
           "16600000"
          ],
          [
           "CryptoNight",
           133932467.774108,
           "336000000"
          ],
          [
           "Scrypt",
           10000000000,
           "10000000000"
          ],
          [
           "Dagger",
           107325266.027783,
           "100000000"
          ],
          [
           "Lyra2REv2",
           643795911.540095,
           "1100000000"
          ],
          [
           "Scrypt",
           12446100.00278,
           "40000000"
          ],
          [
           "Scrypt",
           14491014421,
           "18406979840"
          ],
          [
           "X11",
           211297638.500483,
           "500000000"
          ],
          [
           "Ethash",
           247612453,
           "6500000000"
          ],
          [
           "CryptoNight",
           80049082.9057215,
           "1000000000"
          ],
          [
           "Scrypt",
           4070212.1493016,
           "21000000"
          ],
          [
           "IMesh",
           25000000,
           "25000000"
          ],
          [
           "Equihash",
           71355477,
           "70000000"
          ],
          [
           "Lyra2Z",
           27340501.6514783,
           "300000000"
          ],
          [
           "X11",
           31801461.1867843,
           "100000000"
          ],
          [
           "CryptoNight",
           16016864,
           "18400000"
          ],
          [
           "NIST5",
           21069346.2522598,
           "21000000"
          ],
          [
           "Lyra2RE",
           5097689.71077377,
           "26280000"
          ],
          [
           "Tribus",
           795447,
           "18000000"
          ],
          [
           "Lyra2Z",
           6986399.70430446,
           "10500000"
          ],
          [
           "CryptoNight",
           84300,
           "600000518"
          ],
          [
           "CryptoNight Heavy",
           19153632,
           "150000000"
          ],
          [
           "CryptoNight",
           41294520017,
           "184000000000"
          ],
          [
           "Jump Consistent Hash",
           135862416.039898,
           "168000000"
          ],
          [
           "CryptoNight",
           560085952.404637,
           "1000000000"
          ],
          [
           "X16R",
           8125865.02097646,
           "22075700"
          ],
          [
           "HMQ1725",
           8645406.16776286,
           "21000000"
          ],
          [
           "X11",
           4993030.69736615,
           "21000000"
          ],
          [
           "Scrypt",
           1416663.06600024,
           "22105263"
          ],
          [
           "CryptoNight-V7",
           15580199.3087496,
           "1750000000"
          ],
          [
           "Cryptonight-GPU",
           4890897,
           "88188888"
          ],
          [
           "XEVAN",
           14746153.0962884,
           "210000000"
          ],
          [
           "CryptoNight Heavy",
           99553110528.8022,
           "184470000000"
          ],
          [
           "SHA-256",
           2100000000,
           "2100000000"
          ],
          [
           "X11",
           5015881.37315389,
           "25000000"
          ],
          [
           "X16R",
           9753753.61515394,
           "100000000"
          ],
          [
           "Equihash",
           4235111504,
           "7600000000"
          ],
          [
           "Lyra2Z",
           13634850,
           "84000000"
          ],
          [
           "SHA-256",
           17992514.6469233,
           "21000000"
          ],
          [
           "CryptoNight",
           1867054873.28397,
           "8080000000"
          ],
          [
           "Blake",
           1578281.31341127,
           "105120001.44"
          ],
          [
           "Blake",
           15846721.2482747,
           "25228800"
          ],
          [
           "Equihash",
           13475920,
           "105000000"
          ],
          [
           "Exosis",
           406091.925,
           "21000000"
          ],
          [
           "Scrypt",
           35284717.173946,
           "120000000"
          ],
          [
           "Equihash",
           35687520,
           "262800000"
          ],
          [
           "Equihash",
           25150787.5,
           "30886000"
          ],
          [
           "QuBit",
           12925790.4226959,
           "100000000"
          ],
          [
           "SHA-256",
           52293836.6277958,
           "64000000"
          ],
          [
           "X13",
           1170292.5,
           "2100000"
          ],
          [
           "SHA-256",
           84613099.9999955,
           "168000000"
          ],
          [
           "Scrypt",
           55565076.3863525,
           "98100000000"
          ],
          [
           "NeoScrypt",
           3824685012,
           "4000000000"
          ],
          [
           "Blake",
           23356790.1494191,
           "7000000000"
          ],
          [
           "Scrypt",
           780210700,
           "1000000000"
          ],
          [
           "SHA-256",
           22986929.0854247,
           "42000000"
          ],
          [
           "Scrypt",
           29583989322.9213,
           "50000000000"
          ],
          [
           "Groestl",
           73298203.8873662,
           "105000000"
          ],
          [
           "Scrypt",
           5052555.91981545,
           "5000000"
          ],
          [
           "Scrypt",
           69684455.4387001,
           "182000000"
          ],
          [
           "Multiple",
           3332922.5,
           "2800000"
          ],
          [
           "Equihash+Scrypt",
           100000000,
           "2100000000"
          ],
          [
           "Ethash",
           24487944.0958204,
           "24487944"
          ],
          [
           "CryptoNight",
           980222595,
           "1400222610"
          ],
          [
           "Equihash",
           7296537.5,
           "21000000"
          ]
         ],
         "hovertemplate": "<b>%{hovertext}</b><br><br>Class=%{marker.color}<br>PC 1=%{x}<br>PC 2=%{y}<br>PC 3=%{z}<br>Algorithm=%{customdata[0]}<br>TotalCoinsMined=%{customdata[1]}<br>TotalCoinSupply=%{customdata[2]}<extra></extra>",
         "hovertext": [
          "Bitcoin",
          "Ethereum",
          "Litecoin",
          "Monero",
          "Ethereum Classic",
          "ZCash",
          "DigiByte",
          "ProsperCoin",
          "Spreadcoin",
          "Argentum",
          "MyriadCoin",
          "MoonCoin",
          "ZetaCoin",
          "SexCoin",
          "Quatloo",
          "QuarkCoin",
          "Riecoin",
          "Digitalcoin ",
          "Catcoin",
          "CannaCoin",
          "CryptCoin",
          "Verge",
          "DevCoin",
          "EarthCoin",
          "E-Gulden",
          "Einsteinium",
          "Emerald",
          "Franko",
          "FeatherCoin",
          "GrandCoin",
          "GlobalCoin",
          "GoldCoin",
          "Infinite Coin",
          "IXcoin",
          "KrugerCoin",
          "LuckyCoin",
          "Litebar ",
          "MegaCoin",
          "MediterraneanCoin",
          "MinCoin",
          "NobleCoin",
          "Namecoin",
          "NyanCoin",
          "RonPaulCoin",
          "StableCoin",
          "SmartCoin",
          "SysCoin",
          "TigerCoin",
          "TerraCoin",
          "UnbreakableCoin",
          "Unobtanium",
          "UroCoin",
          "ViaCoin",
          "Vertcoin",
          "WorldCoin",
          "JouleCoin",
          "ByteCoin",
          "DigitalNote ",
          "MonaCoin",
          "Gulden",
          "PesetaCoin",
          "Wild Beast Coin",
          "Flo",
          "ArtByte",
          "Folding Coin",
          "Unitus",
          "CypherPunkCoin",
          "OmniCron",
          "GreenCoin",
          "Cryptonite",
          "MasterCoin",
          "SoonCoin",
          "1Credit",
          "MarsCoin ",
          "Crypto",
          "Anarchists Prime",
          "BowsCoin",
          "Song Coin",
          "BitZeny",
          "Expanse",
          "Siacoin",
          "MindCoin",
          "I0coin",
          "Revolution VR",
          "HOdlcoin",
          "Gamecredits",
          "CarpeDiemCoin",
          "Adzcoin",
          "SoilCoin",
          "YoCoin",
          "SibCoin",
          "Francs",
          "BolivarCoin",
          "Omni",
          "PizzaCoin",
          "Komodo",
          "Karbo",
          "ZayedCoin",
          "Circuits of Value",
          "DopeCoin",
          "DollarCoin",
          "Shilling",
          "ZCoin",
          "Elementrem",
          "ZClassic",
          "KiloCoin",
          "ArtexCoin",
          "Kurrent",
          "Cannabis Industry Coin",
          "OsmiumCoin",
          "Bikercoins",
          "HexxCoin",
          "PacCoin",
          "Citadel",
          "BeaverCoin",
          "VaultCoin",
          "Zero",
          "Canada eCoin",
          "Zoin",
          "DubaiCoin",
          "EB3coin",
          "Coinonat",
          "BenjiRolls",
          "ILCoin",
          "EquiTrader",
          "Quantum Resistant Ledger",
          "Dynamic",
          "Nano",
          "ChanCoin",
          "Dinastycoin",
          "DigitalPrice",
          "Unify",
          "SocialCoin",
          "ArcticCoin",
          "DAS",
          "LeviarCoin",
          "Bitcore",
          "gCn Coin",
          "SmartCash",
          "Onix",
          "Bitcoin Cash",
          "Sojourn Coin",
          "NewYorkCoin",
          "FrazCoin",
          "Kronecoin",
          "AdCoin",
          "Linx",
          "Sumokoin",
          "BitcoinZ",
          "Elements",
          "VIVO Coin",
          "Bitcoin Gold",
          "Pirl",
          "eBoost",
          "Pura",
          "Innova",
          "Ellaism",
          "GoByte",
          "SHIELD",
          "UltraNote",
          "BitCoal",
          "DaxxCoin",
          "AC3",
          "Lethean",
          "PopularCoin",
          "Photon",
          "Sucre",
          "SparksPay",
          "GunCoin",
          "IrishCoin",
          "Pioneer Coin",
          "UnitedBitcoin",
          "Interzone",
          "1717 Masonic Commemorative Token",
          "TurtleCoin",
          "MUNcoin",
          "Niobio Cash",
          "ShareChain",
          "Travelflex",
          "KREDS",
          "BitFlip",
          "LottoCoin",
          "Crypto Improvement Fund",
          "Callisto Network",
          "BitTube",
          "Poseidon",
          "Aidos Kuneen",
          "Bitrolium",
          "Alpenschillling",
          "FuturoCoin",
          "Monero Classic",
          "Jumpcoin",
          "Infinex",
          "KEYCO",
          "GINcoin",
          "PlatinCoin",
          "Loki",
          "Newton Coin",
          "MassGrid",
          "PluraCoin",
          "Motion",
          "PlusOneCoin",
          "Axe",
          "HexCoin",
          "Webchain",
          "Ryo",
          "Urals Coin",
          "Qwertycoin",
          "Project Pai",
          "Azart",
          "Xchange",
          "CrypticCoin",
          "Actinium",
          "Bitcoin SV",
          "FREDEnergy",
          "Universal Molecule",
          "Lithium",
          "PirateCash",
          "Exosis",
          "Block-Logic",
          "Beam",
          "Bithereum",
          "SLICE",
          "BLAST",
          "Bitcoin Rhodium",
          "GlobalToken",
          "SolarCoin",
          "UFO Coin",
          "BlakeCoin",
          "Crypto Escudo",
          "Crown Coin",
          "SmileyCoin",
          "Groestlcoin",
          "Bata",
          "Pakcoin",
          "JoinCoin",
          "Vollar",
          "Reality Clash",
          "Beldex",
          "Horizen"
         ],
         "legendgroup": "3",
         "marker": {
          "color": [
           3,
           3,
           3,
           3,
           3,
           3,
           3,
           3,
           3,
           3,
           3,
           3,
           3,
           3,
           3,
           3,
           3,
           3,
           3,
           3,
           3,
           3,
           3,
           3,
           3,
           3,
           3,
           3,
           3,
           3,
           3,
           3,
           3,
           3,
           3,
           3,
           3,
           3,
           3,
           3,
           3,
           3,
           3,
           3,
           3,
           3,
           3,
           3,
           3,
           3,
           3,
           3,
           3,
           3,
           3,
           3,
           3,
           3,
           3,
           3,
           3,
           3,
           3,
           3,
           3,
           3,
           3,
           3,
           3,
           3,
           3,
           3,
           3,
           3,
           3,
           3,
           3,
           3,
           3,
           3,
           3,
           3,
           3,
           3,
           3,
           3,
           3,
           3,
           3,
           3,
           3,
           3,
           3,
           3,
           3,
           3,
           3,
           3,
           3,
           3,
           3,
           3,
           3,
           3,
           3,
           3,
           3,
           3,
           3,
           3,
           3,
           3,
           3,
           3,
           3,
           3,
           3,
           3,
           3,
           3,
           3,
           3,
           3,
           3,
           3,
           3,
           3,
           3,
           3,
           3,
           3,
           3,
           3,
           3,
           3,
           3,
           3,
           3,
           3,
           3,
           3,
           3,
           3,
           3,
           3,
           3,
           3,
           3,
           3,
           3,
           3,
           3,
           3,
           3,
           3,
           3,
           3,
           3,
           3,
           3,
           3,
           3,
           3,
           3,
           3,
           3,
           3,
           3,
           3,
           3,
           3,
           3,
           3,
           3,
           3,
           3,
           3,
           3,
           3,
           3,
           3,
           3,
           3,
           3,
           3,
           3,
           3,
           3,
           3,
           3,
           3,
           3,
           3,
           3,
           3,
           3,
           3,
           3,
           3,
           3,
           3,
           3,
           3,
           3,
           3,
           3,
           3,
           3,
           3,
           3,
           3,
           3,
           3,
           3,
           3,
           3,
           3,
           3,
           3,
           3,
           3,
           3,
           3,
           3,
           3,
           3,
           3,
           3,
           3,
           3,
           3,
           3,
           3,
           3,
           3,
           3,
           3,
           3,
           3,
           3
          ],
          "coloraxis": "coloraxis",
          "symbol": "diamond"
         },
         "mode": "markers",
         "name": "3",
         "scene": "scene",
         "showlegend": true,
         "type": "scatter3d",
         "x": [
          -0.144102434414887,
          -0.15448637639494883,
          -0.16713138276419823,
          -0.15217075659587123,
          -0.15293066915358408,
          -0.139740676111788,
          0.16288397479898342,
          -0.1682761489575576,
          -0.23469006414088356,
          -0.1678932284705643,
          -0.09018503729998449,
          2.5495921975006577,
          -0.14119109347652772,
          -0.16515223203209503,
          -0.16769756393411595,
          -0.2221999876972368,
          -0.21152728404766846,
          -0.167746167148395,
          -0.16825843571031596,
          -0.16834477317616905,
          -0.2347792977547579,
          0.18661493916159366,
          0.23325747837843894,
          0.08006584381529509,
          -0.16809138155529088,
          -0.16370243027653322,
          -0.16803076980134846,
          -0.1684017054284884,
          -0.18514522946963421,
          -0.14765134635675664,
          -0.16719834554901125,
          -0.16747547362111695,
          1.5782688442761341,
          -0.1440638490125713,
          -0.1647684474851928,
          -0.16811779010216535,
          -0.16847214911421832,
          -0.1677323520832809,
          -0.1659592623512618,
          -0.16835357283981164,
          -0.03344873566879681,
          -0.14414136881163686,
          -0.16202559477570627,
          -0.1683330617661979,
          -0.16643011425760298,
          -0.1678204693681084,
          -0.13131032191516037,
          -0.14360581939452896,
          -0.14389267781954246,
          -0.14387576376534847,
          -0.144465609206014,
          -0.23495295039495298,
          -0.16804988693301742,
          -0.17362624493709392,
          -0.16515697340420626,
          -0.1436730311973982,
          3.8524905535248024,
          0.455808133650421,
          -0.16691898047731316,
          -0.15153924956358422,
          -0.16563942696304507,
          -0.16847435857129328,
          -0.16550461049874896,
          -0.15174614907944958,
          -0.14535279149961502,
          -0.12414759320751848,
          -0.18703134694781556,
          -0.1683475861779286,
          -0.041455468924675866,
          -0.11709915429982837,
          -0.1684832364293334,
          -0.14416911387440187,
          0.48271433010382603,
          -0.23434092325653244,
          -0.16033376069020225,
          -0.14390935019881212,
          -0.23462546346975444,
          -0.16660965994552215,
          -0.16580293075189323,
          -0.1555526235231576,
          0.36762507935737504,
          -0.23466080816258,
          -0.14406497005248003,
          -0.16444626938872967,
          -0.15303277804654233,
          -0.16704844632542792,
          0.2738835580293072,
          -0.23382265649646716,
          -0.15022211463745846,
          -0.16729576421186615,
          -0.1625683723773858,
          -0.16827343509279968,
          -0.2346241138780691,
          -0.16848329484933375,
          -0.2347739098047973,
          -0.20639699789025076,
          0.3009154478345352,
          -0.1443247270828363,
          -0.10424591852931066,
          -0.1656537437971835,
          -0.14428340700831338,
          -0.16814715128543625,
          -0.1468665984593532,
          -0.15529510155477524,
          -0.1397622679377203,
          -0.09531639255098429,
          -0.22137391326305292,
          -0.23260503360163773,
          0.3009097945120578,
          -0.1684650585569005,
          0.3010403492557989,
          -0.16087345384874233,
          0.4794199216946804,
          -0.15093730319346724,
          -0.16843338410272315,
          -0.22751855996616605,
          -0.1397746196344469,
          -0.16656903824031294,
          -0.16059218644291093,
          -0.17468353917292115,
          -0.1393996588383964,
          -0.19299339721978911,
          -0.167996341857003,
          -0.1106945626458668,
          -0.167818693603279,
          -0.1507950313494564,
          -0.16292119992067128,
          -0.03221158825869201,
          -0.1381069354247832,
          0.33698535446361727,
          -0.2338310750069265,
          -0.16813746787700237,
          -0.16790124575371176,
          -0.23422520754861323,
          -0.23480189642499724,
          0.3013042494555497,
          -0.18555577083622177,
          3.236802255503418,
          -0.11830768905611133,
          -0.22568702516310948,
          -0.1441015996073531,
          -0.09416655791874536,
          1.5764973114095469,
          -0.16823520281724536,
          -0.1676876249641051,
          -0.1673889838937939,
          -0.1673759300681503,
          0.30148756912874797,
          0.07225828039114467,
          -0.1892459282166153,
          -0.189827823446493,
          -0.13962085923017847,
          -0.14898293334849813,
          -0.16656724948462262,
          -0.23035224413933886,
          -0.18967345493837062,
          -0.15366276404421875,
          -0.18977351438958806,
          -0.11439224352153994,
          1.1376893499867602,
          0.30089260280847535,
          -0.078660819798848,
          -0.23009455584575594,
          -0.13992175261605647,
          -0.08473153795280249,
          1.0904701278974989,
          -0.2347759273284604,
          -0.1898253718654524,
          -0.18287240930348075,
          -0.1674871735760907,
          -0.2347014287773938,
          -0.14408101922518976,
          -0.2133161880874587,
          -0.2660460053386472,
          8.02752335612834,
          -0.1735415412868841,
          0.3047618075523969,
          0.02431010083137658,
          -0.14848660561116622,
          -0.15920335877227149,
          -0.1680601766932047,
          0.13861781441251986,
          -0.22885021504950726,
          -0.10676965602862243,
          0.3088043391189002,
          -0.16829686944566494,
          -0.16772298162020116,
          -0.13861323412759968,
          -0.14465330533599347,
          -0.23387179993643886,
          0.3010748958850129,
          -0.1930527296849334,
          -0.16071890842570674,
          -0.15301738774987458,
          -0.14695085272285324,
          0.30499725744773226,
          0.5635946129609418,
          2.107049064900936,
          -0.15317087381221925,
          0.31466183328003805,
          -0.1947479924730471,
          -0.15493660870949275,
          -0.23475811096293503,
          -0.16832142507629252,
          -0.13980341868595236,
          -0.16179724504923546,
          -0.15954173052415183,
          3.0828073709013766,
          -0.10398072131912567,
          -0.23472951872480288,
          -0.19417655302350584,
          -0.034506357407515224,
          -0.14634946825313466,
          -0.1441016371290429,
          0.38072443352387336,
          -0.13673922147386233,
          -0.13713061355360306,
          -0.24934859198816212,
          -0.14326900992405778,
          -0.16721522767324973,
          -0.13768375443070097,
          -0.13945389454237006,
          -0.18624345925447355,
          -0.1433787172166171,
          -0.10945424438254427,
          -0.14224820322616621,
          0.526569219046466,
          -0.11508688464687464,
          -0.08766908491021061,
          -0.15189655980670763,
          -0.14389204900378663,
          0.5464114786293535,
          -0.21108884162662184,
          -0.16839813635520487,
          -0.16635661816972172,
          -0.1248816288577645,
          -0.15117742216940583,
          -0.15532821769228927,
          0.32262133108536156,
          -0.1397417318287654
         ],
         "y": [
          -1.3308749365326118,
          -1.9888684960577894,
          -1.0688994445979498,
          -2.2860581030347626,
          -1.9889557965239795,
          -2.2729139621864745,
          -1.8916084108272795,
          -1.0688977141675218,
          -0.9683895180370996,
          -1.0689132679001432,
          -1.8877613640700812,
          -1.233094545321234,
          -1.330871534961538,
          -1.0689414200936622,
          -1.068930795920147,
          -0.516348348196565,
          -1.1782848488357942,
          -1.0688971490232648,
          -1.0688970751905864,
          -1.0688948216662923,
          -0.968391371090589,
          -1.8877166288485903,
          -1.3315899524920303,
          -1.0691446976839296,
          -1.0688910489803372,
          -1.0689231267273727,
          -1.0688963749904095,
          -1.0688955749358242,
          -1.5197588861247218,
          -1.0691095749713204,
          -1.068892298832463,
          -1.0689038294897137,
          -1.0677550987907058,
          -1.3308735446262216,
          -1.0689381073625523,
          -1.0688913186733537,
          -1.0688913645341191,
          -1.068892439579508,
          -2.1709878644108818,
          -1.0688929946279673,
          -1.0742639830883913,
          -1.3308763410284277,
          -1.0688880485788128,
          -1.0688997672056562,
          -1.0689875176418708,
          -1.068901901435513,
          -1.3310056017760914,
          -1.3308747868921775,
          -1.3308817119109895,
          -1.3309070539732226,
          -1.3308738662073947,
          -0.968385342178691,
          -1.0688909180342712,
          -1.383530298607484,
          -1.0689521228108656,
          -1.330875837370635,
          -2.2822532816240013,
          -2.28563010104415,
          -1.0689062064915966,
          -1.0694269762451127,
          -1.0689018904456764,
          -1.068892317050518,
          -1.0688926658212141,
          -1.068970031852126,
          -1.9638240834181548,
          -1.8876206029428655,
          -1.645355883518295,
          -1.0688882516042504,
          -1.071138048710522,
          -2.3045364090893865,
          -1.0688912655790925,
          -1.3308773418869912,
          -1.1082316017812952,
          -0.9683858017281174,
          -2.2234967373072907,
          -1.3308903448661922,
          -0.9683878706245611,
          -1.0689668402574615,
          -1.0689648930045503,
          -1.988918505482459,
          -2.2233916788164403,
          -0.9683857308631532,
          -1.3308735850659354,
          -1.0688886355101899,
          -2.1871755625476497,
          -1.0688964527991702,
          -1.330552151671204,
          -0.9684019366844541,
          -2.1578210682543695,
          -1.0689629823581173,
          -2.0426108359058337,
          -1.0688969333163278,
          -0.9683905537517427,
          -1.0688912656171528,
          -0.9683959573991334,
          -2.4469042652658644,
          -2.284394906526885,
          -1.3308752626021965,
          -1.88772222546327,
          -1.0689253636806844,
          -1.3308743882739142,
          -1.0688992073597006,
          -2.200400639025823,
          -1.9889155666670315,
          -2.27291474107691,
          -1.0730809949960616,
          -0.9682369766721973,
          -0.9684563581099742,
          -2.2844026229431256,
          -1.0688920404967133,
          -2.284400645202031,
          -2.223478104543519,
          -1.010910776872242,
          -2.2861399544683696,
          -1.0688913388839054,
          -0.9688001113714987,
          -2.272912454832991,
          -1.0688900861688604,
          -2.223475470756143,
          -1.9730368562194658,
          -1.0705735107026106,
          -0.5571184327131484,
          -1.0688975373249603,
          -1.331362841430038,
          -1.0689160427976212,
          -2.2860801860095146,
          -2.1099210783876012,
          -2.2380475410369636,
          -2.190653037934939,
          -2.2844528188337083,
          -0.9684131676148253,
          -1.0688915346059409,
          -1.0689210695924676,
          -0.9684000671977138,
          -0.9683928009589052,
          -2.284410931059927,
          -1.9942432546531208,
          -1.0826412160488958,
          -1.2577483209617841,
          -0.9688023369843919,
          -1.3308749064182774,
          -1.073380993000682,
          -1.005943472770029,
          -1.0688955541484122,
          -1.0689195101416402,
          -1.0689196643909646,
          -1.0689191934951772,
          -2.2844281455638966,
          -2.2795941089711023,
          -0.9679658499774833,
          -1.5197167707383419,
          -2.2729096399849755,
          -2.157862628327547,
          -1.0688900216423725,
          -0.9684584126012655,
          -1.5197234952943217,
          -1.9890300123727847,
          -1.5197180898002076,
          -1.887719443279075,
          -2.3122537979358064,
          -2.2843974380067036,
          -1.992962739759306,
          -0.968585707486733,
          -2.286298838678851,
          -1.0692843989553749,
          -1.231965167326737,
          -0.9683924788230651,
          -1.519712584584195,
          -1.51978890206165,
          -1.0688986201222028,
          -0.9683919768567532,
          -1.330873594431351,
          -1.082621501163677,
          -0.12403011613249561,
          -2.6886159937161813,
          -1.97778734790517,
          -2.284478797919659,
          -1.0687656614421486,
          -2.157806269256385,
          -1.3837038962906347,
          -1.068902899419854,
          -1.0703837654454542,
          -0.9685066722475341,
          -1.9915863857745673,
          -2.2847864508027063,
          -1.0688984616258403,
          -2.2812020237117747,
          -2.2729067562195544,
          -2.2005110687056035,
          -0.9684146367012281,
          -2.284394891498856,
          -0.5571019612045293,
          -2.223483648039302,
          -2.379116183769349,
          -2.2003962341765866,
          -2.2846506043579127,
          -2.2668131054877136,
          -2.3448980390593204,
          -2.1862588734866213,
          -2.284575151111637,
          -1.264163231776382,
          -2.132439167145421,
          -0.968392655669763,
          -1.0689001022733162,
          -2.286807138735023,
          -2.216072849282905,
          -0.6323383659201561,
          -2.301818428115013,
          -1.3308474692374974,
          -0.9683943560622424,
          -1.264195836641689,
          -2.274293903113425,
          -2.200424737234959,
          -1.330874907771812,
          -2.2870273553590597,
          -2.212840772039216,
          -2.212800328953303,
          -0.40806144034983977,
          -2.2225129857803894,
          -1.0689270554721348,
          -2.2730049000487043,
          -2.2729103686743164,
          -1.6453957570239228,
          -1.330878196571412,
          -0.3242410607597567,
          -1.330908442195376,
          -1.1108156197088672,
          -1.5197339832569305,
          -2.215779523874661,
          -1.0689754576774582,
          -1.330881689227471,
          -1.0772498083890432,
          -1.1782833747404156,
          -1.068891187420772,
          -1.0689384255925196,
          -1.8876489943677022,
          -2.081188036784159,
          -1.9889155882420297,
          -2.2845613582016773,
          -2.2729140002697727
         ],
         "z": [
          0.16576272452382002,
          0.3788457820373435,
          -0.02110727658275029,
          0.39213724308452597,
          0.3788397552985773,
          0.3151037261161481,
          0.2836773225797102,
          -0.021094375233767095,
          0.09462139426528635,
          -0.021096662422863278,
          0.28606012516243584,
          -0.030041249371874232,
          0.16572885734700135,
          -0.0211243011816833,
          -0.02109653351973181,
          0.05824220114481892,
          0.1643433337049686,
          -0.02110053310507354,
          -0.021094665031989656,
          -0.02109397957219125,
          0.09462266917061905,
          0.28287789891755966,
          0.1615295180518134,
          -0.023910545993466054,
          -0.021097398127539486,
          -0.02114341480295601,
          -0.021097372243931406,
          -0.021093224271538438,
          0.21118702718642293,
          -0.021302341069046327,
          -0.021107476066742317,
          -0.021102734370655945,
          -0.041290029371380176,
          0.16576209324595018,
          -0.021129153644444596,
          -0.021097058571770938,
          -0.021092986234701412,
          -0.021101329495625085,
          0.4571091870805335,
          -0.021094126061941387,
          -0.02191463327959862,
          0.16576336151142865,
          -0.021167406950683938,
          -0.021093444109701334,
          -0.021103394343280124,
          -0.02109903682918828,
          0.16563363812761014,
          0.16575700580055072,
          0.1657612353400372,
          0.16576447370134045,
          0.16576674683710474,
          0.09462384518099327,
          -0.021097891997372265,
          0.1531699699272479,
          -0.021122797152083813,
          0.16575791931018102,
          0.327359177818273,
          0.36679209818511704,
          -0.021108797951199326,
          -0.02121473870177436,
          -0.021124064891870457,
          -0.021092831868963755,
          -0.02112686128068083,
          -0.021274255223264215,
          0.4611310761175257,
          0.2864307663508381,
          0.11741415630865767,
          -0.021094837172972298,
          -0.022246149922332703,
          0.3770151261155594,
          -0.02109287241518673,
          0.165763815435532,
          -0.023236666983232037,
          0.09461688466204979,
          0.448388453237772,
          0.16576259593518994,
          0.0946204298658865,
          -0.02110413476775785,
          -0.02111365540172619,
          0.37886479029130593,
          0.3801622616721978,
          0.09462054561292083,
          0.16576211158676413,
          -0.021139551197797753,
          0.2600326686473404,
          -0.02110863346735779,
          0.16092278589457162,
          0.09461312315310122,
          0.32105290197668096,
          -0.02109678453175059,
          0.40772686478589143,
          -0.021094512136268218,
          0.09462077779471652,
          -0.021092871739686058,
          0.09462322853639757,
          0.21797637455702393,
          0.36840212841595144,
          0.165765319406073,
          0.28621616694400204,
          -0.02112072129121823,
          0.16576472685206503,
          -0.021095653184885203,
          0.3246192119426992,
          0.3788614372850853,
          0.3151040793700008,
          -0.02136495633186359,
          0.09444793596170441,
          0.0946065225091077,
          0.3684032384317411,
          -0.021092976040539543,
          0.3684014724950041,
          0.4483921222916214,
          0.09218654379001782,
          0.39213417603589484,
          -0.021093434521616154,
          0.09459471678569104,
          0.31510391144150834,
          -0.021114996805191865,
          0.4483885381305426,
          0.4693618559171733,
          -0.02119874376854966,
          -0.05332690668346445,
          -0.02109760985875134,
          0.16544546682795377,
          -0.02109714183551032,
          0.39212444821477027,
          0.31497270718667986,
          0.38673528081853165,
          0.31173678256564674,
          0.3679960848176094,
          0.0946147409199407,
          -0.021096803530428036,
          -0.021095513731409797,
          0.09461748905091893,
          0.09462312214897811,
          0.3683998375105677,
          0.3626626319540663,
          -0.058304782583636715,
          0.0516651155290607,
          0.09457400211609321,
          0.16576271086592254,
          -0.021337517133785622,
          -0.0496417471302642,
          -0.021095137636796216,
          -0.0210981761621048,
          -0.02110158205465049,
          -0.02110179562223729,
          0.36840006560195654,
          0.31357591355472403,
          0.09404255778340069,
          0.2112350537491824,
          0.3151017658477229,
          0.32104431195932487,
          -0.021115026070194217,
          0.09458095093621496,
          0.21123419323754905,
          0.3788582079188206,
          0.21123460923453985,
          0.28633221506334844,
          0.3625738222442778,
          0.36840273342837343,
          0.37853025745810687,
          0.09459523546123934,
          0.39202929706903933,
          -0.0220006413206941,
          0.011824703925131094,
          0.09462278053263086,
          0.21123445862669182,
          0.21116501299364696,
          -0.021103305698661402,
          0.09462185770348855,
          0.1657622970129849,
          0.22321188316739082,
          0.17657955957185537,
          0.33449197344145104,
          0.4028563776081872,
          0.368369355631766,
          -0.023322109906692475,
          0.3210309832737273,
          0.15302798603000412,
          -0.02109615111366565,
          -0.024414581106880575,
          0.09457025226768401,
          0.3786663753262574,
          0.36836463912076683,
          -0.02109403623547152,
          0.35252512533502856,
          0.3150898131694627,
          0.3246087723984893,
          0.09461540720162408,
          0.36840029677898517,
          -0.05332845684297636,
          0.44839109978184194,
          0.28243149169738,
          0.3246195821134461,
          0.36838992417880356,
          0.35794983930764646,
          0.35587229716370267,
          0.28419034934395887,
          0.368268807375533,
          0.13254772123089217,
          0.3921465700140894,
          0.09462260004999985,
          -0.021093532252908418,
          0.3920967856872085,
          0.23582636234317106,
          0.01743696514678127,
          0.3337841766935023,
          0.16529862389656488,
          0.09462250227452686,
          0.13254558034571165,
          0.314083110549269,
          0.32461654205411394,
          0.16576271147979743,
          0.36784290351935484,
          0.31340044729185,
          0.3133994605627738,
          0.11281319309308432,
          0.4319821680695419,
          -0.021102574755217998,
          0.3150924408109453,
          0.31509994869283553,
          0.11741051626537273,
          0.16575486171779524,
          -0.06565906499151032,
          0.16574598613344863,
          -0.02338989294889155,
          0.21037976322840252,
          0.31323542524194625,
          -0.02127179442311692,
          0.16576122505227422,
          -0.028163879659718685,
          0.16433810309845578,
          -0.0210938594900271,
          -0.021110886929536957,
          0.2864430345738737,
          0.5658262338379831,
          0.3788618202015039,
          0.3681756072028743,
          0.3151037433882467
         ]
        },
        {
         "customdata": [
          [
           "Proof-of-BibleHash",
           1772091549.88818,
           "5200000000"
          ],
          [
           "SHA-256 + Hive",
           638382332.208514,
           "840000000"
          ],
          [
           "Leased POS",
           100000000,
           "100000000"
          ]
         ],
         "hovertemplate": "<b>%{hovertext}</b><br><br>Class=%{marker.color}<br>PC 1=%{x}<br>PC 2=%{y}<br>PC 3=%{z}<br>Algorithm=%{customdata[0]}<br>TotalCoinsMined=%{customdata[1]}<br>TotalCoinSupply=%{customdata[2]}<extra></extra>",
         "hovertext": [
          "BiblePay",
          "LitecoinCash",
          "Waves"
         ],
         "legendgroup": "1",
         "marker": {
          "color": [
           1,
           1,
           1
          ],
          "coloraxis": "coloraxis",
          "symbol": "square"
         },
         "mode": "markers",
         "name": "1",
         "scene": "scene",
         "showlegend": true,
         "type": "scatter3d",
         "x": [
          -0.19960442764232003,
          -0.40892819289375887,
          -0.4300087386288436
         ],
         "y": [
          3.934575544800475,
          3.8075215570856793,
          2.852146941469922
         ],
         "z": [
          13.690564227793692,
          18.49295979032196,
          20.50354909322574
         ]
        },
        {
         "customdata": [
          [
           "TRC10",
           989988713439.649,
           "990000000000"
          ]
         ],
         "hovertemplate": "<b>%{hovertext}</b><br><br>Class=%{marker.color}<br>PC 1=%{x}<br>PC 2=%{y}<br>PC 3=%{z}<br>Algorithm=%{customdata[0]}<br>TotalCoinsMined=%{customdata[1]}<br>TotalCoinSupply=%{customdata[2]}<extra></extra>",
         "hovertext": [
          "BitTorrent"
         ],
         "legendgroup": "2",
         "marker": {
          "color": [
           2
          ],
          "coloraxis": "coloraxis",
          "symbol": "x"
         },
         "mode": "markers",
         "name": "2",
         "scene": "scene",
         "showlegend": true,
         "type": "scatter3d",
         "x": [
          34.03323291596854
         ],
         "y": [
          1.797520396416207
         ],
         "z": [
          -0.6143998443912075
         ]
        }
       ],
       "layout": {
        "coloraxis": {
         "colorbar": {
          "title": {
           "text": "Class"
          }
         },
         "colorscale": [
          [
           0,
           "#0d0887"
          ],
          [
           0.1111111111111111,
           "#46039f"
          ],
          [
           0.2222222222222222,
           "#7201a8"
          ],
          [
           0.3333333333333333,
           "#9c179e"
          ],
          [
           0.4444444444444444,
           "#bd3786"
          ],
          [
           0.5555555555555556,
           "#d8576b"
          ],
          [
           0.6666666666666666,
           "#ed7953"
          ],
          [
           0.7777777777777778,
           "#fb9f3a"
          ],
          [
           0.8888888888888888,
           "#fdca26"
          ],
          [
           1,
           "#f0f921"
          ]
         ]
        },
        "legend": {
         "title": {
          "text": "Class"
         },
         "tracegroupgap": 0,
         "x": 0,
         "y": 1
        },
        "margin": {
         "t": 60
        },
        "scene": {
         "domain": {
          "x": [
           0,
           1
          ],
          "y": [
           0,
           1
          ]
         },
         "xaxis": {
          "title": {
           "text": "PC 1"
          }
         },
         "yaxis": {
          "title": {
           "text": "PC 2"
          }
         },
         "zaxis": {
          "title": {
           "text": "PC 3"
          }
         }
        },
        "template": {
         "data": {
          "bar": [
           {
            "error_x": {
             "color": "#2a3f5f"
            },
            "error_y": {
             "color": "#2a3f5f"
            },
            "marker": {
             "line": {
              "color": "#E5ECF6",
              "width": 0.5
             },
             "pattern": {
              "fillmode": "overlay",
              "size": 10,
              "solidity": 0.2
             }
            },
            "type": "bar"
           }
          ],
          "barpolar": [
           {
            "marker": {
             "line": {
              "color": "#E5ECF6",
              "width": 0.5
             },
             "pattern": {
              "fillmode": "overlay",
              "size": 10,
              "solidity": 0.2
             }
            },
            "type": "barpolar"
           }
          ],
          "carpet": [
           {
            "aaxis": {
             "endlinecolor": "#2a3f5f",
             "gridcolor": "white",
             "linecolor": "white",
             "minorgridcolor": "white",
             "startlinecolor": "#2a3f5f"
            },
            "baxis": {
             "endlinecolor": "#2a3f5f",
             "gridcolor": "white",
             "linecolor": "white",
             "minorgridcolor": "white",
             "startlinecolor": "#2a3f5f"
            },
            "type": "carpet"
           }
          ],
          "choropleth": [
           {
            "colorbar": {
             "outlinewidth": 0,
             "ticks": ""
            },
            "type": "choropleth"
           }
          ],
          "contour": [
           {
            "colorbar": {
             "outlinewidth": 0,
             "ticks": ""
            },
            "colorscale": [
             [
              0,
              "#0d0887"
             ],
             [
              0.1111111111111111,
              "#46039f"
             ],
             [
              0.2222222222222222,
              "#7201a8"
             ],
             [
              0.3333333333333333,
              "#9c179e"
             ],
             [
              0.4444444444444444,
              "#bd3786"
             ],
             [
              0.5555555555555556,
              "#d8576b"
             ],
             [
              0.6666666666666666,
              "#ed7953"
             ],
             [
              0.7777777777777778,
              "#fb9f3a"
             ],
             [
              0.8888888888888888,
              "#fdca26"
             ],
             [
              1,
              "#f0f921"
             ]
            ],
            "type": "contour"
           }
          ],
          "contourcarpet": [
           {
            "colorbar": {
             "outlinewidth": 0,
             "ticks": ""
            },
            "type": "contourcarpet"
           }
          ],
          "heatmap": [
           {
            "colorbar": {
             "outlinewidth": 0,
             "ticks": ""
            },
            "colorscale": [
             [
              0,
              "#0d0887"
             ],
             [
              0.1111111111111111,
              "#46039f"
             ],
             [
              0.2222222222222222,
              "#7201a8"
             ],
             [
              0.3333333333333333,
              "#9c179e"
             ],
             [
              0.4444444444444444,
              "#bd3786"
             ],
             [
              0.5555555555555556,
              "#d8576b"
             ],
             [
              0.6666666666666666,
              "#ed7953"
             ],
             [
              0.7777777777777778,
              "#fb9f3a"
             ],
             [
              0.8888888888888888,
              "#fdca26"
             ],
             [
              1,
              "#f0f921"
             ]
            ],
            "type": "heatmap"
           }
          ],
          "heatmapgl": [
           {
            "colorbar": {
             "outlinewidth": 0,
             "ticks": ""
            },
            "colorscale": [
             [
              0,
              "#0d0887"
             ],
             [
              0.1111111111111111,
              "#46039f"
             ],
             [
              0.2222222222222222,
              "#7201a8"
             ],
             [
              0.3333333333333333,
              "#9c179e"
             ],
             [
              0.4444444444444444,
              "#bd3786"
             ],
             [
              0.5555555555555556,
              "#d8576b"
             ],
             [
              0.6666666666666666,
              "#ed7953"
             ],
             [
              0.7777777777777778,
              "#fb9f3a"
             ],
             [
              0.8888888888888888,
              "#fdca26"
             ],
             [
              1,
              "#f0f921"
             ]
            ],
            "type": "heatmapgl"
           }
          ],
          "histogram": [
           {
            "marker": {
             "pattern": {
              "fillmode": "overlay",
              "size": 10,
              "solidity": 0.2
             }
            },
            "type": "histogram"
           }
          ],
          "histogram2d": [
           {
            "colorbar": {
             "outlinewidth": 0,
             "ticks": ""
            },
            "colorscale": [
             [
              0,
              "#0d0887"
             ],
             [
              0.1111111111111111,
              "#46039f"
             ],
             [
              0.2222222222222222,
              "#7201a8"
             ],
             [
              0.3333333333333333,
              "#9c179e"
             ],
             [
              0.4444444444444444,
              "#bd3786"
             ],
             [
              0.5555555555555556,
              "#d8576b"
             ],
             [
              0.6666666666666666,
              "#ed7953"
             ],
             [
              0.7777777777777778,
              "#fb9f3a"
             ],
             [
              0.8888888888888888,
              "#fdca26"
             ],
             [
              1,
              "#f0f921"
             ]
            ],
            "type": "histogram2d"
           }
          ],
          "histogram2dcontour": [
           {
            "colorbar": {
             "outlinewidth": 0,
             "ticks": ""
            },
            "colorscale": [
             [
              0,
              "#0d0887"
             ],
             [
              0.1111111111111111,
              "#46039f"
             ],
             [
              0.2222222222222222,
              "#7201a8"
             ],
             [
              0.3333333333333333,
              "#9c179e"
             ],
             [
              0.4444444444444444,
              "#bd3786"
             ],
             [
              0.5555555555555556,
              "#d8576b"
             ],
             [
              0.6666666666666666,
              "#ed7953"
             ],
             [
              0.7777777777777778,
              "#fb9f3a"
             ],
             [
              0.8888888888888888,
              "#fdca26"
             ],
             [
              1,
              "#f0f921"
             ]
            ],
            "type": "histogram2dcontour"
           }
          ],
          "mesh3d": [
           {
            "colorbar": {
             "outlinewidth": 0,
             "ticks": ""
            },
            "type": "mesh3d"
           }
          ],
          "parcoords": [
           {
            "line": {
             "colorbar": {
              "outlinewidth": 0,
              "ticks": ""
             }
            },
            "type": "parcoords"
           }
          ],
          "pie": [
           {
            "automargin": true,
            "type": "pie"
           }
          ],
          "scatter": [
           {
            "fillpattern": {
             "fillmode": "overlay",
             "size": 10,
             "solidity": 0.2
            },
            "type": "scatter"
           }
          ],
          "scatter3d": [
           {
            "line": {
             "colorbar": {
              "outlinewidth": 0,
              "ticks": ""
             }
            },
            "marker": {
             "colorbar": {
              "outlinewidth": 0,
              "ticks": ""
             }
            },
            "type": "scatter3d"
           }
          ],
          "scattercarpet": [
           {
            "marker": {
             "colorbar": {
              "outlinewidth": 0,
              "ticks": ""
             }
            },
            "type": "scattercarpet"
           }
          ],
          "scattergeo": [
           {
            "marker": {
             "colorbar": {
              "outlinewidth": 0,
              "ticks": ""
             }
            },
            "type": "scattergeo"
           }
          ],
          "scattergl": [
           {
            "marker": {
             "colorbar": {
              "outlinewidth": 0,
              "ticks": ""
             }
            },
            "type": "scattergl"
           }
          ],
          "scattermapbox": [
           {
            "marker": {
             "colorbar": {
              "outlinewidth": 0,
              "ticks": ""
             }
            },
            "type": "scattermapbox"
           }
          ],
          "scatterpolar": [
           {
            "marker": {
             "colorbar": {
              "outlinewidth": 0,
              "ticks": ""
             }
            },
            "type": "scatterpolar"
           }
          ],
          "scatterpolargl": [
           {
            "marker": {
             "colorbar": {
              "outlinewidth": 0,
              "ticks": ""
             }
            },
            "type": "scatterpolargl"
           }
          ],
          "scatterternary": [
           {
            "marker": {
             "colorbar": {
              "outlinewidth": 0,
              "ticks": ""
             }
            },
            "type": "scatterternary"
           }
          ],
          "surface": [
           {
            "colorbar": {
             "outlinewidth": 0,
             "ticks": ""
            },
            "colorscale": [
             [
              0,
              "#0d0887"
             ],
             [
              0.1111111111111111,
              "#46039f"
             ],
             [
              0.2222222222222222,
              "#7201a8"
             ],
             [
              0.3333333333333333,
              "#9c179e"
             ],
             [
              0.4444444444444444,
              "#bd3786"
             ],
             [
              0.5555555555555556,
              "#d8576b"
             ],
             [
              0.6666666666666666,
              "#ed7953"
             ],
             [
              0.7777777777777778,
              "#fb9f3a"
             ],
             [
              0.8888888888888888,
              "#fdca26"
             ],
             [
              1,
              "#f0f921"
             ]
            ],
            "type": "surface"
           }
          ],
          "table": [
           {
            "cells": {
             "fill": {
              "color": "#EBF0F8"
             },
             "line": {
              "color": "white"
             }
            },
            "header": {
             "fill": {
              "color": "#C8D4E3"
             },
             "line": {
              "color": "white"
             }
            },
            "type": "table"
           }
          ]
         },
         "layout": {
          "annotationdefaults": {
           "arrowcolor": "#2a3f5f",
           "arrowhead": 0,
           "arrowwidth": 1
          },
          "autotypenumbers": "strict",
          "coloraxis": {
           "colorbar": {
            "outlinewidth": 0,
            "ticks": ""
           }
          },
          "colorscale": {
           "diverging": [
            [
             0,
             "#8e0152"
            ],
            [
             0.1,
             "#c51b7d"
            ],
            [
             0.2,
             "#de77ae"
            ],
            [
             0.3,
             "#f1b6da"
            ],
            [
             0.4,
             "#fde0ef"
            ],
            [
             0.5,
             "#f7f7f7"
            ],
            [
             0.6,
             "#e6f5d0"
            ],
            [
             0.7,
             "#b8e186"
            ],
            [
             0.8,
             "#7fbc41"
            ],
            [
             0.9,
             "#4d9221"
            ],
            [
             1,
             "#276419"
            ]
           ],
           "sequential": [
            [
             0,
             "#0d0887"
            ],
            [
             0.1111111111111111,
             "#46039f"
            ],
            [
             0.2222222222222222,
             "#7201a8"
            ],
            [
             0.3333333333333333,
             "#9c179e"
            ],
            [
             0.4444444444444444,
             "#bd3786"
            ],
            [
             0.5555555555555556,
             "#d8576b"
            ],
            [
             0.6666666666666666,
             "#ed7953"
            ],
            [
             0.7777777777777778,
             "#fb9f3a"
            ],
            [
             0.8888888888888888,
             "#fdca26"
            ],
            [
             1,
             "#f0f921"
            ]
           ],
           "sequentialminus": [
            [
             0,
             "#0d0887"
            ],
            [
             0.1111111111111111,
             "#46039f"
            ],
            [
             0.2222222222222222,
             "#7201a8"
            ],
            [
             0.3333333333333333,
             "#9c179e"
            ],
            [
             0.4444444444444444,
             "#bd3786"
            ],
            [
             0.5555555555555556,
             "#d8576b"
            ],
            [
             0.6666666666666666,
             "#ed7953"
            ],
            [
             0.7777777777777778,
             "#fb9f3a"
            ],
            [
             0.8888888888888888,
             "#fdca26"
            ],
            [
             1,
             "#f0f921"
            ]
           ]
          },
          "colorway": [
           "#636efa",
           "#EF553B",
           "#00cc96",
           "#ab63fa",
           "#FFA15A",
           "#19d3f3",
           "#FF6692",
           "#B6E880",
           "#FF97FF",
           "#FECB52"
          ],
          "font": {
           "color": "#2a3f5f"
          },
          "geo": {
           "bgcolor": "white",
           "lakecolor": "white",
           "landcolor": "#E5ECF6",
           "showlakes": true,
           "showland": true,
           "subunitcolor": "white"
          },
          "hoverlabel": {
           "align": "left"
          },
          "hovermode": "closest",
          "mapbox": {
           "style": "light"
          },
          "paper_bgcolor": "white",
          "plot_bgcolor": "#E5ECF6",
          "polar": {
           "angularaxis": {
            "gridcolor": "white",
            "linecolor": "white",
            "ticks": ""
           },
           "bgcolor": "#E5ECF6",
           "radialaxis": {
            "gridcolor": "white",
            "linecolor": "white",
            "ticks": ""
           }
          },
          "scene": {
           "xaxis": {
            "backgroundcolor": "#E5ECF6",
            "gridcolor": "white",
            "gridwidth": 2,
            "linecolor": "white",
            "showbackground": true,
            "ticks": "",
            "zerolinecolor": "white"
           },
           "yaxis": {
            "backgroundcolor": "#E5ECF6",
            "gridcolor": "white",
            "gridwidth": 2,
            "linecolor": "white",
            "showbackground": true,
            "ticks": "",
            "zerolinecolor": "white"
           },
           "zaxis": {
            "backgroundcolor": "#E5ECF6",
            "gridcolor": "white",
            "gridwidth": 2,
            "linecolor": "white",
            "showbackground": true,
            "ticks": "",
            "zerolinecolor": "white"
           }
          },
          "shapedefaults": {
           "line": {
            "color": "#2a3f5f"
           }
          },
          "ternary": {
           "aaxis": {
            "gridcolor": "white",
            "linecolor": "white",
            "ticks": ""
           },
           "baxis": {
            "gridcolor": "white",
            "linecolor": "white",
            "ticks": ""
           },
           "bgcolor": "#E5ECF6",
           "caxis": {
            "gridcolor": "white",
            "linecolor": "white",
            "ticks": ""
           }
          },
          "title": {
           "x": 0.05
          },
          "xaxis": {
           "automargin": true,
           "gridcolor": "white",
           "linecolor": "white",
           "ticks": "",
           "title": {
            "standoff": 15
           },
           "zerolinecolor": "white",
           "zerolinewidth": 2
          },
          "yaxis": {
           "automargin": true,
           "gridcolor": "white",
           "linecolor": "white",
           "ticks": "",
           "title": {
            "standoff": 15
           },
           "zerolinecolor": "white",
           "zerolinewidth": 2
          }
         }
        }
       }
      },
      "text/html": [
       "<div>                            <div id=\"c95f363b-daf6-4adb-91a5-ec476b5a98de\" class=\"plotly-graph-div\" style=\"height:525px; width:100%;\"></div>            <script type=\"text/javascript\">                require([\"plotly\"], function(Plotly) {                    window.PLOTLYENV=window.PLOTLYENV || {};                                    if (document.getElementById(\"c95f363b-daf6-4adb-91a5-ec476b5a98de\")) {                    Plotly.newPlot(                        \"c95f363b-daf6-4adb-91a5-ec476b5a98de\",                        [{\"customdata\":[[\"Scrypt\",41.99995383,\"42\"],[\"Scrypt\",1055184902.04,\"532000000\"],[\"X13\",29279424622.5027,\"314159265359\"],[\"X11\",9031294.37563393,\"22000000\"],[\"SHA-512\",2741570000.0,\"3600570502\"],[\"SHA-256\",1288862.0,\"22000000\"],[\"SHA-256\",11995334.8847328,\"12500000\"],[\"X15\",25542535.5881841,\"350000000\"],[\"Scrypt\",18135099.992959,\"16768584\"],[\"Scrypt\",635423900.0,\"0\"],[\"Scrypt\",123062801.128773,\"0\"],[\"Scrypt\",42579.476901,\"500000\"],[\"Scrypt\",1039116.65144562,\"1000000\"],[\"Scrypt\",39999997299.8568,\"40000000000\"],[\"Groestl\",3304487.74735637,\"4380000\"],[\"PoS\",5679705.0,\"0\"],[\"Scrypt\",461829905.32893,\"0\"],[\"Scrypt\",89266933.684704,\"120000000\"],[\"X11\",1678520090.7713,\"0\"],[\"X11\",17650913.9743456,\"22000000\"],[\"SHA3\",61445805.0,\"100000000\"],[\"Scrypt\",21293925445.4969,\"0\"],[\"SHA-256\",1613836099.99999,\"2419200000\"],[\"Scrypt\",16180000.0,\"16180000\"],[\"X13\",66087096.2077108,\"0\"],[\"X13\",15156364.3306548,\"0\"],[\"NeoScrypt\",3220616.279225,\"3770000\"],[\"Scrypt\",222677226.014206,\"420000000\"],[\"Scrypt\",73959274.625,\"98000000\"],[\"Scrypt\",29315567169.0888,\"0\"],[\"X11\",50707661.7493518,\"0\"],[\"X11\",1177.0,\"1000\"],[\"Multiple\",80260463.7331396,\"100000000\"],[\"PHI1612\",1622326490.46336,\"2300000000\"],[\"X11\",1431851.00002479,\"10000000\"],[\"Scrypt\",1098952592.6,\"1600000000\"],[\"Scrypt\",50235211.141939,\"100000000\"],[\"Scrypt\",32021108.4136696,\"0\"],[\"X11\",6950831.0970606,\"5500000\"],[\"Multiple\",100000000.0,\"0\"],[\"X13\",33093725.4123502,\"0\"],[\"Scrypt\",147990237.978331,\"1000000000\"],[\"Shabal256\",1813033920.0,\"2158812800\"],[\"Counterparty\",51173144.0,\"500000000\"],[\"SHA-256\",39121694.0,\"68000000\"],[\"Groestl\",53193831.0,\"0\"],[\"Scrypt\",27184490.3918338,\"0\"],[\"X13\",2022464.886973,\"12000000\"],[\"Scrypt\",174646113.934655,\"500000000\"],[\"Scrypt\",1467841.0,\"0\"],[\"X13\",7096834.0,\"10000000\"],[\"X11\",2689812.0,\"20000000\"],[\"Scrypt\",11604722.0,\"20000000\"],[\"X11\",1513704.0,\"0\"],[\"SHA3\",63657220.0,\"78000000\"],[\"QUAIT\",8568038.35935056,\"5060000\"],[\"X11\",329200.01639,\"0\"],[\"Scrypt\",100000000.0,\"100000000\"],[\"X13\",23042604.0,\"50000000\"],[\"SHA-256\",43059794.804778,\"1000000000\"],[\"X15\",13530556.4180753,\"26298000\"],[\"BLAKE256\",10365046.9281661,\"21000000\"],[\"SHA-256\",3669691.84494672,\"22000000\"],[\"X11\",10996318099.0,\"26550000000\"],[\"SHA-256\",5129014.0,\"10500000\"],[\"NIST5\",10069449031.9252,\"0\"],[\"Scrypt\",8998743.2411911,\"42000000\"],[\"Scrypt\",40477042.0,\"221052632\"],[\"X11\",10407269.7881868,\"384000000\"],[\"Scrypt\",36971236046.8073,\" 99000000000\"],[\"SHA-256\",4377081.60953993,\"40000000\"],[\"Scrypt\",2147483647.0,\"2147483647\"],[\"PoS\",20000000.0,\"20000000\"],[\"X11\",134554941.15119,\"75000000\"],[\"SHA-256\",1195525.0,\"222725000\"],[\"SHA-256\",16662820.0,\"525000000\"],[\"NIST5\",83450403.0,\"90000000\"],[\"X11\",24387724.5010828,\"139000000\"],[\"POS 3.0\",38589808.6658096,\"33500000\"],[\"Scrypt\",813092338.575672,\"2000000000\"],[\"Scrypt\",4526324.0,\"44333333\"],[\"Scrypt\",100000000.0,\"100000000\"],[\"X13\",5000000.0,\"200000000\"],[\"X11\",657000000.0,\"657000000\"],[\"X11\",15563873.0,\"50000000\"],[\"Scrypt\",43165500.0,\"90000000\"],[\"SHA-256\",595429.0,\"21000000\"],[\"X11\",657636.34549789,\"3000000\"],[\"Scrypt\",2581970.0,\"21000000\"],[\"Scrypt\",1939889.0,\"0\"],[\"Scrypt\",169598616.0,\"0\"],[\"Scrypt\",665200057.0,\"3100000000\"],[\"SHA-256D\",19577787259.0,\"20000000000\"],[\"PoS\",74033806.7949683,\"74000000\"],[\"Scrypt\",33522957.0,\"0\"],[\"X11\",264678458.288619,\"1500000000\"],[\"PoS\",148716816.0,\"39999898\"],[\"X13\",2500124.0,\"2500124\"],[\"X14\",100000000.0,\"100000000\"],[\"PoS\",17818682.1654,\"301000000\"],[\"SHA-256D\",1082162635.53683,\"7506000000\"],[\"DPoS\",108202084.0,\"125000000\"],[\"X11\",18342813.0,\"30000000\"],[\"X13\",92192822723.0,\"850000000\"],[\"X11\",3853326.77707314,\"3853326.77707314\"],[\"PoS\",50000000.0,\"50000000\"],[\"Scrypt\",17089600.0,\"38540000 \"],[\"Scrypt\",2449577.41533168,\"42000000\"],[\"PoS\",20000000.0,\"20000000\"],[\"X11\",6069482.07721352,\"60000000\"],[\"SHA-256\",12416554.0,\"20000000\"],[\"Scrypt\",20244023.640728,\"33000000\"],[\"X11\",75590369.0,\"76500000\"],[\"Scrypt\",11080722.3769581,\"28000000\"],[\"Scrypt\",10914418.0,\"650659833\"],[\"X11\",814671.0,\"5000000\"],[\"Scrypt\",8377873.0,\"144000000\"],[\"Scrypt\",33813143821.8337,\"32514916898\"],[\"Scrypt\",3472983.0,\"13000000\"],[\"Scrypt\",3315789.0,\"3315789\"],[\"Quark\",10517772.7391666,\"15000000\"],[\"QuBit\",30227750.0,\"78835200\"],[\"Scrypt\",23965372.0,\"500000000\"],[\"SHA-256\",2526078.47525448,\"21000000\"],[\"X11\",5659096.95728771,\"9354000\"],[\"Scrypt\",11821728.0,\"20000000\"],[\"Scrypt\",308179.0,\"21933333\"],[\"Scrypt\",2922613.96424908,\"55000000\"],[\"Scrypt\",110000000.0,\"110000000\"],[\"X13\",14524851.4827,\"14524851.4827\"],[\"Scrypt\",1000000000.0,\"1000000000\"],[\"Scrypt\",36050365.0,\"34426423\"],[\"X11\",13162749.0858027,\"100000000\"],[\"Blake2S\",12184195.9258495,\"36900000\"],[\"X11\",110630387.850471,\"110000000\"],[\"PoS\",111135836.889,\"110290030\"],[\"X11\",21521322.0099142,\"100000000\"],[\"PoS\",401421401.0,\"400000000\"],[\"X11\",121665451.643876,\"500000000\"],[\"Scrypt\",5368934.0,\"21212121\"],[\"Scrypt\",1148324.0,\"28600000\"],[\"Scrypt\",500000.0,\"1000000000\"],[\"SHA-256\",100545745.0,\"75000000000\"],[\"X11\",17171382.0,\"40000000\"],[\"Scrypt\",295135466.361878,\"2000000000\"],[\"PoS\",11390225.9742772,\"30000000\"],[\"Scrypt\",21358764.0,\"105000000\"],[\"X15\",40659020000.0,\"90000000000\"],[\"SHA-256\",10343113.0,\"200084200\"],[\"POS 3.0\",100000000.0,\"100000000\"],[\"536\",22801882871.0,\"50000000000\"],[\"NIST5\",4171382.0,\"10000000\"],[\"NIST5\",62942075.0,\"120000000\"],[\"Skein\",6804362.0,\"100000000\"],[\"X13\",21268092.0,\"30000000\"],[\"Scrypt\",9044930943.24243,\"50000000000\"],[\"X13\",21917018.0492836,\"18898187.6216583\"],[\"SkunkHash v2 Raptor\",107972766.0,\"137500000\"],[\"Skein\",47331802.4774238,\"100000000\"],[\"X11\",12569262.5359307,\"9507271\"],[\"Scrypt\",18663297.3489799,\"17405891.19707116\"],[\"VeChainThor Authority\",55454734800.0,\"86712634466\"],[\"PoS\",4000000.0,\"61599965\"],[\"Scrypt\",19539588.0,\"48252000\"],[\"Scrypt\",4200000.0,\"4200000\"],[\"SHA-512\",25000000.0,\"91388946\"],[\"Ouroboros\",25927070538.0,\"45000000000\"],[\"X11\",7262402.04264803,\"27000000\"],[\"NeoScrypt\",182638400.0,\"400000000\"],[\"Scrypt\",1140734.91680375,\"15733333\"],[\"Lyra2REv2\",24000000.0,\"24000000\"],[\"Scrypt\",48459472454.0,\"25000000000\"],[\"SHA-256\",92050800.0,\"100000000\"],[\"NIST5\",560563220.0,\"1200000000\"],[\"PHI1612\",8305775.31777569,\"60000000\"],[\"Scrypt\",2149688.0,\"21000000\"],[\"Quark\",30711550.5294042,\"200000000\"],[\"POS 2.0\",12330806.30517,\"21000000\"],[\"Scrypt\",16362544.992,\"14788275.991\"],[\"SHA-256\",8999999990.0,\"9000000000\"],[\"X11\",38198594.8342105,\"144000000\"],[\"DPoS\",288090567.493887,\"500000000\"],[\"NIST5\",28399150208.0,\"30000000000\"],[\"X13\",183534024.889807,\"210000000\"],[\"Scrypt\",110976977.29338,\"210000000\"],[\"NIST5\",13247178.8807286,\"27716121\"],[\"Quark\",16955764.902064,\"20000000\"],[\"Scrypt\",4911500269.41,\"50000000000\"],[\"Scrypt\",8419402.321,\"150000000\"],[\"X11\",45174214.1078625,\"50000000\"],[\"Quark\",27299680.0,\"120000000\"],[\"Scrypt\",591022748.0,\"900000000\"],[\"Scrypt\",2504486.227718,\"4000000\"],[\"X11\",4407252.0,\"21000000\"],[\"POS 3.0\",20445861.5344251,\"25000000\"],[\"Scrypt\",9399342.52839847,\"30000000\"],[\"Scrypt\",234846265.782157,\"232000000\"],[\"X13\",230298925.0,\"800000000\"],[\"C11\",11251342.1879021,\"19340594\"],[\"Proof-of-Authority\",204479039.0,\"252460800\"],[\"X11\",2167827.1,\"25000000\"],[\"XEVAN\",419275.38,\"60000000\"],[\"Scrypt\",25570013.1348022,\"124000000\"],[\"VBFT\",650848625.0,\"1000000000\"],[\"NIST5\",13787854.6277781,\"50000000\"],[\"Scrypt\",845637.81347436,\"3000000\"],[\"Scrypt\",1182153.5,\"5000000\"],[\"Scrypt\",267297676.3125,\"500000000\"],[\"Green Protocol\",9803691.3618195,\"21000000\"],[\"PoS\",21876586.8530324,\"88000000\"],[\"Scrypt\",9880502.37178894,\"30000000\"],[\"Semux BFT consensus\",1231147.0,\"100000000\"],[\"Quark\",139739596.506702,\"200000000\"],[\"PoS\",11075254.0929996,\"80000000\"],[\"X16R\",4403800.0,\"45000000\"],[\"Scrypt\",1404157529.46026,\"5121951220\"],[\"XEVAN\",10904963.0923455,\"21000000\"],[\"Scrypt\",38706809.466535,\"26000000\"],[\"Scrypt\",10200000000.0,\"10200000000\"],[\"Scrypt\",7630000.0154,\"44000000\"],[\"SHA-256D\",33238183.7225834,\"100000000\"],[\"Scrypt\",21599339.6728,\"84000000\"],[\"X15\",30284196.369129,\"90000000\"],[\"Scrypt\",77872059787.8998,\"92000000000\"],[\"Quark\",2716264.95302831,\"650000000 \"],[\"SHA-256\",57811001.000889,\"100262205\"],[\"DPoS\",18194936.0,\"18081806 \"],[\"X16R\",36923120.6205934,\"82546564\"],[\"Quark\",7082392.24744494,\"21000000\"],[\"Quark\",5919489.76813523,\"5151000\"],[\"Scrypt\",1042012.45227735,\"16880000000\"],[\"Lyra2REv2\",13332617.9413708,\"52500000\"],[\"Quark\",66053877.6256106,\"100000000\"],[\"Scrypt\",5403802.49590733,\"1000000000\"],[\"X11\",19269509.94,\"55000000\"],[\"X11\",30771125.9760867,\"50000000\"],[\"Scrypt\",107763867.917675,\"260000000\"],[\"PoS\",9327131.59708692,\"210000000\"],[\"Keccak\",4672513.84432375,\"366000000\"],[\"X11\",4504639.0,\"100000000\"],[\"Scrypt\",1059954080.43439,\"18000000000\"],[\"SHA-512\",1000000000.0,\"1000000000\"],[\"ECC 256K1\",1000000000.0,\"1000000000\"],[\"XEVAN\",6787405.18013774,\"50000000\"],[\"XEVAN\",208515864.367343,\"70000000000\"],[\"X11\",17209923728.3266,\"0\"],[\"Quark\",35312185.7437239,\"54000000\"],[\"Scrypt\",14777549.3940764,\"21000000\"],[\"Quark\",18265011.2486006,\"19035999\"],[\"Quark\",1934701.67524713,\"13370000\"],[\"Scrypt\",30825710000.0296,\"74800000000\"],[\"X11\",715659.44237941,\"19700000\"],[\"Scrypt\",20546528.2059957,\"84000000\"],[\"XEVAN\",198938144.363399,\"500000000\"],[\"SHA-256D\",896361168.0,\"5000000000\"],[\"X11\",15420234.5389336,\"420000000\"],[\"X11\",23775960.3207514,\"30000000\"],[\"DPoS\",1000000000.0,\"1000000000\"],[\"Scrypt\",15318887081.0146,\"35000000000\"],[\"X11\",242574105.22384,\"0\"],[\"Scrypt\",3537150.0,\"200000000\"],[\"Scrypt\",20576532.0,\"54256119\"],[\"SHA-256\",4392258.24647793,\"21000000\"],[\"Scrypt\",9631199.99309942,\"0\"],[\"X11\",436353624.490312,\"500000000\"],[\"Scrypt\",980732528.97974,\"10500000000\"],[\"SHA-256\",17939725045.334,\"190000000\"],[\"X11\",494240666.028571,\"1000000000\"],[\"Scrypt\",60000000.0,\"15000000\"],[\"Scrypt\",404316475.545465,\"400000000\"],[\"X11\",201364327.427503,\"208000000\"],[\"Scrypt\",103621876.167052,\"160000000\"],[\"PoS\",3821245.74150193,\"9000000\"],[\"X11\",16901016.6609755,\"16504333\"],[\"SHA-256\",74676064.9488608,\"105000000\"],[\"DPoS\",120012140.0,\"159918400\"],[\"Scrypt\",10000244677.7002,\"10008835635\"],[\"Scrypt\",252005564.19257,\"300000000\"],[\"NeoScrypt\",1120385.00502,\"60168145\"],[\"X13\",140777.753365,\"120000\"],[\"DPoS\",1020544523.0722,\"0\"],[\"DPoS\",1122382283.37,\"0\"],[\"SHA-256\",1000000000.0,\"1000000000\"],[\"PoS\",9283137.5558676,\"8634140\"],[\"PoS\",1000000000.0,\"1000000000\"],[\"SHA-256\",1999999995.3056,\"2000000000\"],[\"Scrypt\",14931046.1546605,\"250000000\"],[\"Scrypt\",128326.99633965,\"1000000\"]],\"hovertemplate\":\"<b>%{hovertext}</b><br><br>Class=%{marker.color}<br>PC 1=%{x}<br>PC 2=%{y}<br>PC 3=%{z}<br>Algorithm=%{customdata[0]}<br>TotalCoinsMined=%{customdata[1]}<br>TotalCoinSupply=%{customdata[2]}<extra></extra>\",\"hovertext\":[\"42 Coin\",\"404Coin\",\"EliteCoin\",\"Dash\",\"Bitshares\",\"BitcoinDark\",\"PayCoin\",\"KoboCoin\",\"Aurora Coin\",\"BlueCoin\",\"EnergyCoin\",\"BitBar\",\"CryptoBullion\",\"CasinoCoin\",\"Diamond\",\"Exclusive Coin\",\"FlutterCoin\",\"HoboNickels\",\"HyperStake\",\"IOCoin\",\"MaxCoin\",\"MintCoin\",\"MazaCoin\",\"Nautilus Coin\",\"NavCoin\",\"OpalCoin\",\"Orbitcoin\",\"PotCoin\",\"PhoenixCoin\",\"Reddcoin\",\"SuperCoin\",\"SyncCoin\",\"TeslaCoin\",\"TittieCoin\",\"TorCoin\",\"UnitaryStatus Dollar\",\"UltraCoin\",\"VeriCoin\",\"X11 Coin\",\"Crypti\",\"StealthCoin\",\"ZCC Coin\",\"BurstCoin\",\"StorjCoin\",\"Neutron\",\"FairCoin\",\"RubyCoin\",\"Kore\",\"Dnotes\",\"8BIT Coin\",\"Sativa Coin\",\"Ucoin\",\"Vtorrent\",\"IslaCoin\",\"Nexus\",\"Droidz\",\"Squall Coin\",\"Diggits\",\"Paycon\",\"Emercoin\",\"EverGreenCoin\",\"Decred\",\"EDRCoin\",\"Hitcoin\",\"DubaiCoin\",\"PWR Coin\",\"BillaryCoin\",\"GPU Coin\",\"EuropeCoin\",\"ZeitCoin\",\"SwingCoin\",\"SafeExchangeCoin\",\"Nebuchadnezzar\",\"Ratecoin\",\"Revenu\",\"Clockcoin\",\"VIP Tokens\",\"BitSend\",\"Let it Ride\",\"PutinCoin\",\"iBankCoin\",\"Frankywillcoin\",\"MudraCoin\",\"Lutetium Coin\",\"GoldBlocks\",\"CarterCoin\",\"BitTokens\",\"MustangCoin\",\"ZoneCoin\",\"RootCoin\",\"BitCurrency\",\"Swiscoin\",\"BuzzCoin\",\"Opair\",\"PesoBit\",\"Halloween Coin\",\"CoffeeCoin\",\"RoyalCoin\",\"GanjaCoin V2\",\"TeamUP\",\"LanaCoin\",\"ARK\",\"InsaneCoin\",\"EmberCoin\",\"XenixCoin\",\"FreeCoin\",\"PLNCoin\",\"AquariusCoin\",\"Creatio\",\"Eternity\",\"Eurocoin\",\"BitcoinFast\",\"Stakenet\",\"BitConnect Coin\",\"MoneyCoin\",\"Enigma\",\"Russiacoin\",\"PandaCoin\",\"GameUnits\",\"GAKHcoin\",\"Allsafe\",\"LiteCreed\",\"Klingon Empire Darsek\",\"Internet of People\",\"KushCoin\",\"Printerium\",\"Impeach\",\"Zilbercoin\",\"FirstCoin\",\"FindCoin\",\"OpenChat\",\"RenosCoin\",\"VirtacoinPlus\",\"TajCoin\",\"Impact\",\"Atmos\",\"HappyCoin\",\"MacronCoin\",\"Condensate\",\"Independent Money System\",\"ArgusCoin\",\"LomoCoin\",\"ProCurrency\",\"GoldReserve\",\"GrowthCoin\",\"Phreak\",\"Degas Coin\",\"HTML5 Coin\",\"Ultimate Secure Cash\",\"QTUM\",\"Espers\",\"Denarius\",\"Virta Unique Coin\",\"Bitcoin Planet\",\"BritCoin\",\"Linda\",\"DeepOnion\",\"Signatum\",\"Cream\",\"Monoeci\",\"Draftcoin\",\"Vechain\",\"Stakecoin\",\"CoinonatX\",\"Ethereum Dark\",\"Obsidian\",\"Cardano\",\"Regalcoin\",\"TrezarCoin\",\"TerraNovaCoin\",\"Rupee\",\"WomenCoin\",\"Theresa May Coin\",\"NamoCoin\",\"LUXCoin\",\"Xios\",\"Bitcloud 2.0\",\"KekCoin\",\"BlackholeCoin\",\"Infinity Economics\",\"Magnet\",\"Lamden Tau\",\"Electra\",\"Bitcoin Diamond\",\"Cash & Back Coin\",\"Bulwark\",\"Kalkulus\",\"GermanCoin\",\"LiteCoin Ultra\",\"PhantomX\",\"Digiwage\",\"Trollcoin\",\"Litecoin Plus\",\"Monkey Project\",\"TokenPay\",\"My Big Coin\",\"Unified Society USDEX\",\"Tokyo Coin\",\"Stipend\",\"Poa Network\",\"Pushi\",\"Ellerium\",\"Velox\",\"Ontology\",\"Bitspace\",\"Briacoin\",\"Ignition\",\"MedicCoin\",\"Bitcoin Green\",\"Deviant Coin\",\"Abjcoin\",\"Semux\",\"Carebit\",\"Zealium\",\"Proton\",\"iDealCash\",\"Bitcoin Incognito\",\"HollyWoodCoin\",\"Swisscoin\",\"Xt3ch\",\"TheVig\",\"EmaratCoin\",\"Dekado\",\"Lynx\",\"Poseidon Quark\",\"BitcoinWSpectrum\",\"Muse\",\"Trivechain\",\"Dystem\",\"Giant\",\"Peony Coin\",\"Absolute Coin\",\"Vitae\",\"TPCash\",\"ARENON\",\"EUNO\",\"MMOCoin\",\"Ketan\",\"XDNA\",\"PAXEX\",\"ThunderStake\",\"Kcash\",\"Acute Angle Cloud\",\"Bettex coin\",\"BitMoney\",\"Junson Ming Chan Coin\",\"HerbCoin\",\"Oduwa\",\"Galilel\",\"Crypto Sports\",\"Credit\",\"Dash Platinum\",\"Nasdacoin\",\"Beetle Coin\",\"Titan Coin\",\"Award\",\"Insane Coin\",\"ALAX\",\"LiteDoge\",\"TruckCoin\",\"OrangeCoin\",\"BitstarCoin\",\"NeosCoin\",\"HyperCoin\",\"PinkCoin\",\"AudioCoin\",\"IncaKoin\",\"Piggy Coin\",\"Genstake\",\"XiaoMiCoin\",\"CapriCoin\",\" ClubCoin\",\"Radium\",\"Creditbit \",\"OKCash\",\"Lisk\",\"HiCoin\",\"WhiteCoin\",\"FriendshipCoin\",\"Triangles Coin\",\"EOS\",\"Oxycoin\",\"TigerCash\",\"Particl\",\"Nxt\",\"ZEPHYR\",\"Gapcoin\",\"BitcoinPlus\"],\"legendgroup\":\"0\",\"marker\":{\"color\":[0,0,0,0,0,0,0,0,0,0,0,0,0,0,0,0,0,0,0,0,0,0,0,0,0,0,0,0,0,0,0,0,0,0,0,0,0,0,0,0,0,0,0,0,0,0,0,0,0,0,0,0,0,0,0,0,0,0,0,0,0,0,0,0,0,0,0,0,0,0,0,0,0,0,0,0,0,0,0,0,0,0,0,0,0,0,0,0,0,0,0,0,0,0,0,0,0,0,0,0,0,0,0,0,0,0,0,0,0,0,0,0,0,0,0,0,0,0,0,0,0,0,0,0,0,0,0,0,0,0,0,0,0,0,0,0,0,0,0,0,0,0,0,0,0,0,0,0,0,0,0,0,0,0,0,0,0,0,0,0,0,0,0,0,0,0,0,0,0,0,0,0,0,0,0,0,0,0,0,0,0,0,0,0,0,0,0,0,0,0,0,0,0,0,0,0,0,0,0,0,0,0,0,0,0,0,0,0,0,0,0,0,0,0,0,0,0,0,0,0,0,0,0,0,0,0,0,0,0,0,0,0,0,0,0,0,0,0,0,0,0,0,0,0,0,0,0,0,0,0,0,0,0,0,0,0,0,0,0,0,0,0,0,0,0,0,0,0,0,0,0,0,0,0,0,0,0,0,0,0,0,0,0,0,0,0,0,0],\"coloraxis\":\"coloraxis\",\"symbol\":\"circle\"},\"mode\":\"markers\",\"name\":\"0\",\"scene\":\"scene\",\"showlegend\":true,\"x\":[-0.33592178892561475,-0.319280554749966,2.3040927163480083,-0.40212836645107647,-0.39048308544595606,-0.3117249891218194,-0.2545118254492653,-0.250746887887905,-0.3355818081121288,-0.328168235746978,-0.3344201558300436,-0.33591773099688443,-0.33590203189904805,0.6240892786164957,-0.3800817505156896,-0.32277009729643824,-0.26310107691236323,-0.3339831366328723,-0.3247629290433638,-0.4020231883393974,-0.45481655014518113,-0.0189398071400057,-0.27508017789333716,-0.27846006503069526,-0.2761035921297582,-0.2767250578619712,-0.35743039836164614,-0.3302317350601167,-0.3343256471322246,0.021791907761665858,-0.3446257820954146,-0.40239427020630747,-0.23353177330955346,-0.291441253827171,-0.4023060364238947,-0.3111868131890188,-0.33460097561496377,-0.28409279510550545,-0.4022705454462356,-0.23399874327673165,-0.2765061830328108,-0.3270376343255848,-0.10643019747950114,-0.30725460640914154,-0.3109377420464865,-0.37950399517444794,-0.2784403140510429,-0.2768003797783639,-0.27310178515913874,-0.3359038788818199,-0.27675261814063273,-0.34507013727762326,-0.3356386198292668,-0.4023758211646534,-0.5060325431065413,-0.4293245107796751,-0.38575762481352643,-0.27684397116431636,-0.27627491095377116,-0.3042926640784799,-0.2531847370417165,-0.0808925437622226,-0.31169593781805194,-0.08028502756093503,-0.3117595319671551,-0.23801589142457466,-0.3355146946836525,-0.2767134275425892,-0.39954921293675383,0.8731143910746939,-0.3115598957781649,-0.10572719410386007,-0.32245379149177905,-0.4002215521902747,-0.3103053257219785,-0.3079769820577152,-0.3592297481959054,-0.4011128173469822,-0.3344682342267356,-0.3118435891793583,-0.3355527517748756,-0.333993736924172,-0.21828355133411148,-0.3325772189169379,-0.4018504609085667,-0.33475802499697405,-0.31174052886557413,-0.4023650319948419,-0.33574163868074125,-0.33589811886924675,-0.27670255188689064,-0.2425286573963043,0.0435900224632968,-0.3214122304572634,-0.33551273672850856,-0.38854710981398627,-0.320741599975407,-0.21971202900959713,-0.422354227648172,-0.3204913912502339,-0.2705337731263748,3.7498836969248623,-0.4019581188456623,0.8540596102336335,-0.4023199974713693,-0.32187537564840824,-0.33544045972877995,-0.3355946087548891,-0.32245379149177905,-0.40189552960809016,-0.31160336377544656,-0.33544118297078857,-0.43755455613343763,-0.3355883869443167,-0.3311830104068469,-0.40234895912533014,-0.33480027869190004,0.36397393820052476,-0.33578739320402956,-0.3358578595723799,-0.3371578315574464,-0.35360875906502154,-0.3320901837869229,-0.3117169707417151,-0.4022590274422944,-0.3356359718839552,-0.3357627774177154,-0.2783470523369471,-0.27954150329605243,-0.21948018591332333,-0.31664126162303885,-0.2780884487336958,-0.4015258422169532,-0.41679548092335417,-0.40026574145103194,-0.3207026313459405,-0.4014238494426284,-0.3151098466245224,-0.39737053217323137,-0.3357061301894893,-0.335705336801606,-0.32883733610408517,0.27735664356032624,-0.40190162932695556,-0.2610140241113379,-0.32248806594061413,-0.334917939330076,0.8796442436333016,-0.2532041990515835,-0.3332481858462154,0.5863474850684727,-0.3607633929325557,-0.3592676438384785,-0.40730537630560637,-0.2764381309116147,0.12836367281896396,-0.2765087951439163,-0.28793801043503275,-0.40681085336154554,-0.40217362348252156,-0.27842108611038036,4.507555242104106,-0.3223545670828115,-0.33534181958515946,-0.335840811517337,-0.4484703737236295,0.6941647817399258,-0.40211455902316917,-0.3524364554361881,-0.3357965042100178,-0.2846593683218018,0.4323480147097102,-0.31006538452097987,-0.34555096251340317,-0.38414109342249103,-0.3357469134616004,-0.3927516940747518,-0.30222389255236276,-0.3356174544576884,-0.08122192114901783,-0.4009089029197012,3.754733109987091,0.19799691675628217,-0.27318403005181613,-0.3330811751402338,-0.30337748175559254,-0.33704388228404636,0.07792682603526993,-0.3347573018285726,-0.4014891503277157,-0.33620982876159794,-0.3223395091099545,-0.33586291614457464,-0.34504210242067074,-0.33474979585176423,-0.2908532361840616,-0.3314139765785497,-0.21128740276966898,-0.3807768175436596,-0.34636429785267603,-0.40219088062615527,-0.3282049119260113,-0.2775822984705865,-0.2921018427254209,-0.3603629169434572,-0.33589023605671076,-0.3358719731281351,-0.271971234528278,-0.2881141236022055,-0.32194956507656725,-0.335588875534454,3.940238037642773,-0.39142131471581026,-0.32213799165563156,-0.3049079871699238,-0.2825330365886665,-0.311720369596087,-0.2781156795246015,-0.13926040298923084,-0.2783674738638596,-0.3357552123833061,-0.3350636491868933,-0.1953796352120331,2.2123429677831834,-0.33275827306000655,-0.2533315628205243,1.045339439977962,-0.3613951786533971,-0.3371572805580908,-0.39443342106763,-0.1592767182217179,-0.34173756630290564,-0.3358785102890119,-0.3287774990450752,-0.3446200865534572,-0.40166489933783295,-0.2756166986779254,-0.3212391367225821,-0.34582355644184914,-0.34448172423645884,-0.19557769816733778,-0.6803840882336453,-0.23588374336377213,-0.27104822465372486,0.4876903080704926,-0.135246015027536,-0.39372899578749515,-0.33559282607981117,-0.3941844959290479,-0.3372741014121339,0.5696797059755768,-0.3450963497394938,-0.3350764957772523,-0.3226680747137929,-0.2905393067283159,-0.3992332231691774,-0.40189182262816314,3.766959130143408,0.0987442989701106,-0.3994343598262274,-0.33446295830138795,-0.33528666734142104,-0.2545444335286482,-0.3358042681421547,-0.3935306518387245,-0.24963201752356942,-0.09164787815519537,-0.3892851277229446,-0.33508348391312626,-0.3281569080980167,-0.39846491144099455,-0.3335248410026807,-0.32272906936970497,-0.38050641362843207,-0.3102420023258181,3.7502749700471063,-0.08590121551211781,-0.3307232678337472,-0.35705681979927767,-0.276907431283351,3.760131465477372,3.761374107708064,-0.23546614592595927,-0.3226650120929095,-0.3080358944121509,2.486503551383231,-0.3339700103529186,-0.27876337975447024],\"y\":[1.105816561184278,1.1060535360657269,1.729016706796817,1.2063165287999595,1.8349294580932585,0.8438251466481372,0.5340118465170658,1.8675495677807856,1.1058173733217929,1.1060962581868299,1.1058707302143211,1.1058163661197762,1.1058165909630668,0.2882637549674572,0.9964366767868599,1.4430312112972499,0.41078341079726627,1.1058045406337433,0.8972387264777881,1.206320322931357,2.4046038874024327,0.8053675157919756,0.8435098746870203,0.7959946892625245,1.8504962464524297,1.8504738280746031,0.6550005811296631,1.105734980553411,1.1058072100811964,1.1187205081093614,0.8965222059660816,1.206321961029676,-0.02277093744375956,1.525322088984536,1.2063183150757384,1.1056161111096352,1.1057959121427643,0.4293932597008769,1.2063226686437116,-0.02271948734675494,1.850481723632415,1.1054540899334022,0.21023049402509913,1.365579492630233,0.8438221294889396,0.9964605097161878,0.7960064519250337,1.8504629155228842,0.7958575543361718,1.105817207289014,1.8504660043529966,0.8964925175091306,1.1058131170254981,1.206322627232166,3.076186046781502,2.041701850763948,0.6858782037223988,0.7959957421416237,1.8504559187569365,0.8434253279132992,1.8676826995034845,0.9679787042034498,0.8438261946272457,1.1998091360821117,0.8438317545286463,1.6220378874733654,1.1058025624625933,0.7959177780489931,1.2061623386755205,0.7699346023544661,0.8438188089733676,0.28778828343673285,1.4430289624633021,1.2063491175580712,0.8437392730069296,0.8436168246810587,1.6176038265760007,1.2062732576149438,1.3925674609815553,1.1053192378176748,1.1057995960576712,1.1058178173029303,1.5405617598095094,0.8965081384809317,1.2063074311151851,1.1057970763674598,0.8438252690297309,1.206320967575483,1.1058087178330605,1.105817415072213,0.7960691389031744,0.4447448093973576,1.9450646806167107,1.4430296556485303,1.1058313171137761,1.2057970464517167,1.4430770680334033,1.5406451128821492,1.914557945264453,1.442907843138983,1.9422659826931545,1.7537872418505405,1.206317206585735,1.8906845582790286,1.206322009341581,1.4430293392990576,1.105807603386299,1.1057996796908658,1.4430289624633021,1.2062989758054254,0.8438308999928675,1.1058113608554792,0.7085186037295395,1.105809465473051,1.1055431350256222,1.2063201814726612,1.1057586726776063,0.7969743577123334,1.1058125309352096,1.1058166028340086,1.34852699669449,0.5293287437279741,1.1056133037707603,0.8438261188512002,1.2063204520367863,1.1058132125458708,1.105807317864623,0.7959722537829547,0.3777837326475753,1.5406452639270583,1.1058291223755796,0.795995633276194,1.206284993568782,1.9602199327586132,1.2063236201505716,1.4430304689157898,1.2062886727942517,1.4430343613797916,1.2061617085492853,1.1058098538761856,1.1058048369231146,1.1053891685831878,0.501985217690795,1.2063124148255326,0.7952691715705998,1.4430208965387956,1.105781063421567,1.8470998857527587,0.5339309058682548,1.3925660558999868,2.0696377121687664,1.6176031390367767,1.6175819709650807,1.7866280006243562,1.8504636899168556,1.0884172691503833,1.850468722832979,1.0779374343904276,1.7866458397450509,1.2063234281705517,0.7959952581385229,1.649014713820301,1.4430041310084003,1.1058045288325997,1.1058166139407526,1.8352342654939653,1.079043941309834,1.2063136121163216,0.6549101231763769,1.1058103355326532,0.48136915637325245,1.1164568379767041,0.8438317438928572,1.6173391890924143,1.835391566806333,1.1058085275538159,1.6582788522821168,1.2518638022664506,1.1058174398942116,0.5341249623646609,1.2062771987358774,1.7537060693043576,1.6172777625220611,1.8504581448582689,1.1057756116859836,1.307777483166079,1.348527692467038,1.0865978409357355,1.1057561252816033,1.206320464813899,1.3484894843195243,1.1056918625407581,1.1058159531424159,0.8964928458686704,1.3925631091978037,0.5568373146024884,1.1058207282321029,1.5404043628988369,1.092087605365107,2.953783796776457,1.2063122248428813,1.542427304209847,0.795952717301067,1.4494893766843533,1.6175902674493394,1.1058156505733614,1.105814943473402,0.7958983371338101,1.0382709668691625,1.4430007108250682,1.1058080819421805,1.916845199651282,1.6583268435800707,1.4429993772620249,0.6007110865292016,1.1042444233242603,1.022004694508444,0.7960004058190451,1.105944685340439,0.7959790295908967,1.9449711731116897,1.1057901491831317,1.5578407590734493,0.6104992076215309,1.3482520286179809,0.5339944851442133,1.532894853983101,0.9105314204588801,1.3485229188536065,1.6583512593691017,0.7887768425241262,0.7911743490700217,1.3485150951587832,1.105391327108956,0.8964848490150285,1.2063141249507214,0.795930741563484,1.4429430181347895,0.9179566938040211,0.8964591073335714,1.0985860969082681,2.7342874266082884,1.6752750607835132,1.2326123082598142,1.383349032026135,0.9040752446683908,1.6583433088139419,1.1058140860085532,1.6583507561434458,1.3485239156594833,1.087399804512699,0.896491776822547,1.105789685763024,1.542326537448028,1.9432557951352754,1.2061491511949114,1.2063195981152681,1.7538056268972446,1.0975930910747806,1.2064287357241257,1.1057325956072845,1.1058024178308015,0.5340048651334831,1.1058208005864105,1.2063002260631068,1.1017583208068784,0.8516493387605919,1.2061119000829947,1.1058365574261946,1.105823485660266,1.2063216528173673,1.1057937547969632,1.443026544737841,0.23939972048245742,0.8438219579248898,1.7537775087778404,0.7961164274118708,1.105799203644301,0.6549755401003623,1.8504671672920858,1.7542422827471653,1.7542871090691783,0.5340244728344019,1.4430291053663271,1.7357713072605052,0.754935522672388,1.1057162302683805,0.795994114895945],\"z\":[-0.5356790562075573,-0.5359021045453082,-0.593411263671889,-0.4199645513166308,-0.07925828349079085,-0.3488202990923092,-0.03652325239111496,-0.5392599147914223,-0.5356830673486375,-0.5358059084988692,-0.5357036237340637,-0.5356790763502328,-0.5356792869447822,-0.17715138281405166,-0.35023190086391165,-0.034080793504578814,-0.3696840885576001,-0.5356996733362497,-0.10799836289701634,-0.41996627208693454,-0.5309863052780655,-0.2276310878901788,-0.3491980815348278,-0.22338370063180354,-0.580258297552207,-0.5802481300396019,-0.30335053807580625,-0.5357332976119432,-0.5356961047296324,-0.5415314440934491,-0.1076733959707278,-0.4199622359449222,0.08413805292603188,-0.21081419895726952,-0.4199627545672314,-0.5359357301278366,-0.5356914152035884,-0.32613679993494904,-0.4199637514786387,0.08413644258324278,-0.5802517109491665,-0.5357319035259519,0.16306999325423824,0.06466105224276884,-0.3488289237745332,-0.3502417584108003,-0.22338552045431398,-0.5802457877060416,-0.22342661054028018,-0.5356793492293721,-0.5802467541164812,-0.10766427603731832,-0.5356818389653346,-0.41996253787363863,-0.29364956852194074,-0.6771233975496342,-0.15341419430302622,-0.2234023872580525,-0.5802508695734666,-0.34885142874560254,-0.5392499734252024,-0.4946599427885715,-0.3488207743872161,-0.42277618206202366,-0.3488207977283494,-0.5699202889461747,-0.5356818313983603,-0.2233933253846984,-0.419973261847996,-0.23306785326674143,-0.34882133506800245,-0.16871263573104847,-0.0340841183927756,-0.4199908452027872,-0.34882495803895974,-0.34883508988168743,-0.5679288400555115,-0.41997034348495477,0.0033584408119236584,-0.5358879840331171,-0.5356809929254631,-0.5357013499541678,-0.2679518004713969,-0.10780974296721892,-0.4199665079382037,-0.5356897708136734,-0.3488201373559875,-0.4199624368835863,-0.5356800610194679,-0.5356794434662661,-0.2234139511750985,-0.45387601408484113,-0.6924808266727466,-0.03409616376998736,-0.5356857485247284,-0.42005002967862676,-0.03411028072911804,-0.26794669898734613,-0.6190437497661402,-0.034090231189587386,-0.6884973156619919,-0.21742324833489476,-0.4199665966409949,-0.5986697466447715,-0.4199630947379177,-0.03409080651956503,-0.5356833659797019,-0.5356805239613053,-0.0340841183927756,-0.41996484556792973,-0.34882247395262733,-0.5356838666093647,0.05743737156037111,-0.5356819207845196,-0.5356963976909555,-0.419962514839913,-0.5356840844007753,-0.2308880601363249,-0.5356800524686807,-0.5356797954121116,-0.1439900348888413,-0.3971787664719719,-0.5356954922168109,-0.3488205227795256,-0.41996358341580936,-0.5356818822871396,-0.5356796288430234,-0.22338195864395186,-0.2426624753062846,-0.26794937975074684,-0.5359019937578458,-0.22338809263907566,-0.4199671937631375,-0.7348368695294621,-0.4199868846651435,-0.034104416283650706,-0.41996886241961345,-0.034169118425598895,-0.41999817597615063,-0.5356806223357611,-0.5356799519208157,-0.535702459439865,-0.03828839562737657,-0.4199665958176265,-0.22348561946482515,-0.034082632622232,-0.5356857669961629,-0.5494608959338635,-0.03652729390548707,0.0033446315637578458,-0.6726504521030039,-0.5679111489827587,-0.5679254449959275,-0.7742615265742339,-0.5802500492518061,-0.5386499043933195,-0.5802499200893494,-0.09191407506953102,-0.7742696172347592,-0.41996496649247705,-0.22338422495018473,4.3063507753353205,-0.034081893668262156,-0.5356840814037966,-0.5356799925359541,-0.07863418744076789,-0.0009402806137982597,-0.41996431470246365,-0.3033955895057985,-0.5356796505683713,-0.04911056625624148,-0.5459358066812912,-0.34884023594041524,-0.5680499548613527,-0.5227387483528763,-0.5356799747212247,-0.45629734008586786,-0.06797834552844564,-0.5356826673381948,-0.03852700445478375,-0.41997321712323094,-0.21746789900092592,-0.5742786257239656,-0.5802866376873935,-0.5357061047102406,-0.25561441097179344,-0.14399143664896139,-0.5378247305359676,-0.5356842325119929,-0.4199724191730391,-0.14399583198996385,-0.535818017595429,-0.5356796493928442,-0.1076646422003918,0.0033622610422250577,-0.32665726250677857,-0.5357313459238482,-0.2680107598821733,-0.2913742206380567,2.2787735191702416,-0.41996325104455257,-0.49714300109361936,-0.22338808777419347,0.049215273070028896,-0.5679140008959379,-0.5356792949266508,-0.5356794087135185,-0.22344510695479652,-0.13087548858646725,-0.034086077656441005,-0.5356817277864863,-0.30581650350284634,-0.45631910580552293,-0.034083734914322324,-0.06973942912438844,-0.5360787329760973,-0.2305960784580733,-0.22338842659155622,-0.537953019306551,-0.22338264206122438,-0.6881153293737811,-0.5356853256513628,-0.22695583980226144,-0.28976731554835566,-0.14400327511619912,-0.03653444392191751,-0.13301793110868232,-0.3820457587504708,-0.14398948889017554,-0.45628785009528317,-0.2237736633304867,-0.36140806352636684,-0.14400310258219443,-0.5357034384062347,-0.10766840153083658,-0.41996954382499807,-0.22340766573904383,-0.03408641537459689,-0.46236676915942165,-0.10766650261270397,-0.5363101208569311,-0.10558260420918145,5.789126450403247,-0.18484507665934297,-0.3340989503392487,-0.11109896122828257,-0.4562948562297089,-0.5356824956734115,-0.45629063825081295,-0.14398828343029155,-0.543576016310922,-0.10766387493805253,-0.5356851154742561,-0.49719288574314036,-0.6884018249646973,-0.41997510153016315,-0.4199676812826608,-0.21762167213701294,-0.5395528488313058,-0.42001066175833107,-0.5356844230190035,-0.5356844283297495,-0.03652193263659495,-0.5356809789144837,-0.42006099847734685,-0.5361195298465755,-0.35240533825921644,-0.42008420641911165,-0.5356913837976758,-0.5357690929379227,-0.4200072819923007,-0.5357034712097596,-0.034080632223492335,0.027643382059530108,-0.34883688386733447,-0.21742641974351173,-0.2256097238450826,-0.5357363561384167,-0.30335143306787193,-0.5802451352123739,-0.2176024701005139,-0.21762280039370585,-0.03674350397964456,-0.03408171407774937,-0.04600882499565571,-0.12135129870535392,-0.5356878628008364,-0.22338014242396173],\"type\":\"scatter3d\"},{\"customdata\":[[\"SHA-256\",17927175.0,\"21000000\"],[\"Ethash\",107684222.6865,\"0\"],[\"Scrypt\",63039243.3000049,\"84000000\"],[\"CryptoNight-V7\",17201143.1449131,\"0\"],[\"Ethash\",113359703.0,\"210000000\"],[\"Equihash\",7383056.25,\"21000000\"],[\"Multiple\",11406219141.0,\"21000000000\"],[\"Scrypt\",5768310.0,\"21000000\"],[\"X11\",11149733.9976203,\"20000000\"],[\"Scrypt\",12205795.4449549,\"64000000\"],[\"Multiple\",1688254250.0,\"2000000000\"],[\"Scrypt\",88.0,\"384000000000\"],[\"SHA-256\",170204389.754849,\"169795588\"],[\"Scrypt\",128940951.183046,\"250000000\"],[\"Scrypt\",7357794.7925,\"100000000\"],[\"Quark\",259557164.91477,\"247000000\"],[\"Groestl\",49548585.1412917,\"84000000\"],[\"Scrypt\",33442988.3440364,\"48166000\"],[\"Scrypt\",7219956.64626131,\"21000000 \"],[\"Scrypt\",4703879.51824446,\"13140000\"],[\"X11\",4996986.20575291,\"18000000\"],[\"Multiple\",15929530669.1206,\"16555000000\"],[\"SHA-256\",18773857500.0,\"21000000000\"],[\"Scrypt\",12539015186.822,\"13500000000\"],[\"Scrypt\",20910478.8062499,\"21000000 \"],[\"Scrypt\",218871896.499999,\"299792458\"],[\"Scrypt\",19496786.31025,\"32000000\"],[\"Scrypt\",1142732.14912776,\"11235813\"],[\"NeoScrypt\",208669093.00773,\"336000000\"],[\"Scrypt\",884125802.0,\"1420609614\"],[\"Scrypt\",65672720.4708748,\"70000000\"],[\"Scrypt\",41658647.9999715,\"72245700\"],[\"Scrypt\",90595753018.6314,\"90600000000\"],[\"SHA-256\",21089348.999,\"21000000\"],[\"Scrypt\",151447649.8,\"265420800\"],[\"Scrypt\",19326319.14375,\"20000000\"],[\"Scrypt\",1104344.22938102,\"1350000\"],[\"Scrypt\",38151999.9930997,\"42000000\"],[\"HybridScryptHash256\",40431856.9,\"200000000\"],[\"Scrypt\",5804204.88794916,\"10000000\"],[\"Scrypt\",2366066305.76482,\"15000000000\"],[\"SHA-256\",14736400.0,\"21000000\"],[\"Scrypt\",334709223.483138,\"337000000\"],[\"Scrypt\",1104157.42169891,\"21000000\"],[\"Scrypt\",24215181.725,\"250000000\"],[\"Scrypt\",25593737.1355044,\"51200000\"],[\"SHA-256\",563336541.299966,\"888000000\"],[\"SHA-256\",43536800.0,\"47011968\"],[\"SHA-256\",22935396.0,\"42000000\"],[\"SHA-256\",2278150.0,\"80000000\"],[\"SHA-256\",200911.79151896,\"250000\"],[\"X11\",1207310.0,\"0\"],[\"Scrypt\",23150892.1679687,\"23000000\"],[\"Lyra2REv2\",51173723.8166347,\"84000000\"],[\"Scrypt\",119606941.0,\"265420800\"],[\"SHA-256\",39195739.362088,\"45000000\"],[\"CryptoNight\",184066828814.0,\"184467440735\"],[\"CryptoNight\",6906587610.38292,\"10000000000\"],[\"Scrypt\",68194674.8711679,\"105120000\"],[\"Scrypt\",415032420.0,\"1680000000\"],[\"Scrypt\",137517654.41397,\"166386000\"],[\"Scrypt\",181919.2435974,\"2628000\"],[\"Scrypt\",152270664.860648,\"160000000\"],[\"Scrypt\",792537250.0,\"1000000000\"],[\"Stanford Folding\",719416990.0,\"1000000000\"],[\"Multiple\",65113302.0,\"0\"],[\"QuBit\",6365285.0,\"0\"],[\"Scrypt\",10140044.4430293,\"3371337\"],[\"Scrypt\",4610340640.89,\"10000000000\"],[\"M7 POW\",708506520.0,\"1840000000\"],[\"Scrypt\",619478.0,\"619478\"],[\"SHA-256\",12462620.0,\"21000000\"],[\"Scrypt\",88213.0,\"92000000000\"],[\"X11\",32221574.820996,\"33000000\"],[\"Lyra2RE\",13742738.0,\"65789100\"],[\"SHA-256\",14747200.0002,\"53760000\"],[\"X11\",15863837.5,\"21000000\"],[\"Scrypt\",32565300.0,\"210240000\"],[\"Scrypt\",75614500.0,\"250000000\"],[\"Ethash\",10495278.0,\"16906397\"],[\"Blake2b\",33098296530.0,\"0\"],[\"X11\",15867695.0,\"16000000\"],[\"SHA-256\",20997476.8650231,\"21000000\"],[\"Scrypt\",210000000.0,\"210000000\"],[\"1GB AES Pattern Search\",11448949.0,\"81962100\"],[\"Scrypt\",69836100.0,\"84000000\"],[\"SHA-256\",21739971929.0,\"21626280000 \"],[\"X11\",45110324.0,\"84000000\"],[\"Dagger\",5702048.0,\"30000000\"],[\"Scrypt\",636462.55983338,\"168351300\"],[\"X11GOST\",17263355.0,\"24000000\"],[\"Scrypt\",6570807.65677618,\"20000000\"],[\"X11\",13654082.4987998,\"25000000\"],[\"Scrypt\",616448.0,\"616448\"],[\"X11\",1377917.0,\"25000000\"],[\"Equihash\",115898131.0,\"200000000\"],[\"CryptoNight\",7822432.72439746,\"10000000\"],[\"SHA-256\",6243840.0,\"9736000\"],[\"Multiple\",1000000000.0,\"1200000000\"],[\"Scrypt\",116845228.0,\"200000000\"],[\"SHA-256\",9106714.0,\"10638298\"],[\"Scrypt\",11119200.0,\"30000000\"],[\"Lyra2Z\",7568281.24956067,\"21400000\"],[\"Ethash\",26205539.0,\"26205539\"],[\"Equihash\",5613550.0,\"21000000\"],[\"Scrypt\",196297971.0,\"10000000000\"],[\"X11\",824000000.0,\"500000000\"],[\"X11\",61364813.0,\"228000000\"],[\"CryptoNight\",978145.0,\"21000000\"],[\"Scrypt\",894026.0,\"2714286\"],[\"CryptoNight\",9357088.0,\"25000000\"],[\"Lyra2RE\",1876146.443596,\"9999999\"],[\"X11\",536982074.0,\"100000000000\"],[\"CryptoNight-V7\",10969318.522954,\"185000000\"],[\"Scrypt\",3115258.0,\"3360000\"],[\"X11\",30385540.0,\"1000000000\"],[\"Equihash\",6921653.89980891,\"17000000\"],[\"Scrypt\",99843408.3158479,\"100000000 \"],[\"Lyra2RE\",18545757.5,\"21000000\"],[\"Dagger-Hashimoto\",2232901.0,\"2232901\"],[\"Scrypt\",64096052.0,\"4000000000\"],[\"NIST5\",10123200.0,\"48252000\"],[\"Scrypt\",20276099.146524,\"35520400\"],[\"SHA-256\",1317747500.0,\"2500000000\"],[\"Scrypt\",13673406.4325268,\"72000000\"],[\"CryptoNight-V7\",69036016.8340164,\"105000000\"],[\"Argon2d\",19784224.6512734,\"0\"],[\"Blake2b\",133248297.0,\"340282367\"],[\"Cloverhash\",18407259.0885883,\"30000000\"],[\"CryptoNight\",1809467143.0,\"2000000000\"],[\"X11\",35138975.0,\"100000000\"],[\"Scrypt\",18133195.0,\"19276800\"],[\"Scrypt\",5167775.0,\" 75000000\"],[\"X11\",26042364.3735553,\"60000000\"],[\"X11\",2622886.0,\"18900000\"],[\"CryptoNight\",14161803.0,\"54000000\"],[\"Time Travel\",17801865.1605478,\"21000000\"],[\"Scrypt\",163055097500.0,\"200000000000\"],[\"Keccak\",2241009149.22257,\"5000000000\"],[\"X11\",122475638.389743,\"1100000000\"],[\"SHA-256\",17995589.6469082,\"21000000\"],[\"Scrypt\",485214.0,\"10500000000\"],[\"Scrypt\",143006669741.687,\"0\"],[\"Scrypt\",9704042.0,\"20000000\"],[\"Scrypt\",17453749.4042601,\"84000000\"],[\"Scrypt\",32646731.063036,\"100000000\"],[\"Scrypt\",33716526.0,\"100000000\"],[\"CryptoNight\",8946653.0,\"88888888\"],[\"Equihash\",5211553258.01514,\"21000000000\"],[\"X11\",2702855668.85288,\"1800000000\"],[\"NeoScrypt\",4165967.57499639,\"27000000\"],[\"Equihash\",17202361.088994,\"21000000\"],[\"Dagger\",33986980.0,\"156306732.71\"],[\"Scrypt\",99990001.493466,\"100000000\"],[\"X11\",175215859.0,\"350000000\"],[\"NeoScrypt\",6375259.04,\"45000000\"],[\"Ethash\",12756367.0,\"280000000\"],[\"NeoScrypt\",5832306.875,\"31800000\"],[\"Multiple\",481730566.566176,\"660000000\"],[\"CryptoNight\",19281821413.4924,\"85000000000\"],[\"CryptoNight\",4500000.0,\"12500000\"],[\"Ethash\",520891780.0,\"10000000000\"],[\"X11\",80316207.0,\"550000000\"],[\"CryptoNight-V7\",441250233.377,\"999481516\"],[\"Scrypt\",3964201248.87125,\"4999999999\"],[\"BLAKE256\",30089671530.5228,\" 90000000000\"],[\"X11\",4229040.50393462,\"19800000\"],[\"NeoScrypt\",7847417.33355824,\"21000000\"],[\"NeoScrypt\",299797953.0,\"500000000\"],[\"Scrypt\",45483049.3398182,\"64000000\"],[\"X11\",8478104.33969947,\"23000000\"],[\"SHA-256\",20166000.0,\"20166000\"],[\"C11\",11916588.09471,\"23000000\"],[\"Ethash\",1618033.0,\"1618033\"],[\"CryptoNight\",53139835213.77,\"1000000000000\"],[\"SkunkHash\",4818338.98949984,\"16600000\"],[\"CryptoNight\",133932467.774108,\"336000000\"],[\"Scrypt\",10000000000.0,\"10000000000\"],[\"Dagger\",107325266.027783,\"100000000\"],[\"Lyra2REv2\",643795911.540095,\"1100000000\"],[\"Scrypt\",12446100.00278,\"40000000\"],[\"Scrypt\",14491014421.0,\"18406979840\"],[\"X11\",211297638.500483,\"500000000\"],[\"Ethash\",247612453.0,\"6500000000\"],[\"CryptoNight\",80049082.9057215,\"1000000000\"],[\"Scrypt\",4070212.1493016,\"21000000\"],[\"IMesh\",25000000.0,\"25000000\"],[\"Equihash\",71355477.0,\"70000000\"],[\"Lyra2Z\",27340501.6514783,\"300000000\"],[\"X11\",31801461.1867843,\"100000000\"],[\"CryptoNight\",16016864.0,\"18400000\"],[\"NIST5\",21069346.2522598,\"21000000\"],[\"Lyra2RE\",5097689.71077377,\"26280000\"],[\"Tribus\",795447.0,\"18000000\"],[\"Lyra2Z\",6986399.70430446,\"10500000\"],[\"CryptoNight\",84300.0,\"600000518\"],[\"CryptoNight Heavy\",19153632.0,\"150000000\"],[\"CryptoNight\",41294520017.0,\"184000000000\"],[\"Jump Consistent Hash\",135862416.039898,\"168000000\"],[\"CryptoNight\",560085952.404637,\"1000000000\"],[\"X16R\",8125865.02097646,\"22075700\"],[\"HMQ1725\",8645406.16776286,\"21000000\"],[\"X11\",4993030.69736615,\"21000000\"],[\"Scrypt\",1416663.06600024,\"22105263\"],[\"CryptoNight-V7\",15580199.3087496,\"1750000000\"],[\"Cryptonight-GPU\",4890897.0,\"88188888\"],[\"XEVAN\",14746153.0962884,\"210000000\"],[\"CryptoNight Heavy\",99553110528.8022,\"184470000000\"],[\"SHA-256\",2100000000.0,\"2100000000\"],[\"X11\",5015881.37315389,\"25000000\"],[\"X16R\",9753753.61515394,\"100000000\"],[\"Equihash\",4235111504.0,\"7600000000\"],[\"Lyra2Z\",13634850.0,\"84000000\"],[\"SHA-256\",17992514.6469233,\"21000000\"],[\"CryptoNight\",1867054873.28397,\"8080000000\"],[\"Blake\",1578281.31341127,\"105120001.44\"],[\"Blake\",15846721.2482747,\"25228800\"],[\"Equihash\",13475920.0,\"105000000\"],[\"Exosis\",406091.925,\"21000000\"],[\"Scrypt\",35284717.173946,\"120000000\"],[\"Equihash\",35687520.0,\"262800000\"],[\"Equihash\",25150787.5,\"30886000\"],[\"QuBit\",12925790.4226959,\"100000000\"],[\"SHA-256\",52293836.6277958,\"64000000\"],[\"X13\",1170292.5,\"2100000\"],[\"SHA-256\",84613099.9999955,\"168000000\"],[\"Scrypt\",55565076.3863525,\"98100000000\"],[\"NeoScrypt\",3824685012.0,\"4000000000\"],[\"Blake\",23356790.1494191,\"7000000000\"],[\"Scrypt\",780210700.0,\"1000000000\"],[\"SHA-256\",22986929.0854247,\"42000000\"],[\"Scrypt\",29583989322.9213,\"50000000000\"],[\"Groestl\",73298203.8873662,\"105000000\"],[\"Scrypt\",5052555.91981545,\"5000000\"],[\"Scrypt\",69684455.4387001,\"182000000\"],[\"Multiple\",3332922.5,\"2800000\"],[\"Equihash+Scrypt\",100000000.0,\"2100000000\"],[\"Ethash\",24487944.0958204,\"24487944\"],[\"CryptoNight\",980222595.0,\"1400222610\"],[\"Equihash\",7296537.5,\"21000000\"]],\"hovertemplate\":\"<b>%{hovertext}</b><br><br>Class=%{marker.color}<br>PC 1=%{x}<br>PC 2=%{y}<br>PC 3=%{z}<br>Algorithm=%{customdata[0]}<br>TotalCoinsMined=%{customdata[1]}<br>TotalCoinSupply=%{customdata[2]}<extra></extra>\",\"hovertext\":[\"Bitcoin\",\"Ethereum\",\"Litecoin\",\"Monero\",\"Ethereum Classic\",\"ZCash\",\"DigiByte\",\"ProsperCoin\",\"Spreadcoin\",\"Argentum\",\"MyriadCoin\",\"MoonCoin\",\"ZetaCoin\",\"SexCoin\",\"Quatloo\",\"QuarkCoin\",\"Riecoin\",\"Digitalcoin \",\"Catcoin\",\"CannaCoin\",\"CryptCoin\",\"Verge\",\"DevCoin\",\"EarthCoin\",\"E-Gulden\",\"Einsteinium\",\"Emerald\",\"Franko\",\"FeatherCoin\",\"GrandCoin\",\"GlobalCoin\",\"GoldCoin\",\"Infinite Coin\",\"IXcoin\",\"KrugerCoin\",\"LuckyCoin\",\"Litebar \",\"MegaCoin\",\"MediterraneanCoin\",\"MinCoin\",\"NobleCoin\",\"Namecoin\",\"NyanCoin\",\"RonPaulCoin\",\"StableCoin\",\"SmartCoin\",\"SysCoin\",\"TigerCoin\",\"TerraCoin\",\"UnbreakableCoin\",\"Unobtanium\",\"UroCoin\",\"ViaCoin\",\"Vertcoin\",\"WorldCoin\",\"JouleCoin\",\"ByteCoin\",\"DigitalNote \",\"MonaCoin\",\"Gulden\",\"PesetaCoin\",\"Wild Beast Coin\",\"Flo\",\"ArtByte\",\"Folding Coin\",\"Unitus\",\"CypherPunkCoin\",\"OmniCron\",\"GreenCoin\",\"Cryptonite\",\"MasterCoin\",\"SoonCoin\",\"1Credit\",\"MarsCoin \",\"Crypto\",\"Anarchists Prime\",\"BowsCoin\",\"Song Coin\",\"BitZeny\",\"Expanse\",\"Siacoin\",\"MindCoin\",\"I0coin\",\"Revolution VR\",\"HOdlcoin\",\"Gamecredits\",\"CarpeDiemCoin\",\"Adzcoin\",\"SoilCoin\",\"YoCoin\",\"SibCoin\",\"Francs\",\"BolivarCoin\",\"Omni\",\"PizzaCoin\",\"Komodo\",\"Karbo\",\"ZayedCoin\",\"Circuits of Value\",\"DopeCoin\",\"DollarCoin\",\"Shilling\",\"ZCoin\",\"Elementrem\",\"ZClassic\",\"KiloCoin\",\"ArtexCoin\",\"Kurrent\",\"Cannabis Industry Coin\",\"OsmiumCoin\",\"Bikercoins\",\"HexxCoin\",\"PacCoin\",\"Citadel\",\"BeaverCoin\",\"VaultCoin\",\"Zero\",\"Canada eCoin\",\"Zoin\",\"DubaiCoin\",\"EB3coin\",\"Coinonat\",\"BenjiRolls\",\"ILCoin\",\"EquiTrader\",\"Quantum Resistant Ledger\",\"Dynamic\",\"Nano\",\"ChanCoin\",\"Dinastycoin\",\"DigitalPrice\",\"Unify\",\"SocialCoin\",\"ArcticCoin\",\"DAS\",\"LeviarCoin\",\"Bitcore\",\"gCn Coin\",\"SmartCash\",\"Onix\",\"Bitcoin Cash\",\"Sojourn Coin\",\"NewYorkCoin\",\"FrazCoin\",\"Kronecoin\",\"AdCoin\",\"Linx\",\"Sumokoin\",\"BitcoinZ\",\"Elements\",\"VIVO Coin\",\"Bitcoin Gold\",\"Pirl\",\"eBoost\",\"Pura\",\"Innova\",\"Ellaism\",\"GoByte\",\"SHIELD\",\"UltraNote\",\"BitCoal\",\"DaxxCoin\",\"AC3\",\"Lethean\",\"PopularCoin\",\"Photon\",\"Sucre\",\"SparksPay\",\"GunCoin\",\"IrishCoin\",\"Pioneer Coin\",\"UnitedBitcoin\",\"Interzone\",\"1717 Masonic Commemorative Token\",\"TurtleCoin\",\"MUNcoin\",\"Niobio Cash\",\"ShareChain\",\"Travelflex\",\"KREDS\",\"BitFlip\",\"LottoCoin\",\"Crypto Improvement Fund\",\"Callisto Network\",\"BitTube\",\"Poseidon\",\"Aidos Kuneen\",\"Bitrolium\",\"Alpenschillling\",\"FuturoCoin\",\"Monero Classic\",\"Jumpcoin\",\"Infinex\",\"KEYCO\",\"GINcoin\",\"PlatinCoin\",\"Loki\",\"Newton Coin\",\"MassGrid\",\"PluraCoin\",\"Motion\",\"PlusOneCoin\",\"Axe\",\"HexCoin\",\"Webchain\",\"Ryo\",\"Urals Coin\",\"Qwertycoin\",\"Project Pai\",\"Azart\",\"Xchange\",\"CrypticCoin\",\"Actinium\",\"Bitcoin SV\",\"FREDEnergy\",\"Universal Molecule\",\"Lithium\",\"PirateCash\",\"Exosis\",\"Block-Logic\",\"Beam\",\"Bithereum\",\"SLICE\",\"BLAST\",\"Bitcoin Rhodium\",\"GlobalToken\",\"SolarCoin\",\"UFO Coin\",\"BlakeCoin\",\"Crypto Escudo\",\"Crown Coin\",\"SmileyCoin\",\"Groestlcoin\",\"Bata\",\"Pakcoin\",\"JoinCoin\",\"Vollar\",\"Reality Clash\",\"Beldex\",\"Horizen\"],\"legendgroup\":\"3\",\"marker\":{\"color\":[3,3,3,3,3,3,3,3,3,3,3,3,3,3,3,3,3,3,3,3,3,3,3,3,3,3,3,3,3,3,3,3,3,3,3,3,3,3,3,3,3,3,3,3,3,3,3,3,3,3,3,3,3,3,3,3,3,3,3,3,3,3,3,3,3,3,3,3,3,3,3,3,3,3,3,3,3,3,3,3,3,3,3,3,3,3,3,3,3,3,3,3,3,3,3,3,3,3,3,3,3,3,3,3,3,3,3,3,3,3,3,3,3,3,3,3,3,3,3,3,3,3,3,3,3,3,3,3,3,3,3,3,3,3,3,3,3,3,3,3,3,3,3,3,3,3,3,3,3,3,3,3,3,3,3,3,3,3,3,3,3,3,3,3,3,3,3,3,3,3,3,3,3,3,3,3,3,3,3,3,3,3,3,3,3,3,3,3,3,3,3,3,3,3,3,3,3,3,3,3,3,3,3,3,3,3,3,3,3,3,3,3,3,3,3,3,3,3,3,3,3,3,3,3,3,3,3,3,3,3,3,3,3,3,3,3,3,3,3,3],\"coloraxis\":\"coloraxis\",\"symbol\":\"diamond\"},\"mode\":\"markers\",\"name\":\"3\",\"scene\":\"scene\",\"showlegend\":true,\"x\":[-0.144102434414887,-0.15448637639494883,-0.16713138276419823,-0.15217075659587123,-0.15293066915358408,-0.139740676111788,0.16288397479898342,-0.1682761489575576,-0.23469006414088356,-0.1678932284705643,-0.09018503729998449,2.5495921975006577,-0.14119109347652772,-0.16515223203209503,-0.16769756393411595,-0.2221999876972368,-0.21152728404766846,-0.167746167148395,-0.16825843571031596,-0.16834477317616905,-0.2347792977547579,0.18661493916159366,0.23325747837843894,0.08006584381529509,-0.16809138155529088,-0.16370243027653322,-0.16803076980134846,-0.1684017054284884,-0.18514522946963421,-0.14765134635675664,-0.16719834554901125,-0.16747547362111695,1.5782688442761341,-0.1440638490125713,-0.1647684474851928,-0.16811779010216535,-0.16847214911421832,-0.1677323520832809,-0.1659592623512618,-0.16835357283981164,-0.03344873566879681,-0.14414136881163686,-0.16202559477570627,-0.1683330617661979,-0.16643011425760298,-0.1678204693681084,-0.13131032191516037,-0.14360581939452896,-0.14389267781954246,-0.14387576376534847,-0.144465609206014,-0.23495295039495298,-0.16804988693301742,-0.17362624493709392,-0.16515697340420626,-0.1436730311973982,3.8524905535248024,0.455808133650421,-0.16691898047731316,-0.15153924956358422,-0.16563942696304507,-0.16847435857129328,-0.16550461049874896,-0.15174614907944958,-0.14535279149961502,-0.12414759320751848,-0.18703134694781556,-0.1683475861779286,-0.041455468924675866,-0.11709915429982837,-0.1684832364293334,-0.14416911387440187,0.48271433010382603,-0.23434092325653244,-0.16033376069020225,-0.14390935019881212,-0.23462546346975444,-0.16660965994552215,-0.16580293075189323,-0.1555526235231576,0.36762507935737504,-0.23466080816258,-0.14406497005248003,-0.16444626938872967,-0.15303277804654233,-0.16704844632542792,0.2738835580293072,-0.23382265649646716,-0.15022211463745846,-0.16729576421186615,-0.1625683723773858,-0.16827343509279968,-0.2346241138780691,-0.16848329484933375,-0.2347739098047973,-0.20639699789025076,0.3009154478345352,-0.1443247270828363,-0.10424591852931066,-0.1656537437971835,-0.14428340700831338,-0.16814715128543625,-0.1468665984593532,-0.15529510155477524,-0.1397622679377203,-0.09531639255098429,-0.22137391326305292,-0.23260503360163773,0.3009097945120578,-0.1684650585569005,0.3010403492557989,-0.16087345384874233,0.4794199216946804,-0.15093730319346724,-0.16843338410272315,-0.22751855996616605,-0.1397746196344469,-0.16656903824031294,-0.16059218644291093,-0.17468353917292115,-0.1393996588383964,-0.19299339721978911,-0.167996341857003,-0.1106945626458668,-0.167818693603279,-0.1507950313494564,-0.16292119992067128,-0.03221158825869201,-0.1381069354247832,0.33698535446361727,-0.2338310750069265,-0.16813746787700237,-0.16790124575371176,-0.23422520754861323,-0.23480189642499724,0.3013042494555497,-0.18555577083622177,3.236802255503418,-0.11830768905611133,-0.22568702516310948,-0.1441015996073531,-0.09416655791874536,1.5764973114095469,-0.16823520281724536,-0.1676876249641051,-0.1673889838937939,-0.1673759300681503,0.30148756912874797,0.07225828039114467,-0.1892459282166153,-0.189827823446493,-0.13962085923017847,-0.14898293334849813,-0.16656724948462262,-0.23035224413933886,-0.18967345493837062,-0.15366276404421875,-0.18977351438958806,-0.11439224352153994,1.1376893499867602,0.30089260280847535,-0.078660819798848,-0.23009455584575594,-0.13992175261605647,-0.08473153795280249,1.0904701278974989,-0.2347759273284604,-0.1898253718654524,-0.18287240930348075,-0.1674871735760907,-0.2347014287773938,-0.14408101922518976,-0.2133161880874587,-0.2660460053386472,8.02752335612834,-0.1735415412868841,0.3047618075523969,0.02431010083137658,-0.14848660561116622,-0.15920335877227149,-0.1680601766932047,0.13861781441251986,-0.22885021504950726,-0.10676965602862243,0.3088043391189002,-0.16829686944566494,-0.16772298162020116,-0.13861323412759968,-0.14465330533599347,-0.23387179993643886,0.3010748958850129,-0.1930527296849334,-0.16071890842570674,-0.15301738774987458,-0.14695085272285324,0.30499725744773226,0.5635946129609418,2.107049064900936,-0.15317087381221925,0.31466183328003805,-0.1947479924730471,-0.15493660870949275,-0.23475811096293503,-0.16832142507629252,-0.13980341868595236,-0.16179724504923546,-0.15954173052415183,3.0828073709013766,-0.10398072131912567,-0.23472951872480288,-0.19417655302350584,-0.034506357407515224,-0.14634946825313466,-0.1441016371290429,0.38072443352387336,-0.13673922147386233,-0.13713061355360306,-0.24934859198816212,-0.14326900992405778,-0.16721522767324973,-0.13768375443070097,-0.13945389454237006,-0.18624345925447355,-0.1433787172166171,-0.10945424438254427,-0.14224820322616621,0.526569219046466,-0.11508688464687464,-0.08766908491021061,-0.15189655980670763,-0.14389204900378663,0.5464114786293535,-0.21108884162662184,-0.16839813635520487,-0.16635661816972172,-0.1248816288577645,-0.15117742216940583,-0.15532821769228927,0.32262133108536156,-0.1397417318287654],\"y\":[-1.3308749365326118,-1.9888684960577894,-1.0688994445979498,-2.2860581030347626,-1.9889557965239795,-2.2729139621864745,-1.8916084108272795,-1.0688977141675218,-0.9683895180370996,-1.0689132679001432,-1.8877613640700812,-1.233094545321234,-1.330871534961538,-1.0689414200936622,-1.068930795920147,-0.516348348196565,-1.1782848488357942,-1.0688971490232648,-1.0688970751905864,-1.0688948216662923,-0.968391371090589,-1.8877166288485903,-1.3315899524920303,-1.0691446976839296,-1.0688910489803372,-1.0689231267273727,-1.0688963749904095,-1.0688955749358242,-1.5197588861247218,-1.0691095749713204,-1.068892298832463,-1.0689038294897137,-1.0677550987907058,-1.3308735446262216,-1.0689381073625523,-1.0688913186733537,-1.0688913645341191,-1.068892439579508,-2.1709878644108818,-1.0688929946279673,-1.0742639830883913,-1.3308763410284277,-1.0688880485788128,-1.0688997672056562,-1.0689875176418708,-1.068901901435513,-1.3310056017760914,-1.3308747868921775,-1.3308817119109895,-1.3309070539732226,-1.3308738662073947,-0.968385342178691,-1.0688909180342712,-1.383530298607484,-1.0689521228108656,-1.330875837370635,-2.2822532816240013,-2.28563010104415,-1.0689062064915966,-1.0694269762451127,-1.0689018904456764,-1.068892317050518,-1.0688926658212141,-1.068970031852126,-1.9638240834181548,-1.8876206029428655,-1.645355883518295,-1.0688882516042504,-1.071138048710522,-2.3045364090893865,-1.0688912655790925,-1.3308773418869912,-1.1082316017812952,-0.9683858017281174,-2.2234967373072907,-1.3308903448661922,-0.9683878706245611,-1.0689668402574615,-1.0689648930045503,-1.988918505482459,-2.2233916788164403,-0.9683857308631532,-1.3308735850659354,-1.0688886355101899,-2.1871755625476497,-1.0688964527991702,-1.330552151671204,-0.9684019366844541,-2.1578210682543695,-1.0689629823581173,-2.0426108359058337,-1.0688969333163278,-0.9683905537517427,-1.0688912656171528,-0.9683959573991334,-2.4469042652658644,-2.284394906526885,-1.3308752626021965,-1.88772222546327,-1.0689253636806844,-1.3308743882739142,-1.0688992073597006,-2.200400639025823,-1.9889155666670315,-2.27291474107691,-1.0730809949960616,-0.9682369766721973,-0.9684563581099742,-2.2844026229431256,-1.0688920404967133,-2.284400645202031,-2.223478104543519,-1.010910776872242,-2.2861399544683696,-1.0688913388839054,-0.9688001113714987,-2.272912454832991,-1.0688900861688604,-2.223475470756143,-1.9730368562194658,-1.0705735107026106,-0.5571184327131484,-1.0688975373249603,-1.331362841430038,-1.0689160427976212,-2.2860801860095146,-2.1099210783876012,-2.2380475410369636,-2.190653037934939,-2.2844528188337083,-0.9684131676148253,-1.0688915346059409,-1.0689210695924676,-0.9684000671977138,-0.9683928009589052,-2.284410931059927,-1.9942432546531208,-1.0826412160488958,-1.2577483209617841,-0.9688023369843919,-1.3308749064182774,-1.073380993000682,-1.005943472770029,-1.0688955541484122,-1.0689195101416402,-1.0689196643909646,-1.0689191934951772,-2.2844281455638966,-2.2795941089711023,-0.9679658499774833,-1.5197167707383419,-2.2729096399849755,-2.157862628327547,-1.0688900216423725,-0.9684584126012655,-1.5197234952943217,-1.9890300123727847,-1.5197180898002076,-1.887719443279075,-2.3122537979358064,-2.2843974380067036,-1.992962739759306,-0.968585707486733,-2.286298838678851,-1.0692843989553749,-1.231965167326737,-0.9683924788230651,-1.519712584584195,-1.51978890206165,-1.0688986201222028,-0.9683919768567532,-1.330873594431351,-1.082621501163677,-0.12403011613249561,-2.6886159937161813,-1.97778734790517,-2.284478797919659,-1.0687656614421486,-2.157806269256385,-1.3837038962906347,-1.068902899419854,-1.0703837654454542,-0.9685066722475341,-1.9915863857745673,-2.2847864508027063,-1.0688984616258403,-2.2812020237117747,-2.2729067562195544,-2.2005110687056035,-0.9684146367012281,-2.284394891498856,-0.5571019612045293,-2.223483648039302,-2.379116183769349,-2.2003962341765866,-2.2846506043579127,-2.2668131054877136,-2.3448980390593204,-2.1862588734866213,-2.284575151111637,-1.264163231776382,-2.132439167145421,-0.968392655669763,-1.0689001022733162,-2.286807138735023,-2.216072849282905,-0.6323383659201561,-2.301818428115013,-1.3308474692374974,-0.9683943560622424,-1.264195836641689,-2.274293903113425,-2.200424737234959,-1.330874907771812,-2.2870273553590597,-2.212840772039216,-2.212800328953303,-0.40806144034983977,-2.2225129857803894,-1.0689270554721348,-2.2730049000487043,-2.2729103686743164,-1.6453957570239228,-1.330878196571412,-0.3242410607597567,-1.330908442195376,-1.1108156197088672,-1.5197339832569305,-2.215779523874661,-1.0689754576774582,-1.330881689227471,-1.0772498083890432,-1.1782833747404156,-1.068891187420772,-1.0689384255925196,-1.8876489943677022,-2.081188036784159,-1.9889155882420297,-2.2845613582016773,-2.2729140002697727],\"z\":[0.16576272452382002,0.3788457820373435,-0.02110727658275029,0.39213724308452597,0.3788397552985773,0.3151037261161481,0.2836773225797102,-0.021094375233767095,0.09462139426528635,-0.021096662422863278,0.28606012516243584,-0.030041249371874232,0.16572885734700135,-0.0211243011816833,-0.02109653351973181,0.05824220114481892,0.1643433337049686,-0.02110053310507354,-0.021094665031989656,-0.02109397957219125,0.09462266917061905,0.28287789891755966,0.1615295180518134,-0.023910545993466054,-0.021097398127539486,-0.02114341480295601,-0.021097372243931406,-0.021093224271538438,0.21118702718642293,-0.021302341069046327,-0.021107476066742317,-0.021102734370655945,-0.041290029371380176,0.16576209324595018,-0.021129153644444596,-0.021097058571770938,-0.021092986234701412,-0.021101329495625085,0.4571091870805335,-0.021094126061941387,-0.02191463327959862,0.16576336151142865,-0.021167406950683938,-0.021093444109701334,-0.021103394343280124,-0.02109903682918828,0.16563363812761014,0.16575700580055072,0.1657612353400372,0.16576447370134045,0.16576674683710474,0.09462384518099327,-0.021097891997372265,0.1531699699272479,-0.021122797152083813,0.16575791931018102,0.327359177818273,0.36679209818511704,-0.021108797951199326,-0.02121473870177436,-0.021124064891870457,-0.021092831868963755,-0.02112686128068083,-0.021274255223264215,0.4611310761175257,0.2864307663508381,0.11741415630865767,-0.021094837172972298,-0.022246149922332703,0.3770151261155594,-0.02109287241518673,0.165763815435532,-0.023236666983232037,0.09461688466204979,0.448388453237772,0.16576259593518994,0.0946204298658865,-0.02110413476775785,-0.02111365540172619,0.37886479029130593,0.3801622616721978,0.09462054561292083,0.16576211158676413,-0.021139551197797753,0.2600326686473404,-0.02110863346735779,0.16092278589457162,0.09461312315310122,0.32105290197668096,-0.02109678453175059,0.40772686478589143,-0.021094512136268218,0.09462077779471652,-0.021092871739686058,0.09462322853639757,0.21797637455702393,0.36840212841595144,0.165765319406073,0.28621616694400204,-0.02112072129121823,0.16576472685206503,-0.021095653184885203,0.3246192119426992,0.3788614372850853,0.3151040793700008,-0.02136495633186359,0.09444793596170441,0.0946065225091077,0.3684032384317411,-0.021092976040539543,0.3684014724950041,0.4483921222916214,0.09218654379001782,0.39213417603589484,-0.021093434521616154,0.09459471678569104,0.31510391144150834,-0.021114996805191865,0.4483885381305426,0.4693618559171733,-0.02119874376854966,-0.05332690668346445,-0.02109760985875134,0.16544546682795377,-0.02109714183551032,0.39212444821477027,0.31497270718667986,0.38673528081853165,0.31173678256564674,0.3679960848176094,0.0946147409199407,-0.021096803530428036,-0.021095513731409797,0.09461748905091893,0.09462312214897811,0.3683998375105677,0.3626626319540663,-0.058304782583636715,0.0516651155290607,0.09457400211609321,0.16576271086592254,-0.021337517133785622,-0.0496417471302642,-0.021095137636796216,-0.0210981761621048,-0.02110158205465049,-0.02110179562223729,0.36840006560195654,0.31357591355472403,0.09404255778340069,0.2112350537491824,0.3151017658477229,0.32104431195932487,-0.021115026070194217,0.09458095093621496,0.21123419323754905,0.3788582079188206,0.21123460923453985,0.28633221506334844,0.3625738222442778,0.36840273342837343,0.37853025745810687,0.09459523546123934,0.39202929706903933,-0.0220006413206941,0.011824703925131094,0.09462278053263086,0.21123445862669182,0.21116501299364696,-0.021103305698661402,0.09462185770348855,0.1657622970129849,0.22321188316739082,0.17657955957185537,0.33449197344145104,0.4028563776081872,0.368369355631766,-0.023322109906692475,0.3210309832737273,0.15302798603000412,-0.02109615111366565,-0.024414581106880575,0.09457025226768401,0.3786663753262574,0.36836463912076683,-0.02109403623547152,0.35252512533502856,0.3150898131694627,0.3246087723984893,0.09461540720162408,0.36840029677898517,-0.05332845684297636,0.44839109978184194,0.28243149169738,0.3246195821134461,0.36838992417880356,0.35794983930764646,0.35587229716370267,0.28419034934395887,0.368268807375533,0.13254772123089217,0.3921465700140894,0.09462260004999985,-0.021093532252908418,0.3920967856872085,0.23582636234317106,0.01743696514678127,0.3337841766935023,0.16529862389656488,0.09462250227452686,0.13254558034571165,0.314083110549269,0.32461654205411394,0.16576271147979743,0.36784290351935484,0.31340044729185,0.3133994605627738,0.11281319309308432,0.4319821680695419,-0.021102574755217998,0.3150924408109453,0.31509994869283553,0.11741051626537273,0.16575486171779524,-0.06565906499151032,0.16574598613344863,-0.02338989294889155,0.21037976322840252,0.31323542524194625,-0.02127179442311692,0.16576122505227422,-0.028163879659718685,0.16433810309845578,-0.0210938594900271,-0.021110886929536957,0.2864430345738737,0.5658262338379831,0.3788618202015039,0.3681756072028743,0.3151037433882467],\"type\":\"scatter3d\"},{\"customdata\":[[\"Proof-of-BibleHash\",1772091549.88818,\"5200000000\"],[\"SHA-256 + Hive\",638382332.208514,\"840000000\"],[\"Leased POS\",100000000.0,\"100000000\"]],\"hovertemplate\":\"<b>%{hovertext}</b><br><br>Class=%{marker.color}<br>PC 1=%{x}<br>PC 2=%{y}<br>PC 3=%{z}<br>Algorithm=%{customdata[0]}<br>TotalCoinsMined=%{customdata[1]}<br>TotalCoinSupply=%{customdata[2]}<extra></extra>\",\"hovertext\":[\"BiblePay\",\"LitecoinCash\",\"Waves\"],\"legendgroup\":\"1\",\"marker\":{\"color\":[1,1,1],\"coloraxis\":\"coloraxis\",\"symbol\":\"square\"},\"mode\":\"markers\",\"name\":\"1\",\"scene\":\"scene\",\"showlegend\":true,\"x\":[-0.19960442764232003,-0.40892819289375887,-0.4300087386288436],\"y\":[3.934575544800475,3.8075215570856793,2.852146941469922],\"z\":[13.690564227793692,18.49295979032196,20.50354909322574],\"type\":\"scatter3d\"},{\"customdata\":[[\"TRC10\",989988713439.649,\"990000000000\"]],\"hovertemplate\":\"<b>%{hovertext}</b><br><br>Class=%{marker.color}<br>PC 1=%{x}<br>PC 2=%{y}<br>PC 3=%{z}<br>Algorithm=%{customdata[0]}<br>TotalCoinsMined=%{customdata[1]}<br>TotalCoinSupply=%{customdata[2]}<extra></extra>\",\"hovertext\":[\"BitTorrent\"],\"legendgroup\":\"2\",\"marker\":{\"color\":[2],\"coloraxis\":\"coloraxis\",\"symbol\":\"x\"},\"mode\":\"markers\",\"name\":\"2\",\"scene\":\"scene\",\"showlegend\":true,\"x\":[34.03323291596854],\"y\":[1.797520396416207],\"z\":[-0.6143998443912075],\"type\":\"scatter3d\"}],                        {\"template\":{\"data\":{\"histogram2dcontour\":[{\"type\":\"histogram2dcontour\",\"colorbar\":{\"outlinewidth\":0,\"ticks\":\"\"},\"colorscale\":[[0.0,\"#0d0887\"],[0.1111111111111111,\"#46039f\"],[0.2222222222222222,\"#7201a8\"],[0.3333333333333333,\"#9c179e\"],[0.4444444444444444,\"#bd3786\"],[0.5555555555555556,\"#d8576b\"],[0.6666666666666666,\"#ed7953\"],[0.7777777777777778,\"#fb9f3a\"],[0.8888888888888888,\"#fdca26\"],[1.0,\"#f0f921\"]]}],\"choropleth\":[{\"type\":\"choropleth\",\"colorbar\":{\"outlinewidth\":0,\"ticks\":\"\"}}],\"histogram2d\":[{\"type\":\"histogram2d\",\"colorbar\":{\"outlinewidth\":0,\"ticks\":\"\"},\"colorscale\":[[0.0,\"#0d0887\"],[0.1111111111111111,\"#46039f\"],[0.2222222222222222,\"#7201a8\"],[0.3333333333333333,\"#9c179e\"],[0.4444444444444444,\"#bd3786\"],[0.5555555555555556,\"#d8576b\"],[0.6666666666666666,\"#ed7953\"],[0.7777777777777778,\"#fb9f3a\"],[0.8888888888888888,\"#fdca26\"],[1.0,\"#f0f921\"]]}],\"heatmap\":[{\"type\":\"heatmap\",\"colorbar\":{\"outlinewidth\":0,\"ticks\":\"\"},\"colorscale\":[[0.0,\"#0d0887\"],[0.1111111111111111,\"#46039f\"],[0.2222222222222222,\"#7201a8\"],[0.3333333333333333,\"#9c179e\"],[0.4444444444444444,\"#bd3786\"],[0.5555555555555556,\"#d8576b\"],[0.6666666666666666,\"#ed7953\"],[0.7777777777777778,\"#fb9f3a\"],[0.8888888888888888,\"#fdca26\"],[1.0,\"#f0f921\"]]}],\"heatmapgl\":[{\"type\":\"heatmapgl\",\"colorbar\":{\"outlinewidth\":0,\"ticks\":\"\"},\"colorscale\":[[0.0,\"#0d0887\"],[0.1111111111111111,\"#46039f\"],[0.2222222222222222,\"#7201a8\"],[0.3333333333333333,\"#9c179e\"],[0.4444444444444444,\"#bd3786\"],[0.5555555555555556,\"#d8576b\"],[0.6666666666666666,\"#ed7953\"],[0.7777777777777778,\"#fb9f3a\"],[0.8888888888888888,\"#fdca26\"],[1.0,\"#f0f921\"]]}],\"contourcarpet\":[{\"type\":\"contourcarpet\",\"colorbar\":{\"outlinewidth\":0,\"ticks\":\"\"}}],\"contour\":[{\"type\":\"contour\",\"colorbar\":{\"outlinewidth\":0,\"ticks\":\"\"},\"colorscale\":[[0.0,\"#0d0887\"],[0.1111111111111111,\"#46039f\"],[0.2222222222222222,\"#7201a8\"],[0.3333333333333333,\"#9c179e\"],[0.4444444444444444,\"#bd3786\"],[0.5555555555555556,\"#d8576b\"],[0.6666666666666666,\"#ed7953\"],[0.7777777777777778,\"#fb9f3a\"],[0.8888888888888888,\"#fdca26\"],[1.0,\"#f0f921\"]]}],\"surface\":[{\"type\":\"surface\",\"colorbar\":{\"outlinewidth\":0,\"ticks\":\"\"},\"colorscale\":[[0.0,\"#0d0887\"],[0.1111111111111111,\"#46039f\"],[0.2222222222222222,\"#7201a8\"],[0.3333333333333333,\"#9c179e\"],[0.4444444444444444,\"#bd3786\"],[0.5555555555555556,\"#d8576b\"],[0.6666666666666666,\"#ed7953\"],[0.7777777777777778,\"#fb9f3a\"],[0.8888888888888888,\"#fdca26\"],[1.0,\"#f0f921\"]]}],\"mesh3d\":[{\"type\":\"mesh3d\",\"colorbar\":{\"outlinewidth\":0,\"ticks\":\"\"}}],\"scatter\":[{\"fillpattern\":{\"fillmode\":\"overlay\",\"size\":10,\"solidity\":0.2},\"type\":\"scatter\"}],\"parcoords\":[{\"type\":\"parcoords\",\"line\":{\"colorbar\":{\"outlinewidth\":0,\"ticks\":\"\"}}}],\"scatterpolargl\":[{\"type\":\"scatterpolargl\",\"marker\":{\"colorbar\":{\"outlinewidth\":0,\"ticks\":\"\"}}}],\"bar\":[{\"error_x\":{\"color\":\"#2a3f5f\"},\"error_y\":{\"color\":\"#2a3f5f\"},\"marker\":{\"line\":{\"color\":\"#E5ECF6\",\"width\":0.5},\"pattern\":{\"fillmode\":\"overlay\",\"size\":10,\"solidity\":0.2}},\"type\":\"bar\"}],\"scattergeo\":[{\"type\":\"scattergeo\",\"marker\":{\"colorbar\":{\"outlinewidth\":0,\"ticks\":\"\"}}}],\"scatterpolar\":[{\"type\":\"scatterpolar\",\"marker\":{\"colorbar\":{\"outlinewidth\":0,\"ticks\":\"\"}}}],\"histogram\":[{\"marker\":{\"pattern\":{\"fillmode\":\"overlay\",\"size\":10,\"solidity\":0.2}},\"type\":\"histogram\"}],\"scattergl\":[{\"type\":\"scattergl\",\"marker\":{\"colorbar\":{\"outlinewidth\":0,\"ticks\":\"\"}}}],\"scatter3d\":[{\"type\":\"scatter3d\",\"line\":{\"colorbar\":{\"outlinewidth\":0,\"ticks\":\"\"}},\"marker\":{\"colorbar\":{\"outlinewidth\":0,\"ticks\":\"\"}}}],\"scattermapbox\":[{\"type\":\"scattermapbox\",\"marker\":{\"colorbar\":{\"outlinewidth\":0,\"ticks\":\"\"}}}],\"scatterternary\":[{\"type\":\"scatterternary\",\"marker\":{\"colorbar\":{\"outlinewidth\":0,\"ticks\":\"\"}}}],\"scattercarpet\":[{\"type\":\"scattercarpet\",\"marker\":{\"colorbar\":{\"outlinewidth\":0,\"ticks\":\"\"}}}],\"carpet\":[{\"aaxis\":{\"endlinecolor\":\"#2a3f5f\",\"gridcolor\":\"white\",\"linecolor\":\"white\",\"minorgridcolor\":\"white\",\"startlinecolor\":\"#2a3f5f\"},\"baxis\":{\"endlinecolor\":\"#2a3f5f\",\"gridcolor\":\"white\",\"linecolor\":\"white\",\"minorgridcolor\":\"white\",\"startlinecolor\":\"#2a3f5f\"},\"type\":\"carpet\"}],\"table\":[{\"cells\":{\"fill\":{\"color\":\"#EBF0F8\"},\"line\":{\"color\":\"white\"}},\"header\":{\"fill\":{\"color\":\"#C8D4E3\"},\"line\":{\"color\":\"white\"}},\"type\":\"table\"}],\"barpolar\":[{\"marker\":{\"line\":{\"color\":\"#E5ECF6\",\"width\":0.5},\"pattern\":{\"fillmode\":\"overlay\",\"size\":10,\"solidity\":0.2}},\"type\":\"barpolar\"}],\"pie\":[{\"automargin\":true,\"type\":\"pie\"}]},\"layout\":{\"autotypenumbers\":\"strict\",\"colorway\":[\"#636efa\",\"#EF553B\",\"#00cc96\",\"#ab63fa\",\"#FFA15A\",\"#19d3f3\",\"#FF6692\",\"#B6E880\",\"#FF97FF\",\"#FECB52\"],\"font\":{\"color\":\"#2a3f5f\"},\"hovermode\":\"closest\",\"hoverlabel\":{\"align\":\"left\"},\"paper_bgcolor\":\"white\",\"plot_bgcolor\":\"#E5ECF6\",\"polar\":{\"bgcolor\":\"#E5ECF6\",\"angularaxis\":{\"gridcolor\":\"white\",\"linecolor\":\"white\",\"ticks\":\"\"},\"radialaxis\":{\"gridcolor\":\"white\",\"linecolor\":\"white\",\"ticks\":\"\"}},\"ternary\":{\"bgcolor\":\"#E5ECF6\",\"aaxis\":{\"gridcolor\":\"white\",\"linecolor\":\"white\",\"ticks\":\"\"},\"baxis\":{\"gridcolor\":\"white\",\"linecolor\":\"white\",\"ticks\":\"\"},\"caxis\":{\"gridcolor\":\"white\",\"linecolor\":\"white\",\"ticks\":\"\"}},\"coloraxis\":{\"colorbar\":{\"outlinewidth\":0,\"ticks\":\"\"}},\"colorscale\":{\"sequential\":[[0.0,\"#0d0887\"],[0.1111111111111111,\"#46039f\"],[0.2222222222222222,\"#7201a8\"],[0.3333333333333333,\"#9c179e\"],[0.4444444444444444,\"#bd3786\"],[0.5555555555555556,\"#d8576b\"],[0.6666666666666666,\"#ed7953\"],[0.7777777777777778,\"#fb9f3a\"],[0.8888888888888888,\"#fdca26\"],[1.0,\"#f0f921\"]],\"sequentialminus\":[[0.0,\"#0d0887\"],[0.1111111111111111,\"#46039f\"],[0.2222222222222222,\"#7201a8\"],[0.3333333333333333,\"#9c179e\"],[0.4444444444444444,\"#bd3786\"],[0.5555555555555556,\"#d8576b\"],[0.6666666666666666,\"#ed7953\"],[0.7777777777777778,\"#fb9f3a\"],[0.8888888888888888,\"#fdca26\"],[1.0,\"#f0f921\"]],\"diverging\":[[0,\"#8e0152\"],[0.1,\"#c51b7d\"],[0.2,\"#de77ae\"],[0.3,\"#f1b6da\"],[0.4,\"#fde0ef\"],[0.5,\"#f7f7f7\"],[0.6,\"#e6f5d0\"],[0.7,\"#b8e186\"],[0.8,\"#7fbc41\"],[0.9,\"#4d9221\"],[1,\"#276419\"]]},\"xaxis\":{\"gridcolor\":\"white\",\"linecolor\":\"white\",\"ticks\":\"\",\"title\":{\"standoff\":15},\"zerolinecolor\":\"white\",\"automargin\":true,\"zerolinewidth\":2},\"yaxis\":{\"gridcolor\":\"white\",\"linecolor\":\"white\",\"ticks\":\"\",\"title\":{\"standoff\":15},\"zerolinecolor\":\"white\",\"automargin\":true,\"zerolinewidth\":2},\"scene\":{\"xaxis\":{\"backgroundcolor\":\"#E5ECF6\",\"gridcolor\":\"white\",\"linecolor\":\"white\",\"showbackground\":true,\"ticks\":\"\",\"zerolinecolor\":\"white\",\"gridwidth\":2},\"yaxis\":{\"backgroundcolor\":\"#E5ECF6\",\"gridcolor\":\"white\",\"linecolor\":\"white\",\"showbackground\":true,\"ticks\":\"\",\"zerolinecolor\":\"white\",\"gridwidth\":2},\"zaxis\":{\"backgroundcolor\":\"#E5ECF6\",\"gridcolor\":\"white\",\"linecolor\":\"white\",\"showbackground\":true,\"ticks\":\"\",\"zerolinecolor\":\"white\",\"gridwidth\":2}},\"shapedefaults\":{\"line\":{\"color\":\"#2a3f5f\"}},\"annotationdefaults\":{\"arrowcolor\":\"#2a3f5f\",\"arrowhead\":0,\"arrowwidth\":1},\"geo\":{\"bgcolor\":\"white\",\"landcolor\":\"#E5ECF6\",\"subunitcolor\":\"white\",\"showland\":true,\"showlakes\":true,\"lakecolor\":\"white\"},\"title\":{\"x\":0.05},\"mapbox\":{\"style\":\"light\"}}},\"scene\":{\"domain\":{\"x\":[0.0,1.0],\"y\":[0.0,1.0]},\"xaxis\":{\"title\":{\"text\":\"PC 1\"}},\"yaxis\":{\"title\":{\"text\":\"PC 2\"}},\"zaxis\":{\"title\":{\"text\":\"PC 3\"}}},\"coloraxis\":{\"colorbar\":{\"title\":{\"text\":\"Class\"}},\"colorscale\":[[0.0,\"#0d0887\"],[0.1111111111111111,\"#46039f\"],[0.2222222222222222,\"#7201a8\"],[0.3333333333333333,\"#9c179e\"],[0.4444444444444444,\"#bd3786\"],[0.5555555555555556,\"#d8576b\"],[0.6666666666666666,\"#ed7953\"],[0.7777777777777778,\"#fb9f3a\"],[0.8888888888888888,\"#fdca26\"],[1.0,\"#f0f921\"]]},\"legend\":{\"title\":{\"text\":\"Class\"},\"tracegroupgap\":0,\"x\":0,\"y\":1},\"margin\":{\"t\":60}},                        {\"responsive\": true}                    ).then(function(){\n",
       "                            \n",
       "var gd = document.getElementById('c95f363b-daf6-4adb-91a5-ec476b5a98de');\n",
       "var x = new MutationObserver(function (mutations, observer) {{\n",
       "        var display = window.getComputedStyle(gd).display;\n",
       "        if (!display || display === 'none') {{\n",
       "            console.log([gd, 'removed!']);\n",
       "            Plotly.purge(gd);\n",
       "            observer.disconnect();\n",
       "        }}\n",
       "}});\n",
       "\n",
       "// Listen for the removal of the full notebook cells\n",
       "var notebookContainer = gd.closest('#notebook-container');\n",
       "if (notebookContainer) {{\n",
       "    x.observe(notebookContainer, {childList: true});\n",
       "}}\n",
       "\n",
       "// Listen for the clearing of the current output cell\n",
       "var outputEl = gd.closest('.output');\n",
       "if (outputEl) {{\n",
       "    x.observe(outputEl, {childList: true});\n",
       "}}\n",
       "\n",
       "                        })                };                });            </script>        </div>"
      ]
     },
     "metadata": {},
     "output_type": "display_data"
    }
   ],
   "source": [
    "# Creating a 3D-Scatter with the PCA data and the clusters\n",
    "fig = px.scatter_3d(\n",
    "    clustered_df, \n",
    "    x=\"PC 1\", \n",
    "    y=\"PC 2\", \n",
    "    z=\"PC 3\", \n",
    "    color=\"Class\", \n",
    "    symbol=\"Class\", \n",
    "    hover_name=\"CoinName\", \n",
    "    hover_data=[\"Algorithm\", \"TotalCoinsMined\", \"TotalCoinSupply\"])\n",
    "fig.update_layout(legend=dict(x=0, y=1))\n",
    "fig.show()"
   ]
  },
  {
   "cell_type": "code",
   "execution_count": 78,
   "metadata": {},
   "outputs": [
    {
     "data": {},
     "metadata": {},
     "output_type": "display_data"
    },
    {
     "data": {
      "application/vnd.holoviews_exec.v0+json": "",
      "text/html": [
       "<div id='1271'>\n",
       "\n",
       "\n",
       "\n",
       "\n",
       "\n",
       "  <div class=\"bk-root\" id=\"c9e94fb6-45fc-4892-9ccb-c7b4b50e4bc7\" data-root-id=\"1271\"></div>\n",
       "</div>\n",
       "<script type=\"application/javascript\">(function(root) {\n",
       "  function embed_document(root) {\n",
       "    var docs_json = {\"148681b3-3d81-478d-b7f1-3b5ad3d6e0cb\":{\"defs\":[{\"extends\":null,\"module\":null,\"name\":\"ReactiveHTML1\",\"overrides\":[],\"properties\":[]},{\"extends\":null,\"module\":null,\"name\":\"FlexBox1\",\"overrides\":[],\"properties\":[{\"default\":\"flex-start\",\"kind\":null,\"name\":\"align_content\"},{\"default\":\"flex-start\",\"kind\":null,\"name\":\"align_items\"},{\"default\":\"row\",\"kind\":null,\"name\":\"flex_direction\"},{\"default\":\"wrap\",\"kind\":null,\"name\":\"flex_wrap\"},{\"default\":\"flex-start\",\"kind\":null,\"name\":\"justify_content\"}]},{\"extends\":null,\"module\":null,\"name\":\"GridStack1\",\"overrides\":[],\"properties\":[{\"default\":\"warn\",\"kind\":null,\"name\":\"mode\"},{\"default\":null,\"kind\":null,\"name\":\"ncols\"},{\"default\":null,\"kind\":null,\"name\":\"nrows\"},{\"default\":true,\"kind\":null,\"name\":\"allow_resize\"},{\"default\":true,\"kind\":null,\"name\":\"allow_drag\"},{\"default\":[],\"kind\":null,\"name\":\"state\"}]},{\"extends\":null,\"module\":null,\"name\":\"click1\",\"overrides\":[],\"properties\":[{\"default\":\"\",\"kind\":null,\"name\":\"terminal_output\"},{\"default\":\"\",\"kind\":null,\"name\":\"debug_name\"},{\"default\":0,\"kind\":null,\"name\":\"clears\"}]},{\"extends\":null,\"module\":null,\"name\":\"NotificationAreaBase1\",\"overrides\":[],\"properties\":[{\"default\":\"bottom-right\",\"kind\":null,\"name\":\"position\"},{\"default\":0,\"kind\":null,\"name\":\"_clear\"}]},{\"extends\":null,\"module\":null,\"name\":\"NotificationArea1\",\"overrides\":[],\"properties\":[{\"default\":[],\"kind\":null,\"name\":\"notifications\"},{\"default\":\"bottom-right\",\"kind\":null,\"name\":\"position\"},{\"default\":0,\"kind\":null,\"name\":\"_clear\"},{\"default\":[{\"background\":\"#ffc107\",\"icon\":{\"className\":\"fas fa-exclamation-triangle\",\"color\":\"white\",\"tagName\":\"i\"},\"type\":\"warning\"},{\"background\":\"#007bff\",\"icon\":{\"className\":\"fas fa-info-circle\",\"color\":\"white\",\"tagName\":\"i\"},\"type\":\"info\"}],\"kind\":null,\"name\":\"types\"}]},{\"extends\":null,\"module\":null,\"name\":\"Notification\",\"overrides\":[],\"properties\":[{\"default\":null,\"kind\":null,\"name\":\"background\"},{\"default\":3000,\"kind\":null,\"name\":\"duration\"},{\"default\":null,\"kind\":null,\"name\":\"icon\"},{\"default\":\"\",\"kind\":null,\"name\":\"message\"},{\"default\":null,\"kind\":null,\"name\":\"notification_type\"},{\"default\":false,\"kind\":null,\"name\":\"_destroyed\"}]},{\"extends\":null,\"module\":null,\"name\":\"TemplateActions1\",\"overrides\":[],\"properties\":[{\"default\":0,\"kind\":null,\"name\":\"open_modal\"},{\"default\":0,\"kind\":null,\"name\":\"close_modal\"}]},{\"extends\":null,\"module\":null,\"name\":\"MaterialTemplateActions1\",\"overrides\":[],\"properties\":[{\"default\":0,\"kind\":null,\"name\":\"open_modal\"},{\"default\":0,\"kind\":null,\"name\":\"close_modal\"}]}],\"roots\":{\"references\":[{\"attributes\":{},\"id\":\"1276\",\"type\":\"StringEditor\"},{\"attributes\":{\"children\":[{\"id\":\"1272\"},{\"id\":\"1305\"},{\"id\":\"1310\"}],\"margin\":[0,0,0,0],\"name\":\"Row01115\",\"tags\":[\"embedded\"]},\"id\":\"1271\",\"type\":\"Row\"},{\"attributes\":{\"editor\":{\"id\":\"1276\"},\"field\":\"CoinName\",\"formatter\":{\"id\":\"1275\"},\"title\":\"CoinName\"},\"id\":\"1277\",\"type\":\"TableColumn\"},{\"attributes\":{},\"id\":\"1296\",\"type\":\"StringEditor\"},{\"attributes\":{\"editor\":{\"id\":\"1291\"},\"field\":\"TotalCoinsMined\",\"formatter\":{\"id\":\"1290\"},\"title\":\"TotalCoinsMined\"},\"id\":\"1292\",\"type\":\"TableColumn\"},{\"attributes\":{},\"id\":\"1280\",\"type\":\"StringFormatter\"},{\"attributes\":{},\"id\":\"1300\",\"type\":\"NumberFormatter\"},{\"attributes\":{},\"id\":\"1291\",\"type\":\"NumberEditor\"},{\"attributes\":{},\"id\":\"1301\",\"type\":\"IntEditor\"},{\"attributes\":{},\"id\":\"1281\",\"type\":\"StringEditor\"},{\"attributes\":{\"editor\":{\"id\":\"1301\"},\"field\":\"Class\",\"formatter\":{\"id\":\"1300\"},\"title\":\"Class\"},\"id\":\"1302\",\"type\":\"TableColumn\"},{\"attributes\":{\"data\":{\"Algorithm\":[\"Scrypt\",\"Scrypt\",\"X13\",\"SHA-256\",\"Ethash\",\"Scrypt\",\"X11\",\"CryptoNight-V7\",\"Ethash\",\"Equihash\",\"SHA-512\",\"Multiple\",\"SHA-256\",\"SHA-256\",\"Scrypt\",\"X15\",\"X11\",\"Scrypt\",\"Scrypt\",\"Scrypt\",\"Multiple\",\"Scrypt\",\"SHA-256\",\"Scrypt\",\"Scrypt\",\"Scrypt\",\"Quark\",\"Groestl\",\"Scrypt\",\"Scrypt\",\"Scrypt\",\"Scrypt\",\"Scrypt\",\"X11\",\"Scrypt\",\"Groestl\",\"Multiple\",\"SHA-256\",\"Scrypt\",\"Scrypt\",\"Scrypt\",\"Scrypt\",\"PoS\",\"Scrypt\",\"Scrypt\",\"NeoScrypt\",\"Scrypt\",\"Scrypt\",\"Scrypt\",\"Scrypt\",\"X11\",\"Scrypt\",\"X11\",\"SHA-256\",\"Scrypt\",\"Scrypt\",\"Scrypt\",\"SHA3\",\"Scrypt\",\"HybridScryptHash256\",\"Scrypt\",\"Scrypt\",\"SHA-256\",\"Scrypt\",\"X13\",\"Scrypt\",\"SHA-256\",\"Scrypt\",\"X13\",\"NeoScrypt\",\"Scrypt\",\"Scrypt\",\"Scrypt\",\"Scrypt\",\"Scrypt\",\"Scrypt\",\"X11\",\"X11\",\"SHA-256\",\"Multiple\",\"SHA-256\",\"PHI1612\",\"X11\",\"SHA-256\",\"SHA-256\",\"SHA-256\",\"X11\",\"Scrypt\",\"Scrypt\",\"Scrypt\",\"Scrypt\",\"Lyra2REv2\",\"Scrypt\",\"X11\",\"Multiple\",\"SHA-256\",\"X13\",\"Scrypt\",\"CryptoNight\",\"CryptoNight\",\"Shabal256\",\"Counterparty\",\"Scrypt\",\"SHA-256\",\"Groestl\",\"Scrypt\",\"Scrypt\",\"Scrypt\",\"X13\",\"Scrypt\",\"Scrypt\",\"Scrypt\",\"Scrypt\",\"X13\",\"Scrypt\",\"Stanford Folding\",\"X11\",\"Multiple\",\"QuBit\",\"Scrypt\",\"Scrypt\",\"Scrypt\",\"M7 POW\",\"Scrypt\",\"SHA-256\",\"Scrypt\",\"X11\",\"SHA3\",\"X11\",\"Lyra2RE\",\"SHA-256\",\"QUAIT\",\"X11\",\"X11\",\"Scrypt\",\"Scrypt\",\"Scrypt\",\"Ethash\",\"X13\",\"Blake2b\",\"SHA-256\",\"X15\",\"X11\",\"SHA-256\",\"BLAKE256\",\"Scrypt\",\"1GB AES Pattern Search\",\"SHA-256\",\"X11\",\"Scrypt\",\"SHA-256\",\"SHA-256\",\"NIST5\",\"Scrypt\",\"Scrypt\",\"X11\",\"Dagger\",\"Scrypt\",\"X11GOST\",\"X11\",\"Scrypt\",\"SHA-256\",\"Scrypt\",\"PoS\",\"Scrypt\",\"X11\",\"X11\",\"SHA-256\",\"SHA-256\",\"NIST5\",\"X11\",\"Scrypt\",\"POS 3.0\",\"Scrypt\",\"Scrypt\",\"Scrypt\",\"X13\",\"X11\",\"X11\",\"Equihash\",\"X11\",\"Scrypt\",\"CryptoNight\",\"SHA-256\",\"SHA-256\",\"X11\",\"Scrypt\",\"Multiple\",\"Scrypt\",\"Scrypt\",\"Scrypt\",\"SHA-256\",\"Scrypt\",\"Scrypt\",\"SHA-256D\",\"PoS\",\"Scrypt\",\"X11\",\"Lyra2Z\",\"PoS\",\"X13\",\"X14\",\"PoS\",\"SHA-256D\",\"Ethash\",\"Equihash\",\"DPoS\",\"X11\",\"Scrypt\",\"X11\",\"X13\",\"X11\",\"PoS\",\"Scrypt\",\"Scrypt\",\"X11\",\"PoS\",\"X11\",\"SHA-256\",\"Scrypt\",\"X11\",\"Scrypt\",\"Scrypt\",\"X11\",\"CryptoNight\",\"Scrypt\",\"Scrypt\",\"Scrypt\",\"Scrypt\",\"Quark\",\"QuBit\",\"Scrypt\",\"CryptoNight\",\"Lyra2RE\",\"Scrypt\",\"SHA-256\",\"X11\",\"Scrypt\",\"X11\",\"Scrypt\",\"CryptoNight-V7\",\"Scrypt\",\"Scrypt\",\"Scrypt\",\"X13\",\"X11\",\"Equihash\",\"Scrypt\",\"Scrypt\",\"Lyra2RE\",\"Scrypt\",\"Dagger-Hashimoto\",\"X11\",\"Blake2S\",\"X11\",\"Scrypt\",\"PoS\",\"X11\",\"NIST5\",\"PoS\",\"X11\",\"Scrypt\",\"Scrypt\",\"Scrypt\",\"SHA-256\",\"X11\",\"Scrypt\",\"Scrypt\",\"SHA-256\",\"PoS\",\"Scrypt\",\"X15\",\"SHA-256\",\"Scrypt\",\"POS 3.0\",\"CryptoNight-V7\",\"536\",\"Argon2d\",\"Blake2b\",\"Cloverhash\",\"CryptoNight\",\"NIST5\",\"X11\",\"NIST5\",\"Skein\",\"Scrypt\",\"X13\",\"Scrypt\",\"X11\",\"X11\",\"Scrypt\",\"CryptoNight\",\"X13\",\"Time Travel\",\"Scrypt\",\"Keccak\",\"SkunkHash v2 Raptor\",\"X11\",\"Skein\",\"SHA-256\",\"X11\",\"Scrypt\",\"VeChainThor Authority\",\"Scrypt\",\"PoS\",\"Scrypt\",\"Scrypt\",\"Scrypt\",\"Scrypt\",\"Scrypt\",\"Scrypt\",\"Scrypt\",\"CryptoNight\",\"SHA-512\",\"Ouroboros\",\"X11\",\"Equihash\",\"NeoScrypt\",\"X11\",\"Scrypt\",\"NeoScrypt\",\"Lyra2REv2\",\"Equihash\",\"Scrypt\",\"SHA-256\",\"NIST5\",\"PHI1612\",\"Dagger\",\"Scrypt\",\"Quark\",\"Scrypt\",\"POS 2.0\",\"Scrypt\",\"SHA-256\",\"X11\",\"NeoScrypt\",\"Ethash\",\"NeoScrypt\",\"X11\",\"DPoS\",\"NIST5\",\"X13\",\"Multiple\",\"Scrypt\",\"CryptoNight\",\"CryptoNight\",\"Ethash\",\"NIST5\",\"Quark\",\"X11\",\"CryptoNight-V7\",\"Scrypt\",\"Scrypt\",\"Scrypt\",\"X11\",\"BLAKE256\",\"X11\",\"NeoScrypt\",\"Quark\",\"NeoScrypt\",\"Scrypt\",\"Scrypt\",\"Scrypt\",\"X11\",\"X11\",\"SHA-256\",\"C11\",\"POS 3.0\",\"Ethash\",\"Scrypt\",\"CryptoNight\",\"SkunkHash\",\"Scrypt\",\"CryptoNight\",\"Scrypt\",\"Dagger\",\"Lyra2REv2\",\"X13\",\"Proof-of-BibleHash\",\"SHA-256 + Hive\",\"Scrypt\",\"Scrypt\",\"X11\",\"C11\",\"Proof-of-Authority\",\"X11\",\"XEVAN\",\"Scrypt\",\"VBFT\",\"Ethash\",\"CryptoNight\",\"Scrypt\",\"IMesh\",\"NIST5\",\"Scrypt\",\"Scrypt\",\"Equihash\",\"Scrypt\",\"Lyra2Z\",\"Green Protocol\",\"PoS\",\"Scrypt\",\"Semux BFT consensus\",\"X11\",\"Quark\",\"PoS\",\"CryptoNight\",\"X16R\",\"Scrypt\",\"NIST5\",\"Lyra2RE\",\"XEVAN\",\"Tribus\",\"Scrypt\",\"Lyra2Z\",\"CryptoNight\",\"CryptoNight Heavy\",\"CryptoNight\",\"Scrypt\",\"Scrypt\",\"Jump Consistent Hash\",\"SHA-256D\",\"CryptoNight\",\"Scrypt\",\"X15\",\"Scrypt\",\"Quark\",\"SHA-256\",\"DPoS\",\"X16R\",\"HMQ1725\",\"X11\",\"X16R\",\"Quark\",\"Quark\",\"Scrypt\",\"Lyra2REv2\",\"Quark\",\"Scrypt\",\"Scrypt\",\"CryptoNight-V7\",\"Cryptonight-GPU\",\"XEVAN\",\"CryptoNight Heavy\",\"X11\",\"X11\",\"Scrypt\",\"PoS\",\"SHA-256\",\"Keccak\",\"X11\",\"X11\",\"Scrypt\",\"SHA-512\",\"X16R\",\"ECC 256K1\",\"Equihash\",\"XEVAN\",\"Lyra2Z\",\"SHA-256\",\"XEVAN\",\"X11\",\"CryptoNight\",\"Quark\",\"Blake\",\"Blake\",\"Equihash\",\"Exosis\",\"Scrypt\",\"Scrypt\",\"Equihash\",\"Quark\",\"Equihash\",\"Quark\",\"Scrypt\",\"QuBit\",\"X11\",\"Scrypt\",\"XEVAN\",\"SHA-256D\",\"X11\",\"SHA-256\",\"X13\",\"SHA-256\",\"X11\",\"DPoS\",\"Scrypt\",\"Scrypt\",\"X11\",\"NeoScrypt\",\"Scrypt\",\"Blake\",\"Scrypt\",\"SHA-256\",\"Scrypt\",\"X11\",\"Scrypt\",\"Scrypt\",\"SHA-256\",\"X11\",\"SHA-256\",\"Scrypt\",\"Scrypt\",\"Scrypt\",\"Groestl\",\"X11\",\"Scrypt\",\"PoS\",\"Scrypt\",\"Scrypt\",\"X11\",\"SHA-256\",\"DPoS\",\"Scrypt\",\"Scrypt\",\"NeoScrypt\",\"Multiple\",\"X13\",\"Equihash+Scrypt\",\"DPoS\",\"Ethash\",\"DPoS\",\"SHA-256\",\"Leased POS\",\"PoS\",\"TRC10\",\"PoS\",\"SHA-256\",\"Scrypt\",\"CryptoNight\",\"Equihash\",\"Scrypt\"],\"Class\":{\"__ndarray__\":\"AAAAAAAAAAAAAAAAAwAAAAMAAAADAAAAAAAAAAMAAAADAAAAAwAAAAAAAAADAAAAAAAAAAAAAAADAAAAAAAAAAMAAAADAAAAAAAAAAAAAAADAAAAAwAAAAMAAAADAAAAAwAAAAAAAAADAAAAAwAAAAMAAAAAAAAAAwAAAAAAAAADAAAAAwAAAAAAAAAAAAAAAwAAAAMAAAADAAAAAwAAAAMAAAADAAAAAAAAAAAAAAADAAAAAwAAAAMAAAADAAAAAwAAAAAAAAAAAAAAAwAAAAAAAAADAAAAAwAAAAMAAAADAAAAAAAAAAMAAAADAAAAAAAAAAMAAAAAAAAAAAAAAAAAAAADAAAAAwAAAAMAAAAAAAAAAAAAAAAAAAAAAAAAAAAAAAMAAAADAAAAAwAAAAAAAAAAAAAAAwAAAAAAAAADAAAAAAAAAAAAAAADAAAAAwAAAAMAAAADAAAAAAAAAAAAAAADAAAAAAAAAAMAAAADAAAAAAAAAAAAAAADAAAAAAAAAAAAAAADAAAAAwAAAAAAAAAAAAAAAwAAAAAAAAAAAAAAAwAAAAAAAAADAAAAAAAAAAMAAAAAAAAAAwAAAAAAAAAAAAAAAwAAAAMAAAAAAAAAAwAAAAMAAAADAAAAAAAAAAMAAAADAAAAAwAAAAMAAAADAAAAAAAAAAAAAAADAAAAAwAAAAMAAAAAAAAAAwAAAAAAAAADAAAAAwAAAAAAAAADAAAAAAAAAAMAAAAAAAAAAAAAAAMAAAADAAAAAAAAAAMAAAADAAAAAAAAAAAAAAADAAAAAAAAAAMAAAAAAAAAAAAAAAAAAAADAAAAAwAAAAMAAAADAAAAAAAAAAAAAAAAAAAAAAAAAAAAAAADAAAAAwAAAAAAAAAAAAAAAAAAAAAAAAAAAAAAAwAAAAAAAAAAAAAAAAAAAAAAAAAAAAAAAwAAAAAAAAADAAAAAAAAAAAAAAADAAAAAAAAAAMAAAAAAAAAAAAAAAMAAAAAAAAAAwAAAAAAAAADAAAAAAAAAAMAAAAAAAAAAAAAAAAAAAAAAAAAAwAAAAAAAAAAAAAAAAAAAAAAAAAAAAAAAwAAAAMAAAAAAAAAAAAAAAMAAAADAAAAAAAAAAAAAAAAAAAAAAAAAAAAAAADAAAAAAAAAAAAAAAAAAAAAAAAAAAAAAAAAAAAAAAAAAAAAAADAAAAAAAAAAAAAAAAAAAAAAAAAAAAAAAAAAAAAwAAAAMAAAADAAAAAAAAAAAAAAAAAAAAAAAAAAMAAAAAAAAAAwAAAAAAAAAAAAAAAwAAAAAAAAADAAAAAwAAAAAAAAADAAAAAwAAAAAAAAADAAAAAAAAAAAAAAAAAAAAAwAAAAAAAAAAAAAAAwAAAAAAAAAAAAAAAAAAAAAAAAAAAAAAAAAAAAAAAAADAAAAAAAAAAMAAAAAAAAAAAAAAAAAAAAAAAAAAwAAAAAAAAADAAAAAAAAAAMAAAADAAAAAwAAAAMAAAAAAAAAAwAAAAAAAAAAAAAAAwAAAAAAAAADAAAAAwAAAAMAAAAAAAAAAwAAAAAAAAADAAAAAwAAAAMAAAAAAAAAAwAAAAAAAAADAAAAAAAAAAAAAAAAAAAAAwAAAAAAAAADAAAAAwAAAAMAAAADAAAAAwAAAAAAAAAAAAAAAwAAAAAAAAAAAAAAAAAAAAMAAAAAAAAAAwAAAAAAAAADAAAAAAAAAAMAAAAAAAAAAAAAAAAAAAAAAAAAAwAAAAAAAAAAAAAAAwAAAAAAAAAAAAAAAAAAAAMAAAADAAAAAwAAAAMAAAAAAAAAAAAAAAAAAAAAAAAAAwAAAAAAAAADAAAAAwAAAAMAAAAAAAAAAAAAAAMAAAADAAAAAAAAAAAAAAADAAAAAAAAAAMAAAADAAAAAwAAAAAAAAADAAAAAwAAAAAAAAAAAAAAAAAAAAMAAAADAAAAAwAAAAAAAAADAAAAAAAAAAMAAAADAAAAAAAAAAMAAAADAAAAAwAAAAMAAAAAAAAAAQAAAAEAAAADAAAAAwAAAAMAAAAAAAAAAAAAAAAAAAAAAAAAAAAAAAAAAAADAAAAAwAAAAMAAAADAAAAAAAAAAAAAAAAAAAAAwAAAAAAAAADAAAAAAAAAAAAAAAAAAAAAAAAAAMAAAAAAAAAAAAAAAMAAAAAAAAAAAAAAAMAAAADAAAAAAAAAAMAAAAAAAAAAwAAAAMAAAADAAAAAwAAAAAAAAAAAAAAAwAAAAAAAAADAAAAAAAAAAAAAAAAAAAAAAAAAAAAAAAAAAAAAwAAAAMAAAADAAAAAAAAAAAAAAAAAAAAAAAAAAAAAAAAAAAAAwAAAAAAAAADAAAAAwAAAAMAAAADAAAAAAAAAAAAAAAAAAAAAAAAAAMAAAAAAAAAAAAAAAMAAAAAAAAAAAAAAAMAAAAAAAAAAwAAAAAAAAADAAAAAwAAAAAAAAAAAAAAAwAAAAAAAAADAAAAAwAAAAMAAAADAAAAAwAAAAAAAAADAAAAAAAAAAMAAAAAAAAAAAAAAAMAAAAAAAAAAAAAAAAAAAAAAAAAAAAAAAMAAAADAAAAAwAAAAAAAAAAAAAAAAAAAAMAAAAAAAAAAwAAAAAAAAADAAAAAAAAAAAAAAAAAAAAAAAAAAMAAAAAAAAAAAAAAAAAAAADAAAAAAAAAAMAAAAAAAAAAwAAAAAAAAAAAAAAAAAAAAMAAAADAAAAAAAAAAAAAAAAAAAAAAAAAAAAAAAAAAAAAwAAAAAAAAADAAAAAAAAAAMAAAAAAAAAAAAAAAEAAAAAAAAAAgAAAAAAAAAAAAAAAAAAAAMAAAADAAAAAAAAAA==\",\"dtype\":\"int32\",\"order\":\"little\",\"shape\":[532]},\"CoinName\":[\"42 Coin\",\"404Coin\",\"EliteCoin\",\"Bitcoin\",\"Ethereum\",\"Litecoin\",\"Dash\",\"Monero\",\"Ethereum Classic\",\"ZCash\",\"Bitshares\",\"DigiByte\",\"BitcoinDark\",\"PayCoin\",\"ProsperCoin\",\"KoboCoin\",\"Spreadcoin\",\"Argentum\",\"Aurora Coin\",\"BlueCoin\",\"MyriadCoin\",\"MoonCoin\",\"ZetaCoin\",\"SexCoin\",\"Quatloo\",\"EnergyCoin\",\"QuarkCoin\",\"Riecoin\",\"Digitalcoin \",\"BitBar\",\"Catcoin\",\"CryptoBullion\",\"CannaCoin\",\"CryptCoin\",\"CasinoCoin\",\"Diamond\",\"Verge\",\"DevCoin\",\"EarthCoin\",\"E-Gulden\",\"Einsteinium\",\"Emerald\",\"Exclusive Coin\",\"FlutterCoin\",\"Franko\",\"FeatherCoin\",\"GrandCoin\",\"GlobalCoin\",\"GoldCoin\",\"HoboNickels\",\"HyperStake\",\"Infinite Coin\",\"IOCoin\",\"IXcoin\",\"KrugerCoin\",\"LuckyCoin\",\"Litebar \",\"MaxCoin\",\"MegaCoin\",\"MediterraneanCoin\",\"MintCoin\",\"MinCoin\",\"MazaCoin\",\"Nautilus Coin\",\"NavCoin\",\"NobleCoin\",\"Namecoin\",\"NyanCoin\",\"OpalCoin\",\"Orbitcoin\",\"PotCoin\",\"PhoenixCoin\",\"Reddcoin\",\"RonPaulCoin\",\"StableCoin\",\"SmartCoin\",\"SuperCoin\",\"SyncCoin\",\"SysCoin\",\"TeslaCoin\",\"TigerCoin\",\"TittieCoin\",\"TorCoin\",\"TerraCoin\",\"UnbreakableCoin\",\"Unobtanium\",\"UroCoin\",\"UnitaryStatus Dollar\",\"UltraCoin\",\"ViaCoin\",\"VeriCoin\",\"Vertcoin\",\"WorldCoin\",\"X11 Coin\",\"Crypti\",\"JouleCoin\",\"StealthCoin\",\"ZCC Coin\",\"ByteCoin\",\"DigitalNote \",\"BurstCoin\",\"StorjCoin\",\"MonaCoin\",\"Neutron\",\"FairCoin\",\"Gulden\",\"RubyCoin\",\"PesetaCoin\",\"Kore\",\"Wild Beast Coin\",\"Dnotes\",\"Flo\",\"8BIT Coin\",\"Sativa Coin\",\"ArtByte\",\"Folding Coin\",\"Ucoin\",\"Unitus\",\"CypherPunkCoin\",\"OmniCron\",\"Vtorrent\",\"GreenCoin\",\"Cryptonite\",\"MasterCoin\",\"SoonCoin\",\"1Credit\",\"IslaCoin\",\"Nexus\",\"MarsCoin \",\"Crypto\",\"Anarchists Prime\",\"Droidz\",\"BowsCoin\",\"Squall Coin\",\"Song Coin\",\"BitZeny\",\"Diggits\",\"Expanse\",\"Paycon\",\"Siacoin\",\"Emercoin\",\"EverGreenCoin\",\"MindCoin\",\"I0coin\",\"Decred\",\"Revolution VR\",\"HOdlcoin\",\"EDRCoin\",\"Hitcoin\",\"Gamecredits\",\"DubaiCoin\",\"CarpeDiemCoin\",\"PWR Coin\",\"BillaryCoin\",\"GPU Coin\",\"Adzcoin\",\"SoilCoin\",\"YoCoin\",\"SibCoin\",\"EuropeCoin\",\"ZeitCoin\",\"SwingCoin\",\"SafeExchangeCoin\",\"Nebuchadnezzar\",\"Francs\",\"BolivarCoin\",\"Ratecoin\",\"Revenu\",\"Clockcoin\",\"VIP Tokens\",\"BitSend\",\"Omni\",\"Let it Ride\",\"PutinCoin\",\"iBankCoin\",\"Frankywillcoin\",\"MudraCoin\",\"PizzaCoin\",\"Lutetium Coin\",\"Komodo\",\"GoldBlocks\",\"CarterCoin\",\"Karbo\",\"BitTokens\",\"ZayedCoin\",\"MustangCoin\",\"ZoneCoin\",\"Circuits of Value\",\"RootCoin\",\"DopeCoin\",\"BitCurrency\",\"DollarCoin\",\"Swiscoin\",\"Shilling\",\"BuzzCoin\",\"Opair\",\"PesoBit\",\"Halloween Coin\",\"ZCoin\",\"CoffeeCoin\",\"RoyalCoin\",\"GanjaCoin V2\",\"TeamUP\",\"LanaCoin\",\"Elementrem\",\"ZClassic\",\"ARK\",\"InsaneCoin\",\"KiloCoin\",\"ArtexCoin\",\"EmberCoin\",\"XenixCoin\",\"FreeCoin\",\"PLNCoin\",\"AquariusCoin\",\"Kurrent\",\"Creatio\",\"Eternity\",\"Eurocoin\",\"BitcoinFast\",\"Stakenet\",\"BitConnect Coin\",\"MoneyCoin\",\"Enigma\",\"Cannabis Industry Coin\",\"Russiacoin\",\"PandaCoin\",\"GameUnits\",\"GAKHcoin\",\"Allsafe\",\"LiteCreed\",\"OsmiumCoin\",\"Bikercoins\",\"HexxCoin\",\"Klingon Empire Darsek\",\"Internet of People\",\"KushCoin\",\"Printerium\",\"PacCoin\",\"Impeach\",\"Citadel\",\"Zilbercoin\",\"FirstCoin\",\"BeaverCoin\",\"FindCoin\",\"VaultCoin\",\"Zero\",\"OpenChat\",\"Canada eCoin\",\"Zoin\",\"RenosCoin\",\"DubaiCoin\",\"VirtacoinPlus\",\"TajCoin\",\"Impact\",\"EB3coin\",\"Atmos\",\"HappyCoin\",\"Coinonat\",\"MacronCoin\",\"Condensate\",\"Independent Money System\",\"ArgusCoin\",\"LomoCoin\",\"ProCurrency\",\"GoldReserve\",\"BenjiRolls\",\"GrowthCoin\",\"ILCoin\",\"Phreak\",\"Degas Coin\",\"HTML5 Coin\",\"Ultimate Secure Cash\",\"EquiTrader\",\"QTUM\",\"Quantum Resistant Ledger\",\"Espers\",\"Dynamic\",\"Nano\",\"ChanCoin\",\"Dinastycoin\",\"Denarius\",\"DigitalPrice\",\"Virta Unique Coin\",\"Bitcoin Planet\",\"Unify\",\"BritCoin\",\"SocialCoin\",\"ArcticCoin\",\"DAS\",\"Linda\",\"LeviarCoin\",\"DeepOnion\",\"Bitcore\",\"gCn Coin\",\"SmartCash\",\"Signatum\",\"Onix\",\"Cream\",\"Bitcoin Cash\",\"Monoeci\",\"Draftcoin\",\"Vechain\",\"Sojourn Coin\",\"Stakecoin\",\"NewYorkCoin\",\"FrazCoin\",\"Kronecoin\",\"AdCoin\",\"Linx\",\"CoinonatX\",\"Ethereum Dark\",\"Sumokoin\",\"Obsidian\",\"Cardano\",\"Regalcoin\",\"BitcoinZ\",\"TrezarCoin\",\"Elements\",\"TerraNovaCoin\",\"VIVO Coin\",\"Rupee\",\"Bitcoin Gold\",\"WomenCoin\",\"Theresa May Coin\",\"NamoCoin\",\"LUXCoin\",\"Pirl\",\"Xios\",\"Bitcloud 2.0\",\"eBoost\",\"KekCoin\",\"BlackholeCoin\",\"Infinity Economics\",\"Pura\",\"Innova\",\"Ellaism\",\"GoByte\",\"Magnet\",\"Lamden Tau\",\"Electra\",\"Bitcoin Diamond\",\"SHIELD\",\"Cash & Back Coin\",\"UltraNote\",\"BitCoal\",\"DaxxCoin\",\"Bulwark\",\"Kalkulus\",\"AC3\",\"Lethean\",\"GermanCoin\",\"LiteCoin Ultra\",\"PopularCoin\",\"PhantomX\",\"Photon\",\"Sucre\",\"SparksPay\",\"Digiwage\",\"GunCoin\",\"IrishCoin\",\"Trollcoin\",\"Litecoin Plus\",\"Monkey Project\",\"Pioneer Coin\",\"UnitedBitcoin\",\"Interzone\",\"TokenPay\",\"1717 Masonic Commemorative Token\",\"My Big Coin\",\"TurtleCoin\",\"MUNcoin\",\"Unified Society USDEX\",\"Niobio Cash\",\"ShareChain\",\"Travelflex\",\"KREDS\",\"Tokyo Coin\",\"BiblePay\",\"LitecoinCash\",\"BitFlip\",\"LottoCoin\",\"Crypto Improvement Fund\",\"Stipend\",\"Poa Network\",\"Pushi\",\"Ellerium\",\"Velox\",\"Ontology\",\"Callisto Network\",\"BitTube\",\"Poseidon\",\"Aidos Kuneen\",\"Bitspace\",\"Briacoin\",\"Ignition\",\"Bitrolium\",\"MedicCoin\",\"Alpenschillling\",\"Bitcoin Green\",\"Deviant Coin\",\"Abjcoin\",\"Semux\",\"FuturoCoin\",\"Carebit\",\"Zealium\",\"Monero Classic\",\"Proton\",\"iDealCash\",\"Jumpcoin\",\"Infinex\",\"Bitcoin Incognito\",\"KEYCO\",\"HollyWoodCoin\",\"GINcoin\",\"PlatinCoin\",\"Loki\",\"Newton Coin\",\"Swisscoin\",\"Xt3ch\",\"MassGrid\",\"TheVig\",\"PluraCoin\",\"EmaratCoin\",\"Dekado\",\"Lynx\",\"Poseidon Quark\",\"BitcoinWSpectrum\",\"Muse\",\"Motion\",\"PlusOneCoin\",\"Axe\",\"Trivechain\",\"Dystem\",\"Giant\",\"Peony Coin\",\"Absolute Coin\",\"Vitae\",\"HexCoin\",\"TPCash\",\"Webchain\",\"Ryo\",\"Urals Coin\",\"Qwertycoin\",\"ARENON\",\"EUNO\",\"MMOCoin\",\"Ketan\",\"Project Pai\",\"XDNA\",\"PAXEX\",\"Azart\",\"ThunderStake\",\"Kcash\",\"Xchange\",\"Acute Angle Cloud\",\"CrypticCoin\",\"Bettex coin\",\"Actinium\",\"Bitcoin SV\",\"BitMoney\",\"Junson Ming Chan Coin\",\"FREDEnergy\",\"HerbCoin\",\"Universal Molecule\",\"Lithium\",\"PirateCash\",\"Exosis\",\"Block-Logic\",\"Oduwa\",\"Beam\",\"Galilel\",\"Bithereum\",\"Crypto Sports\",\"Credit\",\"SLICE\",\"Dash Platinum\",\"Nasdacoin\",\"Beetle Coin\",\"Titan Coin\",\"Award\",\"BLAST\",\"Bitcoin Rhodium\",\"GlobalToken\",\"Insane Coin\",\"ALAX\",\"LiteDoge\",\"SolarCoin\",\"TruckCoin\",\"UFO Coin\",\"OrangeCoin\",\"BlakeCoin\",\"BitstarCoin\",\"NeosCoin\",\"HyperCoin\",\"PinkCoin\",\"Crypto Escudo\",\"AudioCoin\",\"IncaKoin\",\"Piggy Coin\",\"Crown Coin\",\"Genstake\",\"SmileyCoin\",\"XiaoMiCoin\",\"Groestlcoin\",\"CapriCoin\",\" ClubCoin\",\"Radium\",\"Bata\",\"Pakcoin\",\"Creditbit \",\"OKCash\",\"Lisk\",\"HiCoin\",\"WhiteCoin\",\"FriendshipCoin\",\"JoinCoin\",\"Triangles Coin\",\"Vollar\",\"EOS\",\"Reality Clash\",\"Oxycoin\",\"TigerCash\",\"Waves\",\"Particl\",\"BitTorrent\",\"Nxt\",\"ZEPHYR\",\"Gapcoin\",\"Beldex\",\"Horizen\",\"BitcoinPlus\"],\"ProofType\":[\"PoW/PoS\",\"PoW/PoS\",\"PoW/PoS\",\"PoW\",\"PoW\",\"PoW\",\"PoW/PoS\",\"PoW\",\"PoW\",\"PoW\",\"PoS\",\"PoW\",\"PoW/PoS\",\"PoS\",\"PoW\",\"PoW/PoS\",\"PoW\",\"PoW\",\"PoW/PoS\",\"PoW/PoS\",\"PoW\",\"PoW\",\"PoW\",\"PoW\",\"PoW\",\"PoW/PoS\",\"PoW\",\"PoW\",\"PoW\",\"PoW/PoS\",\"PoW\",\"PoW/PoS\",\"PoW\",\"PoW\",\"PoC\",\"PoW/PoS\",\"PoW\",\"PoW\",\"PoW\",\"PoW\",\"PoW\",\"PoW\",\"PoS\",\"PoS/PoW/PoT\",\"PoW\",\"PoW\",\"PoW\",\"PoW\",\"PoW\",\"PoW/PoS\",\"PoS\",\"PoW\",\"PoW/PoS\",\"PoW\",\"PoW\",\"PoW\",\"PoW\",\"PoW/PoS\",\"PoW\",\"PoW\",\"PoS\",\"PoW\",\"PoW/PoS\",\"PoS\",\"PoW/PoS\",\"PoW\",\"PoW\",\"PoW\",\"PoW/PoS\",\"PoW/PoS\",\"PoW/PoS\",\"PoW/PoS\",\"PoW/PoS\",\"PoW\",\"PoW\",\"PoW\",\"PoS\",\"PoW/PoS\",\"PoW\",\"PoS\",\"PoW\",\"PoS\",\"PoW/PoS\",\"PoW\",\"PoW\",\"PoW\",\"PoW\",\"PoW/PoS\",\"PoW/PoS\",\"PoW\",\"PoST\",\"PoW\",\"PoW\",\"PoW/PoS\",\"PoS\",\"PoW\",\"PoW/PoS\",\"PoW/PoS\",\"PoW\",\"PoW\",\"PoC\",\"PoS\",\"PoW\",\"PoW/PoS\",\"PoW/PoS\",\"PoW\",\"PoS\",\"PoW\",\"PoW/PoS\",\"PoW\",\"PoS\",\"PoW\",\"PoW/PoS\",\"PoW/PoS\",\"PoW\",\"PoW\",\"PoS\",\"PoW\",\"PoW\",\"PoW\",\"PoW/PoS\",\"PoW\",\"PoW\",\"PoW\",\"PoW\",\"PoW\",\"PoW/PoS\",\"PoW/nPoS\",\"PoW\",\"PoW\",\"PoW\",\"PoW/PoS\",\"PoW\",\"PoS/PoW\",\"PoW\",\"PoW\",\"PoS\",\"PoW\",\"PoW/PoS\",\"PoW\",\"PoW/PoS\",\"PoW/PoS\",\"PoW\",\"PoW\",\"PoW/PoS\",\"PoW\",\"PoW\",\"PoW/PoS\",\"PoW/PoS\",\"PoW\",\"PoW/PoS\",\"PoW\",\"PoW/PoS\",\"PoW/PoS\",\"PoS\",\"PoW\",\"PoW\",\"PoW\",\"PoW\",\"PoW/PoS\",\"PoS\",\"PoW/PoS\",\"PoC\",\"PoS\",\"PoW\",\"PoW\",\"PoW/PoS\",\"PoW/PoS\",\"PoW/PoS\",\"PoW/PoS\",\"PoW/PoS\",\"PoW\",\"PoS\",\"PoW/PoS\",\"PoW/PoS\",\"PoW/PoS\",\"PoS\",\"PoW\",\"PoS\",\"dPoW/PoW\",\"PoW/PoS\",\"PoW/PoS\",\"PoW\",\"PoW/PoS\",\"PoW\",\"PoW/PoS\",\"PoW/PoS\",\"PoW\",\"PoW/PoS\",\"PoW\",\"PoS\",\"PoW\",\"PoW/PoW\",\"PoW\",\"PoW/PoS\",\"PoS\",\"PoW/PoS\",\"PoW/PoS\",\"PoW\",\"PoS\",\"PoS\",\"PoW/PoS\",\"PoS\",\"PoW/PoS\",\"PoW\",\"PoW\",\"DPoS\",\"PoW/PoS\",\"PoW\",\"PoW\",\"PoW/PoS\",\"PoW/PoS\",\"PoS\",\"PoW/PoS\",\"PoW/PoS\",\"PoW\",\"PoS\",\"PoW/PoS\",\"PoW/PoS\",\"PoW/PoS\",\"TPoS\",\"PoW/PoS\",\"PoW/PoS\",\"PoW/PoS\",\"PoW\",\"PoW/PoS\",\"PoS\",\"PoW/PoS\",\"PoW/PoS\",\"PoS\",\"PoW/PoS\",\"PoW\",\"PoW\",\"PoW\",\"PoW/PoS\",\"PoW/PoS\",\"PoW/PoS\",\"PoW/PoS\",\"PoW\",\"PoW/PoS\",\"PoW\",\"PoS\",\"PoW/PoS \",\"PoW\",\"PoS\",\"PoW\",\"PoW\",\"PoW/PoS\",\"PoW\",\"PoW\",\"PoS\",\"PoW\",\"PoW/PoS\",\"PoW/PoS\",\"PoW/PoS\",\"PoW\",\"PoS\",\"PoW/PoS\",\"PoW\",\"PoS\",\"PoW/PoS\",\"PoW/PoS\",\"PoW/PoS\",\"PoW/PoS\",\"PoS\",\"PoW/PoS\",\"PoW\",\"PoS\",\"PoW\",\"PoS\",\"PoW/PoS\",\"PoW/PoS\",\"PoS\",\"PoW\",\"PoS\",\"PoW\",\"PoW/PoS\",\"PoW\",\"PoW\",\"PoW\",\"PoW\",\"PoW/PoS\",\"PoW\",\"PoW/PoS\",\"PoW/PoS\",\"PoW\",\"PoW/PoS\",\"PoW\",\"PoW\",\"PoW\",\"PoW/PoS\",\"PoW\",\"PoW/PoS\",\"PoW\",\"PoW\",\"PoW\",\"PoS\",\"PoW\",\"PoW/PoS\",\"PoW\",\"PoW/PoS\",\"PoS\",\"Proof of Authority\",\"PoW\",\"PoS\",\"PoW\",\"PoW\",\"PoW\",\"PoW\",\"PoW\",\"PoW/PoS\",\"PoW/PoS\",\"PoW\",\"PoS\",\"PoS\",\"PoW/PoS\",\"PoW\",\"PoW/PoS\",\"PoW\",\"PoW/PoS\",\"PoW\",\"PoS\",\"PoW\",\"PoW/PoS\",\"PoW/PoS\",\"PoW/PoS\",\"PoW/PoS\",\"PoW\",\"PoW/PoS\",\"PoW/PoS\",\"PoW\",\"PoS\",\"PoW/PoS\",\"PoS\",\"PoW\",\"PoW\",\"PoW\",\"PoW\",\"PoW/PoS\",\"DPoS\",\"PoW/PoS\",\"PoW/PoS\",\"PoW\",\"PoW/PoS\",\"PoW\",\"PoW\",\"PoW\",\"PoS\",\"PoS\",\"PoW\",\"PoW\",\"PoW/PoS\",\"PoW/PoS\",\"PoW\",\"PoW/PoS\",\"PoW\",\"PoW\",\"PoW\",\"PoS\",\"PoW\",\"PoW\",\"PoW/PoS\",\"PoW/PoS\",\"PoS\",\"PoW\",\"PoW\",\"PoW\",\"PoS\",\"PoS\",\"PoW and PoS\",\"PoW\",\"PoW\",\"PoW/PoS\",\"PoW\",\"PoW\",\"PoW\",\"PoW\",\"PoS\",\"POBh\",\"PoW + Hive\",\"PoW\",\"PoW\",\"PoW\",\"PoW/PoS\",\"PoA\",\"PoW/PoS\",\"PoW/PoS\",\"PoS\",\"PoS\",\"PoW\",\"PoW\",\"PoW\",\"PoW\",\"PoW/PoS\",\"PoW/PoS\",\"PoW/PoS\",\"PoW\",\"PoS\",\"PoW\",\"PoS\",\"PoS\",\"PoW/PoS\",\"DPoS\",\"PoW\",\"PoW/PoS\",\"PoS\",\"PoW\",\"PoS\",\"PoW/PoS\",\"PoW\",\"PoW\",\"PoS/PoW\",\"PoW\",\"PoS\",\"PoW\",\"PoW\",\"PoW\",\"PoW\",\"PoW/PoS\",\"PoS\",\"PoW\",\"PoW/PoS\",\"PoW\",\"PoW/PoS\",\"PoS\",\"HPoW\",\"PoS\",\"PoS\",\"PoS\",\"PoW\",\"PoW\",\"PoW\",\"PoW/PoS\",\"PoS\",\"PoW/PoS\",\"PoS\",\"PoW/PoS\",\"PoS\",\"PoW\",\"PoW/PoS\",\"PoW\",\"PoW\",\"PoW\",\"PoW\",\"PoS\",\"PoW/PoS\",\"PoS\",\"PoS\",\"PoW\",\"PoW/PoS\",\"PoS\",\"PoW\",\"PoW/PoS\",\"Zero-Knowledge Proof\",\"PoW\",\"DPOS\",\"PoW\",\"PoS\",\"PoW\",\"PoW\",\"Pos\",\"PoS\",\"PoW\",\"PoW/PoS\",\"PoW\",\"PoW\",\"PoS\",\"PoW\",\"PoW\",\"PoW/PoS\",\"PoW\",\"PoW/PoS\",\"PoW\",\"PoS\",\"PoW/PoS\",\"PoW\",\"PoS\",\"PoW/PoS\",\"PoW/PoS\",\"PoW/PoS\",\"PoW/PoS\",\"PoW\",\"PoW\",\"PoW\",\"PoW/PoS\",\"DPoS\",\"PoW/PoS\",\"PoW\",\"PoW/PoS\",\"PoW\",\"PoW/PoS\",\"PoW\",\"PoW/PoS\",\"PoS\",\"PoW/PoS\",\"PoW/PoS\",\"PoW\",\"PoW/PoS\",\"PoW/PoS\",\"PoW/PoS\",\"PoW\",\"PoW/PoS\",\"PoW\",\"PoW/PoS\",\"PoW\",\"PoW/PoS\",\"PoW/PoS\",\"PoS\",\"PoW\",\"PoW\",\"Proof of Trust\",\"PoW/PoS\",\"DPoS\",\"PoS\",\"PoW/PoS\",\"PoW/PoS\",\"PoW\",\"PoW/PoS\",\"PoW\",\"DPoS\",\"PoW\",\"DPoS\",\"PoS\",\"LPoS\",\"PoS\",\"DPoS\",\"PoS/LPoS\",\"DPoS\",\"PoW/PoS\",\"PoW\",\"PoW\",\"PoS\"],\"TotalCoinSupply\":[\"42\",\"532000000\",\"314159265359\",\"21000000\",\"0\",\"84000000\",\"22000000\",\"0\",\"210000000\",\"21000000\",\"3600570502\",\"21000000000\",\"22000000\",\"12500000\",\"21000000\",\"350000000\",\"20000000\",\"64000000\",\"16768584\",\"0\",\"2000000000\",\"384000000000\",\"169795588\",\"250000000\",\"100000000\",\"0\",\"247000000\",\"84000000\",\"48166000\",\"500000\",\"21000000 \",\"1000000\",\"13140000\",\"18000000\",\"40000000000\",\"4380000\",\"16555000000\",\"21000000000\",\"13500000000\",\"21000000 \",\"299792458\",\"32000000\",\"0\",\"0\",\"11235813\",\"336000000\",\"1420609614\",\"70000000\",\"72245700\",\"120000000\",\"0\",\"90600000000\",\"22000000\",\"21000000\",\"265420800\",\"20000000\",\"1350000\",\"100000000\",\"42000000\",\"200000000\",\"0\",\"10000000\",\"2419200000\",\"16180000\",\"0\",\"15000000000\",\"21000000\",\"337000000\",\"0\",\"3770000\",\"420000000\",\"98000000\",\"0\",\"21000000\",\"250000000\",\"51200000\",\"0\",\"1000\",\"888000000\",\"100000000\",\"47011968\",\"2300000000\",\"10000000\",\"42000000\",\"80000000\",\"250000\",\"0\",\"1600000000\",\"100000000\",\"23000000\",\"0\",\"84000000\",\"265420800\",\"5500000\",\"0\",\"45000000\",\"0\",\"1000000000\",\"184467440735\",\"10000000000\",\"2158812800\",\"500000000\",\"105120000\",\"68000000\",\"0\",\"1680000000\",\"0\",\"166386000\",\"12000000\",\"2628000\",\"500000000\",\"160000000\",\"0\",\"10000000\",\"1000000000\",\"1000000000\",\"20000000\",\"0\",\"0\",\"3371337\",\"20000000\",\"10000000000\",\"1840000000\",\"619478\",\"21000000\",\"92000000000\",\"0\",\"78000000\",\"33000000\",\"65789100\",\"53760000\",\"5060000\",\"21000000\",\"0\",\"210240000\",\"250000000\",\"100000000\",\"16906397\",\"50000000\",\"0\",\"1000000000\",\"26298000\",\"16000000\",\"21000000\",\"21000000\",\"210000000\",\"81962100\",\"22000000\",\"26550000000\",\"84000000\",\"10500000\",\"21626280000 \",\"0\",\"42000000\",\"221052632\",\"84000000\",\"30000000\",\"168351300\",\"24000000\",\"384000000\",\" 99000000000\",\"40000000\",\"2147483647\",\"20000000\",\"20000000\",\"25000000\",\"75000000\",\"222725000\",\"525000000\",\"90000000\",\"139000000\",\"616448\",\"33500000\",\"2000000000\",\"44333333\",\"100000000\",\"200000000\",\"25000000\",\"657000000\",\"200000000\",\"50000000\",\"90000000\",\"10000000\",\"21000000\",\"9736000\",\"3000000\",\"21000000\",\"1200000000\",\"0\",\"200000000\",\"0\",\"10638298\",\"3100000000\",\"30000000\",\"20000000000\",\"74000000\",\"0\",\"1500000000\",\"21400000\",\"39999898\",\"2500124\",\"100000000\",\"301000000\",\"7506000000\",\"26205539\",\"21000000\",\"125000000\",\"30000000\",\"10000000000\",\"500000000\",\"850000000\",\"3853326.77707314\",\"50000000\",\"38540000 \",\"42000000\",\"228000000\",\"20000000\",\"60000000\",\"20000000\",\"33000000\",\"76500000\",\"28000000\",\"650659833\",\"5000000\",\"21000000\",\"144000000\",\"32514916898\",\"13000000\",\"3315789\",\"15000000\",\"78835200\",\"2714286\",\"25000000\",\"9999999\",\"500000000\",\"21000000\",\"9354000\",\"20000000\",\"100000000000\",\"21933333\",\"185000000\",\"55000000\",\"110000000\",\"3360000\",\"14524851.4827\",\"1000000000\",\"17000000\",\"1000000000\",\"100000000 \",\"21000000\",\"34426423\",\"2232901\",\"100000000\",\"36900000\",\"110000000\",\"4000000000\",\"110290030\",\"100000000\",\"48252000\",\"400000000\",\"500000000\",\"21212121\",\"28600000\",\"1000000000\",\"75000000000\",\"40000000\",\"35520400\",\"2000000000\",\"2500000000\",\"30000000\",\"105000000\",\"90000000000\",\"200084200\",\"72000000\",\"100000000\",\"105000000\",\"50000000000\",\"0\",\"340282367\",\"30000000\",\"2000000000\",\"10000000\",\"100000000\",\"120000000\",\"100000000\",\"19276800\",\"30000000\",\" 75000000\",\"60000000\",\"18900000\",\"50000000000\",\"54000000\",\"18898187.6216583\",\"21000000\",\"200000000000\",\"5000000000\",\"137500000\",\"1100000000\",\"100000000\",\"21000000\",\"9507271\",\"17405891.19707116\",\"86712634466\",\"10500000000\",\"61599965\",\"0\",\"20000000\",\"84000000\",\"100000000\",\"100000000\",\"48252000\",\"4200000\",\"88888888\",\"91388946\",\"45000000000\",\"27000000\",\"21000000000\",\"400000000\",\"1800000000\",\"15733333\",\"27000000\",\"24000000\",\"21000000\",\"25000000000\",\"100000000\",\"1200000000\",\"60000000\",\"156306732.71\",\"21000000\",\"200000000\",\"100000000\",\"21000000\",\"14788275.991\",\"9000000000\",\"350000000\",\"45000000\",\"280000000\",\"31800000\",\"144000000\",\"500000000\",\"30000000000\",\"210000000\",\"660000000\",\"210000000\",\"85000000000\",\"12500000\",\"10000000000\",\"27716121\",\"20000000\",\"550000000\",\"999481516\",\"50000000000\",\"150000000\",\"4999999999\",\"50000000\",\" 90000000000\",\"19800000\",\"21000000\",\"120000000\",\"500000000\",\"64000000\",\"900000000\",\"4000000\",\"21000000\",\"23000000\",\"20166000\",\"23000000\",\"25000000\",\"1618033\",\"30000000\",\"1000000000000\",\"16600000\",\"232000000\",\"336000000\",\"10000000000\",\"100000000\",\"1100000000\",\"800000000\",\"5200000000\",\"840000000\",\"40000000\",\"18406979840\",\"500000000\",\"19340594\",\"252460800\",\"25000000\",\"60000000\",\"124000000\",\"1000000000\",\"6500000000\",\"1000000000\",\"21000000\",\"25000000\",\"50000000\",\"3000000\",\"5000000\",\"70000000\",\"500000000\",\"300000000\",\"21000000\",\"88000000\",\"30000000\",\"100000000\",\"100000000\",\"200000000\",\"80000000\",\"18400000\",\"45000000\",\"5121951220\",\"21000000\",\"26280000\",\"21000000\",\"18000000\",\"26000000\",\"10500000\",\"600000518\",\"150000000\",\"184000000000\",\"10200000000\",\"44000000\",\"168000000\",\"100000000\",\"1000000000\",\"84000000\",\"90000000\",\"92000000000\",\"650000000 \",\"100262205\",\"18081806 \",\"22075700\",\"21000000\",\"21000000\",\"82546564\",\"21000000\",\"5151000\",\"16880000000\",\"52500000\",\"100000000\",\"22105263\",\"1000000000\",\"1750000000\",\"88188888\",\"210000000\",\"184470000000\",\"55000000\",\"50000000\",\"260000000\",\"210000000\",\"2100000000\",\"366000000\",\"100000000\",\"25000000\",\"18000000000\",\"1000000000\",\"100000000\",\"1000000000\",\"7600000000\",\"50000000\",\"84000000\",\"21000000\",\"70000000000\",\"0\",\"8080000000\",\"54000000\",\"105120001.44\",\"25228800\",\"105000000\",\"21000000\",\"120000000\",\"21000000\",\"262800000\",\"19035999\",\"30886000\",\"13370000\",\"74800000000\",\"100000000\",\"19700000\",\"84000000\",\"500000000\",\"5000000000\",\"420000000\",\"64000000\",\"2100000\",\"168000000\",\"30000000\",\"1000000000\",\"35000000000\",\"98100000000\",\"0\",\"4000000000\",\"200000000\",\"7000000000\",\"54256119\",\"21000000\",\"0\",\"500000000\",\"1000000000\",\"10500000000\",\"190000000\",\"1000000000\",\"42000000\",\"15000000\",\"50000000000\",\"400000000\",\"105000000\",\"208000000\",\"160000000\",\"9000000\",\"5000000\",\"182000000\",\"16504333\",\"105000000\",\"159918400\",\"10008835635\",\"300000000\",\"60168145\",\"2800000\",\"120000\",\"2100000000\",\"0\",\"24487944\",\"0\",\"1000000000\",\"100000000\",\"8634140\",\"990000000000\",\"1000000000\",\"2000000000\",\"250000000\",\"1400222610\",\"21000000\",\"1000000\"],\"TotalCoinsMined\":{\"__ndarray__\":\"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\",\"dtype\":\"float64\",\"order\":\"little\",\"shape\":[532]}},\"selected\":{\"id\":\"1274\"},\"selection_policy\":{\"id\":\"1308\"}},\"id\":\"1273\",\"type\":\"ColumnDataSource\"},{\"attributes\":{\"format\":\"0,0.0[00000]\"},\"id\":\"1290\",\"type\":\"NumberFormatter\"},{\"attributes\":{},\"id\":\"1308\",\"type\":\"UnionRenderers\"},{\"attributes\":{\"editor\":{\"id\":\"1296\"},\"field\":\"TotalCoinSupply\",\"formatter\":{\"id\":\"1295\"},\"title\":\"TotalCoinSupply\"},\"id\":\"1297\",\"type\":\"TableColumn\"},{\"attributes\":{},\"id\":\"1274\",\"type\":\"Selection\"},{\"attributes\":{},\"id\":\"1295\",\"type\":\"StringFormatter\"},{\"attributes\":{\"margin\":[5,5,5,5],\"name\":\"HSpacer01120\",\"sizing_mode\":\"stretch_width\"},\"id\":\"1310\",\"type\":\"Spacer\"},{\"attributes\":{},\"id\":\"1286\",\"type\":\"StringEditor\"},{\"attributes\":{\"margin\":[5,5,5,5],\"name\":\"HSpacer01119\",\"sizing_mode\":\"stretch_width\"},\"id\":\"1272\",\"type\":\"Spacer\"},{\"attributes\":{\"source\":{\"id\":\"1273\"}},\"id\":\"1307\",\"type\":\"CDSView\"},{\"attributes\":{\"editor\":{\"id\":\"1281\"},\"field\":\"Algorithm\",\"formatter\":{\"id\":\"1280\"},\"title\":\"Algorithm\"},\"id\":\"1282\",\"type\":\"TableColumn\"},{\"attributes\":{},\"id\":\"1285\",\"type\":\"StringFormatter\"},{\"attributes\":{\"columns\":[{\"id\":\"1277\"},{\"id\":\"1282\"},{\"id\":\"1287\"},{\"id\":\"1292\"},{\"id\":\"1297\"},{\"id\":\"1302\"}],\"height\":300,\"reorderable\":false,\"source\":{\"id\":\"1273\"},\"view\":{\"id\":\"1307\"},\"width\":700},\"id\":\"1305\",\"type\":\"DataTable\"},{\"attributes\":{\"editor\":{\"id\":\"1286\"},\"field\":\"ProofType\",\"formatter\":{\"id\":\"1285\"},\"title\":\"ProofType\"},\"id\":\"1287\",\"type\":\"TableColumn\"},{\"attributes\":{},\"id\":\"1275\",\"type\":\"StringFormatter\"}],\"root_ids\":[\"1271\"]},\"title\":\"Bokeh Application\",\"version\":\"2.4.1\"}};\n",
       "    var render_items = [{\"docid\":\"148681b3-3d81-478d-b7f1-3b5ad3d6e0cb\",\"root_ids\":[\"1271\"],\"roots\":{\"1271\":\"c9e94fb6-45fc-4892-9ccb-c7b4b50e4bc7\"}}];\n",
       "    root.Bokeh.embed.embed_items_notebook(docs_json, render_items);\n",
       "  }\n",
       "  if (root.Bokeh !== undefined && root.Bokeh.Panel !== undefined) {\n",
       "    embed_document(root);\n",
       "  } else {\n",
       "    var attempts = 0;\n",
       "    var timer = setInterval(function(root) {\n",
       "      if (root.Bokeh !== undefined && root.Bokeh.Panel !== undefined) {\n",
       "        clearInterval(timer);\n",
       "        embed_document(root);\n",
       "      } else if (document.readyState == \"complete\") {\n",
       "        attempts++;\n",
       "        if (attempts > 200) {\n",
       "          clearInterval(timer);\n",
       "          console.log(\"Bokeh: ERROR: Unable to run BokehJS code because BokehJS library is missing\");\n",
       "        }\n",
       "      }\n",
       "    }, 25, root)\n",
       "  }\n",
       "})(window);</script>"
      ],
      "text/plain": [
       ":Table   [CoinName,Algorithm,ProofType,TotalCoinsMined,TotalCoinSupply,Class]"
      ]
     },
     "execution_count": 78,
     "metadata": {
      "application/vnd.holoviews_exec.v0+json": {
       "id": "1271"
      }
     },
     "output_type": "execute_result"
    }
   ],
   "source": [
    "# Create a table with tradable cryptocurrencies.\n",
    "clustered_df.hvplot.table(columns=['CoinName', 'Algorithm', 'ProofType', 'TotalCoinsMined', 'TotalCoinSupply', 'Class'], sortable=True, selectable=True)"
   ]
  },
  {
   "cell_type": "code",
   "execution_count": 86,
   "metadata": {
    "scrolled": true
   },
   "outputs": [
    {
     "name": "stdout",
     "output_type": "stream",
     "text": [
      "There are 532 tradable cryptocurrencies.\n"
     ]
    }
   ],
   "source": [
    "# Print the total number of tradable cryptocurrencies.\n",
    "count = (clustered_df['CoinName'].count())\n",
    "sentence = f'There are {count} tradable cryptocurrencies.'\n",
    "print(sentence)"
   ]
  },
  {
   "cell_type": "code",
   "execution_count": 87,
   "metadata": {},
   "outputs": [
    {
     "data": {
      "text/plain": [
       "array([[4.20000000e-11, 0.00000000e+00],\n",
       "       [5.32000000e-04, 1.06585544e-03],\n",
       "       [3.14159265e-01, 2.95755135e-02],\n",
       "       ...,\n",
       "       [1.40022261e-03, 9.90135079e-04],\n",
       "       [2.10000000e-05, 7.37028150e-06],\n",
       "       [1.00000000e-06, 1.29582282e-07]])"
      ]
     },
     "execution_count": 87,
     "metadata": {},
     "output_type": "execute_result"
    }
   ],
   "source": [
    "# Scaling data to create the scatter plot with tradable cryptocurrencies.\n",
    "scaling_df = clustered_df[['TotalCoinSupply', 'TotalCoinsMined']]\n",
    "X_minmax = MinMaxScaler().fit_transform(scaling_df)\n",
    "X_minmax"
   ]
  },
  {
   "cell_type": "code",
   "execution_count": 88,
   "metadata": {},
   "outputs": [
    {
     "data": {
      "text/html": [
       "<div>\n",
       "<style scoped>\n",
       "    .dataframe tbody tr th:only-of-type {\n",
       "        vertical-align: middle;\n",
       "    }\n",
       "\n",
       "    .dataframe tbody tr th {\n",
       "        vertical-align: top;\n",
       "    }\n",
       "\n",
       "    .dataframe thead th {\n",
       "        text-align: right;\n",
       "    }\n",
       "</style>\n",
       "<table border=\"1\" class=\"dataframe\">\n",
       "  <thead>\n",
       "    <tr style=\"text-align: right;\">\n",
       "      <th></th>\n",
       "      <th>TotalCoinSupply_scaled</th>\n",
       "      <th>TotalCoinsMined_scaled</th>\n",
       "      <th>CoinName</th>\n",
       "      <th>Class</th>\n",
       "    </tr>\n",
       "  </thead>\n",
       "  <tbody>\n",
       "    <tr>\n",
       "      <th>42</th>\n",
       "      <td>4.200000e-11</td>\n",
       "      <td>0.000000</td>\n",
       "      <td>42 Coin</td>\n",
       "      <td>0</td>\n",
       "    </tr>\n",
       "    <tr>\n",
       "      <th>404</th>\n",
       "      <td>5.320000e-04</td>\n",
       "      <td>0.001066</td>\n",
       "      <td>404Coin</td>\n",
       "      <td>0</td>\n",
       "    </tr>\n",
       "    <tr>\n",
       "      <th>1337</th>\n",
       "      <td>3.141593e-01</td>\n",
       "      <td>0.029576</td>\n",
       "      <td>EliteCoin</td>\n",
       "      <td>0</td>\n",
       "    </tr>\n",
       "    <tr>\n",
       "      <th>BTC</th>\n",
       "      <td>2.100000e-05</td>\n",
       "      <td>0.000018</td>\n",
       "      <td>Bitcoin</td>\n",
       "      <td>3</td>\n",
       "    </tr>\n",
       "    <tr>\n",
       "      <th>ETH</th>\n",
       "      <td>0.000000e+00</td>\n",
       "      <td>0.000109</td>\n",
       "      <td>Ethereum</td>\n",
       "      <td>3</td>\n",
       "    </tr>\n",
       "    <tr>\n",
       "      <th>LTC</th>\n",
       "      <td>8.400000e-05</td>\n",
       "      <td>0.000064</td>\n",
       "      <td>Litecoin</td>\n",
       "      <td>3</td>\n",
       "    </tr>\n",
       "    <tr>\n",
       "      <th>DASH</th>\n",
       "      <td>2.200000e-05</td>\n",
       "      <td>0.000009</td>\n",
       "      <td>Dash</td>\n",
       "      <td>0</td>\n",
       "    </tr>\n",
       "    <tr>\n",
       "      <th>XMR</th>\n",
       "      <td>0.000000e+00</td>\n",
       "      <td>0.000017</td>\n",
       "      <td>Monero</td>\n",
       "      <td>3</td>\n",
       "    </tr>\n",
       "    <tr>\n",
       "      <th>ETC</th>\n",
       "      <td>2.100000e-04</td>\n",
       "      <td>0.000115</td>\n",
       "      <td>Ethereum Classic</td>\n",
       "      <td>3</td>\n",
       "    </tr>\n",
       "    <tr>\n",
       "      <th>ZEC</th>\n",
       "      <td>2.100000e-05</td>\n",
       "      <td>0.000007</td>\n",
       "      <td>ZCash</td>\n",
       "      <td>3</td>\n",
       "    </tr>\n",
       "  </tbody>\n",
       "</table>\n",
       "</div>"
      ],
      "text/plain": [
       "      TotalCoinSupply_scaled  TotalCoinsMined_scaled          CoinName  Class\n",
       "42              4.200000e-11                0.000000           42 Coin      0\n",
       "404             5.320000e-04                0.001066           404Coin      0\n",
       "1337            3.141593e-01                0.029576         EliteCoin      0\n",
       "BTC             2.100000e-05                0.000018           Bitcoin      3\n",
       "ETH             0.000000e+00                0.000109          Ethereum      3\n",
       "LTC             8.400000e-05                0.000064          Litecoin      3\n",
       "DASH            2.200000e-05                0.000009              Dash      0\n",
       "XMR             0.000000e+00                0.000017            Monero      3\n",
       "ETC             2.100000e-04                0.000115  Ethereum Classic      3\n",
       "ZEC             2.100000e-05                0.000007             ZCash      3"
      ]
     },
     "execution_count": 88,
     "metadata": {},
     "output_type": "execute_result"
    }
   ],
   "source": [
    "# Create a new DataFrame that has the scaled data with the clustered_df DataFrame index.\n",
    "index_values = (clustered_df.index.tolist())\n",
    "plot_df = pd.DataFrame(\n",
    "    data = X_minmax, columns=[\"TotalCoinSupply_scaled\", \"TotalCoinsMined_scaled\"], index = index_values)\n",
    "\n",
    "# Add the \"CoinName\" column from the clustered_df DataFrame to the new DataFrame.\n",
    "plot_df[\"CoinName\"]=clustered_df[\"CoinName\"]\n",
    "\n",
    "# Add the \"Class\" column from the clustered_df DataFrame to the new DataFrame. \n",
    "plot_df[\"Class\"]=clustered_df[\"Class\"]\n",
    "\n",
    "plot_df.head(10)"
   ]
  },
  {
   "cell_type": "code",
   "execution_count": 90,
   "metadata": {},
   "outputs": [
    {
     "data": {},
     "metadata": {},
     "output_type": "display_data"
    },
    {
     "data": {
      "application/vnd.holoviews_exec.v0+json": "",
      "text/html": [
       "<div id='1322'>\n",
       "\n",
       "\n",
       "\n",
       "\n",
       "\n",
       "  <div class=\"bk-root\" id=\"b0d91eee-49a4-46ba-a44e-2c6bb4f45468\" data-root-id=\"1322\"></div>\n",
       "</div>\n",
       "<script type=\"application/javascript\">(function(root) {\n",
       "  function embed_document(root) {\n",
       "    var docs_json = {\"ec97e9e6-915c-4e8b-9c78-d3c7fc70a48e\":{\"defs\":[{\"extends\":null,\"module\":null,\"name\":\"ReactiveHTML1\",\"overrides\":[],\"properties\":[]},{\"extends\":null,\"module\":null,\"name\":\"FlexBox1\",\"overrides\":[],\"properties\":[{\"default\":\"flex-start\",\"kind\":null,\"name\":\"align_content\"},{\"default\":\"flex-start\",\"kind\":null,\"name\":\"align_items\"},{\"default\":\"row\",\"kind\":null,\"name\":\"flex_direction\"},{\"default\":\"wrap\",\"kind\":null,\"name\":\"flex_wrap\"},{\"default\":\"flex-start\",\"kind\":null,\"name\":\"justify_content\"}]},{\"extends\":null,\"module\":null,\"name\":\"GridStack1\",\"overrides\":[],\"properties\":[{\"default\":\"warn\",\"kind\":null,\"name\":\"mode\"},{\"default\":null,\"kind\":null,\"name\":\"ncols\"},{\"default\":null,\"kind\":null,\"name\":\"nrows\"},{\"default\":true,\"kind\":null,\"name\":\"allow_resize\"},{\"default\":true,\"kind\":null,\"name\":\"allow_drag\"},{\"default\":[],\"kind\":null,\"name\":\"state\"}]},{\"extends\":null,\"module\":null,\"name\":\"click1\",\"overrides\":[],\"properties\":[{\"default\":\"\",\"kind\":null,\"name\":\"terminal_output\"},{\"default\":\"\",\"kind\":null,\"name\":\"debug_name\"},{\"default\":0,\"kind\":null,\"name\":\"clears\"}]},{\"extends\":null,\"module\":null,\"name\":\"NotificationAreaBase1\",\"overrides\":[],\"properties\":[{\"default\":\"bottom-right\",\"kind\":null,\"name\":\"position\"},{\"default\":0,\"kind\":null,\"name\":\"_clear\"}]},{\"extends\":null,\"module\":null,\"name\":\"NotificationArea1\",\"overrides\":[],\"properties\":[{\"default\":[],\"kind\":null,\"name\":\"notifications\"},{\"default\":\"bottom-right\",\"kind\":null,\"name\":\"position\"},{\"default\":0,\"kind\":null,\"name\":\"_clear\"},{\"default\":[{\"background\":\"#ffc107\",\"icon\":{\"className\":\"fas fa-exclamation-triangle\",\"color\":\"white\",\"tagName\":\"i\"},\"type\":\"warning\"},{\"background\":\"#007bff\",\"icon\":{\"className\":\"fas fa-info-circle\",\"color\":\"white\",\"tagName\":\"i\"},\"type\":\"info\"}],\"kind\":null,\"name\":\"types\"}]},{\"extends\":null,\"module\":null,\"name\":\"Notification\",\"overrides\":[],\"properties\":[{\"default\":null,\"kind\":null,\"name\":\"background\"},{\"default\":3000,\"kind\":null,\"name\":\"duration\"},{\"default\":null,\"kind\":null,\"name\":\"icon\"},{\"default\":\"\",\"kind\":null,\"name\":\"message\"},{\"default\":null,\"kind\":null,\"name\":\"notification_type\"},{\"default\":false,\"kind\":null,\"name\":\"_destroyed\"}]},{\"extends\":null,\"module\":null,\"name\":\"TemplateActions1\",\"overrides\":[],\"properties\":[{\"default\":0,\"kind\":null,\"name\":\"open_modal\"},{\"default\":0,\"kind\":null,\"name\":\"close_modal\"}]},{\"extends\":null,\"module\":null,\"name\":\"MaterialTemplateActions1\",\"overrides\":[],\"properties\":[{\"default\":0,\"kind\":null,\"name\":\"open_modal\"},{\"default\":0,\"kind\":null,\"name\":\"close_modal\"}]}],\"roots\":{\"references\":[{\"attributes\":{\"below\":[{\"id\":\"1339\"}],\"center\":[{\"id\":\"1342\"},{\"id\":\"1346\"}],\"height\":300,\"left\":[{\"id\":\"1343\"}],\"margin\":[5,5,5,5],\"min_border_bottom\":10,\"min_border_left\":10,\"min_border_right\":10,\"min_border_top\":10,\"renderers\":[{\"id\":\"1372\"},{\"id\":\"1393\"},{\"id\":\"1415\"},{\"id\":\"1439\"}],\"right\":[{\"id\":\"1384\"}],\"sizing_mode\":\"fixed\",\"title\":{\"id\":\"1331\"},\"toolbar\":{\"id\":\"1353\"},\"width\":700,\"x_range\":{\"id\":\"1324\"},\"x_scale\":{\"id\":\"1335\"},\"y_range\":{\"id\":\"1325\"},\"y_scale\":{\"id\":\"1337\"}},\"id\":\"1330\",\"subtype\":\"Figure\",\"type\":\"Plot\"},{\"attributes\":{\"coordinates\":null,\"data_source\":{\"id\":\"1387\"},\"glyph\":{\"id\":\"1390\"},\"group\":null,\"hover_glyph\":null,\"muted_glyph\":{\"id\":\"1392\"},\"nonselection_glyph\":{\"id\":\"1391\"},\"selection_glyph\":{\"id\":\"1408\"},\"view\":{\"id\":\"1394\"}},\"id\":\"1393\",\"type\":\"GlyphRenderer\"},{\"attributes\":{\"data\":{\"Class\":[3,3,3,3,3,3,3,3,3,3,3,3,3,3,3,3,3,3,3,3,3,3,3,3,3,3,3,3,3,3,3,3,3,3,3,3,3,3,3,3,3,3,3,3,3,3,3,3,3,3,3,3,3,3,3,3,3,3,3,3,3,3,3,3,3,3,3,3,3,3,3,3,3,3,3,3,3,3,3,3,3,3,3,3,3,3,3,3,3,3,3,3,3,3,3,3,3,3,3,3,3,3,3,3,3,3,3,3,3,3,3,3,3,3,3,3,3,3,3,3,3,3,3,3,3,3,3,3,3,3,3,3,3,3,3,3,3,3,3,3,3,3,3,3,3,3,3,3,3,3,3,3,3,3,3,3,3,3,3,3,3,3,3,3,3,3,3,3,3,3,3,3,3,3,3,3,3,3,3,3,3,3,3,3,3,3,3,3,3,3,3,3,3,3,3,3,3,3,3,3,3,3,3,3,3,3,3,3,3,3,3,3,3,3,3,3,3,3,3,3,3,3,3,3,3,3,3,3,3,3,3,3,3,3,3,3,3,3,3,3],\"TotalCoinSupply_scaled\":{\"__ndarray__\":\"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\",\"dtype\":\"float64\",\"order\":\"little\",\"shape\":[240]},\"TotalCoinsMined_scaled\":{\"__ndarray__\":\"r6i7QfH88j5vitZPpIMcP2safiZFsRA/CBAnMBQ48j7wDEJVXgQePwFvcySeR98+S6ekP56Yhz8O0fKLQ3DYPunoanR6nuc+P/QHNS7b6T4I4yegqPBbP4pk9hRmi8k9cMqzLN2IJj8v7oqMShIhP+hFNhs4LN8+ICzRsK4uMT8QbyRNiz0KP59NHRkHtgE/NhWLS7iW3j4HjNNQyO3TPhf3vZ6vK9U+zGWKHw96kD/YQKTwOGuTP/QR9hSJ8Ik/v+Nbg90l9j7UJEJsY/osP53eB+SKpvQ+7OKrfnJdsz7h8m27k6ArPzOFKreVQ00/sp9rdsljET8a/IWo3Q8GPxfWq/5Sbbc/2g1Vrl1W9j4aGveuIA0kP+mrkQNSePQ+w6aYs+e2sj5zk5i3czQEP8Q38CuLaQU/dwwlCTKX2D6/GiTQLZRjP2kcsAWHN+8+WPbFZkYoNj/9tCw6GLayPlG7VH/vpfk+lXaTGbsb+z4TJNibZaVCP11sMg9/Dgc/sbwJ7+tK+D5svacTrE3DPrI5aeKgO4s+Bn6fn5x1tD5Ljct4WoX4PjXfW1HfGQs/ZX20aNqrHz8+VYv99MEEP1hQT91+zMc/EkNUVVGTfD8sNwB0vg4SP7x3FpSAeTs/V09i5Pw0Ij+8Wu9Dc6iIPv0vK9IFKSQ/u43+0IM7Sj+Fn7ZW789HP0XtoIndPRE/RXvZM7732j6tXPx07HrlPkRv+e0tE3M/aJCDWHxzRz/wOSf9uP6kPlQsp9p0Zuo+JVthYlbodz5RI4lAbxABP9C9WRyqHO0+cq2VX2I97z5yy9npd83wPjtGyf0IPwE/zcFpI7cFFD+pIsEbkTvmPi7peHQhHqE/CZb2rYPO8D68ZXludD32PgDbI7+vzSs/t2n0Hb5A6D768QgXA34SP8VZIm+ifJY/qfDDrNPjBz/IH81lZSjYPmbzzSAYkqU+io1ClvJI8j6EVzYip9bbPvB/UyyW7Ow+VIp4kW7kpD5Ztqr0xVm3PvBZKjNxsB4/i2oALxWS4D4AgcASBnTaPnpDQwW4jFA/1DtNvqTwHj/WFD5sjErjPri9zHTrjec+2DMeo0EI4D5jADv2nsH7PoUw/kBpyNc+ov9i+UX9KT9aPV7RHEZLPzuCQ8HDPxA/tcMN/maTsD7UrHW860yuPgxwAoxT0uM+xv90wUrLvz6OM6x+FcZBP9Kf4ZajPOc+Ck3M5oZlyj6rD9eegxcAP/OI8EMuU90+6fmC8iFwGj/Wo9/Kq6TzPsujJZ6E68I+XGxBluj4ED+Bh4j2yXHlPjXeTm3aefU+yXvl+uzOVT9z1k/kEPfsPv9UEsTGRxI/YSp/QHv09D61h4qHSKQhPy+N/AEef/M+hKwqIzTyXT/m4rwM9psCP8kEKAPONPM+528Abuzk1T728NdKYJX7PtQZrzp5OcY+CdfFZ+z/7T70aOzy9tryPhgd90IFFcU/gc0bUEOLYj9LwcxRKDcgPyRl/jd+D/M+/Y1TnL1xoD4ENdImbn3CP/jx38F6juQ+1996s5J88j6p3Vc8E0oBP3gVJ9Mc2wE/uBZMWL/z4j4pupu9+I91P3sMH7KeXWY/uNaq91ym0T7bHSC7aDjyPl7TxYbH/wE/Esjo3RF6Gj88xJCxuDInP9pcGpKPAts+LsltZsEF6z491TfErLXYPniYzdXT4z8/5YO/i7rxkz8tUFOdpxDTPpkfTG2+PUE/YzWXr25EFT+/sGvyzzU9P0ryBjnNZnA/wKP4upcfnz8oDYelxerRPlT2YcShn+A+M9MbVqPYMz/pmLbtWxYIP2UO7kqn9eE+wa/X9f9b9T6YqjPlVz7pPm5x4hl+a7s+rV/sZZR7qz+bphjc7GnUPg3UWvF4uyE/UJ+yE+avhD/Z8QcfT2scP1Ay2BUqT0U/fLYPZ39d6j5mRelkS/qNP2d12Rir+Ss/2C/Wv0FkMD8VqfUeUzIVP9pBgL6BPtE+B3K8ML16+j73YJbAAeUSP1ld1rdd9fw+NvCESHrXAD/KmyQo9vbwPvrTxTPxUPY+9k0et+iY1T78fO4NkvWqPss6YW5nmd0+j5svCLjYdj4Y2eoJf0n0PoNZwjhKW6U/kYALuOL8IT+Czk9u2olCP/WX6VOiNuE+H+Urm2FQ4j7PXtJXZSfVPnjWYoTeAbg+6vBgVo+A8D7RgN8kn7jUPpa9bwjRPO8+uLDcOEq+uT+/lPALjmBhP9ta2gEuQNU+Gw5gKXCp5D5Pq/yKvoVxP1or9CUo4uw+15j5xKgO8z6uFR/LL+ZeP7REtqoIv7o+dmqPzNPI8D6YRvIV+IvsPmrMMqxthps+Gw5UWrivAj+bmw6DVOYCP3FvzQOgo/o+lM2DQKJh6z6yea5Mu7ELP7JfNdwD1bM+fja4QLVnFj8aiAbhOm0NP7DYIMkOpm8/lyfwwS69+D4gof8PEdNJP1hseRLlWPg+ZbOty7CZnj/sBEYPs2gTPxWZdvn0Z9U+VjnBgrtzEj8gMXRQrz3MPvtFfmC/eho/gseFIuXv+T6pGh9y7ThQP37YbI3H6d4+\",\"dtype\":\"float64\",\"order\":\"little\",\"shape\":[240]}},\"selected\":{\"id\":\"1434\"},\"selection_policy\":{\"id\":\"1454\"}},\"id\":\"1433\",\"type\":\"ColumnDataSource\"},{\"attributes\":{},\"id\":\"1348\",\"type\":\"PanTool\"},{\"attributes\":{},\"id\":\"1351\",\"type\":\"ResetTool\"},{\"attributes\":{},\"id\":\"1349\",\"type\":\"WheelZoomTool\"},{\"attributes\":{\"angle\":{\"value\":0.0},\"fill_alpha\":{\"value\":1.0},\"fill_color\":{\"value\":\"#fc4f30\"},\"hatch_alpha\":{\"value\":1.0},\"hatch_color\":{\"value\":\"#fc4f30\"},\"hatch_scale\":{\"value\":12.0},\"hatch_weight\":{\"value\":1.0},\"line_alpha\":{\"value\":1.0},\"line_cap\":{\"value\":\"butt\"},\"line_color\":{\"value\":\"#fc4f30\"},\"line_dash\":{\"value\":[]},\"line_dash_offset\":{\"value\":0},\"line_join\":{\"value\":\"bevel\"},\"line_width\":{\"value\":1},\"marker\":{\"value\":\"circle\"},\"size\":{\"value\":5.477225575051661},\"x\":{\"field\":\"TotalCoinsMined_scaled\"},\"y\":{\"field\":\"TotalCoinSupply_scaled\"}},\"id\":\"1408\",\"type\":\"Scatter\"},{\"attributes\":{\"angle\":{\"value\":0.0},\"fill_alpha\":{\"value\":1.0},\"fill_color\":{\"value\":\"#6d904f\"},\"hatch_alpha\":{\"value\":1.0},\"hatch_color\":{\"value\":\"#6d904f\"},\"hatch_scale\":{\"value\":12.0},\"hatch_weight\":{\"value\":1.0},\"line_alpha\":{\"value\":1.0},\"line_cap\":{\"value\":\"butt\"},\"line_color\":{\"value\":\"#6d904f\"},\"line_dash\":{\"value\":[]},\"line_dash_offset\":{\"value\":0},\"line_join\":{\"value\":\"bevel\"},\"line_width\":{\"value\":1},\"marker\":{\"value\":\"circle\"},\"size\":{\"value\":5.477225575051661},\"x\":{\"field\":\"TotalCoinsMined_scaled\"},\"y\":{\"field\":\"TotalCoinSupply_scaled\"}},\"id\":\"1458\",\"type\":\"Scatter\"},{\"attributes\":{},\"id\":\"1428\",\"type\":\"UnionRenderers\"},{\"attributes\":{\"source\":{\"id\":\"1409\"}},\"id\":\"1416\",\"type\":\"CDSView\"},{\"attributes\":{\"overlay\":{\"id\":\"1352\"}},\"id\":\"1350\",\"type\":\"BoxZoomTool\"},{\"attributes\":{},\"id\":\"1434\",\"type\":\"Selection\"},{\"attributes\":{\"coordinates\":null,\"group\":null,\"text_color\":\"black\",\"text_font_size\":\"12pt\"},\"id\":\"1331\",\"type\":\"Title\"},{\"attributes\":{},\"id\":\"1388\",\"type\":\"Selection\"},{\"attributes\":{\"source\":{\"id\":\"1366\"}},\"id\":\"1373\",\"type\":\"CDSView\"},{\"attributes\":{},\"id\":\"1454\",\"type\":\"UnionRenderers\"},{\"attributes\":{\"fill_alpha\":{\"value\":0.1},\"fill_color\":{\"value\":\"#30a2da\"},\"hatch_alpha\":{\"value\":0.1},\"hatch_color\":{\"value\":\"#30a2da\"},\"line_alpha\":{\"value\":0.1},\"line_color\":{\"value\":\"#30a2da\"},\"size\":{\"value\":5.477225575051661},\"x\":{\"field\":\"TotalCoinsMined_scaled\"},\"y\":{\"field\":\"TotalCoinSupply_scaled\"}},\"id\":\"1370\",\"type\":\"Scatter\"},{\"attributes\":{\"coordinates\":null,\"data_source\":{\"id\":\"1409\"},\"glyph\":{\"id\":\"1412\"},\"group\":null,\"hover_glyph\":null,\"muted_glyph\":{\"id\":\"1414\"},\"nonselection_glyph\":{\"id\":\"1413\"},\"selection_glyph\":{\"id\":\"1432\"},\"view\":{\"id\":\"1416\"}},\"id\":\"1415\",\"type\":\"GlyphRenderer\"},{\"attributes\":{},\"id\":\"1410\",\"type\":\"Selection\"},{\"attributes\":{\"coordinates\":null,\"data_source\":{\"id\":\"1433\"},\"glyph\":{\"id\":\"1436\"},\"group\":null,\"hover_glyph\":null,\"muted_glyph\":{\"id\":\"1438\"},\"nonselection_glyph\":{\"id\":\"1437\"},\"selection_glyph\":{\"id\":\"1458\"},\"view\":{\"id\":\"1440\"}},\"id\":\"1439\",\"type\":\"GlyphRenderer\"},{\"attributes\":{},\"id\":\"1404\",\"type\":\"UnionRenderers\"},{\"attributes\":{\"tools\":[{\"id\":\"1326\"},{\"id\":\"1347\"},{\"id\":\"1348\"},{\"id\":\"1349\"},{\"id\":\"1350\"},{\"id\":\"1351\"}]},\"id\":\"1353\",\"type\":\"Toolbar\"},{\"attributes\":{\"source\":{\"id\":\"1387\"}},\"id\":\"1394\",\"type\":\"CDSView\"},{\"attributes\":{\"source\":{\"id\":\"1433\"}},\"id\":\"1440\",\"type\":\"CDSView\"},{\"attributes\":{},\"id\":\"1381\",\"type\":\"UnionRenderers\"},{\"attributes\":{},\"id\":\"1367\",\"type\":\"Selection\"},{\"attributes\":{\"bottom_units\":\"screen\",\"coordinates\":null,\"fill_alpha\":0.5,\"fill_color\":\"lightgrey\",\"group\":null,\"left_units\":\"screen\",\"level\":\"overlay\",\"line_alpha\":1.0,\"line_color\":\"black\",\"line_dash\":[4,4],\"line_width\":2,\"right_units\":\"screen\",\"syncable\":false,\"top_units\":\"screen\"},\"id\":\"1352\",\"type\":\"BoxAnnotation\"},{\"attributes\":{\"fill_alpha\":{\"value\":0.1},\"fill_color\":{\"value\":\"#6d904f\"},\"hatch_alpha\":{\"value\":0.1},\"hatch_color\":{\"value\":\"#6d904f\"},\"line_alpha\":{\"value\":0.1},\"line_color\":{\"value\":\"#6d904f\"},\"size\":{\"value\":5.477225575051661},\"x\":{\"field\":\"TotalCoinsMined_scaled\"},\"y\":{\"field\":\"TotalCoinSupply_scaled\"}},\"id\":\"1437\",\"type\":\"Scatter\"},{\"attributes\":{\"fill_alpha\":{\"value\":0.1},\"fill_color\":{\"value\":\"#fc4f30\"},\"hatch_alpha\":{\"value\":0.1},\"hatch_color\":{\"value\":\"#fc4f30\"},\"line_alpha\":{\"value\":0.1},\"line_color\":{\"value\":\"#fc4f30\"},\"size\":{\"value\":5.477225575051661},\"x\":{\"field\":\"TotalCoinsMined_scaled\"},\"y\":{\"field\":\"TotalCoinSupply_scaled\"}},\"id\":\"1391\",\"type\":\"Scatter\"},{\"attributes\":{\"fill_alpha\":{\"value\":0.1},\"fill_color\":{\"value\":\"#e5ae38\"},\"hatch_alpha\":{\"value\":0.1},\"hatch_color\":{\"value\":\"#e5ae38\"},\"line_alpha\":{\"value\":0.1},\"line_color\":{\"value\":\"#e5ae38\"},\"size\":{\"value\":5.477225575051661},\"x\":{\"field\":\"TotalCoinsMined_scaled\"},\"y\":{\"field\":\"TotalCoinSupply_scaled\"}},\"id\":\"1413\",\"type\":\"Scatter\"},{\"attributes\":{\"children\":[{\"id\":\"1323\"},{\"id\":\"1330\"},{\"id\":\"1475\"}],\"margin\":[0,0,0,0],\"name\":\"Row01306\",\"tags\":[\"embedded\"]},\"id\":\"1322\",\"type\":\"Row\"},{\"attributes\":{},\"id\":\"1340\",\"type\":\"BasicTicker\"},{\"attributes\":{\"callback\":null,\"renderers\":[{\"id\":\"1372\"},{\"id\":\"1393\"},{\"id\":\"1415\"},{\"id\":\"1439\"}],\"tags\":[\"hv_created\"],\"tooltips\":[[\"Class\",\"@{Class}\"],[\"TotalCoinsMined_scaled\",\"@{TotalCoinsMined_scaled}\"],[\"TotalCoinSupply_scaled\",\"@{TotalCoinSupply_scaled}\"]]},\"id\":\"1326\",\"type\":\"HoverTool\"},{\"attributes\":{\"margin\":[5,5,5,5],\"name\":\"HSpacer01310\",\"sizing_mode\":\"stretch_width\"},\"id\":\"1323\",\"type\":\"Spacer\"},{\"attributes\":{},\"id\":\"1361\",\"type\":\"BasicTickFormatter\"},{\"attributes\":{\"fill_alpha\":{\"value\":0.2},\"fill_color\":{\"value\":\"#e5ae38\"},\"hatch_alpha\":{\"value\":0.2},\"hatch_color\":{\"value\":\"#e5ae38\"},\"line_alpha\":{\"value\":0.2},\"line_color\":{\"value\":\"#e5ae38\"},\"size\":{\"value\":5.477225575051661},\"x\":{\"field\":\"TotalCoinsMined_scaled\"},\"y\":{\"field\":\"TotalCoinSupply_scaled\"}},\"id\":\"1414\",\"type\":\"Scatter\"},{\"attributes\":{\"fill_color\":{\"value\":\"#30a2da\"},\"hatch_color\":{\"value\":\"#30a2da\"},\"line_color\":{\"value\":\"#30a2da\"},\"size\":{\"value\":5.477225575051661},\"x\":{\"field\":\"TotalCoinsMined_scaled\"},\"y\":{\"field\":\"TotalCoinSupply_scaled\"}},\"id\":\"1369\",\"type\":\"Scatter\"},{\"attributes\":{\"data\":{\"Class\":[2],\"TotalCoinSupply_scaled\":{\"__ndarray__\":\"rkfhehSu7z8=\",\"dtype\":\"float64\",\"order\":\"little\",\"shape\":[1]},\"TotalCoinsMined_scaled\":{\"__ndarray__\":\"AAAAAAAA8D8=\",\"dtype\":\"float64\",\"order\":\"little\",\"shape\":[1]}},\"selected\":{\"id\":\"1410\"},\"selection_policy\":{\"id\":\"1428\"}},\"id\":\"1409\",\"type\":\"ColumnDataSource\"},{\"attributes\":{},\"id\":\"1335\",\"type\":\"LinearScale\"},{\"attributes\":{},\"id\":\"1344\",\"type\":\"BasicTicker\"},{\"attributes\":{\"axis\":{\"id\":\"1339\"},\"coordinates\":null,\"grid_line_color\":null,\"group\":null,\"ticker\":null},\"id\":\"1342\",\"type\":\"Grid\"},{\"attributes\":{},\"id\":\"1337\",\"type\":\"LinearScale\"},{\"attributes\":{\"axis_label\":\"Total Cryptocurrency Coin Supply\",\"coordinates\":null,\"formatter\":{\"id\":\"1364\"},\"group\":null,\"major_label_policy\":{\"id\":\"1365\"},\"ticker\":{\"id\":\"1344\"}},\"id\":\"1343\",\"type\":\"LinearAxis\"},{\"attributes\":{\"end\":1.1,\"reset_end\":1.1,\"reset_start\":-0.1,\"start\":-0.1,\"tags\":[[[\"TotalCoinSupply_scaled\",\"TotalCoinSupply_scaled\",null]]]},\"id\":\"1325\",\"type\":\"Range1d\"},{\"attributes\":{\"margin\":[5,5,5,5],\"name\":\"HSpacer01311\",\"sizing_mode\":\"stretch_width\"},\"id\":\"1475\",\"type\":\"Spacer\"},{\"attributes\":{\"axis_label\":\"Total Cryptocurrency Coins Mined\",\"coordinates\":null,\"formatter\":{\"id\":\"1361\"},\"group\":null,\"major_label_policy\":{\"id\":\"1362\"},\"ticker\":{\"id\":\"1340\"}},\"id\":\"1339\",\"type\":\"LinearAxis\"},{\"attributes\":{\"fill_color\":{\"value\":\"#e5ae38\"},\"hatch_color\":{\"value\":\"#e5ae38\"},\"line_color\":{\"value\":\"#e5ae38\"},\"size\":{\"value\":5.477225575051661},\"x\":{\"field\":\"TotalCoinsMined_scaled\"},\"y\":{\"field\":\"TotalCoinSupply_scaled\"}},\"id\":\"1412\",\"type\":\"Scatter\"},{\"attributes\":{\"label\":{\"value\":\"3\"},\"renderers\":[{\"id\":\"1439\"}]},\"id\":\"1457\",\"type\":\"LegendItem\"},{\"attributes\":{\"click_policy\":\"mute\",\"coordinates\":null,\"group\":null,\"items\":[{\"id\":\"1385\"},{\"id\":\"1407\"},{\"id\":\"1431\"},{\"id\":\"1457\"}],\"location\":[0,0],\"title\":\"Class\"},\"id\":\"1384\",\"type\":\"Legend\"},{\"attributes\":{\"axis\":{\"id\":\"1343\"},\"coordinates\":null,\"dimension\":1,\"grid_line_color\":null,\"group\":null,\"ticker\":null},\"id\":\"1346\",\"type\":\"Grid\"},{\"attributes\":{\"coordinates\":null,\"data_source\":{\"id\":\"1366\"},\"glyph\":{\"id\":\"1369\"},\"group\":null,\"hover_glyph\":null,\"muted_glyph\":{\"id\":\"1371\"},\"nonselection_glyph\":{\"id\":\"1370\"},\"selection_glyph\":{\"id\":\"1386\"},\"view\":{\"id\":\"1373\"}},\"id\":\"1372\",\"type\":\"GlyphRenderer\"},{\"attributes\":{},\"id\":\"1364\",\"type\":\"BasicTickFormatter\"},{\"attributes\":{\"angle\":{\"value\":0.0},\"fill_alpha\":{\"value\":1.0},\"fill_color\":{\"value\":\"#30a2da\"},\"hatch_alpha\":{\"value\":1.0},\"hatch_color\":{\"value\":\"#30a2da\"},\"hatch_scale\":{\"value\":12.0},\"hatch_weight\":{\"value\":1.0},\"line_alpha\":{\"value\":1.0},\"line_cap\":{\"value\":\"butt\"},\"line_color\":{\"value\":\"#30a2da\"},\"line_dash\":{\"value\":[]},\"line_dash_offset\":{\"value\":0},\"line_join\":{\"value\":\"bevel\"},\"line_width\":{\"value\":1},\"marker\":{\"value\":\"circle\"},\"size\":{\"value\":5.477225575051661},\"x\":{\"field\":\"TotalCoinsMined_scaled\"},\"y\":{\"field\":\"TotalCoinSupply_scaled\"}},\"id\":\"1386\",\"type\":\"Scatter\"},{\"attributes\":{\"data\":{\"Class\":[0,0,0,0,0,0,0,0,0,0,0,0,0,0,0,0,0,0,0,0,0,0,0,0,0,0,0,0,0,0,0,0,0,0,0,0,0,0,0,0,0,0,0,0,0,0,0,0,0,0,0,0,0,0,0,0,0,0,0,0,0,0,0,0,0,0,0,0,0,0,0,0,0,0,0,0,0,0,0,0,0,0,0,0,0,0,0,0,0,0,0,0,0,0,0,0,0,0,0,0,0,0,0,0,0,0,0,0,0,0,0,0,0,0,0,0,0,0,0,0,0,0,0,0,0,0,0,0,0,0,0,0,0,0,0,0,0,0,0,0,0,0,0,0,0,0,0,0,0,0,0,0,0,0,0,0,0,0,0,0,0,0,0,0,0,0,0,0,0,0,0,0,0,0,0,0,0,0,0,0,0,0,0,0,0,0,0,0,0,0,0,0,0,0,0,0,0,0,0,0,0,0,0,0,0,0,0,0,0,0,0,0,0,0,0,0,0,0,0,0,0,0,0,0,0,0,0,0,0,0,0,0,0,0,0,0,0,0,0,0,0,0,0,0,0,0,0,0,0,0,0,0,0,0,0,0,0,0,0,0,0,0,0,0,0,0,0,0,0,0,0,0,0,0,0,0,0,0,0,0,0,0,0,0,0,0,0,0],\"TotalCoinSupply_scaled\":{\"__ndarray__\":\"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\",\"dtype\":\"float64\",\"order\":\"little\",\"shape\":[288]},\"TotalCoinsMined_scaled\":{\"__ndarray__\":\"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\",\"dtype\":\"float64\",\"order\":\"little\",\"shape\":[288]}},\"selected\":{\"id\":\"1367\"},\"selection_policy\":{\"id\":\"1381\"}},\"id\":\"1366\",\"type\":\"ColumnDataSource\"},{\"attributes\":{\"fill_color\":{\"value\":\"#fc4f30\"},\"hatch_color\":{\"value\":\"#fc4f30\"},\"line_color\":{\"value\":\"#fc4f30\"},\"size\":{\"value\":5.477225575051661},\"x\":{\"field\":\"TotalCoinsMined_scaled\"},\"y\":{\"field\":\"TotalCoinSupply_scaled\"}},\"id\":\"1390\",\"type\":\"Scatter\"},{\"attributes\":{\"label\":{\"value\":\"2\"},\"renderers\":[{\"id\":\"1415\"}]},\"id\":\"1431\",\"type\":\"LegendItem\"},{\"attributes\":{\"data\":{\"Class\":[1,1,1],\"TotalCoinSupply_scaled\":{\"__ndarray__\":\"lPYGX5hMdT+8eapDboZLPyxDHOviNho/\",\"dtype\":\"float64\",\"order\":\"little\",\"shape\":[3]},\"TotalCoinsMined_scaled\":{\"__ndarray__\":\"j1gNkdpTXT+QpMXySiFFP/tFfmC/eho/\",\"dtype\":\"float64\",\"order\":\"little\",\"shape\":[3]}},\"selected\":{\"id\":\"1388\"},\"selection_policy\":{\"id\":\"1404\"}},\"id\":\"1387\",\"type\":\"ColumnDataSource\"},{\"attributes\":{\"fill_alpha\":{\"value\":0.2},\"fill_color\":{\"value\":\"#fc4f30\"},\"hatch_alpha\":{\"value\":0.2},\"hatch_color\":{\"value\":\"#fc4f30\"},\"line_alpha\":{\"value\":0.2},\"line_color\":{\"value\":\"#fc4f30\"},\"size\":{\"value\":5.477225575051661},\"x\":{\"field\":\"TotalCoinsMined_scaled\"},\"y\":{\"field\":\"TotalCoinSupply_scaled\"}},\"id\":\"1392\",\"type\":\"Scatter\"},{\"attributes\":{\"angle\":{\"value\":0.0},\"fill_alpha\":{\"value\":1.0},\"fill_color\":{\"value\":\"#e5ae38\"},\"hatch_alpha\":{\"value\":1.0},\"hatch_color\":{\"value\":\"#e5ae38\"},\"hatch_scale\":{\"value\":12.0},\"hatch_weight\":{\"value\":1.0},\"line_alpha\":{\"value\":1.0},\"line_cap\":{\"value\":\"butt\"},\"line_color\":{\"value\":\"#e5ae38\"},\"line_dash\":{\"value\":[]},\"line_dash_offset\":{\"value\":0},\"line_join\":{\"value\":\"bevel\"},\"line_width\":{\"value\":1},\"marker\":{\"value\":\"circle\"},\"size\":{\"value\":5.477225575051661},\"x\":{\"field\":\"TotalCoinsMined_scaled\"},\"y\":{\"field\":\"TotalCoinSupply_scaled\"}},\"id\":\"1432\",\"type\":\"Scatter\"},{\"attributes\":{\"fill_alpha\":{\"value\":0.2},\"fill_color\":{\"value\":\"#30a2da\"},\"hatch_alpha\":{\"value\":0.2},\"hatch_color\":{\"value\":\"#30a2da\"},\"line_alpha\":{\"value\":0.2},\"line_color\":{\"value\":\"#30a2da\"},\"size\":{\"value\":5.477225575051661},\"x\":{\"field\":\"TotalCoinsMined_scaled\"},\"y\":{\"field\":\"TotalCoinSupply_scaled\"}},\"id\":\"1371\",\"type\":\"Scatter\"},{\"attributes\":{\"label\":{\"value\":\"0\"},\"renderers\":[{\"id\":\"1372\"}]},\"id\":\"1385\",\"type\":\"LegendItem\"},{\"attributes\":{},\"id\":\"1362\",\"type\":\"AllLabels\"},{\"attributes\":{\"end\":1.042857142857143,\"reset_end\":1.042857142857143,\"reset_start\":-0.04285714285714286,\"start\":-0.04285714285714286,\"tags\":[[[\"TotalCoinsMined_scaled\",\"TotalCoinsMined_scaled\",null]]]},\"id\":\"1324\",\"type\":\"Range1d\"},{\"attributes\":{\"fill_alpha\":{\"value\":0.2},\"fill_color\":{\"value\":\"#6d904f\"},\"hatch_alpha\":{\"value\":0.2},\"hatch_color\":{\"value\":\"#6d904f\"},\"line_alpha\":{\"value\":0.2},\"line_color\":{\"value\":\"#6d904f\"},\"size\":{\"value\":5.477225575051661},\"x\":{\"field\":\"TotalCoinsMined_scaled\"},\"y\":{\"field\":\"TotalCoinSupply_scaled\"}},\"id\":\"1438\",\"type\":\"Scatter\"},{\"attributes\":{},\"id\":\"1365\",\"type\":\"AllLabels\"},{\"attributes\":{\"label\":{\"value\":\"1\"},\"renderers\":[{\"id\":\"1393\"}]},\"id\":\"1407\",\"type\":\"LegendItem\"},{\"attributes\":{\"fill_color\":{\"value\":\"#6d904f\"},\"hatch_color\":{\"value\":\"#6d904f\"},\"line_color\":{\"value\":\"#6d904f\"},\"size\":{\"value\":5.477225575051661},\"x\":{\"field\":\"TotalCoinsMined_scaled\"},\"y\":{\"field\":\"TotalCoinSupply_scaled\"}},\"id\":\"1436\",\"type\":\"Scatter\"},{\"attributes\":{},\"id\":\"1347\",\"type\":\"SaveTool\"}],\"root_ids\":[\"1322\"]},\"title\":\"Bokeh Application\",\"version\":\"2.4.1\"}};\n",
       "    var render_items = [{\"docid\":\"ec97e9e6-915c-4e8b-9c78-d3c7fc70a48e\",\"root_ids\":[\"1322\"],\"roots\":{\"1322\":\"b0d91eee-49a4-46ba-a44e-2c6bb4f45468\"}}];\n",
       "    root.Bokeh.embed.embed_items_notebook(docs_json, render_items);\n",
       "  }\n",
       "  if (root.Bokeh !== undefined && root.Bokeh.Panel !== undefined) {\n",
       "    embed_document(root);\n",
       "  } else {\n",
       "    var attempts = 0;\n",
       "    var timer = setInterval(function(root) {\n",
       "      if (root.Bokeh !== undefined && root.Bokeh.Panel !== undefined) {\n",
       "        clearInterval(timer);\n",
       "        embed_document(root);\n",
       "      } else if (document.readyState == \"complete\") {\n",
       "        attempts++;\n",
       "        if (attempts > 200) {\n",
       "          clearInterval(timer);\n",
       "          console.log(\"Bokeh: ERROR: Unable to run BokehJS code because BokehJS library is missing\");\n",
       "        }\n",
       "      }\n",
       "    }, 25, root)\n",
       "  }\n",
       "})(window);</script>"
      ],
      "text/plain": [
       ":NdOverlay   [Class]\n",
       "   :Scatter   [TotalCoinsMined_scaled]   (TotalCoinSupply_scaled)"
      ]
     },
     "execution_count": 90,
     "metadata": {
      "application/vnd.holoviews_exec.v0+json": {
       "id": "1322"
      }
     },
     "output_type": "execute_result"
    }
   ],
   "source": [
    "# Create a hvplot.scatter plot using x=\"TotalCoinsMined\" and y=\"TotalCoinSupply\".\n",
    "plot_df.hvplot.scatter(x=\"TotalCoinsMined_scaled\", y=\"TotalCoinSupply_scaled\", by=\"Class\",\n",
    "                          xlabel=\"Total Cryptocurrency Coins Mined\",\n",
    "                          ylabel=\"Total Cryptocurrency Coin Supply\",\n",
    "                          )"
   ]
  },
  {
   "cell_type": "code",
   "execution_count": null,
   "metadata": {},
   "outputs": [],
   "source": []
  }
 ],
 "metadata": {
  "file_extension": ".py",
  "kernelspec": {
   "display_name": "PythonData",
   "language": "python",
   "name": "pythondata"
  },
  "language_info": {
   "codemirror_mode": {
    "name": "ipython",
    "version": 3
   },
   "file_extension": ".py",
   "mimetype": "text/x-python",
   "name": "python",
   "nbconvert_exporter": "python",
   "pygments_lexer": "ipython3",
   "version": "3.7.11"
  },
  "latex_envs": {
   "LaTeX_envs_menu_present": true,
   "autoclose": false,
   "autocomplete": true,
   "bibliofile": "biblio.bib",
   "cite_by": "apalike",
   "current_citInitial": 1,
   "eqLabelWithNumbers": true,
   "eqNumInitial": 1,
   "hotkeys": {
    "equation": "Ctrl-E",
    "itemize": "Ctrl-I"
   },
   "labels_anchors": false,
   "latex_user_defs": false,
   "report_style_numbering": false,
   "user_envs_cfg": false
  },
  "mimetype": "text/x-python",
  "name": "python",
  "npconvert_exporter": "python",
  "pygments_lexer": "ipython3",
  "version": 3
 },
 "nbformat": 4,
 "nbformat_minor": 2
}
